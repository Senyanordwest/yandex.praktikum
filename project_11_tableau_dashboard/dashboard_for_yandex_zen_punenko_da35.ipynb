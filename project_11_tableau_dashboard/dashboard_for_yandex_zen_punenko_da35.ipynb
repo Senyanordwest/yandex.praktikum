{
 "cells": [
  {
   "cell_type": "markdown",
   "id": "3a284f4e",
   "metadata": {},
   "source": [
    " <font size=5><font color='#5e20ab'><b>Дашборд для Яндекс.Дзен"
   ]
  },
  {
   "cell_type": "markdown",
   "id": "128cd2d6",
   "metadata": {},
   "source": [
    "## <i>Описание проекта"
   ]
  },
  {
   "cell_type": "markdown",
   "id": "06ef925d",
   "metadata": {},
   "source": [
    "<font size=2,5><i>Вы работаете аналитиком в Яндекс.Дзене. Почти всё ваше время занимает анализ пользовательского взаимодействия с карточками статей.<br/>\n",
    "Каждую карточку определяют её тема и источник (у него тоже есть тема). Примеры тем: «Красота и здоровье», «Россия», «Путешествия».<br/>\n",
    "Пользователей системы характеризует возрастная категория. Скажем, «26-30» или «45+».<br/>\n",
    "    \n",
    "Есть три способа взаимодействия пользователей с системой:\n",
    "* Карточка отображена для пользователя (show);\n",
    "* Пользователь кликнул на карточку (click);\n",
    "* Пользователь просмотрел статью карточки (view).<br/>\n",
    "    \n",
    "Каждую неделю менеджеры задают вам одни и те же вопросы:\n",
    "- Сколько взаимодействий пользователей с карточками происходит в системе с разбивкой по темам карточек?\n",
    "- Как много карточек генерируют источники с разными темами?\n",
    "- Как соотносятся темы карточек и темы источников?<br/>\n",
    "\n",
    "На шестую неделю работы вы решаете, что процесс пора автоматизировать. Для Дениса и Валерии нужно сделать дашборд.\n",
    "Дашборд будет основываться на пайплайне, который будет брать данные из таблицы, в которых хранятся сырые данные, трансформировать данные и укладывать их в агрегирующую таблицу. Пайплайн будет разработан для вас дата-инженерами."
   ]
  },
  {
   "cell_type": "markdown",
   "id": "e1e844a1",
   "metadata": {},
   "source": [
    "## <i>Техническое задание"
   ]
  },
  {
   "cell_type": "markdown",
   "id": "e12bd754",
   "metadata": {},
   "source": [
    "<font size=2,5><i>\n",
    "* <b>Бизнес-задача: анализ взаимодействия пользователей с карточками Яндекс.Дзен;</b>\n",
    "* Насколько часто предполагается пользоваться дашбордом: не реже, чем раз в неделю;\n",
    "* Кто будет основным пользователем дашборда: менеджеры по анализу контента;\n",
    "    \n",
    "    \n",
    "* <u>Состав данных для дашборда:</u>\n",
    "    - История событий по темам карточек (два графика - абсолютные числа и процентное соотношение);\n",
    "    - Разбивка событий по темам источников;\n",
    "    - Таблица соответствия тем источников темам карточек;\n",
    "    \n",
    "    \n",
    "* <u>По каким параметрам данные должны группироваться:</u>\n",
    "    - Дата и время;\n",
    "    - Тема карточки;\n",
    "    - Тема источника;\n",
    "    - Возрастная группа;\n",
    "    \n",
    "    \n",
    "* <u>Характер данных:</u>\n",
    "    - История событий по темам карточек — абсолютные величины с разбивкой по минутам;\n",
    "    - Разбивка событий по темам источников — относительные величины (% событий);\n",
    "    - Соответствия тем источников темам карточек - абсолютные величины;\n",
    "    \n",
    "    \n",
    "* Важность: все графики имеют равную важность;\n",
    "* Источники данных для дашборда: cырые данные о событиях взаимодействия пользователей с карточками (таблица `log_raw`);\n",
    "* База данных, в которой будут храниться агрегированные данные: дополнительные агрегированные таблицы в БД `zen`;\n",
    "* Частота обновления данных: один раз в сутки, в полночь по UTC;\n",
    "* Какие графики должны отображаться и в каком порядке, какие элементы управления должны быть на дашборде:\n",
    "\n",
    "    \n",
    "<p style=\"text-align: center;\"><b>Макет дашборда"
   ]
  },
  {
   "cell_type": "markdown",
   "id": "6371118b",
   "metadata": {},
   "source": [
    "![jupyter](https://i2.paste.pics/69108a36ef8d8ec12562acdf2de213f8.png)"
   ]
  },
  {
   "cell_type": "markdown",
   "id": "e2905c84",
   "metadata": {},
   "source": [
    "## Запрос к базе"
   ]
  },
  {
   "cell_type": "code",
   "execution_count": 27,
   "id": "761a1847",
   "metadata": {},
   "outputs": [],
   "source": [
    "# импортируем библиотеки\n",
    "import pandas as pd\n",
    "pd.set_option('display.float_format', '{:,.2f}'.format)\n",
    "pd.set_option('display.max_columns', None)\n",
    "pd.options.display.max_colwidth = 150\n",
    "\n",
    "# для графиков, just in case\n",
    "import matplotlib.pyplot as plt\n",
    "import seaborn as sns\n",
    "sns.set(font_scale=1.2)\n",
    "sns.set(rc={'figure.figsize':(20, 8)})\n",
    "sns.set_style(\"darkgrid\", {\"grid.color\": \"dimgray\", \"grid.linestyle\": \":\"})\n",
    "\n",
    "# подключение к базе\n",
    "from sqlalchemy import create_engine\n",
    "\n",
    "db_config = {'user': 'praktikum_student', # имя пользователя\n",
    "            'pwd': 'Sdf4$2;d-d30pp', # пароль\n",
    "            'host': 'rc1b-wcoijxj3yxfsf3fs.mdb.yandexcloud.net',\n",
    "            'port': 6432, # порт подключения\n",
    "            'db': 'data-analyst-zen-project-db'} # название базы данных\n",
    "\n",
    "connection_string = 'postgresql://{}:{}@{}:{}/{}'.format(db_config['user'],\n",
    "                                                db_config['pwd'],\n",
    "                                                db_config['host'],\n",
    "                                                db_config['port'],\n",
    "                                                db_config['db'])\n",
    "\n",
    "engine = create_engine(connection_string) \n",
    "query = ''' SELECT *\n",
    "            FROM dash_visits\n",
    "        '''# тут sql-запрос для выгрузки данных из таблицы dash_visits\n",
    "\n",
    "dash_visits = pd.io.sql.read_sql(query, con = engine) \n",
    "# тут код для сохранения результатов sql-запроса"
   ]
  },
  {
   "cell_type": "markdown",
   "id": "16733fc4",
   "metadata": {},
   "source": [
    "## Проверка данных"
   ]
  },
  {
   "cell_type": "code",
   "execution_count": 3,
   "id": "3ca684cc",
   "metadata": {},
   "outputs": [
    {
     "name": "stdout",
     "output_type": "stream",
     "text": [
      "\u001b[1mОбщая информация о датасете:\u001b[0m\n",
      "<class 'pandas.core.frame.DataFrame'>\n",
      "RangeIndex: 30745 entries, 0 to 30744\n",
      "Data columns (total 6 columns):\n",
      " #   Column        Non-Null Count  Dtype         \n",
      "---  ------        --------------  -----         \n",
      " 0   record_id     30745 non-null  int64         \n",
      " 1   item_topic    30745 non-null  object        \n",
      " 2   source_topic  30745 non-null  object        \n",
      " 3   age_segment   30745 non-null  object        \n",
      " 4   dt            30745 non-null  datetime64[ns]\n",
      " 5   visits        30745 non-null  int64         \n",
      "dtypes: datetime64[ns](1), int64(2), object(3)\n",
      "memory usage: 1.4+ MB\n",
      "------------------------------\n",
      "Количество пропусков в таблице:\n",
      "record_id       0\n",
      "item_topic      0\n",
      "source_topic    0\n",
      "age_segment     0\n",
      "dt              0\n",
      "visits          0\n",
      "dtype: int64\n",
      "------------------------------\n",
      "Количество дублей: 0\n"
     ]
    },
    {
     "data": {
      "text/html": [
       "<div>\n",
       "<style scoped>\n",
       "    .dataframe tbody tr th:only-of-type {\n",
       "        vertical-align: middle;\n",
       "    }\n",
       "\n",
       "    .dataframe tbody tr th {\n",
       "        vertical-align: top;\n",
       "    }\n",
       "\n",
       "    .dataframe thead th {\n",
       "        text-align: right;\n",
       "    }\n",
       "</style>\n",
       "<table border=\"1\" class=\"dataframe\">\n",
       "  <thead>\n",
       "    <tr style=\"text-align: right;\">\n",
       "      <th></th>\n",
       "      <th>record_id</th>\n",
       "      <th>item_topic</th>\n",
       "      <th>source_topic</th>\n",
       "      <th>age_segment</th>\n",
       "      <th>dt</th>\n",
       "      <th>visits</th>\n",
       "    </tr>\n",
       "  </thead>\n",
       "  <tbody>\n",
       "    <tr>\n",
       "      <th>12599</th>\n",
       "      <td>1053196</td>\n",
       "      <td>Культура</td>\n",
       "      <td>Полезные советы</td>\n",
       "      <td>26-30</td>\n",
       "      <td>2019-09-24 19:00:00</td>\n",
       "      <td>1</td>\n",
       "    </tr>\n",
       "    <tr>\n",
       "      <th>10691</th>\n",
       "      <td>1051288</td>\n",
       "      <td>История</td>\n",
       "      <td>Спорт</td>\n",
       "      <td>18-25</td>\n",
       "      <td>2019-09-24 19:00:00</td>\n",
       "      <td>4</td>\n",
       "    </tr>\n",
       "    <tr>\n",
       "      <th>8682</th>\n",
       "      <td>1049279</td>\n",
       "      <td>Искусство</td>\n",
       "      <td>История</td>\n",
       "      <td>31-35</td>\n",
       "      <td>2019-09-24 19:00:00</td>\n",
       "      <td>2</td>\n",
       "    </tr>\n",
       "    <tr>\n",
       "      <th>23712</th>\n",
       "      <td>1064309</td>\n",
       "      <td>Рассказы</td>\n",
       "      <td>Семейные отношения</td>\n",
       "      <td>26-30</td>\n",
       "      <td>2019-09-24 18:54:00</td>\n",
       "      <td>17</td>\n",
       "    </tr>\n",
       "    <tr>\n",
       "      <th>6192</th>\n",
       "      <td>1046789</td>\n",
       "      <td>Знаменитости</td>\n",
       "      <td>Музыка</td>\n",
       "      <td>18-25</td>\n",
       "      <td>2019-09-24 18:29:00</td>\n",
       "      <td>1</td>\n",
       "    </tr>\n",
       "    <tr>\n",
       "      <th>28655</th>\n",
       "      <td>1069251</td>\n",
       "      <td>Туризм</td>\n",
       "      <td>Семейные отношения</td>\n",
       "      <td>45+</td>\n",
       "      <td>2019-09-24 18:54:00</td>\n",
       "      <td>4</td>\n",
       "    </tr>\n",
       "    <tr>\n",
       "      <th>14154</th>\n",
       "      <td>1054751</td>\n",
       "      <td>Наука</td>\n",
       "      <td>Ремонт</td>\n",
       "      <td>41-45</td>\n",
       "      <td>2019-09-24 18:57:00</td>\n",
       "      <td>3</td>\n",
       "    </tr>\n",
       "    <tr>\n",
       "      <th>16891</th>\n",
       "      <td>1057488</td>\n",
       "      <td>Отношения</td>\n",
       "      <td>Политика</td>\n",
       "      <td>31-35</td>\n",
       "      <td>2019-09-24 18:57:00</td>\n",
       "      <td>27</td>\n",
       "    </tr>\n",
       "    <tr>\n",
       "      <th>15785</th>\n",
       "      <td>1056382</td>\n",
       "      <td>Общество</td>\n",
       "      <td>Семейные отношения</td>\n",
       "      <td>26-30</td>\n",
       "      <td>2019-09-24 18:57:00</td>\n",
       "      <td>110</td>\n",
       "    </tr>\n",
       "    <tr>\n",
       "      <th>26011</th>\n",
       "      <td>1066608</td>\n",
       "      <td>Семья</td>\n",
       "      <td>Политика</td>\n",
       "      <td>18-25</td>\n",
       "      <td>2019-09-24 18:57:00</td>\n",
       "      <td>6</td>\n",
       "    </tr>\n",
       "  </tbody>\n",
       "</table>\n",
       "</div>"
      ],
      "text/plain": [
       "       record_id    item_topic        source_topic age_segment  \\\n",
       "12599    1053196      Культура     Полезные советы       26-30   \n",
       "10691    1051288       История               Спорт       18-25   \n",
       "8682     1049279     Искусство             История       31-35   \n",
       "23712    1064309      Рассказы  Семейные отношения       26-30   \n",
       "6192     1046789  Знаменитости              Музыка       18-25   \n",
       "28655    1069251        Туризм  Семейные отношения         45+   \n",
       "14154    1054751         Наука              Ремонт       41-45   \n",
       "16891    1057488     Отношения            Политика       31-35   \n",
       "15785    1056382      Общество  Семейные отношения       26-30   \n",
       "26011    1066608         Семья            Политика       18-25   \n",
       "\n",
       "                       dt  visits  \n",
       "12599 2019-09-24 19:00:00       1  \n",
       "10691 2019-09-24 19:00:00       4  \n",
       "8682  2019-09-24 19:00:00       2  \n",
       "23712 2019-09-24 18:54:00      17  \n",
       "6192  2019-09-24 18:29:00       1  \n",
       "28655 2019-09-24 18:54:00       4  \n",
       "14154 2019-09-24 18:57:00       3  \n",
       "16891 2019-09-24 18:57:00      27  \n",
       "15785 2019-09-24 18:57:00     110  \n",
       "26011 2019-09-24 18:57:00       6  "
      ]
     },
     "execution_count": 3,
     "metadata": {},
     "output_type": "execute_result"
    }
   ],
   "source": [
    "# функция для первого взгляда\n",
    "def first_look(df):\n",
    "    print('\\033[1m' + 'Общая информация о датасете:' + '\\033[0m')\n",
    "    df.info(),\n",
    "    (df.style.set_properties(\n",
    "    **{'text-align': 'center'}).highlight_null(null_color='lightcoral')),\n",
    "    print('-'*10*3),\n",
    "    print('Количество пропусков в таблице:'),\n",
    "    print(df.isna().sum()),\n",
    "    print('-'*10*3),\n",
    "    print('Количество дублей:', df.duplicated().sum())\n",
    "    return df.sample(10, random_state=1)\n",
    "\n",
    "first_look(dash_visits)"
   ]
  },
  {
   "cell_type": "markdown",
   "id": "91c99233",
   "metadata": {},
   "source": [
    "<font size=2,5>Всего в датасете на момент выгрузки 30745 записей по. Пропущенных значений и дубликатов нет. С типами данных всё в порядке.<br/>\n",
    "Исходя из ТЗ, в столбцах следующие данные:\n",
    "    \n",
    "    `record_id` - идентификатор записи,\n",
    "    `item_topic` - тема карточки,\n",
    "    `source_topic` - тема источника,\n",
    "    `age_segment` - возрастная категория,\n",
    "    `dt` - время посещения;\n",
    "    `visits` - кол-во визитов(взаимодействий)."
   ]
  },
  {
   "cell_type": "markdown",
   "id": "3fd2f8a3",
   "metadata": {},
   "source": [
    "### столбец `record_id`"
   ]
  },
  {
   "cell_type": "code",
   "execution_count": 4,
   "id": "d5087e9e",
   "metadata": {
    "scrolled": true
   },
   "outputs": [
    {
     "data": {
      "text/plain": [
       "30745"
      ]
     },
     "execution_count": 4,
     "metadata": {},
     "output_type": "execute_result"
    }
   ],
   "source": [
    "dash_visits['record_id'].nunique()"
   ]
  },
  {
   "cell_type": "markdown",
   "id": "79aab3c6",
   "metadata": {},
   "source": [
    "<font size=2,5>Все значения в столбце уникальны, всё в порядке."
   ]
  },
  {
   "cell_type": "markdown",
   "id": "9cc36f4f",
   "metadata": {},
   "source": [
    "### столбец `item_topic`"
   ]
  },
  {
   "cell_type": "code",
   "execution_count": 5,
   "id": "76db1561",
   "metadata": {
    "scrolled": true
   },
   "outputs": [
    {
     "data": {
      "text/plain": [
       "25"
      ]
     },
     "execution_count": 5,
     "metadata": {},
     "output_type": "execute_result"
    }
   ],
   "source": [
    "dash_visits['item_topic'].nunique()"
   ]
  },
  {
   "cell_type": "code",
   "execution_count": 6,
   "id": "2ff26d3b",
   "metadata": {
    "scrolled": false
   },
   "outputs": [
    {
     "data": {
      "text/plain": [
       "Отношения             1536\n",
       "Интересные факты      1535\n",
       "Наука                 1505\n",
       "Подборки              1456\n",
       "Полезные советы       1424\n",
       "Общество              1422\n",
       "Россия                1385\n",
       "История               1363\n",
       "Семья                 1287\n",
       "Путешествия           1247\n",
       "Деньги                1234\n",
       "Женщины               1230\n",
       "Дети                  1229\n",
       "Туризм                1206\n",
       "Здоровье              1203\n",
       "Красота               1193\n",
       "Культура              1160\n",
       "Юмор                  1129\n",
       "Искусство             1119\n",
       "Рассказы              1109\n",
       "Психология            1056\n",
       "Скандалы              1023\n",
       "Знаменитости           976\n",
       "Женская психология     914\n",
       "Шоу                    804\n",
       "Name: item_topic, dtype: int64"
      ]
     },
     "execution_count": 6,
     "metadata": {},
     "output_type": "execute_result"
    }
   ],
   "source": [
    "dash_visits['item_topic'].value_counts()"
   ]
  },
  {
   "cell_type": "markdown",
   "id": "03286ea9",
   "metadata": {},
   "source": [
    "<font size=2,5> 25 разных тем, всё в порядке, никаких ошибок/опечаток в названиях тем нет."
   ]
  },
  {
   "cell_type": "markdown",
   "id": "28b44e84",
   "metadata": {},
   "source": [
    "### столбец `source_topic`"
   ]
  },
  {
   "cell_type": "code",
   "execution_count": 7,
   "id": "7f9c2d1d",
   "metadata": {
    "scrolled": true
   },
   "outputs": [
    {
     "data": {
      "text/plain": [
       "26"
      ]
     },
     "execution_count": 7,
     "metadata": {},
     "output_type": "execute_result"
    }
   ],
   "source": [
    "dash_visits['source_topic'].nunique()"
   ]
  },
  {
   "cell_type": "code",
   "execution_count": 8,
   "id": "203e4722",
   "metadata": {
    "scrolled": false
   },
   "outputs": [
    {
     "data": {
      "text/plain": [
       "Семейные отношения    1822\n",
       "Россия                1687\n",
       "Знаменитости          1650\n",
       "Полезные советы       1578\n",
       "Путешествия           1563\n",
       "Кино                  1505\n",
       "Дети                  1459\n",
       "История               1437\n",
       "Семья                 1405\n",
       "Одежда                1379\n",
       "Здоровье              1243\n",
       "Искусство             1228\n",
       "Авто                  1077\n",
       "Психология            1055\n",
       "Сад и дача            1036\n",
       "Политика              1024\n",
       "Спорт                 1007\n",
       "Сделай сам             995\n",
       "Ремонт                 985\n",
       "Деньги                 973\n",
       "Еда                    912\n",
       "Интерьеры              809\n",
       "Строительство          758\n",
       "Музыка                 750\n",
       "Технологии             741\n",
       "Финансы                667\n",
       "Name: source_topic, dtype: int64"
      ]
     },
     "execution_count": 8,
     "metadata": {},
     "output_type": "execute_result"
    }
   ],
   "source": [
    "dash_visits['source_topic'].value_counts()"
   ]
  },
  {
   "cell_type": "markdown",
   "id": "8142eaa0",
   "metadata": {},
   "source": [
    "<font size=2,5> С этим столбцом тоже всё в порядке."
   ]
  },
  {
   "cell_type": "markdown",
   "id": "ce17c3a9",
   "metadata": {},
   "source": [
    "### столбец `age_segment`"
   ]
  },
  {
   "cell_type": "code",
   "execution_count": 9,
   "id": "d67827a2",
   "metadata": {
    "scrolled": true
   },
   "outputs": [
    {
     "data": {
      "text/plain": [
       "18-25    7056\n",
       "26-30    5875\n",
       "31-35    5552\n",
       "36-40    5105\n",
       "41-45    3903\n",
       "45+      3254\n",
       "Name: age_segment, dtype: int64"
      ]
     },
     "execution_count": 9,
     "metadata": {},
     "output_type": "execute_result"
    }
   ],
   "source": [
    "dash_visits['age_segment'].value_counts()"
   ]
  },
  {
   "cell_type": "markdown",
   "id": "550ac6bb",
   "metadata": {},
   "source": [
    "<font size=2,5> 6 возрастных категорий и как выше (first_look) убедились, что с этим столбцом тоже всё в порядке."
   ]
  },
  {
   "cell_type": "markdown",
   "id": "13143898",
   "metadata": {},
   "source": [
    "### столбец `dt`"
   ]
  },
  {
   "cell_type": "code",
   "execution_count": 10,
   "id": "c750438f",
   "metadata": {},
   "outputs": [
    {
     "name": "stdout",
     "output_type": "stream",
     "text": [
      "начальная дата: 2019-09-24 18:28:00\n",
      "конечная дата: 2019-09-24 19:00:00\n",
      "уникальных временных значений: 17\n"
     ]
    }
   ],
   "source": [
    "print('начальная дата:', dash_visits['dt'].min())\n",
    "print('конечная дата:', dash_visits['dt'].max())\n",
    "\n",
    "n = len(pd.unique(dash_visits['dt'])) \n",
    "print('уникальных временных значений:', n)"
   ]
  },
  {
   "cell_type": "code",
   "execution_count": 11,
   "id": "26b99e60",
   "metadata": {},
   "outputs": [
    {
     "data": {
      "text/plain": [
       "Timedelta('0 days 00:32:00')"
      ]
     },
     "execution_count": 11,
     "metadata": {},
     "output_type": "execute_result"
    }
   ],
   "source": [
    "dash_visits['dt'].max() - dash_visits['dt'].min()"
   ]
  },
  {
   "cell_type": "markdown",
   "id": "3b5b86e7",
   "metadata": {},
   "source": [
    "<font size=2,5> Исходный временной интервал довольно короткий - 32 минуты, всего 17 уникальных значений времени."
   ]
  },
  {
   "cell_type": "markdown",
   "id": "15c17106",
   "metadata": {},
   "source": [
    "### столбец `visits`"
   ]
  },
  {
   "cell_type": "code",
   "execution_count": 14,
   "id": "2f0d001b",
   "metadata": {
    "scrolled": true
   },
   "outputs": [
    {
     "data": {
      "text/plain": [
       "count   30,745.00\n",
       "mean        10.09\n",
       "std         19.73\n",
       "min          1.00\n",
       "25%          1.00\n",
       "50%          3.00\n",
       "75%         10.00\n",
       "max        371.00\n",
       "Name: visits, dtype: float64"
      ]
     },
     "execution_count": 14,
     "metadata": {},
     "output_type": "execute_result"
    }
   ],
   "source": [
    "dash_visits['visits'].describe()"
   ]
  },
  {
   "cell_type": "markdown",
   "id": "4ff8a44e",
   "metadata": {},
   "source": [
    "<font size=2,5> Медианное кол-во событий - 3, а среднее - 10, посмотрим подробнее на распределение значений."
   ]
  },
  {
   "cell_type": "code",
   "execution_count": 61,
   "id": "29fef43f",
   "metadata": {},
   "outputs": [
    {
     "data": {
      "image/png": "[encoded data removed]",
      "text/plain": [
       "<Figure size 1440x576 with 2 Axes>"
      ]
     },
     "metadata": {},
     "output_type": "display_data"
    }
   ],
   "source": [
    "f, ax = plt.subplots(2,1, sharex=True)\n",
    "\n",
    "ax[0].set_title('Диаграмма размаха', size=15)\n",
    "ax[1].set_title('Гистограмма', size=15)\n",
    "\n",
    "sns.boxplot(data=dash_visits, x='visits', color='#FEB95F', ax=ax[0])\n",
    "sns.histplot(dash_visits['visits'], bins=100, color='#FEB95F', edgecolor='dimgray',\n",
    "             linewidth=1.3, ax=ax[1], kde = True)\n",
    "\n",
    "plt.xlabel('Кол-во визитов в событии', size=13)\n",
    "plt.ylabel('Суммарное кол-во', size=13)\n",
    "plt.suptitle(\"Распределение визитов\", size=20);\n"
   ]
  },
  {
   "cell_type": "code",
   "execution_count": 63,
   "id": "83966d0f",
   "metadata": {
    "scrolled": false
   },
   "outputs": [
    {
     "data": {
      "image/png": "[encoded data removed]",
      "text/plain": [
       "<Figure size 1440x576 with 3 Axes>"
      ]
     },
     "metadata": {},
     "output_type": "display_data"
    }
   ],
   "source": [
    "f, ax = plt.subplots(3,1, sharex=True)\n",
    "\n",
    "sns.histplot(dash_visits['visits'], bins=50, color='#FEB95F', edgecolor='dimgray',\n",
    "             linewidth=1.3, binrange=(0,130), ax=ax[0])\n",
    "\n",
    "sns.histplot(dash_visits['visits'], bins=50, color='#FEB95F', edgecolor='dimgray',\n",
    "             linewidth=1.3, binrange=(130,260), ax=ax[1])\n",
    "\n",
    "sns.histplot(dash_visits['visits'], bins=50, color='#FEB95F', edgecolor='dimgray',\n",
    "             linewidth=1.3, binrange=(260,390), ax=ax[2])\n",
    "\n",
    "plt.suptitle(\"Подробное распределение визитов\", size=20);"
   ]
  },
  {
   "cell_type": "markdown",
   "id": "f0a65db3",
   "metadata": {},
   "source": [
    "<font size=2,5> Большая часть значений в пределах до 25, далее идут выбросы с большим кол-вом визитов в событии, максимальное значение для одной записи составляет 371 визит, минимальное - 1. Нулевых значений нет, у каждой карточки статьи есть хотя бы один просмотр."
   ]
  },
  {
   "cell_type": "markdown",
   "id": "e0dd9b64",
   "metadata": {},
   "source": [
    "### вывод"
   ]
  },
  {
   "cell_type": "markdown",
   "id": "c5cca97c",
   "metadata": {},
   "source": [
    "<font size=2,5> Исходные данные в порядке, пропусков и дубликатов нет, типы данных также в порядке. Заметили большой разброс значений в столбце `visits`, но это на самом деле не удивительно, т.к. данный показатель отображает кол-во взаимодействий с карточками статей в Я.Дзене и, разумеется, в датасет могут попасть как статьи популярных авторов, так и не очень популярных, или вообще \"новорегов\".<br/>\n",
    "    Никаких изменений в датасет перед экспортированием не вносим."
   ]
  },
  {
   "cell_type": "markdown",
   "id": "48bdf58b",
   "metadata": {},
   "source": [
    "## Экспорт данных"
   ]
  },
  {
   "cell_type": "code",
   "execution_count": 64,
   "id": "07bd6b27",
   "metadata": {},
   "outputs": [],
   "source": [
    "dash_visits.to_csv('dash_visits.csv', index=False)"
   ]
  },
  {
   "cell_type": "code",
   "execution_count": null,
   "id": "5d234ed6",
   "metadata": {},
   "outputs": [],
   "source": []
  }
 ],
 "metadata": {
  "ExecuteTimeLog": [
   {
    "duration": 124,
    "start_time": "2022-04-05T16:16:24.116Z"
   },
   {
    "duration": 8530,
    "start_time": "2022-04-05T16:17:38.172Z"
   },
   {
    "duration": 143,
    "start_time": "2022-04-05T16:17:54.963Z"
   },
   {
    "duration": 459,
    "start_time": "2022-04-05T16:19:09.093Z"
   },
   {
    "duration": 21,
    "start_time": "2022-04-05T16:19:16.786Z"
   },
   {
    "duration": 441,
    "start_time": "2022-04-05T16:20:05.840Z"
   },
   {
    "duration": 100,
    "start_time": "2022-04-05T16:37:17.019Z"
   },
   {
    "duration": 118,
    "start_time": "2022-04-05T16:39:57.046Z"
   },
   {
    "duration": 189,
    "start_time": "2022-04-05T16:40:31.212Z"
   },
   {
    "duration": 107,
    "start_time": "2022-04-05T16:40:41.290Z"
   },
   {
    "duration": 115,
    "start_time": "2022-04-05T16:40:46.643Z"
   },
   {
    "duration": 110,
    "start_time": "2022-04-05T16:41:42.996Z"
   },
   {
    "duration": 112,
    "start_time": "2022-04-05T16:42:02.443Z"
   },
   {
    "duration": 122,
    "start_time": "2022-04-05T16:42:07.748Z"
   },
   {
    "duration": 789,
    "start_time": "2022-04-05T16:55:05.151Z"
   },
   {
    "duration": 83,
    "start_time": "2022-04-05T17:04:40.570Z"
   },
   {
    "duration": 67,
    "start_time": "2022-04-05T17:04:51.223Z"
   },
   {
    "duration": 74,
    "start_time": "2022-04-05T17:05:09.569Z"
   },
   {
    "duration": 462,
    "start_time": "2022-04-05T17:05:13.347Z"
   },
   {
    "duration": 71,
    "start_time": "2022-04-05T17:05:16.059Z"
   },
   {
    "duration": 95,
    "start_time": "2022-04-05T17:05:20.161Z"
   },
   {
    "duration": 8,
    "start_time": "2022-04-05T17:10:13.949Z"
   },
   {
    "duration": 16,
    "start_time": "2022-04-05T17:10:39.079Z"
   },
   {
    "duration": 11,
    "start_time": "2022-04-05T17:10:44.472Z"
   },
   {
    "duration": 8,
    "start_time": "2022-04-05T17:11:11.627Z"
   },
   {
    "duration": 13,
    "start_time": "2022-04-05T17:12:10.619Z"
   },
   {
    "duration": 14,
    "start_time": "2022-04-05T17:12:53.495Z"
   },
   {
    "duration": 13,
    "start_time": "2022-04-05T17:16:19.672Z"
   },
   {
    "duration": 15,
    "start_time": "2022-04-05T17:16:34.401Z"
   },
   {
    "duration": 13,
    "start_time": "2022-04-05T17:17:32.023Z"
   },
   {
    "duration": 13,
    "start_time": "2022-04-05T17:20:11.438Z"
   },
   {
    "duration": 9,
    "start_time": "2022-04-05T17:20:21.580Z"
   },
   {
    "duration": 6,
    "start_time": "2022-04-05T17:20:47.422Z"
   },
   {
    "duration": 11,
    "start_time": "2022-04-05T17:20:57.400Z"
   },
   {
    "duration": 106,
    "start_time": "2022-04-05T17:21:07.281Z"
   },
   {
    "duration": 8,
    "start_time": "2022-04-05T17:21:08.821Z"
   },
   {
    "duration": 123,
    "start_time": "2022-04-05T17:22:20.858Z"
   },
   {
    "duration": 11,
    "start_time": "2022-04-05T17:22:25.507Z"
   },
   {
    "duration": 6,
    "start_time": "2022-04-05T17:22:33.714Z"
   },
   {
    "duration": 9,
    "start_time": "2022-04-05T17:23:23.433Z"
   },
   {
    "duration": 16,
    "start_time": "2022-04-05T17:24:27.039Z"
   },
   {
    "duration": 9,
    "start_time": "2022-04-05T17:24:36.641Z"
   },
   {
    "duration": 16,
    "start_time": "2022-04-05T17:24:43.031Z"
   },
   {
    "duration": 17,
    "start_time": "2022-04-05T17:26:31.155Z"
   },
   {
    "duration": 10,
    "start_time": "2022-04-05T17:27:20.698Z"
   },
   {
    "duration": 10,
    "start_time": "2022-04-05T17:29:56.619Z"
   },
   {
    "duration": 8,
    "start_time": "2022-04-05T17:30:20.553Z"
   },
   {
    "duration": 17,
    "start_time": "2022-04-05T17:31:23.473Z"
   },
   {
    "duration": 13,
    "start_time": "2022-04-05T17:31:32.936Z"
   },
   {
    "duration": 12,
    "start_time": "2022-04-05T17:32:35.455Z"
   },
   {
    "duration": 12,
    "start_time": "2022-04-05T17:32:42.618Z"
   },
   {
    "duration": 11,
    "start_time": "2022-04-05T17:33:37.946Z"
   },
   {
    "duration": 12,
    "start_time": "2022-04-05T17:33:43.820Z"
   },
   {
    "duration": 12,
    "start_time": "2022-04-05T17:33:47.215Z"
   },
   {
    "duration": 7,
    "start_time": "2022-04-05T17:33:52.193Z"
   },
   {
    "duration": 13090,
    "start_time": "2022-04-05T17:37:30.752Z"
   },
   {
    "duration": 973,
    "start_time": "2022-04-05T17:37:43.844Z"
   },
   {
    "duration": 151,
    "start_time": "2022-04-05T17:37:44.819Z"
   },
   {
    "duration": 18,
    "start_time": "2022-04-05T17:37:44.972Z"
   },
   {
    "duration": 17,
    "start_time": "2022-04-05T17:37:44.993Z"
   },
   {
    "duration": 28,
    "start_time": "2022-04-05T17:37:45.012Z"
   },
   {
    "duration": 26,
    "start_time": "2022-04-05T17:37:45.042Z"
   },
   {
    "duration": 27,
    "start_time": "2022-04-05T17:37:45.071Z"
   },
   {
    "duration": 17,
    "start_time": "2022-04-05T17:37:45.100Z"
   },
   {
    "duration": 11,
    "start_time": "2022-04-05T17:37:45.119Z"
   },
   {
    "duration": 14,
    "start_time": "2022-04-05T17:37:45.134Z"
   },
   {
    "duration": 466,
    "start_time": "2022-04-05T17:40:57.375Z"
   },
   {
    "duration": 12,
    "start_time": "2022-04-05T17:42:01.110Z"
   },
   {
    "duration": 12,
    "start_time": "2022-04-05T17:42:54.057Z"
   },
   {
    "duration": 149,
    "start_time": "2022-04-05T17:45:23.141Z"
   },
   {
    "duration": 13,
    "start_time": "2022-04-05T17:45:30.925Z"
   },
   {
    "duration": 20,
    "start_time": "2022-04-05T17:45:34.827Z"
   },
   {
    "duration": 19,
    "start_time": "2022-04-05T17:45:56.585Z"
   },
   {
    "duration": 12,
    "start_time": "2022-04-05T17:46:01.147Z"
   },
   {
    "duration": 882,
    "start_time": "2022-04-05T17:46:24.297Z"
   },
   {
    "duration": 16,
    "start_time": "2022-04-05T17:46:38.917Z"
   },
   {
    "duration": 794,
    "start_time": "2022-04-05T17:46:40.366Z"
   },
   {
    "duration": 798,
    "start_time": "2022-04-05T17:46:56.544Z"
   },
   {
    "duration": 835,
    "start_time": "2022-04-05T17:47:09.891Z"
   },
   {
    "duration": 934,
    "start_time": "2022-04-05T17:47:34.873Z"
   },
   {
    "duration": 737,
    "start_time": "2022-04-05T17:47:40.694Z"
   },
   {
    "duration": 524,
    "start_time": "2022-04-05T17:47:52.558Z"
   },
   {
    "duration": 911,
    "start_time": "2022-04-05T17:47:56.584Z"
   },
   {
    "duration": 1121,
    "start_time": "2022-04-05T17:49:20.593Z"
   },
   {
    "duration": 100,
    "start_time": "2022-04-05T17:50:28.479Z"
   },
   {
    "duration": 1157,
    "start_time": "2022-04-05T17:50:49.317Z"
   },
   {
    "duration": 1621,
    "start_time": "2022-04-05T17:51:14.228Z"
   },
   {
    "duration": 1243,
    "start_time": "2022-04-05T17:51:23.075Z"
   },
   {
    "duration": 1048,
    "start_time": "2022-04-05T17:51:37.808Z"
   },
   {
    "duration": 998,
    "start_time": "2022-04-05T17:51:47.880Z"
   },
   {
    "duration": 1104,
    "start_time": "2022-04-05T17:52:05.800Z"
   },
   {
    "duration": 410,
    "start_time": "2022-04-05T17:52:41.378Z"
   },
   {
    "duration": 861,
    "start_time": "2022-04-05T17:52:56.962Z"
   },
   {
    "duration": 934,
    "start_time": "2022-04-05T17:53:38.233Z"
   },
   {
    "duration": 732,
    "start_time": "2022-04-05T17:53:43.876Z"
   },
   {
    "duration": 915,
    "start_time": "2022-04-05T17:53:50.537Z"
   },
   {
    "duration": 1266,
    "start_time": "2022-04-05T17:54:01.882Z"
   },
   {
    "duration": 960,
    "start_time": "2022-04-05T17:54:07.449Z"
   },
   {
    "duration": 1294,
    "start_time": "2022-04-05T17:54:11.569Z"
   },
   {
    "duration": 754,
    "start_time": "2022-04-05T17:54:15.419Z"
   },
   {
    "duration": 785,
    "start_time": "2022-04-05T17:55:34.007Z"
   },
   {
    "duration": 455,
    "start_time": "2022-04-05T17:55:47.590Z"
   },
   {
    "duration": 424,
    "start_time": "2022-04-05T17:55:53.136Z"
   },
   {
    "duration": 705,
    "start_time": "2022-04-05T17:55:59.719Z"
   },
   {
    "duration": 504,
    "start_time": "2022-04-05T17:56:06.110Z"
   },
   {
    "duration": 472,
    "start_time": "2022-04-05T17:56:11.550Z"
   },
   {
    "duration": 722,
    "start_time": "2022-04-05T17:56:55.434Z"
   },
   {
    "duration": 761,
    "start_time": "2022-04-05T17:57:08.037Z"
   },
   {
    "duration": 145,
    "start_time": "2022-04-05T17:57:23.950Z"
   },
   {
    "duration": 158,
    "start_time": "2022-04-05T17:57:31.304Z"
   },
   {
    "duration": 788,
    "start_time": "2022-04-05T17:57:38.020Z"
   },
   {
    "duration": 1163,
    "start_time": "2022-04-05T17:58:02.043Z"
   },
   {
    "duration": 1196,
    "start_time": "2022-04-05T17:58:11.091Z"
   },
   {
    "duration": 986,
    "start_time": "2022-04-05T17:58:50.034Z"
   },
   {
    "duration": 1191,
    "start_time": "2022-04-05T17:59:56.929Z"
   },
   {
    "duration": 1086,
    "start_time": "2022-04-05T18:00:57.501Z"
   },
   {
    "duration": 1078,
    "start_time": "2022-04-05T18:01:21.297Z"
   },
   {
    "duration": 1042,
    "start_time": "2022-04-05T18:02:14.877Z"
   },
   {
    "duration": 506,
    "start_time": "2022-04-05T18:17:19.104Z"
   }
  ],
  "kernelspec": {
   "display_name": "Python 3 (ipykernel)",
   "language": "python",
   "name": "python3"
  },
  "language_info": {
   "codemirror_mode": {
    "name": "ipython",
    "version": 3
   },
   "file_extension": ".py",
   "mimetype": "text/x-python",
   "name": "python",
   "nbconvert_exporter": "python",
   "pygments_lexer": "ipython3",
   "version": "3.9.5"
  },
  "toc": {
   "base_numbering": 1,
   "nav_menu": {},
   "number_sections": true,
   "sideBar": true,
   "skip_h1_title": true,
   "title_cell": "Table of Contents",
   "title_sidebar": "Дашборд для Яндекс.Дзен",
   "toc_cell": false,
   "toc_position": {
    "height": "calc(100% - 180px)",
    "left": "10px",
    "top": "150px",
    "width": "426.667px"
   },
   "toc_section_display": true,
   "toc_window_display": true
  }
 },
 "nbformat": 4,
 "nbformat_minor": 5
}

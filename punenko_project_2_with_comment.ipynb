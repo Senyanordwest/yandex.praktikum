{
 "cells": [
  {
   "cell_type": "markdown",
   "metadata": {},
   "source": [
    "# Исследование надёжности заёмщиков"
   ]
  },
  {
   "cell_type": "markdown",
   "metadata": {},
   "source": [
    "<font size=2>\n",
    "Заказчик — кредитный отдел банка. Нужно разобраться, влияет ли семейное положение и количество детей клиента на факт погашения кредита в срок. Входные данные от банка — статистика о платёжеспособности клиентов.\n",
    "\n",
    "Результаты исследования будут учтены при построении модели **кредитного скоринга** — специальной системы, которая оценивает способность потенциального заёмщика вернуть кредит банку.\n",
    "\n",
    "Описание исходных данных:\n",
    "- `children` — количество детей в семье\n",
    "- `days_employed` — общий трудовой стаж в днях\n",
    "- `dob_years` — возраст клиента в годах\n",
    "- `education` — уровень образования клиента\n",
    "- `education_id` — идентификатор уровня образования\n",
    "- `family_status` — семейное положение\n",
    "- `family_status_id` — идентификатор семейного положения\n",
    "- `gender` — пол клиента\n",
    "- `income_type` — тип занятости\n",
    "- `debt` — имел ли задолженность по возврату кредитов\n",
    "- `total_income` — ежемесячный доход\n",
    "- `purpose` — цель получения кредита"
   ]
  },
  {
   "cell_type": "markdown",
   "metadata": {},
   "source": [
    "## Шаг 1. Откройте файл с данными и изучите общую информацию"
   ]
  },
  {
   "cell_type": "code",
   "execution_count": 1,
   "metadata": {},
   "outputs": [
    {
     "name": "stdout",
     "output_type": "stream",
     "text": [
      "<class 'pandas.core.frame.DataFrame'>\n",
      "RangeIndex: 21525 entries, 0 to 21524\n",
      "Data columns (total 12 columns):\n",
      " #   Column            Non-Null Count  Dtype  \n",
      "---  ------            --------------  -----  \n",
      " 0   children          21525 non-null  int64  \n",
      " 1   days_employed     19351 non-null  float64\n",
      " 2   dob_years         21525 non-null  int64  \n",
      " 3   education         21525 non-null  object \n",
      " 4   education_id      21525 non-null  int64  \n",
      " 5   family_status     21525 non-null  object \n",
      " 6   family_status_id  21525 non-null  int64  \n",
      " 7   gender            21525 non-null  object \n",
      " 8   income_type       21525 non-null  object \n",
      " 9   debt              21525 non-null  int64  \n",
      " 10  total_income      19351 non-null  float64\n",
      " 11  purpose           21525 non-null  object \n",
      "dtypes: float64(2), int64(5), object(5)\n",
      "memory usage: 2.0+ MB\n"
     ]
    }
   ],
   "source": [
    "# импорт библиотек, открытие датасета\n",
    "from collections import Counter\n",
    "import pandas as pd\n",
    "\n",
    "import seaborn\n",
    "import numpy as np\n",
    "import matplotlib.pyplot as plt\n",
    "from matplotlib import colors\n",
    "\n",
    "from pymystem3 import Mystem\n",
    "m = Mystem()\n",
    "\n",
    "data = pd.read_csv('data.csv')\n",
    "\n",
    "# получаем общую информацию о таблице\n",
    "data.info()"
   ]
  },
  {
   "cell_type": "code",
   "execution_count": 2,
   "metadata": {
    "scrolled": false
   },
   "outputs": [
    {
     "data": {
      "text/html": [
       "<div>\n",
       "<style scoped>\n",
       "    .dataframe tbody tr th:only-of-type {\n",
       "        vertical-align: middle;\n",
       "    }\n",
       "\n",
       "    .dataframe tbody tr th {\n",
       "        vertical-align: top;\n",
       "    }\n",
       "\n",
       "    .dataframe thead th {\n",
       "        text-align: right;\n",
       "    }\n",
       "</style>\n",
       "<table border=\"1\" class=\"dataframe\">\n",
       "  <thead>\n",
       "    <tr style=\"text-align: right;\">\n",
       "      <th></th>\n",
       "      <th>children</th>\n",
       "      <th>days_employed</th>\n",
       "      <th>dob_years</th>\n",
       "      <th>education</th>\n",
       "      <th>education_id</th>\n",
       "      <th>family_status</th>\n",
       "      <th>family_status_id</th>\n",
       "      <th>gender</th>\n",
       "      <th>income_type</th>\n",
       "      <th>debt</th>\n",
       "      <th>total_income</th>\n",
       "      <th>purpose</th>\n",
       "    </tr>\n",
       "  </thead>\n",
       "  <tbody>\n",
       "    <tr>\n",
       "      <th>0</th>\n",
       "      <td>1</td>\n",
       "      <td>-8437.673028</td>\n",
       "      <td>42</td>\n",
       "      <td>высшее</td>\n",
       "      <td>0</td>\n",
       "      <td>женат / замужем</td>\n",
       "      <td>0</td>\n",
       "      <td>F</td>\n",
       "      <td>сотрудник</td>\n",
       "      <td>0</td>\n",
       "      <td>253875.639453</td>\n",
       "      <td>покупка жилья</td>\n",
       "    </tr>\n",
       "    <tr>\n",
       "      <th>1</th>\n",
       "      <td>1</td>\n",
       "      <td>-4024.803754</td>\n",
       "      <td>36</td>\n",
       "      <td>среднее</td>\n",
       "      <td>1</td>\n",
       "      <td>женат / замужем</td>\n",
       "      <td>0</td>\n",
       "      <td>F</td>\n",
       "      <td>сотрудник</td>\n",
       "      <td>0</td>\n",
       "      <td>112080.014102</td>\n",
       "      <td>приобретение автомобиля</td>\n",
       "    </tr>\n",
       "    <tr>\n",
       "      <th>2</th>\n",
       "      <td>0</td>\n",
       "      <td>-5623.422610</td>\n",
       "      <td>33</td>\n",
       "      <td>Среднее</td>\n",
       "      <td>1</td>\n",
       "      <td>женат / замужем</td>\n",
       "      <td>0</td>\n",
       "      <td>M</td>\n",
       "      <td>сотрудник</td>\n",
       "      <td>0</td>\n",
       "      <td>145885.952297</td>\n",
       "      <td>покупка жилья</td>\n",
       "    </tr>\n",
       "    <tr>\n",
       "      <th>3</th>\n",
       "      <td>3</td>\n",
       "      <td>-4124.747207</td>\n",
       "      <td>32</td>\n",
       "      <td>среднее</td>\n",
       "      <td>1</td>\n",
       "      <td>женат / замужем</td>\n",
       "      <td>0</td>\n",
       "      <td>M</td>\n",
       "      <td>сотрудник</td>\n",
       "      <td>0</td>\n",
       "      <td>267628.550329</td>\n",
       "      <td>дополнительное образование</td>\n",
       "    </tr>\n",
       "    <tr>\n",
       "      <th>4</th>\n",
       "      <td>0</td>\n",
       "      <td>340266.072047</td>\n",
       "      <td>53</td>\n",
       "      <td>среднее</td>\n",
       "      <td>1</td>\n",
       "      <td>гражданский брак</td>\n",
       "      <td>1</td>\n",
       "      <td>F</td>\n",
       "      <td>пенсионер</td>\n",
       "      <td>0</td>\n",
       "      <td>158616.077870</td>\n",
       "      <td>сыграть свадьбу</td>\n",
       "    </tr>\n",
       "  </tbody>\n",
       "</table>\n",
       "</div>"
      ],
      "text/plain": [
       "   children  days_employed  dob_years education  education_id  \\\n",
       "0         1   -8437.673028         42    высшее             0   \n",
       "1         1   -4024.803754         36   среднее             1   \n",
       "2         0   -5623.422610         33   Среднее             1   \n",
       "3         3   -4124.747207         32   среднее             1   \n",
       "4         0  340266.072047         53   среднее             1   \n",
       "\n",
       "      family_status  family_status_id gender income_type  debt   total_income  \\\n",
       "0   женат / замужем                 0      F   сотрудник     0  253875.639453   \n",
       "1   женат / замужем                 0      F   сотрудник     0  112080.014102   \n",
       "2   женат / замужем                 0      M   сотрудник     0  145885.952297   \n",
       "3   женат / замужем                 0      M   сотрудник     0  267628.550329   \n",
       "4  гражданский брак                 1      F   пенсионер     0  158616.077870   \n",
       "\n",
       "                      purpose  \n",
       "0               покупка жилья  \n",
       "1     приобретение автомобиля  \n",
       "2               покупка жилья  \n",
       "3  дополнительное образование  \n",
       "4             сыграть свадьбу  "
      ]
     },
     "execution_count": 2,
     "metadata": {},
     "output_type": "execute_result"
    }
   ],
   "source": [
    "# просматриваем первые строки таблицы\n",
    "data.head()"
   ]
  },
  {
   "cell_type": "markdown",
   "metadata": {},
   "source": [
    "<font size=2>\n",
    "*Вывод*\n",
    "\n",
    "В файле 'data.csv' содержатся данные о 21525 клиентах, представленные 12 признаками.\n",
    "\n",
    "В столбцах с данными о общем трудовом стаже и в ежемесячном доходе есть пропущенные значения.\n",
    "\n",
    "Данные о трудовом стаже представлены как положительными, так и отрицательными значениями, с очень большим разбросом по значениям, в дальнейшем данные могут понадобиться для анализа, поэтому необходимо понять в каком формате они представлены и привести их к единообразию.\n",
    "\n",
    "В столбце образование встречаются дублирующие значения, также необходимо привести их к нижнему регистру.\n",
    "\n",
    "В данных о количестве детей количество детей варьируется от -1 до 20, эти значения стоит заменить на корректные, т.к. в данном случае это скорее всего опечатки. Также необходимо будет исправить значения о возрасте клиентов, т.к. встречаются нулевые значения возраста.\n",
    "\n",
    "Предварительно можно сказать, что данных для решения задачи достаточно. Но предварительно нужно устранить указанные выше проблемы."
   ]
  },
  {
   "cell_type": "markdown",
   "metadata": {},
   "source": [
    "<font size=2>\n",
    "Поскольку основной целью работы является проверка влияния семейного положения и количество детей клиента на факт погашения кредита в срок, дополнительно проверим значения в соответствующих столбцах."
   ]
  },
  {
   "cell_type": "code",
   "execution_count": 3,
   "metadata": {},
   "outputs": [
    {
     "data": {
      "text/plain": [
       " 0     14149\n",
       " 1      4818\n",
       " 2      2055\n",
       " 3       330\n",
       " 20       76\n",
       "-1        47\n",
       " 4        41\n",
       " 5         9\n",
       "Name: children, dtype: int64"
      ]
     },
     "execution_count": 3,
     "metadata": {},
     "output_type": "execute_result"
    }
   ],
   "source": [
    "# посмотрим значения столбца 'children'и их количество\n",
    "data['children'].value_counts()"
   ]
  },
  {
   "cell_type": "markdown",
   "metadata": {},
   "source": [
    "<font size=2>\n",
    "Встречаются аномальные значения \"-1\" и \"20\", которые скорее всего вызваны человеческим фактором, доля их невелика, но в дальнейшем для более точного результата следует их исправить."
   ]
  },
  {
   "cell_type": "code",
   "execution_count": 4,
   "metadata": {},
   "outputs": [
    {
     "data": {
      "text/plain": [
       "женат / замужем          12380\n",
       "гражданский брак          4177\n",
       "не женат / не замужем     2813\n",
       "в разводе                 1195\n",
       "вдовец / вдова             960\n",
       "Name: family_status, dtype: int64"
      ]
     },
     "execution_count": 4,
     "metadata": {},
     "output_type": "execute_result"
    }
   ],
   "source": [
    "# посмотрим значения столбца 'family_status'и их количество\n",
    "data['family_status'] = data['family_status'].str.lower()\n",
    "data['family_status'].value_counts()"
   ]
  },
  {
   "cell_type": "markdown",
   "metadata": {},
   "source": [
    "<font size=2>\n",
    "Аномальных и дублирующих друг друга по смыслу значений нет. Для удобства только приведём все значения в нижний регистр."
   ]
  },
  {
   "cell_type": "markdown",
   "metadata": {},
   "source": [
    "## Шаг 2. Предобработка данных"
   ]
  },
  {
   "cell_type": "markdown",
   "metadata": {},
   "source": [
    "### Обработка пропусков"
   ]
  },
  {
   "cell_type": "markdown",
   "metadata": {},
   "source": [
    "#### Обработка пропущенных значений ежемесячного дохода"
   ]
  },
  {
   "cell_type": "markdown",
   "metadata": {},
   "source": [
    "<font size=2>\n",
    "Посчитаем количество пропущенных значений ежемесячного дохода в соответствии с типом занятости:"
   ]
  },
  {
   "cell_type": "code",
   "execution_count": 5,
   "metadata": {
    "scrolled": false
   },
   "outputs": [
    {
     "data": {
      "text/plain": [
       "сотрудник          1105\n",
       "компаньон           508\n",
       "пенсионер           413\n",
       "госслужащий         147\n",
       "предприниматель       1\n",
       "Name: income_type, dtype: int64"
      ]
     },
     "execution_count": 5,
     "metadata": {},
     "output_type": "execute_result"
    }
   ],
   "source": [
    "data.loc[data['total_income'].isnull(), 'income_type'].value_counts()"
   ]
  },
  {
   "cell_type": "markdown",
   "metadata": {},
   "source": [
    "<font size=2>\n",
    "Для заполнения пропущенных значений посчитаем для каждого типа занятости иедианные значения:"
   ]
  },
  {
   "cell_type": "code",
   "execution_count": 6,
   "metadata": {},
   "outputs": [
    {
     "data": {
      "text/plain": [
       "income_type\n",
       "безработный        131339.751676\n",
       "в декрете           53829.130729\n",
       "госслужащий        150447.935283\n",
       "компаньон          172357.950966\n",
       "пенсионер          118514.486412\n",
       "предприниматель    499163.144947\n",
       "сотрудник          142594.396847\n",
       "студент             98201.625314\n",
       "Name: total_income, dtype: float64"
      ]
     },
     "execution_count": 6,
     "metadata": {},
     "output_type": "execute_result"
    }
   ],
   "source": [
    "median_total_income = data.groupby('income_type')['total_income'].median()\n",
    "median_total_income"
   ]
  },
  {
   "cell_type": "markdown",
   "metadata": {},
   "source": [
    "<font size=2>\n",
    "Заполним пропущенные значения ежемесячного дохода:"
   ]
  },
  {
   "cell_type": "code",
   "execution_count": 7,
   "metadata": {},
   "outputs": [],
   "source": [
    "# сотрудник-6\n",
    "data.loc[(data['total_income'].isnull()) & (data['income_type'] ==\n",
    "                                            'сотрудник'), 'total_income'] = median_total_income[6]\n",
    "# компаньон-3\n",
    "data.loc[(data['total_income'].isnull()) & (data['income_type'] ==\n",
    "                                            'компаньон'), 'total_income'] = median_total_income[3]\n",
    "# пенсионер-4\n",
    "data.loc[(data['total_income'].isnull()) & (data['income_type'] ==\n",
    "                                            'пенсионер'), 'total_income'] = median_total_income[4]\n",
    "# госслужащий-2\n",
    "data.loc[(data['total_income'].isnull()) & (data['income_type'] ==\n",
    "                                            'госслужащий'), 'total_income'] = median_total_income[2]\n",
    "# предприниматель-5\n",
    "data.loc[(data['total_income'].isnull()) & (data['income_type'] ==\n",
    "                                            'предприниматель'), 'total_income'] = median_total_income[5]"
   ]
  },
  {
   "cell_type": "code",
   "execution_count": 8,
   "metadata": {},
   "outputs": [
    {
     "data": {
      "text/plain": [
       "Series([], Name: income_type, dtype: int64)"
      ]
     },
     "execution_count": 8,
     "metadata": {},
     "output_type": "execute_result"
    }
   ],
   "source": [
    "# проверяю, не осталось ли пропущенных значений\n",
    "data.loc[data['total_income'].isnull(), 'income_type'].value_counts()"
   ]
  },
  {
   "cell_type": "markdown",
   "metadata": {},
   "source": [
    "#### Обработка пропущенных значений возраста"
   ]
  },
  {
   "cell_type": "markdown",
   "metadata": {},
   "source": [
    "<font size=2>\n",
    "Для заполнения пропущенных значений  трудового стажа также как и для ежемесячного дохода необходимо посчитать медианные значения, только в соответствии с возрастом клиента. Для этого проверим значения возраста:"
   ]
  },
  {
   "cell_type": "code",
   "execution_count": 9,
   "metadata": {
    "scrolled": true
   },
   "outputs": [
    {
     "data": {
      "text/plain": [
       "array([42, 36, 33, 32, 53, 27, 43, 50, 35, 41, 40, 65, 54, 56, 26, 48, 24,\n",
       "       21, 57, 67, 28, 63, 62, 47, 34, 68, 25, 31, 30, 20, 49, 37, 45, 61,\n",
       "       64, 44, 52, 46, 23, 38, 39, 51,  0, 59, 29, 60, 55, 58, 71, 22, 73,\n",
       "       66, 69, 19, 72, 70, 74, 75], dtype=int64)"
      ]
     },
     "execution_count": 9,
     "metadata": {},
     "output_type": "execute_result"
    }
   ],
   "source": [
    "data['dob_years'].unique()"
   ]
  },
  {
   "cell_type": "markdown",
   "metadata": {},
   "source": [
    "<div class=\"alert alert-info\">\n",
    "\n",
    "<b>Студент:</b>\n",
    "<font size=2>    \n",
    "    С моей стороны было слишком опрометчиво импортировать matplotlib, поскольку я в нём ещё не сильно освоился :)\n",
    "    Но я попробую построить простую диаграмму на примере данных о возрасте клиентов, благо туториалов в интернете хватает. Импорт библиотек я добавил в самое начало исследования, т.к. почему-то при импорте в этои разделе у меня при построении диаграммы выскакивала ошибка, приходилось перезапускать полностью все ячейки.\n",
    "\n",
    "</div>\n"
   ]
  },
  {
   "cell_type": "markdown",
   "metadata": {},
   "source": [
    "<font size=2>\n",
    "Для наглядности построим гистограмму возраста клиентов:"
   ]
  },
  {
   "cell_type": "code",
   "execution_count": 10,
   "metadata": {},
   "outputs": [
    {
     "data": {
      "image/png": "[encoded data removed]",
      "text/plain": [
       "<Figure size 432x288 with 1 Axes>"
      ]
     },
     "metadata": {
      "needs_background": "light"
     },
     "output_type": "display_data"
    }
   ],
   "source": [
    "plt.xticks(np.arange((data['dob_years'].min()),\n",
    "           (data['dob_years'].max() + 5), 5.0))\n",
    "ax2 = plt.hist(data['dob_years'], bins=20, color='tab:cyan')\n",
    "\n",
    "# N — счетчик в столбце, bins — нижняя граница\n",
    "N, bins, patches = plt.hist(data['dob_years'], bins=20)\n",
    "fracs = N / N.max()  # кодирование цвета по кол-ву\n",
    "# нормализуем кодирование цвета для полноценного цветового диапазона\n",
    "norm = colors.Normalize(fracs.min(), fracs.max())\n",
    "# цикл по полученным объектам, цвет для каждого в отдельности.\n",
    "for thisfrac, thispatch in zip(fracs, patches):\n",
    "    color = plt.cm.viridis(norm(thisfrac))\n",
    "    thispatch.set_facecolor(color)\n",
    "\n",
    "ax2 = plt.xlabel('$Возраст$', fontsize=14)\n",
    "ax2 = plt.ylabel('$Клиенты$', fontsize=14)\n",
    "plt.title('Гистограмма возраста клиентов', fontsize=17)\n",
    "plt.show()"
   ]
  },
  {
   "cell_type": "markdown",
   "metadata": {},
   "source": [
    "<font size=2>\n",
    "В данных о возрасте встречаются нулевые значения, сгруппируем их в соответствии с типом занятости:"
   ]
  },
  {
   "cell_type": "code",
   "execution_count": 11,
   "metadata": {},
   "outputs": [
    {
     "data": {
      "text/plain": [
       "сотрудник      55\n",
       "пенсионер      20\n",
       "компаньон      20\n",
       "госслужащий     6\n",
       "Name: income_type, dtype: int64"
      ]
     },
     "execution_count": 11,
     "metadata": {},
     "output_type": "execute_result"
    }
   ],
   "source": [
    "data.loc[data['dob_years'] == 0, 'income_type'].value_counts()"
   ]
  },
  {
   "cell_type": "markdown",
   "metadata": {},
   "source": [
    "<font size=2>\n",
    "Посчитаем медианные значения возраста в сответствии с типом занятости:"
   ]
  },
  {
   "cell_type": "code",
   "execution_count": 12,
   "metadata": {},
   "outputs": [
    {
     "data": {
      "text/plain": [
       "income_type\n",
       "безработный        38.0\n",
       "в декрете          39.0\n",
       "госслужащий        40.0\n",
       "компаньон          39.0\n",
       "пенсионер          60.0\n",
       "предприниматель    42.5\n",
       "сотрудник          39.0\n",
       "студент            22.0\n",
       "Name: dob_years, dtype: float64"
      ]
     },
     "execution_count": 12,
     "metadata": {},
     "output_type": "execute_result"
    }
   ],
   "source": [
    "median_dob_years = data.groupby('income_type')['dob_years'].median()\n",
    "median_dob_years"
   ]
  },
  {
   "cell_type": "markdown",
   "metadata": {},
   "source": [
    "<font size=2>\n",
    "Заменим нулевые значения возраста на медианные в соответствии с типом занятости:"
   ]
  },
  {
   "cell_type": "code",
   "execution_count": 13,
   "metadata": {},
   "outputs": [],
   "source": [
    "data.loc[(data['dob_years'] == 0) & (data['income_type'] ==\n",
    "                                     'сотрудник'), 'dob_years'] = median_dob_years[6]\n",
    "data.loc[(data['dob_years'] == 0) & (data['income_type'] ==\n",
    "                                     'пенсионер'), 'dob_years'] = median_dob_years[4]\n",
    "data.loc[(data['dob_years'] == 0) & (data['income_type'] ==\n",
    "                                     'компаньон'), 'dob_years'] = median_dob_years[3]\n",
    "data.loc[(data['dob_years'] == 0) & (data['income_type'] ==\n",
    "                                     'госслужащий'), 'dob_years'] = median_dob_years[2]"
   ]
  },
  {
   "cell_type": "code",
   "execution_count": 14,
   "metadata": {},
   "outputs": [
    {
     "data": {
      "text/plain": [
       "Series([], Name: dob_years, dtype: int64)"
      ]
     },
     "execution_count": 14,
     "metadata": {},
     "output_type": "execute_result"
    }
   ],
   "source": [
    "# проверяю, не осталось ли пропущенных значений\n",
    "data.loc[data['dob_years'] == 0, 'dob_years'].value_counts()"
   ]
  },
  {
   "cell_type": "markdown",
   "metadata": {},
   "source": [
    "#### Обработка пропущенных значений трудового стажа"
   ]
  },
  {
   "cell_type": "markdown",
   "metadata": {},
   "source": [
    "<font size=2>\n",
    "Посчитаем количество пропущенных значений трудового стажа также в соответствии с типом занятости:"
   ]
  },
  {
   "cell_type": "code",
   "execution_count": 15,
   "metadata": {
    "scrolled": true
   },
   "outputs": [
    {
     "data": {
      "text/plain": [
       "сотрудник          1105\n",
       "компаньон           508\n",
       "пенсионер           413\n",
       "госслужащий         147\n",
       "предприниматель       1\n",
       "Name: income_type, dtype: int64"
      ]
     },
     "execution_count": 15,
     "metadata": {},
     "output_type": "execute_result"
    }
   ],
   "source": [
    "data.loc[data['days_employed'].isnull(), 'income_type'].value_counts()"
   ]
  },
  {
   "cell_type": "markdown",
   "metadata": {},
   "source": [
    "<font size=2>\n",
    "Суммы пропусков трудового стажа в соответствии с типом занятости совпадают с таковыми для ежемесячного дохода. Можно сделать вывод, что данные в трудовом стаже пропущены только тогда, когда пропущены значения дохода. Возможной причиной пропусков видится не предоставление клиентом данных  о трудовом стаже/доходе по причине отсутствия официального трудоустройства, либо клиент вовсе безработный.\n",
    "\n",
    "Значения трудового стажа даны в часах **(подсказка преподавателя)**, переведём отрицательные значения в положительные и также для удобства переведём часы в дни:"
   ]
  },
  {
   "cell_type": "code",
   "execution_count": 16,
   "metadata": {},
   "outputs": [],
   "source": [
    "data['days_employed'] = data['days_employed'].apply(abs)\n",
    "data['days_employed'] = data['days_employed'] / 24\n",
    "# data.head(15)"
   ]
  },
  {
   "cell_type": "markdown",
   "metadata": {},
   "source": [
    "<font size=2>\n",
    "Пропущенные значения трудового стажа заменим на медианные значения стажа в соответствии с возрастом. Для этого выделим возрастные группы клиентов в соответствии с общемировой практикой сегментирования потребителей:\n",
    "- до 24 лет;\n",
    "\n",
    "- 25 - 44 года;\n",
    "\n",
    "- 45 - 64 года;\n",
    "\n",
    "- 65 лет и старше."
   ]
  },
  {
   "cell_type": "markdown",
   "metadata": {},
   "source": [
    "<font size=2>\n",
    "напишем функцию, которая принимает возраст клиента и возвращает возрастную категорию:"
   ]
  },
  {
   "cell_type": "code",
   "execution_count": 17,
   "metadata": {
    "scrolled": true
   },
   "outputs": [
    {
     "data": {
      "text/plain": [
       "25-44    10934\n",
       "45-64     8815\n",
       "65+        899\n",
       "до 24      877\n",
       "Name: age_group, dtype: int64"
      ]
     },
     "execution_count": 17,
     "metadata": {},
     "output_type": "execute_result"
    }
   ],
   "source": [
    "def age_group(age):\n",
    "    if age <= 24:\n",
    "        return 'до 24'\n",
    "    elif 25 <= age <= 44:\n",
    "        return '25-44'\n",
    "    elif 45 <= age <= 64:\n",
    "        return '45-64'\n",
    "    else:\n",
    "        return '65+'\n",
    "\n",
    "\n",
    "# проверка, добавляем в таблицу столбец с возрастной категорией, дополнительно оцениваем размер получившихся категорий.\n",
    "data['age_group'] = data['dob_years'].apply(age_group)\n",
    "# data.head(30)\n",
    "data['age_group'].value_counts()"
   ]
  },
  {
   "cell_type": "markdown",
   "metadata": {},
   "source": [
    "<font size=2>\n",
    "Для каждой возрастной группы найдём медианное значение трудового стажа:"
   ]
  },
  {
   "cell_type": "code",
   "execution_count": 18,
   "metadata": {},
   "outputs": [
    {
     "data": {
      "text/plain": [
       "age_group\n",
       "25-44       63.901467\n",
       "45-64      181.518666\n",
       "65+      15012.676346\n",
       "до 24       31.022589\n",
       "Name: days_employed, dtype: float64"
      ]
     },
     "execution_count": 18,
     "metadata": {},
     "output_type": "execute_result"
    }
   ],
   "source": [
    "median_days_employed = data.groupby('age_group')['days_employed'].median()\n",
    "median_days_employed"
   ]
  },
  {
   "cell_type": "markdown",
   "metadata": {},
   "source": [
    "<font size=2>\n",
    "Заменим нулевые значения стажа на медианные в соответствии с возрастной категорией:"
   ]
  },
  {
   "cell_type": "code",
   "execution_count": 19,
   "metadata": {},
   "outputs": [],
   "source": [
    "# категория 'до 24'\n",
    "data.loc[(data['days_employed'].isnull()) & (data['age_group']\n",
    "                                             == 'до 24'), 'days_employed'] = median_days_employed[3]\n",
    "# категория '25-44'\n",
    "data.loc[(data['days_employed'].isnull()) & (data['age_group']\n",
    "                                             == '25-44'), 'days_employed'] = median_days_employed[0]\n",
    "# категория '45-64'\n",
    "data.loc[(data['days_employed'].isnull()) & (data['age_group']\n",
    "                                             == '45-64'), 'days_employed'] = median_days_employed[1]\n",
    "# категория '65+'\n",
    "data.loc[(data['days_employed'].isnull()) & (data['age_group']\n",
    "                                             == '65+'), 'days_employed'] = median_days_employed[2]"
   ]
  },
  {
   "cell_type": "markdown",
   "metadata": {},
   "source": [
    "#### Обработка значений количества детей"
   ]
  },
  {
   "cell_type": "markdown",
   "metadata": {},
   "source": [
    "<font size=2>\n",
    "Заменим некорректные значения \"-1\" и \"20\" соответственно на \"1\" и \"2\". Данные аномальные значения скорее всего вызванны человеческим фактором - опечаткой, при занесении данных."
   ]
  },
  {
   "cell_type": "code",
   "execution_count": 20,
   "metadata": {},
   "outputs": [
    {
     "data": {
      "text/plain": [
       "0    14149\n",
       "1     4865\n",
       "2     2131\n",
       "3      330\n",
       "4       41\n",
       "5        9\n",
       "Name: children, dtype: int64"
      ]
     },
     "execution_count": 20,
     "metadata": {},
     "output_type": "execute_result"
    }
   ],
   "source": [
    "data['children'] = data['children'].replace(-1, 1)\n",
    "data['children'] = data['children'].replace(20, 2)\n",
    "\n",
    "data['children'].value_counts()"
   ]
  },
  {
   "cell_type": "markdown",
   "metadata": {},
   "source": [
    "**Вывод**"
   ]
  },
  {
   "cell_type": "code",
   "execution_count": 21,
   "metadata": {},
   "outputs": [
    {
     "name": "stdout",
     "output_type": "stream",
     "text": [
      "<class 'pandas.core.frame.DataFrame'>\n",
      "RangeIndex: 21525 entries, 0 to 21524\n",
      "Data columns (total 13 columns):\n",
      " #   Column            Non-Null Count  Dtype  \n",
      "---  ------            --------------  -----  \n",
      " 0   children          21525 non-null  int64  \n",
      " 1   days_employed     21525 non-null  float64\n",
      " 2   dob_years         21525 non-null  int64  \n",
      " 3   education         21525 non-null  object \n",
      " 4   education_id      21525 non-null  int64  \n",
      " 5   family_status     21525 non-null  object \n",
      " 6   family_status_id  21525 non-null  int64  \n",
      " 7   gender            21525 non-null  object \n",
      " 8   income_type       21525 non-null  object \n",
      " 9   debt              21525 non-null  int64  \n",
      " 10  total_income      21525 non-null  float64\n",
      " 11  purpose           21525 non-null  object \n",
      " 12  age_group         21525 non-null  object \n",
      "dtypes: float64(2), int64(5), object(6)\n",
      "memory usage: 2.1+ MB\n"
     ]
    }
   ],
   "source": [
    "# выведем общую информацию о таблице\n",
    "data.info()"
   ]
  },
  {
   "cell_type": "markdown",
   "metadata": {},
   "source": [
    "<font size=2>\n",
    "Все пропуски в таблице заполнены:\n",
    "\n",
    "- значения трудового стажа заменены на медианы в соответствии с возрастной категорией;\n",
    "- нулевые возрастные значения заменены на медианные по типу занятости клиентов;\n",
    "- пропущенные значения ежемесячного дохода заменены на медианные по типу занятости клиентов."
   ]
  },
  {
   "cell_type": "markdown",
   "metadata": {},
   "source": [
    "### Замена типа данных"
   ]
  },
  {
   "cell_type": "markdown",
   "metadata": {},
   "source": [
    "<font size=2>Выведем информацию о типах данных в таблице:"
   ]
  },
  {
   "cell_type": "code",
   "execution_count": 22,
   "metadata": {
    "scrolled": true
   },
   "outputs": [
    {
     "data": {
      "text/plain": [
       "children              int64\n",
       "days_employed       float64\n",
       "dob_years             int64\n",
       "education            object\n",
       "education_id          int64\n",
       "family_status        object\n",
       "family_status_id      int64\n",
       "gender               object\n",
       "income_type          object\n",
       "debt                  int64\n",
       "total_income        float64\n",
       "purpose              object\n",
       "age_group            object\n",
       "dtype: object"
      ]
     },
     "execution_count": 22,
     "metadata": {},
     "output_type": "execute_result"
    }
   ],
   "source": [
    "data.dtypes"
   ]
  },
  {
   "cell_type": "markdown",
   "metadata": {},
   "source": [
    "<font size=2>Для дальнейшего удобства в работе, в т.ч. и визуальной работе с таблицей, значения трудового стажа, возраста клиентов и ежемесячного дохода, представленные числами с плавающей точкой, заменим их на целочисленные."
   ]
  },
  {
   "cell_type": "code",
   "execution_count": 23,
   "metadata": {},
   "outputs": [
    {
     "name": "stdout",
     "output_type": "stream",
     "text": [
      "<class 'pandas.core.frame.DataFrame'>\n",
      "RangeIndex: 21525 entries, 0 to 21524\n",
      "Data columns (total 13 columns):\n",
      " #   Column            Non-Null Count  Dtype \n",
      "---  ------            --------------  ----- \n",
      " 0   children          21525 non-null  int64 \n",
      " 1   days_employed     21525 non-null  int32 \n",
      " 2   dob_years         21525 non-null  int32 \n",
      " 3   education         21525 non-null  object\n",
      " 4   education_id      21525 non-null  int64 \n",
      " 5   family_status     21525 non-null  object\n",
      " 6   family_status_id  21525 non-null  int64 \n",
      " 7   gender            21525 non-null  object\n",
      " 8   income_type       21525 non-null  object\n",
      " 9   debt              21525 non-null  int64 \n",
      " 10  total_income      21525 non-null  int32 \n",
      " 11  purpose           21525 non-null  object\n",
      " 12  age_group         21525 non-null  object\n",
      "dtypes: int32(3), int64(4), object(6)\n",
      "memory usage: 1.9+ MB\n"
     ]
    }
   ],
   "source": [
    "data['days_employed'] = data['days_employed'].astype('int')\n",
    "data['dob_years'] = data['dob_years'].astype('int')\n",
    "data['total_income'] = data['total_income'].astype('int')\n",
    "data.info()"
   ]
  },
  {
   "cell_type": "code",
   "execution_count": 24,
   "metadata": {},
   "outputs": [],
   "source": [
    "# data.head(10)\n",
    "# Точность до 6 знака после запятой нам в расчётах не нужна, а таблица стала выглядеть легче."
   ]
  },
  {
   "cell_type": "markdown",
   "metadata": {},
   "source": [
    "<font size=2>\n",
    "**Вывод**\n",
    "\n",
    "Для перевода данных использовали метод 'astype', поскольку выполнили предобработку пропущенных значений в указанных столбцах."
   ]
  },
  {
   "cell_type": "markdown",
   "metadata": {},
   "source": [
    "### Обработка дубликатов"
   ]
  },
  {
   "cell_type": "markdown",
   "metadata": {},
   "source": [
    "<font size=2>\n",
    "Перед началом поиска дубликатов приведём данные в ячейках с образованием к нижнему регистру, чтобы исключить в дальнейшем при поиске дубликатов одинаковых значений типа \"среднее\", \"Среднее\", \"СРЕДНЕЕ\", как 3-х разных, что неверно."
   ]
  },
  {
   "cell_type": "code",
   "execution_count": 25,
   "metadata": {},
   "outputs": [
    {
     "data": {
      "text/plain": [
       "среднее                13750\n",
       "высшее                  4718\n",
       "СРЕДНЕЕ                  772\n",
       "Среднее                  711\n",
       "неоконченное высшее      668\n",
       "ВЫСШЕЕ                   274\n",
       "Высшее                   268\n",
       "начальное                250\n",
       "Неоконченное высшее       47\n",
       "НЕОКОНЧЕННОЕ ВЫСШЕЕ       29\n",
       "НАЧАЛЬНОЕ                 17\n",
       "Начальное                 15\n",
       "ученая степень             4\n",
       "Ученая степень             1\n",
       "УЧЕНАЯ СТЕПЕНЬ             1\n",
       "Name: education, dtype: int64"
      ]
     },
     "execution_count": 25,
     "metadata": {},
     "output_type": "execute_result"
    }
   ],
   "source": [
    "data['education'].value_counts()\n",
    "# до изменения регистра имеем челых 15 разных значений образования"
   ]
  },
  {
   "cell_type": "code",
   "execution_count": 26,
   "metadata": {},
   "outputs": [],
   "source": [
    "wrong_edu_high = 0\n",
    "for education in data['education']:\n",
    "    if education == 'ВЫСШЕЕ' or education == 'Высшее':\n",
    "        wrong_edu_high += 1\n",
    "\n",
    "# wrong_edu_high"
   ]
  },
  {
   "cell_type": "code",
   "execution_count": 27,
   "metadata": {},
   "outputs": [
    {
     "data": {
      "text/plain": [
       "среднее                15233\n",
       "высшее                  5260\n",
       "неоконченное высшее      744\n",
       "начальное                282\n",
       "ученая степень             6\n",
       "Name: education, dtype: int64"
      ]
     },
     "execution_count": 27,
     "metadata": {},
     "output_type": "execute_result"
    }
   ],
   "source": [
    "# приводим таблицу к нижнему регистру\n",
    "data['education'] = data['education'].str.lower()\n",
    "data['education'].value_counts()"
   ]
  },
  {
   "cell_type": "code",
   "execution_count": 28,
   "metadata": {},
   "outputs": [
    {
     "name": "stdout",
     "output_type": "stream",
     "text": [
      "кол-во неправильно заполненных ячеек: 542\n",
      "доля неправильно заполненных ячеек от общего числа:{:.2%} 0.10304182509505704\n"
     ]
    }
   ],
   "source": [
    "# дополнительно посчитаем на примере ячеек с высшем образованием долю неправильно заполненных ячеек:\n",
    "sum_edu_high = data[data['education'] == 'высшее']['education'].count()\n",
    "\n",
    "\n",
    "print('кол-во неправильно заполненных ячеек:', wrong_edu_high)\n",
    "print('доля неправильно заполненных ячеек от общего числа:{:.2%}', format(\n",
    "    wrong_edu_high/sum_edu_high))"
   ]
  },
  {
   "cell_type": "markdown",
   "metadata": {},
   "source": [
    "<font size=2>Теперь посчитаем число дубликатов во всей таблице:"
   ]
  },
  {
   "cell_type": "code",
   "execution_count": 29,
   "metadata": {},
   "outputs": [
    {
     "data": {
      "text/plain": [
       "71"
      ]
     },
     "execution_count": 29,
     "metadata": {},
     "output_type": "execute_result"
    }
   ],
   "source": [
    "data.duplicated().sum()"
   ]
  },
  {
   "cell_type": "markdown",
   "metadata": {},
   "source": [
    "<font size=2>Удаляем все дубликаты и проверяем таблицу ещё раз."
   ]
  },
  {
   "cell_type": "code",
   "execution_count": 30,
   "metadata": {
    "scrolled": true
   },
   "outputs": [
    {
     "data": {
      "text/plain": [
       "0"
      ]
     },
     "execution_count": 30,
     "metadata": {},
     "output_type": "execute_result"
    }
   ],
   "source": [
    "data = data.drop_duplicates().reset_index(drop=True)\n",
    "data.duplicated().sum()"
   ]
  },
  {
   "cell_type": "markdown",
   "metadata": {},
   "source": [
    "<font size=2>\n",
    "**Вывод**\n",
    "\n",
    "Необходимо обратить внимание на столбец с данными об образовании. Судя по разбросу значений ячейки заполняются вручную, что приводит к дублированию значений. Например в данных о высшем образовании неправильно заполены данные 10,30% процентах значений. Значений о среднем образовании кратно больше, т.о. и процент неправильных значений может быть значительно больше.\n",
    "\n",
    "Оптимальным решением видится замена ручного ввода данных об образовании на выпадающий список."
   ]
  },
  {
   "cell_type": "markdown",
   "metadata": {},
   "source": [
    "<div class=\"alert alert-success\">\n",
    "\n",
    "<b>Ревьюер:</b> Абсолютно верно.\n",
    "\n",
    "</div>"
   ]
  },
  {
   "cell_type": "markdown",
   "metadata": {},
   "source": [
    "### Лемматизация"
   ]
  },
  {
   "cell_type": "markdown",
   "metadata": {},
   "source": [
    "<font size=2>Посчитаем все варианты целей кредита и их количество:"
   ]
  },
  {
   "cell_type": "code",
   "execution_count": 31,
   "metadata": {},
   "outputs": [
    {
     "data": {
      "text/plain": [
       "свадьба                                   791\n",
       "на проведение свадьбы                     768\n",
       "сыграть свадьбу                           765\n",
       "операции с недвижимостью                  675\n",
       "покупка коммерческой недвижимости         661\n",
       "операции с жильем                         652\n",
       "покупка жилья для сдачи                   651\n",
       "операции с коммерческой недвижимостью     650\n",
       "покупка жилья                             646\n",
       "жилье                                     646\n",
       "покупка жилья для семьи                   638\n",
       "строительство собственной недвижимости    635\n",
       "недвижимость                              633\n",
       "операции со своей недвижимостью           627\n",
       "строительство жилой недвижимости          624\n",
       "покупка недвижимости                      621\n",
       "покупка своего жилья                      620\n",
       "строительство недвижимости                619\n",
       "ремонт жилью                              607\n",
       "покупка жилой недвижимости                606\n",
       "на покупку своего автомобиля              505\n",
       "заняться высшим образованием              496\n",
       "автомобиль                                494\n",
       "сделка с подержанным автомобилем          486\n",
       "свой автомобиль                           478\n",
       "на покупку подержанного автомобиля        478\n",
       "автомобили                                478\n",
       "на покупку автомобиля                     471\n",
       "приобретение автомобиля                   461\n",
       "дополнительное образование                460\n",
       "сделка с автомобилем                      455\n",
       "высшее образование                        452\n",
       "образование                               447\n",
       "получение дополнительного образования     446\n",
       "получение образования                     442\n",
       "профильное образование                    436\n",
       "получение высшего образования             426\n",
       "заняться образованием                     408\n",
       "Name: purpose, dtype: int64"
      ]
     },
     "execution_count": 31,
     "metadata": {},
     "output_type": "execute_result"
    }
   ],
   "source": [
    "data['purpose'].value_counts()"
   ]
  },
  {
   "cell_type": "markdown",
   "metadata": {},
   "source": [
    "<font size=2>\n",
    "Многие значения цели кредита названы похожим образом, но несут в себе схожий смысл.\n",
    "\n",
    "Ключевыми можно выделить основные цели кредита:\n",
    "- операции с недвижимостью/жильем;\n",
    "- приобретение автомобиля;\n",
    "- получение образования;\n",
    "- кредиты на свадьбу.\n",
    "\n",
    "Проведём лемматизацию:"
   ]
  },
  {
   "cell_type": "code",
   "execution_count": 32,
   "metadata": {
    "scrolled": true
   },
   "outputs": [
    {
     "ename": "ModuleNotFoundError",
     "evalue": "No module named 'pymorphy2'",
     "output_type": "error",
     "traceback": [
      "\u001b[1;31m---------------------------------------------------------------------------\u001b[0m",
      "\u001b[1;31mModuleNotFoundError\u001b[0m                       Traceback (most recent call last)",
      "\u001b[1;32m~\\AppData\\Local\\Temp/ipykernel_28624/3710423516.py\u001b[0m in \u001b[0;36m<module>\u001b[1;34m\u001b[0m\n\u001b[0;32m      1\u001b[0m \u001b[1;31m# функция, которая пройдёт по значения столбца с целью кредита:\u001b[0m\u001b[1;33m\u001b[0m\u001b[1;33m\u001b[0m\u001b[0m\n\u001b[1;32m----> 2\u001b[1;33m \u001b[1;32mimport\u001b[0m \u001b[0mpymorphy2\u001b[0m\u001b[1;33m\u001b[0m\u001b[1;33m\u001b[0m\u001b[0m\n\u001b[0m\u001b[0;32m      3\u001b[0m \u001b[0mmorph\u001b[0m \u001b[1;33m=\u001b[0m \u001b[0mpymorphy2\u001b[0m\u001b[1;33m.\u001b[0m\u001b[0mMorphAnalyzer\u001b[0m\u001b[1;33m(\u001b[0m\u001b[1;33m)\u001b[0m\u001b[1;33m\u001b[0m\u001b[1;33m\u001b[0m\u001b[0m\n\u001b[0;32m      4\u001b[0m \u001b[1;33m\u001b[0m\u001b[0m\n\u001b[0;32m      5\u001b[0m \u001b[1;33m\u001b[0m\u001b[0m\n",
      "\u001b[1;31mModuleNotFoundError\u001b[0m: No module named 'pymorphy2'"
     ]
    }
   ],
   "source": [
    "# функция, которая пройдёт по значения столбца с целью кредита:\n",
    "import pymorphy2\n",
    "morph = pymorphy2.MorphAnalyzer()\n",
    "\n",
    "\n",
    "# for word in data['purpose']:\n",
    "#p = morph.parse(word)[0]\n",
    "# print(p.normal_form)\n",
    "\n",
    "words = []\n",
    "for word in data['purpose']:\n",
    "    p = morph.parse(word)[0]\n",
    "    word.append(p.normal_form)\n",
    "data['purpose'] = data['purpose'].apply(word)\n",
    "data.head()"
   ]
  },
  {
   "cell_type": "code",
   "execution_count": null,
   "metadata": {},
   "outputs": [],
   "source": [
    "# Посмотрим все возможные категории целей кредита после лемматизации:\n",
    "data['purpose'].value_counts()"
   ]
  },
  {
   "cell_type": "markdown",
   "metadata": {},
   "source": [
    "<font size=2>\n",
    "**Вывод**\n",
    "\n",
    "После лемматизации столбец с целями кредита стал понятнее, что упрощает дальнейший анализ данных и при этом сохраняет основной смысл цели кредита."
   ]
  },
  {
   "cell_type": "markdown",
   "metadata": {},
   "source": [
    "<div class=\"alert alert-success\">\n",
    "\n",
    "<b>Ревьюер:</b> Постарайся не делать грамматических ошибок, особенно в итоговом выводе.\n",
    "\n",
    "С выводом согласен.\n",
    "\n",
    "\n",
    "</div>"
   ]
  },
  {
   "cell_type": "markdown",
   "metadata": {},
   "source": [
    "### Категоризация данных"
   ]
  },
  {
   "cell_type": "markdown",
   "metadata": {},
   "source": [
    "<font size=2>\n",
    "Ранее в ходе исследования данные были откатегорированы по возрасту - при устранении пропущенных значений и цели кредита - при лемматизации.\n",
    "\n",
    "Для ответа на вопросы исследования  потребуется провести ещё категоризацию - по доходам. \n",
    "\n",
    "Посмотрим, какой уровень дохода представлен в датасете:"
   ]
  },
  {
   "cell_type": "code",
   "execution_count": null,
   "metadata": {
    "scrolled": false
   },
   "outputs": [],
   "source": [
    "data.sort_values(by='total_income')"
   ]
  },
  {
   "cell_type": "markdown",
   "metadata": {},
   "source": [
    "<font size=2>\n",
    "Уровень дохода лежит в промежутке от ≈20 тыс. рублей до 2.3 млн.рублей.\n",
    "\n",
    "Статистика разделяет уровень жизни россиян в зависимости от доходов на 8 категорий от «крайней нищеты» до «сверхбогатства». Излишняя категоризация в данном исследовании нам не нужна и скорее будет мешать, поэтому упростим её и выделим 4-е категории заработка:\n",
    "- низкий доход - до 50 тыс.рублей в месяц;\n",
    "- средний доход - до 100 тыс.рублей в месяц;\n",
    "- высокий доход - до 200 тыс.рублей в месяц;\n",
    "- сверхвысокий доход - свыше 200 тыс.рублей в месяц."
   ]
  },
  {
   "cell_type": "markdown",
   "metadata": {},
   "source": [
    "<div class=\"alert alert-success\">\n",
    "\n",
    "<b>Ревьюер:</b> И снова похвалю тебя за использование внешних источников информации. Можно было бы использовать только математику, но для проведения хорошего анализа важно, чтобы данные имели точки соприкосновения с исследуемым миром.\n",
    "\n",
    "</div>"
   ]
  },
  {
   "cell_type": "code",
   "execution_count": null,
   "metadata": {},
   "outputs": [],
   "source": [
    "# напишем функцию, которая ежемесячный доход клиента и возвращает категорию заработка:\n",
    "def total_income_group(income):\n",
    "    if income <= 50000:\n",
    "        return 'низкий доход'\n",
    "    elif 50001 <= income <= 100000:\n",
    "        return 'средний доход'\n",
    "    elif 100001 <= income <= 200000:\n",
    "        return 'высокий доход'\n",
    "    else:\n",
    "        return 'сверхвысокий доход'\n",
    "\n",
    "\n",
    "# проверка, добавляем в таблицу столбец с категорией заработка, дополнительно оцениваем размер получившихся категорий.\n",
    "data['total_income_group'] = data['total_income'].apply(total_income_group)\n",
    "# data.head(10)\n",
    "data['total_income_group'].value_counts()"
   ]
  },
  {
   "cell_type": "markdown",
   "metadata": {},
   "source": [
    "<font size=2>\n",
    "**Вывод**\n",
    "\n",
    "Категоризация данных позволила нам удобно сгруппировать необходимые для решешения текущих и задач, возможных в дальнейшем. Группировка данных проводилась с помощью функции с заданными условиями и с помощью метода apply. \n",
    "\n",
    "Благодаря категоризации по возрасту мы увидели, что больше всего клиентов в возрастных группах \"25-44\",их доля от общего числа ≈50%  и \"45-64\" лет, с долей в ≈40%. Это может свидетельствовать о том, что банки охотнее выдают кредиты платежеспособным гражданам в работоспособном возрасте, доли клиентов \"пенсионеров\" и \"студентов\" значительно ниже, на них приходятся оставшиеся 10% от общего числа.\n",
    "\n",
    "Категоризация по целям кредита позволила увидеть нам, что клиенты чаще всего берут кредит на приобретения недвижимости, в 50% всех случаев, второе место, можно сказать, делят между собой приобретение автомобиля - 20% и кредиты на образование - 19%, кредиты на свадьбу в 11% случаев замыкают этот список.\n",
    "\n",
    "Категоризация по уровню дохода также показывает нам, что люди с низким доходом не могут позволить себе кредит, также как это могут позволить люди со средним и высоким доходом, не говоря уже о людях со сверхвысоким доходом.\n",
    "\n",
    "Основной целью анализа является определние влияния семейного положение и количества детей клиента на факт погашения кредита в срок. Категоризировать количество детей нет необходимости, т.к. их количество и будет как раз категорями, а неккоректные значения в этом столбце мы исправили на этапе предобработки исходных данных. Данные о семейном положении представлены корректно, их так же нет необходимости категоризировать."
   ]
  },
  {
   "cell_type": "markdown",
   "metadata": {},
   "source": [
    "<div class=\"alert alert-success\">\n",
    "\n",
    "\n",
    "<b>Ревьюер:</b> Отличный вывод, сразу видно серьезное отношение к исследованию.\n",
    "</div>"
   ]
  },
  {
   "cell_type": "markdown",
   "metadata": {},
   "source": []
  },
  {
   "cell_type": "markdown",
   "metadata": {},
   "source": [
    "## Шаг 3. Ответьте на вопросы"
   ]
  },
  {
   "cell_type": "markdown",
   "metadata": {},
   "source": [
    "<div class=\"alert alert-warning\">\n",
    "\n",
    "<b>Ревьюер:</b> Библиотеки импортировал, а графики не построил. Почему? Будет здорово, если попробуешь.\n",
    "</div>"
   ]
  },
  {
   "cell_type": "markdown",
   "metadata": {},
   "source": [
    "<a id=\"error_2\"></a> \n",
    "<div class=\"alert alert-danger\">\n",
    "\n",
    "<b>Ревьюер:</b> По ТЗ в проекте нужно использовать сводные таблицы. Пожалуйста, примени их в этом блоке.\n",
    "\n",
    "</div>"
   ]
  },
  {
   "cell_type": "markdown",
   "metadata": {},
   "source": [
    "<div class=\"alert alert-info\">\n",
    "\n",
    "<b>Студент:</b>\n",
    "<font size=2>\n",
    "Моя невнимательность, за ходом работы я больше следил по чек-листу и упустил из виду необходимость создания сводных таблиц. В этом же разделе я добавил к сводным таблицам хитмапы.\n",
    "<font size=2> \n",
    "Прим. *Я не совсем уверен в правильности своих действий, стоило ли мне полностью переоформлять данный раздел, посчитал, что будет удобным, если ответы по замечаниям я выведу сразу после самого замечания.*\n",
    "</div>"
   ]
  },
  {
   "cell_type": "markdown",
   "metadata": {},
   "source": [
    "<div class=\"alert alert-success\">\n",
    "\n",
    "<b>Ревьюер v2:</b> Достаточно было использовать сводную таблицу один раз, чтобы понять, что ты в них освоился.\n",
    "\n",
    "</div>"
   ]
  },
  {
   "cell_type": "markdown",
   "metadata": {},
   "source": [
    "<font size=2>Сводная таблица задолженностей в зависимости от возраста и уровня дохода:"
   ]
  },
  {
   "cell_type": "code",
   "execution_count": null,
   "metadata": {},
   "outputs": [],
   "source": [
    "data_pivot_age_income = data.pivot_table(\n",
    "    index=['age_group'], columns='total_income_group', values='debt', aggfunc='sum')\n",
    "data_pivot_age_income"
   ]
  },
  {
   "cell_type": "markdown",
   "metadata": {},
   "source": [
    "<font size=2>Для наглядности представим таблицу в виде тепловой карты:"
   ]
  },
  {
   "cell_type": "code",
   "execution_count": null,
   "metadata": {},
   "outputs": [],
   "source": [
    "seaborn.heatmap(data_pivot_age_income, cmap='mako',\n",
    "                linecolor='white', linewidths=3)"
   ]
  },
  {
   "cell_type": "markdown",
   "metadata": {},
   "source": [
    "<font size=2>\n",
    "Отчётливо видно, что самыми несознательными оказалиcь клиенты в возрастной категории \"25-44\" с высоким доходом.\n",
    "\n",
    "Теперь посмотрим, как влияет цель кредита на количество задолженностей:"
   ]
  },
  {
   "cell_type": "code",
   "execution_count": null,
   "metadata": {},
   "outputs": [],
   "source": [
    "data_pivot_age_purpose = data.pivot_table(\n",
    "    index=['age_group'], columns='purpose', values='debt', aggfunc='sum')\n",
    "data_pivot_age_purpose"
   ]
  },
  {
   "cell_type": "code",
   "execution_count": null,
   "metadata": {},
   "outputs": [],
   "source": [
    "seaborn.heatmap(data_pivot_age_purpose, cmap='mako',\n",
    "                linecolor='white', linewidths=3)"
   ]
  },
  {
   "cell_type": "markdown",
   "metadata": {},
   "source": [
    "<font size=2>Молодые и платежеспособные клиенты, опять в лидерах, причём в почти половине случаев от общего числа задолженностей в своей категории у них приходится на просрочки в категории недвижимость."
   ]
  },
  {
   "cell_type": "code",
   "execution_count": null,
   "metadata": {},
   "outputs": [],
   "source": [
    "# data_pivot_all=data.pivot_table(index=['family_status', 'children'],columns='total_income_group', values='debt',aggfunc='sum')\n",
    "# total_income_group = ['высокий доход','низкий доход','сверхвысокий доход','средний доход']\n",
    "# data_pivot_all.style.highlight_max(color='red', subset=total_income_group).highlight_min(color='yellowgreen', subset=total_income_group)"
   ]
  },
  {
   "cell_type": "markdown",
   "metadata": {},
   "source": [
    "<div class=\"alert alert-danger\">\n",
    "\n",
    "<b>Ревьюер v2:</b> Ты меня поставил в тупик, честно. С одной стороны, ты огромный молодец, что использовал визуализацию! С другой, твои выводы начали противоречить друг другу. Причину я напишу в конце. Так что листай дальше. =) \n",
    "\n",
    "</div>"
   ]
  },
  {
   "cell_type": "markdown",
   "metadata": {},
   "source": [
    "- Есть ли зависимость между наличием детей и возвратом кредита в срок?"
   ]
  },
  {
   "cell_type": "code",
   "execution_count": null,
   "metadata": {},
   "outputs": [],
   "source": [
    "debt_children = pd.DataFrame()  # создадим сводную таблицу\n",
    "debt_children['sum_children'] = data.groupby(\n",
    "    'children')['debt'].sum()  # сумма задолженностей по детям\n",
    "# группирруем по количеству детей, без задолженности\n",
    "debt_children['count_children'] = data.groupby('children')['debt'].count()\n",
    "# результирующая - заолженности/без задолженности\n",
    "debt_children['result_children'] = (\n",
    "    debt_children['sum_children'] / debt_children['count_children'])\n",
    "# для удобства расположим результаты по убыванию результирующей\n",
    "debt_children.sort_values('result_children', ascending=False)"
   ]
  },
  {
   "cell_type": "markdown",
   "metadata": {},
   "source": [
    "<font size=2>\n",
    "**Вывод**\n",
    "\n",
    "С увеличением количества детей риск просрочки возрастает, однако люди с одним ребёнком имеют больше просрочек чем люди с 3 детьми. Бездетные клиенты допускают просрочки реже всего. Выборка по клиентам с 5 детьми слишком мала, чтобы можно было делать однозначные выводы."
   ]
  },
  {
   "cell_type": "markdown",
   "metadata": {},
   "source": [
    "<div class=\"alert alert-success\">\n",
    "\n",
    "\n",
    "<b>Ревьюер:</b> Верно.\n",
    "</div>"
   ]
  },
  {
   "cell_type": "markdown",
   "metadata": {},
   "source": [
    "- Есть ли зависимость между семейным положением и возвратом кредита в срок?"
   ]
  },
  {
   "cell_type": "code",
   "execution_count": null,
   "metadata": {},
   "outputs": [],
   "source": [
    "# создадим сводную таблицу, также как и для ответа на превый вопрос, только применим группировку задолженностей относительно семейного статуса\n",
    "debt_family_status = pd.DataFrame()\n",
    "debt_family_status['sum_family_status'] = data.groupby('family_status')[\n",
    "    'debt'].sum()\n",
    "debt_family_status['count_family_status'] = data.groupby('family_status')[\n",
    "    'debt'].count()\n",
    "debt_family_status['result_family_status'] = debt_family_status['sum_family_status'] / \\\n",
    "    debt_family_status['count_family_status']\n",
    "debt_family_status.sort_values('result_family_status', ascending=False)"
   ]
  },
  {
   "cell_type": "markdown",
   "metadata": {},
   "source": [
    "<font size=2>\n",
    "**Вывод**\n",
    "\n",
    "Наибольшее количество просрочек у клиентов ни разу не бывших в браке и живущих гражданским браком. Можно предположить подтверждения стереотипа, что это люди не готовые к серьёзной жизни - созданию семьи и нежелание брать на себя дополнительную ответственность, в т.ч. и кредитование.\n",
    "\n",
    "Семейные клиенты, либо имевшие опыт совместной жизни, напротив более дисциплинированные. Судя по всему жизнь в браке, как и ответственность за своих детей, учит их отдавать долги вовремя.\n",
    "\n",
    "Овдовевшие люди самые ответственные клиенты, видимо сложные жизненные условия учат людей серьёзно обдумывать принимаемые решения, рассчитывать свои финансовые возможности, чтобы не допускать просрочек."
   ]
  },
  {
   "cell_type": "markdown",
   "metadata": {},
   "source": [
    "<div class=\"alert alert-success\">\n",
    "\n",
    "\n",
    "<b>Ревьюер:</b> Статистика подтверждает, что с возрастом люди становятся более ответственными. =)\n",
    "</div>"
   ]
  },
  {
   "cell_type": "markdown",
   "metadata": {},
   "source": [
    "- Есть ли зависимость между уровнем дохода и возвратом кредита в срок?"
   ]
  },
  {
   "cell_type": "code",
   "execution_count": null,
   "metadata": {},
   "outputs": [],
   "source": [
    "debt_total_income = pd.DataFrame()\n",
    "debt_total_income['sum_total_income_group'] = data.groupby('total_income_group')[\n",
    "    'debt'].sum()\n",
    "debt_total_income['count_total_income_group'] = data.groupby(\n",
    "    'total_income_group')['debt'].count()\n",
    "debt_total_income['result_total_income_group'] = debt_total_income['sum_total_income_group'] / \\\n",
    "    debt_total_income['count_total_income_group']\n",
    "debt_total_income.sort_values('result_total_income_group', ascending=False)"
   ]
  },
  {
   "cell_type": "markdown",
   "metadata": {},
   "source": [
    "<font size=2>\n",
    "**Вывод**\n",
    "\n",
    "Прямой зависимости между доходом и возвратом кредита в срок не наблюдается,сильно меньше просрочек наблюдается у клиентов с самым низким уровнем дохода, это можно объяснить тем, что такие клиенты вынуждены ответственно вести свой бюджет и распоряжаться средствами."
   ]
  },
  {
   "cell_type": "markdown",
   "metadata": {},
   "source": [
    "<div class=\"alert alert-success\">\n",
    "\n",
    "\n",
    "<b>Ревьюер:</b> В этом выводе с тобой не совсем соглашусь. Кроме людей с самыми маленькими доходами, кредитные средства возвращают хорошо люди с большими доходами. То есть более безответственно относится к заемным средствам средний класс. А те, у кого денег очень мало или много денег более серьезно распоряжаются своими деньгами.  \n",
    "</div>"
   ]
  },
  {
   "cell_type": "markdown",
   "metadata": {},
   "source": [
    "<div class=\"alert alert-info\">\n",
    "\n",
    "<b>Студент:</b> <font size=2> Замечание принимаю.\n",
    "\n",
    "</div>"
   ]
  },
  {
   "cell_type": "markdown",
   "metadata": {},
   "source": []
  },
  {
   "cell_type": "markdown",
   "metadata": {},
   "source": [
    "- Как разные цели кредита влияют на его возврат в срок?"
   ]
  },
  {
   "cell_type": "code",
   "execution_count": null,
   "metadata": {},
   "outputs": [],
   "source": [
    "debt_purpose = pd.DataFrame()\n",
    "debt_purpose['sum_purpose'] = data.groupby('purpose')['debt'].sum()\n",
    "debt_purpose['count_purpose'] = data.groupby('purpose')['debt'].count()\n",
    "debt_purpose['result_purpose'] = debt_purpose['sum_purpose'] / \\\n",
    "    debt_purpose['count_purpose']\n",
    "debt_purpose.sort_values('result_purpose', ascending=False)"
   ]
  },
  {
   "cell_type": "markdown",
   "metadata": {},
   "source": [
    "<font size=2>\n",
    "**Вывод**\n",
    "\n",
    "Самые ответственные клиенты - приобретающие недвижимость, больше всего просрочек у кредитов на автомобили и образование, кредиты на сводьбу просчачивают реже."
   ]
  },
  {
   "cell_type": "markdown",
   "metadata": {},
   "source": [
    "<div class=\"alert alert-success\">\n",
    "\n",
    "<b>Ревьюер:</b> Согласен. Недвижимость никто не хочет терять.\n",
    "</div>"
   ]
  },
  {
   "cell_type": "markdown",
   "metadata": {},
   "source": [
    "## Шаг 4. Общий вывод"
   ]
  },
  {
   "cell_type": "markdown",
   "metadata": {},
   "source": [
    "<div class=\"alert alert-info\">\n",
    "\n",
    "<b>Студент:</b><font size=2> Дополнил, переписал вывод.\n",
    "\n",
    "</div>"
   ]
  },
  {
   "cell_type": "markdown",
   "metadata": {},
   "source": [
    "<font size=2>\n",
    "В ходе исследования мы выявили зависимость между семейным положением клиента, количество детей и фактом погашения кредита в срок. Действительно, и семейное положение и количество детей оказывают влияние на факт своевременного возврата кредита:\n",
    "- Клиенты с браке, либо бывшие в официальном браке - самые ответственные;\n",
    "- Клиенты состоящие в неофициальном браке, либо не имеющие отношений - наоборот, не могут похвастаться таким же уровнем ответственности, как имеющие за плечами опыт семейной жизни;\n",
    "- Количество детей на факт своевременного возврата кредита влияет негативно, бездетные допускают просрочки горазда реже, чем клиенты с детьми.\n",
    "\n",
    "Дополнительно в ходе исследования мы также проверили как влияют на просрочки уровень дохода и цель кредита:\n",
    "- Ответственно к вопросу возврата кредитных средст относятся небогатые люди и наоборот, люди с очень большими доходами. Их отличительной чертой от т.н. среднего класса является более ответственное отношение к своим деньгам, пускай и в силу разных причин;\n",
    "- Больше всего должников взяли кредит на автомобиль или образование, меньше всего должников среди приобретающих недвижимость. Что логично, потерять недвижимость, особенно если она единственная, довольно неприятно.\n",
    "\n",
    "В целях составления более обширной картины о клиентах мы рассмотрели как на факт просрочки влияет возраст клиента:\n",
    "- Больше всех просрочки допускают клиенты категории '22-44' лет, с высоким уровнем дохода. Похоже, что хороший уровень заработной платы не всегда является залогом хорошей финансовой дисциплины. Стоит отметить, что почти половина от общего числа задолженностей у них приходится на категорию 'недвижимость';\n",
    "- Старшие возрастные категории показывают себя лучше, причем и категория '45-64', и '65+'. Дисциплина и финансовая грамотность, судя по всему, приходят с годами.\n",
    "\n",
    "На основе проведённого анализа мы можем попробовать составить портрет идеального клиента - это *человек среднего возраста, семейный либо бывший в браке, не имеющий детей и не с низким достатком, желающий приобрести недвижимость.* Такой человек скорее всего умеет нести ответственность (в силу опыта семейной жизни), хороший достаток косвенно подтверждает его грамостность и дисциплинированность, у него есть цель - недвижимость, но нет сдерживающих факторов в виде детей.\n",
    "\n",
    "В дальнейшем для составления более точного портрета идеального клиента мы можем дополнительно рассмотреть зависимости задолженности от остальных исходных данных - пол, образование, тип занятости."
   ]
  },
  {
   "cell_type": "markdown",
   "metadata": {},
   "source": [
    "<a id=\"error_3\"></a> \n",
    "<div class=\"alert alert-danger\">\n",
    "\n",
    "<b>Ревьюер:</b> В течении всего проекты ты делал подробные и последовательные выводы. А финальный вывод написал короче, чем некоторые промежуточные. Выводы – это лицо аналитика. Конечный заказчик будет читать финальный вывод и только его. Добавь информации о проведенном исследовании, разбей по пунктам, сделай красиво, чтобы было понятно, что проведено настоящее исследование и выводу можно верить. Тем более, что у тебя уже все написано.\n",
    "</div>"
   ]
  },
  {
   "cell_type": "markdown",
   "metadata": {},
   "source": [
    "<div class=\"alert alert-info\">\n",
    "\n",
    "<b>Студент:</b> <font size=2> Артём, спасибо большое за все комментарии! В силу малого опыта и большого объёма новой информации знания в голове как следует ещё не структурированы, подсказки как заккоментировать функцию или упростить код, которые наблюдаешь не в тренажере, а уже в тетрадке, помогают собирать мысли в кучу! :)\n",
    "\n",
    "</div>"
   ]
  },
  {
   "cell_type": "markdown",
   "metadata": {},
   "source": [
    "<div class=\"alert alert-danger\">\n",
    "\n",
    "<b>Ревьюер:</b>  Сергей, проект еще не принят, остались последние штрихи.\n",
    "Хочу отметить, что ты делаешь хорошие выводы. Они подробные и последовательные, а это очень важный этап при проведении исследования, поскольку цель любого исследования — это вывод и формулировка рекомендаций.\n",
    "\n",
    "Спасибо за хорошую работу, проверял ее с удовольствием. Молодец!\n",
    "\n",
    "Для удобства поиска я добавил тебе ссылки.\n",
    "\n",
    "* [Описание данных](#error_1)\n",
    "* [Сводная таблица](#error_2)\n",
    "* [Финальный вывод](#error_3)\n",
    "    \n",
    "Жду правок =)\n",
    "\n",
    "\n",
    "</div>"
   ]
  },
  {
   "cell_type": "markdown",
   "metadata": {},
   "source": [
    "<div class=\"alert alert-success\">\n",
    "\n",
    "<b>Ревьюер v2:</b> Тебе спасибо за старания! По поводу опыта, не переживай, на этом курсе ты его точно получишь. И по мере прохождения курса отточишь свои навыки.\n",
    "    \n",
    "Всегда рад помочь.\n",
    "</div>\n",
    "<div class=\"alert alert-danger\">\n",
    "\n",
    "<b>Ревьюер v2:</b> Теперь по поводу противоречий в выводах. Ошибка возникла из-за того, что ты считал абсолютные числа, а не проценты. И если посмотришь количество кредитов, оформленных на недвижимость, людьми в браке или без детей, то увидишь, что это самые большие категории. У тебя отличный проект, просто ты сам себя запутал при выполнении дополнительного задания, поэтому не буду тебя мучать. Убери из вывода информацию, полученную на основании абсолютных чисел, и отправляй проект на проверку.\n",
    "</div>"
   ]
  },
  {
   "cell_type": "markdown",
   "metadata": {},
   "source": [
    "<div class=\"alert alert-info\">\n",
    "\n",
    "<b>Студент:</b><font size=2> Я скрыл эту противоречивую сводную таблицу и выводы соответственно. Для закрепления материала потренируюсь в дальнейшем, как сделать не противоречащий всему исследованию свод.\n",
    "    </div>"
   ]
  },
  {
   "cell_type": "markdown",
   "metadata": {},
   "source": [
    "<div class=\"alert alert-success\">\n",
    "\n",
    "<b>Ревьюер v3:</b> На самом деле я написал не только про последнюю таблицу, но и про тепловые карты. И они непротиворечивы, они показывают верную информацию, но в абсолютных числах. Из них мы узнаем сколько и в каких категориях просроченных платежей. Но не можем на основании этих данных сравнивать категории. Главное учти на будущее, если категории разделены неравномерно, то смотри в долях (процентах).\n",
    "\n",
    "Желаю тебе успехов в дальнейшем обучении и во всех твоих начинаниях. =)\n",
    "\n",
    "\n",
    "</div>"
   ]
  },
  {
   "cell_type": "markdown",
   "metadata": {},
   "source": [
    "## Чек-лист готовности проекта\n",
    "\n",
    "Поставьте 'x' в выполненных пунктах. Далее нажмите Shift+Enter."
   ]
  },
  {
   "cell_type": "markdown",
   "metadata": {},
   "source": [
    "- [x]  открыт файл;\n",
    "- [x]  файл изучен;\n",
    "- [x]  определены пропущенные значения;\n",
    "- [x]  заполнены пропущенные значения;\n",
    "- [x]  есть пояснение, какие пропущенные значения обнаружены;\n",
    "- [x]  описаны возможные причины появления пропусков в данных;\n",
    "- [x]  объяснено, по какому принципу заполнены пропуски;\n",
    "- [x]  заменен вещественный тип данных на целочисленный;\n",
    "- [x]  есть пояснение, какой метод используется для изменения типа данных и почему;\n",
    "- [x]  удалены дубликаты;\n",
    "- [x]  есть пояснение, какой метод используется для поиска и удаления дубликатов;\n",
    "- [x]  описаны возможные причины появления дубликатов в данных;\n",
    "- [x]  выделены леммы в значениях столбца с целями получения кредита;\n",
    "- [x]  описан процесс лемматизации;\n",
    "- [x]  данные категоризированы;\n",
    "- [x]  есть объяснение принципа категоризации данных;\n",
    "- [x]  есть ответ на вопрос: \"Есть ли зависимость между наличием детей и возвратом кредита в срок?\";\n",
    "- [x]  есть ответ на вопрос: \"Есть ли зависимость между семейным положением и возвратом кредита в срок?\";\n",
    "- [x]  есть ответ на вопрос: \"Есть ли зависимость между уровнем дохода и возвратом кредита в срок?\";\n",
    "- [x]  есть ответ на вопрос: \"Как разные цели кредита влияют на его возврат в срок?\";\n",
    "- [x]  в каждом этапе есть выводы;\n",
    "- [x]  есть общий вывод."
   ]
  }
 ],
 "metadata": {
  "ExecuteTimeLog": [
   {
    "duration": 838,
    "start_time": "2021-11-22T11:57:31.786Z"
   },
   {
    "duration": 76,
    "start_time": "2021-11-22T11:57:43.523Z"
   },
   {
    "duration": 104,
    "start_time": "2021-11-22T11:57:47.413Z"
   },
   {
    "duration": 75,
    "start_time": "2021-11-22T11:58:11.501Z"
   },
   {
    "duration": 62,
    "start_time": "2021-11-22T11:58:31.090Z"
   },
   {
    "duration": 27,
    "start_time": "2021-11-22T12:09:51.884Z"
   },
   {
    "duration": 31,
    "start_time": "2021-11-22T12:09:53.377Z"
   },
   {
    "duration": 28,
    "start_time": "2021-11-22T12:11:38.910Z"
   },
   {
    "duration": 12,
    "start_time": "2021-11-22T12:16:18.174Z"
   },
   {
    "duration": 14,
    "start_time": "2021-11-22T12:17:12.344Z"
   },
   {
    "duration": 9,
    "start_time": "2021-11-22T12:19:28.277Z"
   },
   {
    "duration": 9,
    "start_time": "2021-11-22T12:19:49.961Z"
   },
   {
    "duration": 11,
    "start_time": "2021-11-22T12:24:23.043Z"
   },
   {
    "duration": 7,
    "start_time": "2021-11-22T12:24:40.317Z"
   },
   {
    "duration": 96,
    "start_time": "2021-11-22T12:24:56.225Z"
   },
   {
    "duration": 12,
    "start_time": "2021-11-22T12:27:57.507Z"
   },
   {
    "duration": 9,
    "start_time": "2021-11-22T12:28:09.361Z"
   },
   {
    "duration": 9,
    "start_time": "2021-11-22T12:28:14.472Z"
   },
   {
    "duration": 8,
    "start_time": "2021-11-22T12:28:30.607Z"
   },
   {
    "duration": 9,
    "start_time": "2021-11-22T12:28:40.259Z"
   },
   {
    "duration": 10,
    "start_time": "2021-11-22T12:28:44.709Z"
   },
   {
    "duration": 8,
    "start_time": "2021-11-22T12:28:47.379Z"
   },
   {
    "duration": 10,
    "start_time": "2021-11-22T12:29:37.090Z"
   },
   {
    "duration": 9,
    "start_time": "2021-11-22T12:29:43.914Z"
   },
   {
    "duration": 10,
    "start_time": "2021-11-22T12:32:21.446Z"
   },
   {
    "duration": 12,
    "start_time": "2021-11-22T12:32:41.344Z"
   },
   {
    "duration": 11,
    "start_time": "2021-11-22T12:32:46.934Z"
   },
   {
    "duration": 10,
    "start_time": "2021-11-22T12:43:29.742Z"
   },
   {
    "duration": 12,
    "start_time": "2021-11-22T12:45:04.667Z"
   },
   {
    "duration": 31,
    "start_time": "2021-11-22T12:47:11.675Z"
   },
   {
    "duration": 9,
    "start_time": "2021-11-22T12:47:48.514Z"
   },
   {
    "duration": 8,
    "start_time": "2021-11-22T12:47:58.201Z"
   },
   {
    "duration": 9,
    "start_time": "2021-11-22T12:48:57.593Z"
   },
   {
    "duration": 10,
    "start_time": "2021-11-22T12:54:18.809Z"
   },
   {
    "duration": 485,
    "start_time": "2021-11-22T13:00:10.865Z"
   },
   {
    "duration": 494,
    "start_time": "2021-11-22T13:01:37.864Z"
   },
   {
    "duration": 496,
    "start_time": "2021-11-22T13:01:49.694Z"
   },
   {
    "duration": 489,
    "start_time": "2021-11-22T13:03:18.276Z"
   },
   {
    "duration": 387,
    "start_time": "2021-11-22T13:10:37.468Z"
   },
   {
    "duration": 27,
    "start_time": "2021-11-22T13:11:11.389Z"
   },
   {
    "duration": 23,
    "start_time": "2021-11-22T13:11:23.808Z"
   },
   {
    "duration": 35,
    "start_time": "2021-11-22T13:11:26.762Z"
   },
   {
    "duration": 13,
    "start_time": "2021-11-22T13:11:36.182Z"
   },
   {
    "duration": 353,
    "start_time": "2021-11-22T13:11:47.668Z"
   },
   {
    "duration": 382,
    "start_time": "2021-11-22T13:11:57.488Z"
   },
   {
    "duration": 6,
    "start_time": "2021-11-22T13:12:21.742Z"
   },
   {
    "duration": 292,
    "start_time": "2021-11-22T13:12:37.445Z"
   },
   {
    "duration": 97,
    "start_time": "2021-11-22T13:13:47.813Z"
   },
   {
    "duration": 9,
    "start_time": "2021-11-22T13:13:53.232Z"
   },
   {
    "duration": 7,
    "start_time": "2021-11-22T13:14:22.653Z"
   },
   {
    "duration": 8,
    "start_time": "2021-11-22T13:14:27.377Z"
   },
   {
    "duration": 5,
    "start_time": "2021-11-22T13:14:31.195Z"
   },
   {
    "duration": 9,
    "start_time": "2021-11-22T13:14:35.598Z"
   },
   {
    "duration": 11,
    "start_time": "2021-11-22T13:15:10.785Z"
   },
   {
    "duration": 10,
    "start_time": "2021-11-22T13:17:20.880Z"
   },
   {
    "duration": 3,
    "start_time": "2021-11-22T13:19:13.279Z"
   },
   {
    "duration": 3,
    "start_time": "2021-11-22T13:19:16.065Z"
   },
   {
    "duration": 14,
    "start_time": "2021-11-22T13:23:00.348Z"
   },
   {
    "duration": 8,
    "start_time": "2021-11-22T13:25:12.271Z"
   },
   {
    "duration": 12,
    "start_time": "2021-11-22T13:25:15.250Z"
   },
   {
    "duration": 8,
    "start_time": "2021-11-22T13:26:22.590Z"
   },
   {
    "duration": 324,
    "start_time": "2021-11-22T13:26:29.025Z"
   },
   {
    "duration": 26,
    "start_time": "2021-11-22T13:26:58.291Z"
   },
   {
    "duration": 9,
    "start_time": "2021-11-22T13:27:00.102Z"
   },
   {
    "duration": 864,
    "start_time": "2021-11-22T13:32:01.631Z"
   },
   {
    "duration": 43,
    "start_time": "2021-11-22T13:32:02.498Z"
   },
   {
    "duration": 17,
    "start_time": "2021-11-22T13:32:02.544Z"
   },
   {
    "duration": 18,
    "start_time": "2021-11-22T13:32:02.564Z"
   },
   {
    "duration": 27,
    "start_time": "2021-11-22T13:32:02.585Z"
   },
   {
    "duration": 20,
    "start_time": "2021-11-22T13:32:02.629Z"
   },
   {
    "duration": 43,
    "start_time": "2021-11-22T13:32:02.652Z"
   },
   {
    "duration": 10,
    "start_time": "2021-11-22T13:32:02.698Z"
   },
   {
    "duration": 9,
    "start_time": "2021-11-22T13:32:02.730Z"
   },
   {
    "duration": 19,
    "start_time": "2021-11-22T13:32:02.742Z"
   },
   {
    "duration": 17,
    "start_time": "2021-11-22T13:32:02.764Z"
   },
   {
    "duration": 74,
    "start_time": "2021-11-22T13:32:02.784Z"
   },
   {
    "duration": 11,
    "start_time": "2021-11-22T13:32:02.861Z"
   },
   {
    "duration": 13,
    "start_time": "2021-11-22T13:32:02.875Z"
   },
   {
    "duration": 9,
    "start_time": "2021-11-22T13:38:48.726Z"
   },
   {
    "duration": 9,
    "start_time": "2021-11-22T13:39:18.149Z"
   },
   {
    "duration": 10,
    "start_time": "2021-11-22T14:08:20.891Z"
   },
   {
    "duration": 10,
    "start_time": "2021-11-22T14:08:26.811Z"
   },
   {
    "duration": 29,
    "start_time": "2021-11-22T14:08:33.645Z"
   },
   {
    "duration": 3,
    "start_time": "2021-11-22T14:25:57.563Z"
   },
   {
    "duration": 31,
    "start_time": "2021-11-22T14:29:14.292Z"
   },
   {
    "duration": 33,
    "start_time": "2021-11-22T14:29:34.565Z"
   },
   {
    "duration": 397,
    "start_time": "2021-11-22T14:31:11.320Z"
   },
   {
    "duration": 296,
    "start_time": "2021-11-22T14:31:14.991Z"
   },
   {
    "duration": 325,
    "start_time": "2021-11-22T14:31:39.717Z"
   },
   {
    "duration": 430,
    "start_time": "2021-11-22T14:31:50.507Z"
   },
   {
    "duration": 1103,
    "start_time": "2021-11-22T14:31:56.469Z"
   },
   {
    "duration": 37,
    "start_time": "2021-11-22T14:31:57.575Z"
   },
   {
    "duration": 8,
    "start_time": "2021-11-22T14:31:57.631Z"
   },
   {
    "duration": 11,
    "start_time": "2021-11-22T14:31:57.641Z"
   },
   {
    "duration": 12,
    "start_time": "2021-11-22T14:31:57.655Z"
   },
   {
    "duration": 63,
    "start_time": "2021-11-22T14:31:57.670Z"
   },
   {
    "duration": 33,
    "start_time": "2021-11-22T14:31:57.736Z"
   },
   {
    "duration": 8,
    "start_time": "2021-11-22T14:31:57.772Z"
   },
   {
    "duration": 46,
    "start_time": "2021-11-22T14:31:57.783Z"
   },
   {
    "duration": 9,
    "start_time": "2021-11-22T14:31:57.831Z"
   },
   {
    "duration": 18,
    "start_time": "2021-11-22T14:31:57.842Z"
   },
   {
    "duration": 28,
    "start_time": "2021-11-22T14:31:57.862Z"
   },
   {
    "duration": 41,
    "start_time": "2021-11-22T14:31:57.892Z"
   },
   {
    "duration": 12,
    "start_time": "2021-11-22T14:31:57.935Z"
   },
   {
    "duration": 14,
    "start_time": "2021-11-22T14:31:57.950Z"
   },
   {
    "duration": 82,
    "start_time": "2021-11-22T14:31:57.967Z"
   },
   {
    "duration": 429,
    "start_time": "2021-11-22T14:31:58.051Z"
   },
   {
    "duration": 10,
    "start_time": "2021-11-22T14:32:15.466Z"
   },
   {
    "duration": 295,
    "start_time": "2021-11-22T14:32:32.538Z"
   },
   {
    "duration": 11,
    "start_time": "2021-11-22T14:32:56.763Z"
   },
   {
    "duration": 295,
    "start_time": "2021-11-22T14:35:16.050Z"
   },
   {
    "duration": 309,
    "start_time": "2021-11-22T14:35:24.778Z"
   },
   {
    "duration": 29,
    "start_time": "2021-11-22T14:35:45.878Z"
   },
   {
    "duration": 40,
    "start_time": "2021-11-22T14:35:49.277Z"
   },
   {
    "duration": 25,
    "start_time": "2021-11-22T14:35:54.304Z"
   },
   {
    "duration": 26,
    "start_time": "2021-11-22T14:37:38.081Z"
   },
   {
    "duration": 44,
    "start_time": "2021-11-22T14:37:55.871Z"
   },
   {
    "duration": 46,
    "start_time": "2021-11-22T14:38:07.772Z"
   },
   {
    "duration": 36,
    "start_time": "2021-11-22T14:42:22.212Z"
   },
   {
    "duration": 1696,
    "start_time": "2021-11-22T14:43:16.357Z"
   },
   {
    "duration": 1157,
    "start_time": "2021-11-22T14:43:18.637Z"
   },
   {
    "duration": 35,
    "start_time": "2021-11-22T14:44:03.900Z"
   },
   {
    "duration": 36,
    "start_time": "2021-11-22T14:44:17.604Z"
   },
   {
    "duration": 16,
    "start_time": "2021-11-22T14:44:38.572Z"
   },
   {
    "duration": 12,
    "start_time": "2021-11-22T14:44:41.219Z"
   },
   {
    "duration": 49,
    "start_time": "2021-11-22T14:45:01.208Z"
   },
   {
    "duration": 47,
    "start_time": "2021-11-22T14:45:07.086Z"
   },
   {
    "duration": 25,
    "start_time": "2021-11-22T14:45:14.566Z"
   },
   {
    "duration": 279,
    "start_time": "2021-11-22T14:49:16.233Z"
   },
   {
    "duration": 316,
    "start_time": "2021-11-22T14:49:22.235Z"
   },
   {
    "duration": 18,
    "start_time": "2021-11-22T14:50:28.408Z"
   },
   {
    "duration": 17,
    "start_time": "2021-11-22T14:52:59.932Z"
   },
   {
    "duration": 15,
    "start_time": "2021-11-22T14:54:37.998Z"
   },
   {
    "duration": 9,
    "start_time": "2021-11-22T15:06:39.846Z"
   },
   {
    "duration": 22,
    "start_time": "2021-11-22T15:06:56.118Z"
   },
   {
    "duration": 10,
    "start_time": "2021-11-22T15:07:01.211Z"
   },
   {
    "duration": 15,
    "start_time": "2021-11-22T15:07:03.899Z"
   },
   {
    "duration": 10,
    "start_time": "2021-11-22T15:07:05.393Z"
   },
   {
    "duration": 983,
    "start_time": "2021-11-22T15:07:11.336Z"
   },
   {
    "duration": 36,
    "start_time": "2021-11-22T15:07:12.321Z"
   },
   {
    "duration": 9,
    "start_time": "2021-11-22T15:07:12.360Z"
   },
   {
    "duration": 9,
    "start_time": "2021-11-22T15:07:12.373Z"
   },
   {
    "duration": 13,
    "start_time": "2021-11-22T15:07:12.385Z"
   },
   {
    "duration": 41,
    "start_time": "2021-11-22T15:07:12.400Z"
   },
   {
    "duration": 31,
    "start_time": "2021-11-22T15:07:12.443Z"
   },
   {
    "duration": 8,
    "start_time": "2021-11-22T15:07:12.478Z"
   },
   {
    "duration": 42,
    "start_time": "2021-11-22T15:07:12.488Z"
   },
   {
    "duration": 9,
    "start_time": "2021-11-22T15:07:12.533Z"
   },
   {
    "duration": 19,
    "start_time": "2021-11-22T15:07:12.544Z"
   },
   {
    "duration": 28,
    "start_time": "2021-11-22T15:07:12.566Z"
   },
   {
    "duration": 35,
    "start_time": "2021-11-22T15:07:12.596Z"
   },
   {
    "duration": 19,
    "start_time": "2021-11-22T15:07:12.633Z"
   },
   {
    "duration": 22,
    "start_time": "2021-11-22T15:07:12.654Z"
   },
   {
    "duration": 15,
    "start_time": "2021-11-22T15:07:12.679Z"
   },
   {
    "duration": 39,
    "start_time": "2021-11-22T15:07:12.697Z"
   },
   {
    "duration": 25,
    "start_time": "2021-11-22T15:07:12.738Z"
   },
   {
    "duration": 15,
    "start_time": "2021-11-22T15:07:12.766Z"
   },
   {
    "duration": 33,
    "start_time": "2021-11-22T15:08:00.295Z"
   },
   {
    "duration": 34,
    "start_time": "2021-11-22T15:08:08.641Z"
   },
   {
    "duration": 10,
    "start_time": "2021-11-22T15:08:18.192Z"
   },
   {
    "duration": 26,
    "start_time": "2021-11-22T15:08:20.975Z"
   },
   {
    "duration": 17,
    "start_time": "2021-11-22T15:08:23.947Z"
   },
   {
    "duration": 422,
    "start_time": "2021-11-22T15:09:00.357Z"
   },
   {
    "duration": 99,
    "start_time": "2021-11-22T15:09:07.484Z"
   },
   {
    "duration": 96,
    "start_time": "2021-11-22T15:09:13.752Z"
   },
   {
    "duration": 30,
    "start_time": "2021-11-22T15:10:52.880Z"
   },
   {
    "duration": 34,
    "start_time": "2021-11-22T15:11:29.614Z"
   },
   {
    "duration": 28,
    "start_time": "2021-11-22T15:12:28.220Z"
   },
   {
    "duration": 29,
    "start_time": "2021-11-22T15:12:31.713Z"
   },
   {
    "duration": 815,
    "start_time": "2021-11-22T15:12:40.156Z"
   },
   {
    "duration": 39,
    "start_time": "2021-11-22T15:12:40.975Z"
   },
   {
    "duration": 10,
    "start_time": "2021-11-22T15:12:41.031Z"
   },
   {
    "duration": 16,
    "start_time": "2021-11-22T15:12:41.045Z"
   },
   {
    "duration": 12,
    "start_time": "2021-11-22T15:12:41.064Z"
   },
   {
    "duration": 11,
    "start_time": "2021-11-22T15:12:41.078Z"
   },
   {
    "duration": 35,
    "start_time": "2021-11-22T15:12:41.130Z"
   },
   {
    "duration": 9,
    "start_time": "2021-11-22T15:12:41.170Z"
   },
   {
    "duration": 45,
    "start_time": "2021-11-22T15:12:41.183Z"
   },
   {
    "duration": 12,
    "start_time": "2021-11-22T15:12:41.231Z"
   },
   {
    "duration": 13,
    "start_time": "2021-11-22T15:12:41.245Z"
   },
   {
    "duration": 32,
    "start_time": "2021-11-22T15:12:41.260Z"
   },
   {
    "duration": 41,
    "start_time": "2021-11-22T15:12:41.294Z"
   },
   {
    "duration": 20,
    "start_time": "2021-11-22T15:12:41.337Z"
   },
   {
    "duration": 29,
    "start_time": "2021-11-22T15:12:41.360Z"
   },
   {
    "duration": 38,
    "start_time": "2021-11-22T15:12:41.391Z"
   },
   {
    "duration": 14,
    "start_time": "2021-11-22T15:12:41.432Z"
   },
   {
    "duration": 26,
    "start_time": "2021-11-22T15:12:41.448Z"
   },
   {
    "duration": 20,
    "start_time": "2021-11-22T15:12:41.477Z"
   },
   {
    "duration": 35,
    "start_time": "2021-11-22T15:13:10.384Z"
   },
   {
    "duration": 841,
    "start_time": "2021-11-22T15:13:32.305Z"
   },
   {
    "duration": 37,
    "start_time": "2021-11-22T15:13:33.149Z"
   },
   {
    "duration": 8,
    "start_time": "2021-11-22T15:13:33.189Z"
   },
   {
    "duration": 34,
    "start_time": "2021-11-22T15:13:33.200Z"
   },
   {
    "duration": 14,
    "start_time": "2021-11-22T15:13:33.236Z"
   },
   {
    "duration": 21,
    "start_time": "2021-11-22T15:13:33.253Z"
   },
   {
    "duration": 64,
    "start_time": "2021-11-22T15:13:33.277Z"
   },
   {
    "duration": 8,
    "start_time": "2021-11-22T15:13:33.347Z"
   },
   {
    "duration": 12,
    "start_time": "2021-11-22T15:13:33.359Z"
   },
   {
    "duration": 10,
    "start_time": "2021-11-22T15:13:33.374Z"
   },
   {
    "duration": 51,
    "start_time": "2021-11-22T15:13:33.386Z"
   },
   {
    "duration": 26,
    "start_time": "2021-11-22T15:13:33.439Z"
   },
   {
    "duration": 9,
    "start_time": "2021-11-22T15:13:33.468Z"
   },
   {
    "duration": 16,
    "start_time": "2021-11-22T15:13:33.479Z"
   },
   {
    "duration": 55,
    "start_time": "2021-11-22T15:13:33.498Z"
   },
   {
    "duration": 21,
    "start_time": "2021-11-22T15:13:33.555Z"
   },
   {
    "duration": 24,
    "start_time": "2021-11-22T15:13:33.578Z"
   },
   {
    "duration": 46,
    "start_time": "2021-11-22T15:13:33.605Z"
   },
   {
    "duration": 17,
    "start_time": "2021-11-22T15:13:33.653Z"
   },
   {
    "duration": 38,
    "start_time": "2021-11-22T15:13:40.503Z"
   },
   {
    "duration": 30,
    "start_time": "2021-11-22T15:13:46.039Z"
   },
   {
    "duration": 29,
    "start_time": "2021-11-22T15:13:47.727Z"
   },
   {
    "duration": 28,
    "start_time": "2021-11-22T15:13:52.987Z"
   },
   {
    "duration": 31,
    "start_time": "2021-11-22T15:13:54.259Z"
   },
   {
    "duration": 1177,
    "start_time": "2021-11-22T15:14:02.522Z"
   },
   {
    "duration": 64,
    "start_time": "2021-11-22T15:14:03.703Z"
   },
   {
    "duration": 11,
    "start_time": "2021-11-22T15:14:03.771Z"
   },
   {
    "duration": 52,
    "start_time": "2021-11-22T15:14:03.786Z"
   },
   {
    "duration": 36,
    "start_time": "2021-11-22T15:14:03.840Z"
   },
   {
    "duration": 59,
    "start_time": "2021-11-22T15:14:03.878Z"
   },
   {
    "duration": 71,
    "start_time": "2021-11-22T15:14:03.939Z"
   },
   {
    "duration": 20,
    "start_time": "2021-11-22T15:14:04.013Z"
   },
   {
    "duration": 39,
    "start_time": "2021-11-22T15:14:04.035Z"
   },
   {
    "duration": 57,
    "start_time": "2021-11-22T15:14:04.076Z"
   },
   {
    "duration": 74,
    "start_time": "2021-11-22T15:14:04.136Z"
   },
   {
    "duration": 72,
    "start_time": "2021-11-22T15:14:04.212Z"
   },
   {
    "duration": 64,
    "start_time": "2021-11-22T15:14:04.286Z"
   },
   {
    "duration": 83,
    "start_time": "2021-11-22T15:14:04.352Z"
   },
   {
    "duration": 62,
    "start_time": "2021-11-22T15:14:04.438Z"
   },
   {
    "duration": 28,
    "start_time": "2021-11-22T15:14:04.504Z"
   },
   {
    "duration": 54,
    "start_time": "2021-11-22T15:14:04.535Z"
   },
   {
    "duration": 48,
    "start_time": "2021-11-22T15:14:04.592Z"
   },
   {
    "duration": 48,
    "start_time": "2021-11-22T15:14:04.643Z"
   },
   {
    "duration": 34,
    "start_time": "2021-11-22T15:57:28.628Z"
   },
   {
    "duration": 42,
    "start_time": "2021-11-22T16:00:46.376Z"
   },
   {
    "duration": 34,
    "start_time": "2021-11-22T16:01:08.021Z"
   },
   {
    "duration": 14,
    "start_time": "2021-11-22T16:02:29.489Z"
   },
   {
    "duration": 7,
    "start_time": "2021-11-22T16:04:08.331Z"
   },
   {
    "duration": 71,
    "start_time": "2021-11-22T16:05:26.665Z"
   },
   {
    "duration": 20,
    "start_time": "2021-11-22T16:05:37.724Z"
   },
   {
    "duration": 109,
    "start_time": "2021-11-22T16:05:47.674Z"
   },
   {
    "duration": 102,
    "start_time": "2021-11-22T16:05:51.331Z"
   },
   {
    "duration": 19,
    "start_time": "2021-11-22T16:05:56.066Z"
   },
   {
    "duration": 8,
    "start_time": "2021-11-22T16:06:03.427Z"
   },
   {
    "duration": 9,
    "start_time": "2021-11-22T16:06:05.398Z"
   },
   {
    "duration": 12,
    "start_time": "2021-11-22T16:06:10.813Z"
   },
   {
    "duration": 11,
    "start_time": "2021-11-22T16:06:13.273Z"
   },
   {
    "duration": 899,
    "start_time": "2021-11-22T16:21:42.152Z"
   },
   {
    "duration": 26,
    "start_time": "2021-11-22T16:21:43.054Z"
   },
   {
    "duration": 19,
    "start_time": "2021-11-22T16:21:43.087Z"
   },
   {
    "duration": 30,
    "start_time": "2021-11-22T16:21:43.108Z"
   },
   {
    "duration": 17,
    "start_time": "2021-11-22T16:21:43.141Z"
   },
   {
    "duration": 13,
    "start_time": "2021-11-22T16:21:43.160Z"
   },
   {
    "duration": 31,
    "start_time": "2021-11-22T16:21:43.177Z"
   },
   {
    "duration": 8,
    "start_time": "2021-11-22T16:21:43.230Z"
   },
   {
    "duration": 16,
    "start_time": "2021-11-22T16:21:43.240Z"
   },
   {
    "duration": 19,
    "start_time": "2021-11-22T16:21:43.258Z"
   },
   {
    "duration": 15,
    "start_time": "2021-11-22T16:21:43.279Z"
   },
   {
    "duration": 44,
    "start_time": "2021-11-22T16:21:43.297Z"
   },
   {
    "duration": 8,
    "start_time": "2021-11-22T16:21:43.344Z"
   },
   {
    "duration": 26,
    "start_time": "2021-11-22T16:21:43.355Z"
   },
   {
    "duration": 58,
    "start_time": "2021-11-22T16:21:43.384Z"
   },
   {
    "duration": 15,
    "start_time": "2021-11-22T16:21:43.444Z"
   },
   {
    "duration": 40,
    "start_time": "2021-11-22T16:21:43.461Z"
   },
   {
    "duration": 28,
    "start_time": "2021-11-22T16:21:43.503Z"
   },
   {
    "duration": 14,
    "start_time": "2021-11-22T16:21:43.534Z"
   },
   {
    "duration": 5,
    "start_time": "2021-11-22T16:21:43.551Z"
   },
   {
    "duration": 30,
    "start_time": "2021-11-22T16:24:19.493Z"
   },
   {
    "duration": 71,
    "start_time": "2021-11-22T16:24:26.660Z"
   },
   {
    "duration": 18,
    "start_time": "2021-11-22T16:24:32.670Z"
   },
   {
    "duration": 1065,
    "start_time": "2021-11-22T16:32:15.375Z"
   },
   {
    "duration": 28,
    "start_time": "2021-11-22T16:32:16.444Z"
   },
   {
    "duration": 10,
    "start_time": "2021-11-22T16:32:16.476Z"
   },
   {
    "duration": 40,
    "start_time": "2021-11-22T16:32:16.490Z"
   },
   {
    "duration": 11,
    "start_time": "2021-11-22T16:32:16.533Z"
   },
   {
    "duration": 13,
    "start_time": "2021-11-22T16:32:16.547Z"
   },
   {
    "duration": 31,
    "start_time": "2021-11-22T16:32:16.562Z"
   },
   {
    "duration": 36,
    "start_time": "2021-11-22T16:32:16.598Z"
   },
   {
    "duration": 14,
    "start_time": "2021-11-22T16:32:16.637Z"
   },
   {
    "duration": 9,
    "start_time": "2021-11-22T16:32:16.653Z"
   },
   {
    "duration": 16,
    "start_time": "2021-11-22T16:32:16.664Z"
   },
   {
    "duration": 60,
    "start_time": "2021-11-22T16:32:16.683Z"
   },
   {
    "duration": 9,
    "start_time": "2021-11-22T16:32:16.745Z"
   },
   {
    "duration": 13,
    "start_time": "2021-11-22T16:32:16.757Z"
   },
   {
    "duration": 11,
    "start_time": "2021-11-22T16:32:16.773Z"
   },
   {
    "duration": 48,
    "start_time": "2021-11-22T16:32:16.787Z"
   },
   {
    "duration": 15,
    "start_time": "2021-11-22T16:32:16.838Z"
   },
   {
    "duration": 26,
    "start_time": "2021-11-22T16:32:16.855Z"
   },
   {
    "duration": 15,
    "start_time": "2021-11-22T16:32:16.883Z"
   },
   {
    "duration": 6,
    "start_time": "2021-11-22T16:32:16.930Z"
   },
   {
    "duration": 25,
    "start_time": "2021-11-22T16:35:26.948Z"
   },
   {
    "duration": 6,
    "start_time": "2021-11-22T16:39:10.798Z"
   },
   {
    "duration": 11,
    "start_time": "2021-11-22T16:39:42.201Z"
   },
   {
    "duration": 8,
    "start_time": "2021-11-22T16:46:55.661Z"
   },
   {
    "duration": 6,
    "start_time": "2021-11-22T16:47:25.578Z"
   },
   {
    "duration": 10,
    "start_time": "2021-11-22T16:47:39.852Z"
   },
   {
    "duration": 872,
    "start_time": "2021-11-22T16:47:49.217Z"
   },
   {
    "duration": 37,
    "start_time": "2021-11-22T16:47:50.092Z"
   },
   {
    "duration": 13,
    "start_time": "2021-11-22T16:47:50.133Z"
   },
   {
    "duration": 9,
    "start_time": "2021-11-22T16:47:50.150Z"
   },
   {
    "duration": 19,
    "start_time": "2021-11-22T16:47:50.161Z"
   },
   {
    "duration": 16,
    "start_time": "2021-11-22T16:47:50.182Z"
   },
   {
    "duration": 40,
    "start_time": "2021-11-22T16:47:50.229Z"
   },
   {
    "duration": 9,
    "start_time": "2021-11-22T16:47:50.271Z"
   },
   {
    "duration": 11,
    "start_time": "2021-11-22T16:47:50.284Z"
   },
   {
    "duration": 42,
    "start_time": "2021-11-22T16:47:50.299Z"
   },
   {
    "duration": 13,
    "start_time": "2021-11-22T16:47:50.344Z"
   },
   {
    "duration": 26,
    "start_time": "2021-11-22T16:47:50.359Z"
   },
   {
    "duration": 46,
    "start_time": "2021-11-22T16:47:50.387Z"
   },
   {
    "duration": 20,
    "start_time": "2021-11-22T16:47:50.437Z"
   },
   {
    "duration": 17,
    "start_time": "2021-11-22T16:47:50.460Z"
   },
   {
    "duration": 24,
    "start_time": "2021-11-22T16:47:50.480Z"
   },
   {
    "duration": 38,
    "start_time": "2021-11-22T16:47:50.506Z"
   },
   {
    "duration": 147,
    "start_time": "2021-11-22T16:47:50.547Z"
   },
   {
    "duration": 858,
    "start_time": "2021-11-22T16:47:49.839Z"
   },
   {
    "duration": 857,
    "start_time": "2021-11-22T16:47:49.842Z"
   },
   {
    "duration": 856,
    "start_time": "2021-11-22T16:47:49.844Z"
   },
   {
    "duration": 411,
    "start_time": "2021-11-22T16:48:51.108Z"
   },
   {
    "duration": 8,
    "start_time": "2021-11-22T16:48:53.989Z"
   },
   {
    "duration": 819,
    "start_time": "2021-11-22T16:49:05.478Z"
   },
   {
    "duration": 45,
    "start_time": "2021-11-22T16:49:06.299Z"
   },
   {
    "duration": 9,
    "start_time": "2021-11-22T16:49:06.347Z"
   },
   {
    "duration": 12,
    "start_time": "2021-11-22T16:49:06.358Z"
   },
   {
    "duration": 14,
    "start_time": "2021-11-22T16:49:06.373Z"
   },
   {
    "duration": 67,
    "start_time": "2021-11-22T16:49:06.390Z"
   },
   {
    "duration": 48,
    "start_time": "2021-11-22T16:49:06.459Z"
   },
   {
    "duration": 8,
    "start_time": "2021-11-22T16:49:06.510Z"
   },
   {
    "duration": 28,
    "start_time": "2021-11-22T16:49:06.520Z"
   },
   {
    "duration": 32,
    "start_time": "2021-11-22T16:49:06.551Z"
   },
   {
    "duration": 34,
    "start_time": "2021-11-22T16:49:06.585Z"
   },
   {
    "duration": 44,
    "start_time": "2021-11-22T16:49:06.622Z"
   },
   {
    "duration": 32,
    "start_time": "2021-11-22T16:49:06.668Z"
   },
   {
    "duration": 41,
    "start_time": "2021-11-22T16:49:06.702Z"
   },
   {
    "duration": 39,
    "start_time": "2021-11-22T16:49:06.745Z"
   },
   {
    "duration": 36,
    "start_time": "2021-11-22T16:49:06.787Z"
   },
   {
    "duration": 31,
    "start_time": "2021-11-22T16:49:06.825Z"
   },
   {
    "duration": 262,
    "start_time": "2021-11-22T16:49:06.859Z"
   },
   {
    "duration": 864,
    "start_time": "2021-11-22T16:49:06.259Z"
   },
   {
    "duration": 864,
    "start_time": "2021-11-22T16:49:06.261Z"
   },
   {
    "duration": 864,
    "start_time": "2021-11-22T16:49:06.262Z"
   },
   {
    "duration": 27,
    "start_time": "2021-11-22T16:49:40.342Z"
   },
   {
    "duration": 17,
    "start_time": "2021-11-22T16:49:50.894Z"
   },
   {
    "duration": 7,
    "start_time": "2021-11-22T16:50:01.217Z"
   },
   {
    "duration": 10,
    "start_time": "2021-11-22T16:54:44.309Z"
   },
   {
    "duration": 18,
    "start_time": "2021-11-22T16:54:50.115Z"
   },
   {
    "duration": 22,
    "start_time": "2021-11-22T16:55:04.496Z"
   },
   {
    "duration": 6,
    "start_time": "2021-11-22T16:55:13.671Z"
   },
   {
    "duration": 27,
    "start_time": "2021-11-22T17:07:22.573Z"
   },
   {
    "duration": 7,
    "start_time": "2021-11-22T17:08:11.580Z"
   },
   {
    "duration": 16,
    "start_time": "2021-11-22T17:08:14.163Z"
   },
   {
    "duration": 18,
    "start_time": "2021-11-22T17:08:20.820Z"
   },
   {
    "duration": 325,
    "start_time": "2021-11-22T17:08:39.498Z"
   },
   {
    "duration": 894,
    "start_time": "2021-11-22T17:08:52.869Z"
   },
   {
    "duration": 29,
    "start_time": "2021-11-22T17:08:53.766Z"
   },
   {
    "duration": 30,
    "start_time": "2021-11-22T17:08:53.798Z"
   },
   {
    "duration": 10,
    "start_time": "2021-11-22T17:08:53.831Z"
   },
   {
    "duration": 16,
    "start_time": "2021-11-22T17:08:53.843Z"
   },
   {
    "duration": 27,
    "start_time": "2021-11-22T17:08:53.862Z"
   },
   {
    "duration": 44,
    "start_time": "2021-11-22T17:08:53.892Z"
   },
   {
    "duration": 11,
    "start_time": "2021-11-22T17:08:53.941Z"
   },
   {
    "duration": 12,
    "start_time": "2021-11-22T17:08:53.955Z"
   },
   {
    "duration": 17,
    "start_time": "2021-11-22T17:08:53.969Z"
   },
   {
    "duration": 15,
    "start_time": "2021-11-22T17:08:53.989Z"
   },
   {
    "duration": 48,
    "start_time": "2021-11-22T17:08:54.006Z"
   },
   {
    "duration": 8,
    "start_time": "2021-11-22T17:08:54.057Z"
   },
   {
    "duration": 26,
    "start_time": "2021-11-22T17:08:54.067Z"
   },
   {
    "duration": 34,
    "start_time": "2021-11-22T17:08:54.095Z"
   },
   {
    "duration": 16,
    "start_time": "2021-11-22T17:08:54.131Z"
   },
   {
    "duration": 20,
    "start_time": "2021-11-22T17:08:54.149Z"
   },
   {
    "duration": 33,
    "start_time": "2021-11-22T17:08:54.171Z"
   },
   {
    "duration": 31,
    "start_time": "2021-11-22T17:08:54.207Z"
   },
   {
    "duration": 23,
    "start_time": "2021-11-22T17:08:54.240Z"
   },
   {
    "duration": 7,
    "start_time": "2021-11-22T17:08:54.266Z"
   },
   {
    "duration": 22,
    "start_time": "2021-11-22T17:08:54.275Z"
   },
   {
    "duration": 17,
    "start_time": "2021-11-22T17:09:02.655Z"
   },
   {
    "duration": 18,
    "start_time": "2021-11-22T17:09:43.149Z"
   },
   {
    "duration": 22,
    "start_time": "2021-11-22T17:10:06.101Z"
   },
   {
    "duration": 14,
    "start_time": "2021-11-22T17:22:10.607Z"
   },
   {
    "duration": 10,
    "start_time": "2021-11-22T17:22:37.309Z"
   },
   {
    "duration": 11,
    "start_time": "2021-11-22T17:22:45.314Z"
   },
   {
    "duration": 12,
    "start_time": "2021-11-22T17:22:57.833Z"
   },
   {
    "duration": 10,
    "start_time": "2021-11-22T17:24:21.034Z"
   },
   {
    "duration": 10,
    "start_time": "2021-11-22T17:24:39.745Z"
   },
   {
    "duration": 16,
    "start_time": "2021-11-22T17:25:44.303Z"
   },
   {
    "duration": 27,
    "start_time": "2021-11-22T17:28:08.771Z"
   },
   {
    "duration": 851,
    "start_time": "2021-11-22T17:28:24.561Z"
   },
   {
    "duration": 26,
    "start_time": "2021-11-22T17:28:25.414Z"
   },
   {
    "duration": 29,
    "start_time": "2021-11-22T17:28:25.443Z"
   },
   {
    "duration": 40,
    "start_time": "2021-11-22T17:28:25.475Z"
   },
   {
    "duration": 35,
    "start_time": "2021-11-22T17:28:25.518Z"
   },
   {
    "duration": 26,
    "start_time": "2021-11-22T17:28:25.555Z"
   },
   {
    "duration": 35,
    "start_time": "2021-11-22T17:28:25.584Z"
   },
   {
    "duration": 31,
    "start_time": "2021-11-22T17:28:25.622Z"
   },
   {
    "duration": 24,
    "start_time": "2021-11-22T17:28:25.658Z"
   },
   {
    "duration": 48,
    "start_time": "2021-11-22T17:28:25.684Z"
   },
   {
    "duration": 33,
    "start_time": "2021-11-22T17:28:25.735Z"
   },
   {
    "duration": 43,
    "start_time": "2021-11-22T17:28:25.771Z"
   },
   {
    "duration": 28,
    "start_time": "2021-11-22T17:28:25.817Z"
   },
   {
    "duration": 25,
    "start_time": "2021-11-22T17:28:25.847Z"
   },
   {
    "duration": 36,
    "start_time": "2021-11-22T17:28:25.875Z"
   },
   {
    "duration": 25,
    "start_time": "2021-11-22T17:28:25.913Z"
   },
   {
    "duration": 47,
    "start_time": "2021-11-22T17:28:25.940Z"
   },
   {
    "duration": 34,
    "start_time": "2021-11-22T17:28:25.990Z"
   },
   {
    "duration": 11,
    "start_time": "2021-11-22T17:28:26.026Z"
   },
   {
    "duration": 20,
    "start_time": "2021-11-22T17:28:26.039Z"
   },
   {
    "duration": 27,
    "start_time": "2021-11-22T17:28:26.062Z"
   },
   {
    "duration": 36,
    "start_time": "2021-11-22T17:28:26.091Z"
   },
   {
    "duration": 19,
    "start_time": "2021-11-22T17:28:26.130Z"
   },
   {
    "duration": 40,
    "start_time": "2021-11-22T17:28:26.151Z"
   },
   {
    "duration": 33,
    "start_time": "2021-11-22T17:28:26.194Z"
   },
   {
    "duration": 3,
    "start_time": "2021-11-22T17:31:12.459Z"
   },
   {
    "duration": 37,
    "start_time": "2021-11-22T17:32:18.945Z"
   },
   {
    "duration": 102,
    "start_time": "2021-11-22T17:34:39.880Z"
   },
   {
    "duration": 25,
    "start_time": "2021-11-22T17:34:42.445Z"
   },
   {
    "duration": 24,
    "start_time": "2021-11-22T17:35:55.584Z"
   },
   {
    "duration": 23,
    "start_time": "2021-11-22T17:36:03.897Z"
   },
   {
    "duration": 40,
    "start_time": "2021-11-22T17:36:31.496Z"
   },
   {
    "duration": 40,
    "start_time": "2021-11-22T17:36:35.268Z"
   },
   {
    "duration": 23,
    "start_time": "2021-11-22T17:37:00.688Z"
   },
   {
    "duration": 23,
    "start_time": "2021-11-22T17:37:05.363Z"
   },
   {
    "duration": 27,
    "start_time": "2021-11-22T17:37:20.279Z"
   },
   {
    "duration": 34,
    "start_time": "2021-11-22T17:37:24.147Z"
   },
   {
    "duration": 51,
    "start_time": "2021-11-22T17:37:30.001Z"
   },
   {
    "duration": 25,
    "start_time": "2021-11-22T17:37:31.513Z"
   },
   {
    "duration": 352,
    "start_time": "2021-11-22T17:44:54.121Z"
   },
   {
    "duration": 4,
    "start_time": "2021-11-22T17:45:58.006Z"
   },
   {
    "duration": 86,
    "start_time": "2021-11-22T17:47:33.552Z"
   },
   {
    "duration": 92,
    "start_time": "2021-11-22T17:47:46.857Z"
   },
   {
    "duration": 89,
    "start_time": "2021-11-22T17:48:12.678Z"
   },
   {
    "duration": 5,
    "start_time": "2021-11-22T17:48:18.473Z"
   },
   {
    "duration": 5,
    "start_time": "2021-11-22T17:48:36.365Z"
   },
   {
    "duration": 5,
    "start_time": "2021-11-22T17:48:52.901Z"
   },
   {
    "duration": 6,
    "start_time": "2021-11-22T17:48:58.467Z"
   },
   {
    "duration": 270,
    "start_time": "2021-11-22T17:49:06.933Z"
   },
   {
    "duration": 91,
    "start_time": "2021-11-22T17:49:18.134Z"
   },
   {
    "duration": 5,
    "start_time": "2021-11-22T17:49:20.220Z"
   },
   {
    "duration": 5,
    "start_time": "2021-11-22T17:49:37.047Z"
   },
   {
    "duration": 3,
    "start_time": "2021-11-22T17:58:34.876Z"
   },
   {
    "duration": 16,
    "start_time": "2021-11-22T17:58:56.601Z"
   },
   {
    "duration": 16,
    "start_time": "2021-11-22T18:03:22.830Z"
   },
   {
    "duration": 277,
    "start_time": "2021-11-22T18:26:13.960Z"
   },
   {
    "duration": 302,
    "start_time": "2021-11-22T18:26:51.296Z"
   },
   {
    "duration": 310,
    "start_time": "2021-11-22T18:26:57.484Z"
   },
   {
    "duration": 267,
    "start_time": "2021-11-22T18:27:47.793Z"
   },
   {
    "duration": 309,
    "start_time": "2021-11-22T18:28:05.170Z"
   },
   {
    "duration": 11,
    "start_time": "2021-11-22T18:28:50.994Z"
   },
   {
    "duration": 342,
    "start_time": "2021-11-22T18:34:56.155Z"
   },
   {
    "duration": 120,
    "start_time": "2021-11-22T18:36:11.112Z"
   },
   {
    "duration": 100,
    "start_time": "2021-11-22T18:36:16.991Z"
   },
   {
    "duration": 100,
    "start_time": "2021-11-22T18:36:25.187Z"
   },
   {
    "duration": 90,
    "start_time": "2021-11-22T18:36:49.714Z"
   },
   {
    "duration": 930,
    "start_time": "2021-11-22T18:36:52.865Z"
   },
   {
    "duration": 925,
    "start_time": "2021-11-22T18:36:55.443Z"
   },
   {
    "duration": 933,
    "start_time": "2021-11-22T18:37:11.260Z"
   },
   {
    "duration": 957,
    "start_time": "2021-11-22T18:37:19.290Z"
   },
   {
    "duration": 1318,
    "start_time": "2021-11-22T18:37:59.539Z"
   },
   {
    "duration": 1330,
    "start_time": "2021-11-22T18:39:09.541Z"
   },
   {
    "duration": 93,
    "start_time": "2021-11-22T18:40:45.582Z"
   },
   {
    "duration": 105,
    "start_time": "2021-11-22T18:40:54.833Z"
   },
   {
    "duration": 95,
    "start_time": "2021-11-22T18:40:59.647Z"
   },
   {
    "duration": 928,
    "start_time": "2021-11-22T18:41:06.011Z"
   },
   {
    "duration": 43,
    "start_time": "2021-11-22T18:43:05.253Z"
   },
   {
    "duration": 23,
    "start_time": "2021-11-22T18:43:26.662Z"
   },
   {
    "duration": 815,
    "start_time": "2021-11-22T18:43:35.335Z"
   },
   {
    "duration": 27,
    "start_time": "2021-11-22T18:43:36.153Z"
   },
   {
    "duration": 9,
    "start_time": "2021-11-22T18:43:36.183Z"
   },
   {
    "duration": 35,
    "start_time": "2021-11-22T18:43:36.195Z"
   },
   {
    "duration": 11,
    "start_time": "2021-11-22T18:43:36.233Z"
   },
   {
    "duration": 13,
    "start_time": "2021-11-22T18:43:36.247Z"
   },
   {
    "duration": 67,
    "start_time": "2021-11-22T18:43:36.262Z"
   },
   {
    "duration": 9,
    "start_time": "2021-11-22T18:43:36.333Z"
   },
   {
    "duration": 10,
    "start_time": "2021-11-22T18:43:36.346Z"
   },
   {
    "duration": 13,
    "start_time": "2021-11-22T18:43:36.358Z"
   },
   {
    "duration": 15,
    "start_time": "2021-11-22T18:43:36.374Z"
   },
   {
    "duration": 57,
    "start_time": "2021-11-22T18:43:36.391Z"
   },
   {
    "duration": 9,
    "start_time": "2021-11-22T18:43:36.450Z"
   },
   {
    "duration": 14,
    "start_time": "2021-11-22T18:43:36.461Z"
   },
   {
    "duration": 15,
    "start_time": "2021-11-22T18:43:36.477Z"
   },
   {
    "duration": 44,
    "start_time": "2021-11-22T18:43:36.494Z"
   },
   {
    "duration": 24,
    "start_time": "2021-11-22T18:43:36.541Z"
   },
   {
    "duration": 25,
    "start_time": "2021-11-22T18:43:36.568Z"
   },
   {
    "duration": 35,
    "start_time": "2021-11-22T18:43:36.595Z"
   },
   {
    "duration": 16,
    "start_time": "2021-11-22T18:43:36.633Z"
   },
   {
    "duration": 6,
    "start_time": "2021-11-22T18:43:36.651Z"
   },
   {
    "duration": 23,
    "start_time": "2021-11-22T18:43:36.659Z"
   },
   {
    "duration": 2,
    "start_time": "2021-11-22T18:43:36.686Z"
   },
   {
    "duration": 46,
    "start_time": "2021-11-22T18:43:36.691Z"
   },
   {
    "duration": 27,
    "start_time": "2021-11-22T18:43:36.739Z"
   },
   {
    "duration": 7,
    "start_time": "2021-11-22T18:43:36.768Z"
   },
   {
    "duration": 61,
    "start_time": "2021-11-22T18:43:36.777Z"
   },
   {
    "duration": 48,
    "start_time": "2021-11-22T18:43:36.840Z"
   },
   {
    "duration": 955,
    "start_time": "2021-11-22T18:43:36.891Z"
   },
   {
    "duration": 3,
    "start_time": "2021-11-22T18:43:37.849Z"
   },
   {
    "duration": 938,
    "start_time": "2021-11-22T18:44:11.486Z"
   },
   {
    "duration": 938,
    "start_time": "2021-11-22T18:44:15.833Z"
   },
   {
    "duration": 3559,
    "start_time": "2021-11-22T18:47:55.813Z"
   },
   {
    "duration": 3624,
    "start_time": "2021-11-22T18:48:03.172Z"
   },
   {
    "duration": 3586,
    "start_time": "2021-11-22T18:49:34.571Z"
   },
   {
    "duration": 28,
    "start_time": "2021-11-22T18:50:41.486Z"
   },
   {
    "duration": 11,
    "start_time": "2021-11-22T18:51:25.960Z"
   },
   {
    "duration": 4574,
    "start_time": "2021-11-22T18:51:40.280Z"
   },
   {
    "duration": 4085,
    "start_time": "2021-11-22T18:52:52.901Z"
   },
   {
    "duration": 3556,
    "start_time": "2021-11-22T18:53:10.505Z"
   },
   {
    "duration": 3702,
    "start_time": "2021-11-22T18:54:21.000Z"
   },
   {
    "duration": 3792,
    "start_time": "2021-11-22T18:56:06.856Z"
   },
   {
    "duration": 3589,
    "start_time": "2021-11-22T18:56:33.566Z"
   },
   {
    "duration": 3580,
    "start_time": "2021-11-22T18:56:40.667Z"
   },
   {
    "duration": 3570,
    "start_time": "2021-11-22T18:56:55.174Z"
   },
   {
    "duration": 3859,
    "start_time": "2021-11-22T18:57:28.281Z"
   },
   {
    "duration": 3838,
    "start_time": "2021-11-22T18:58:26.145Z"
   },
   {
    "duration": 1885,
    "start_time": "2021-11-22T18:59:02.914Z"
   },
   {
    "duration": 860,
    "start_time": "2021-11-22T18:59:25.744Z"
   },
   {
    "duration": 26,
    "start_time": "2021-11-22T18:59:26.607Z"
   },
   {
    "duration": 14,
    "start_time": "2021-11-22T18:59:26.636Z"
   },
   {
    "duration": 19,
    "start_time": "2021-11-22T18:59:26.653Z"
   },
   {
    "duration": 12,
    "start_time": "2021-11-22T18:59:26.675Z"
   },
   {
    "duration": 40,
    "start_time": "2021-11-22T18:59:26.690Z"
   },
   {
    "duration": 31,
    "start_time": "2021-11-22T18:59:26.733Z"
   },
   {
    "duration": 8,
    "start_time": "2021-11-22T18:59:26.767Z"
   },
   {
    "duration": 8,
    "start_time": "2021-11-22T18:59:26.778Z"
   },
   {
    "duration": 46,
    "start_time": "2021-11-22T18:59:26.790Z"
   },
   {
    "duration": 16,
    "start_time": "2021-11-22T18:59:26.839Z"
   },
   {
    "duration": 27,
    "start_time": "2021-11-22T18:59:26.857Z"
   },
   {
    "duration": 48,
    "start_time": "2021-11-22T18:59:26.886Z"
   },
   {
    "duration": 13,
    "start_time": "2021-11-22T18:59:26.936Z"
   },
   {
    "duration": 20,
    "start_time": "2021-11-22T18:59:26.952Z"
   },
   {
    "duration": 54,
    "start_time": "2021-11-22T18:59:26.975Z"
   },
   {
    "duration": 18,
    "start_time": "2021-11-22T18:59:27.032Z"
   },
   {
    "duration": 25,
    "start_time": "2021-11-22T18:59:27.052Z"
   },
   {
    "duration": 48,
    "start_time": "2021-11-22T18:59:27.080Z"
   },
   {
    "duration": 20,
    "start_time": "2021-11-22T18:59:27.132Z"
   },
   {
    "duration": 9,
    "start_time": "2021-11-22T18:59:27.155Z"
   },
   {
    "duration": 62,
    "start_time": "2021-11-22T18:59:27.167Z"
   },
   {
    "duration": 3,
    "start_time": "2021-11-22T18:59:27.234Z"
   },
   {
    "duration": 14,
    "start_time": "2021-11-22T18:59:27.240Z"
   },
   {
    "duration": 27,
    "start_time": "2021-11-22T18:59:27.257Z"
   },
   {
    "duration": 44,
    "start_time": "2021-11-22T18:59:27.286Z"
   },
   {
    "duration": 26,
    "start_time": "2021-11-22T18:59:27.333Z"
   },
   {
    "duration": 69,
    "start_time": "2021-11-22T18:59:27.362Z"
   },
   {
    "duration": 8,
    "start_time": "2021-11-22T18:59:27.434Z"
   },
   {
    "duration": 16,
    "start_time": "2021-11-22T18:59:27.446Z"
   },
   {
    "duration": 5319,
    "start_time": "2021-11-22T18:59:27.464Z"
   },
   {
    "duration": 895,
    "start_time": "2021-11-22T19:00:57.986Z"
   },
   {
    "duration": 1655,
    "start_time": "2021-11-22T19:01:05.446Z"
   },
   {
    "duration": 28,
    "start_time": "2021-11-22T19:01:07.104Z"
   },
   {
    "duration": 16,
    "start_time": "2021-11-22T19:01:07.135Z"
   },
   {
    "duration": 10,
    "start_time": "2021-11-22T19:01:07.154Z"
   },
   {
    "duration": 17,
    "start_time": "2021-11-22T19:01:07.167Z"
   },
   {
    "duration": 16,
    "start_time": "2021-11-22T19:01:07.187Z"
   },
   {
    "duration": 32,
    "start_time": "2021-11-22T19:01:07.230Z"
   },
   {
    "duration": 11,
    "start_time": "2021-11-22T19:01:07.266Z"
   },
   {
    "duration": 9,
    "start_time": "2021-11-22T19:01:07.280Z"
   },
   {
    "duration": 45,
    "start_time": "2021-11-22T19:01:07.291Z"
   },
   {
    "duration": 14,
    "start_time": "2021-11-22T19:01:07.339Z"
   },
   {
    "duration": 30,
    "start_time": "2021-11-22T19:01:07.356Z"
   },
   {
    "duration": 41,
    "start_time": "2021-11-22T19:01:07.388Z"
   },
   {
    "duration": 11,
    "start_time": "2021-11-22T19:01:07.431Z"
   },
   {
    "duration": 24,
    "start_time": "2021-11-22T19:01:07.444Z"
   },
   {
    "duration": 40,
    "start_time": "2021-11-22T19:01:07.470Z"
   },
   {
    "duration": 38,
    "start_time": "2021-11-22T19:01:07.513Z"
   },
   {
    "duration": 32,
    "start_time": "2021-11-22T19:01:07.553Z"
   },
   {
    "duration": 10,
    "start_time": "2021-11-22T19:01:07.587Z"
   },
   {
    "duration": 30,
    "start_time": "2021-11-22T19:01:07.600Z"
   },
   {
    "duration": 16,
    "start_time": "2021-11-22T19:01:07.633Z"
   },
   {
    "duration": 40,
    "start_time": "2021-11-22T19:01:07.651Z"
   },
   {
    "duration": 5,
    "start_time": "2021-11-22T19:01:07.695Z"
   },
   {
    "duration": 16,
    "start_time": "2021-11-22T19:01:07.703Z"
   },
   {
    "duration": 47,
    "start_time": "2021-11-22T19:01:07.728Z"
   },
   {
    "duration": 29,
    "start_time": "2021-11-22T19:01:07.777Z"
   },
   {
    "duration": 47,
    "start_time": "2021-11-22T19:01:07.809Z"
   },
   {
    "duration": 62,
    "start_time": "2021-11-22T19:01:07.859Z"
   },
   {
    "duration": 7,
    "start_time": "2021-11-22T19:01:07.923Z"
   },
   {
    "duration": 32,
    "start_time": "2021-11-22T19:01:07.932Z"
   },
   {
    "duration": 4643,
    "start_time": "2021-11-22T19:01:07.967Z"
   },
   {
    "duration": 23,
    "start_time": "2021-11-22T19:01:12.612Z"
   },
   {
    "duration": 1851,
    "start_time": "2021-11-22T19:11:18.307Z"
   },
   {
    "duration": 372,
    "start_time": "2021-11-22T19:11:36.909Z"
   },
   {
    "duration": 1373,
    "start_time": "2021-11-22T19:11:43.486Z"
   },
   {
    "duration": 1201,
    "start_time": "2021-11-22T19:11:48.729Z"
   },
   {
    "duration": 1260,
    "start_time": "2021-11-22T19:11:56.634Z"
   },
   {
    "duration": 1432,
    "start_time": "2021-11-22T19:12:03.572Z"
   },
   {
    "duration": 913,
    "start_time": "2021-11-22T19:12:10.724Z"
   },
   {
    "duration": 27,
    "start_time": "2021-11-22T19:12:11.640Z"
   },
   {
    "duration": 19,
    "start_time": "2021-11-22T19:12:11.671Z"
   },
   {
    "duration": 10,
    "start_time": "2021-11-22T19:12:11.694Z"
   },
   {
    "duration": 12,
    "start_time": "2021-11-22T19:12:11.730Z"
   },
   {
    "duration": 13,
    "start_time": "2021-11-22T19:12:11.745Z"
   },
   {
    "duration": 74,
    "start_time": "2021-11-22T19:12:11.761Z"
   },
   {
    "duration": 8,
    "start_time": "2021-11-22T19:12:11.839Z"
   },
   {
    "duration": 6,
    "start_time": "2021-11-22T19:12:11.850Z"
   },
   {
    "duration": 10,
    "start_time": "2021-11-22T19:12:11.859Z"
   },
   {
    "duration": 18,
    "start_time": "2021-11-22T19:12:11.872Z"
   },
   {
    "duration": 59,
    "start_time": "2021-11-22T19:12:11.892Z"
   },
   {
    "duration": 8,
    "start_time": "2021-11-22T19:12:11.953Z"
   },
   {
    "duration": 13,
    "start_time": "2021-11-22T19:12:11.963Z"
   },
   {
    "duration": 19,
    "start_time": "2021-11-22T19:12:11.978Z"
   },
   {
    "duration": 39,
    "start_time": "2021-11-22T19:12:12.000Z"
   },
   {
    "duration": 20,
    "start_time": "2021-11-22T19:12:12.042Z"
   },
   {
    "duration": 26,
    "start_time": "2021-11-22T19:12:12.065Z"
   },
   {
    "duration": 38,
    "start_time": "2021-11-22T19:12:12.093Z"
   },
   {
    "duration": 15,
    "start_time": "2021-11-22T19:12:12.134Z"
   },
   {
    "duration": 7,
    "start_time": "2021-11-22T19:12:12.151Z"
   },
   {
    "duration": 25,
    "start_time": "2021-11-22T19:12:12.161Z"
   },
   {
    "duration": 2,
    "start_time": "2021-11-22T19:12:12.190Z"
   },
   {
    "duration": 15,
    "start_time": "2021-11-22T19:12:12.230Z"
   },
   {
    "duration": 28,
    "start_time": "2021-11-22T19:12:12.247Z"
   },
   {
    "duration": 5,
    "start_time": "2021-11-22T19:12:12.279Z"
   },
   {
    "duration": 61,
    "start_time": "2021-11-22T19:12:12.287Z"
   },
   {
    "duration": 49,
    "start_time": "2021-11-22T19:12:12.351Z"
   },
   {
    "duration": 31,
    "start_time": "2021-11-22T19:12:12.403Z"
   },
   {
    "duration": 14,
    "start_time": "2021-11-22T19:12:12.437Z"
   },
   {
    "duration": 4688,
    "start_time": "2021-11-22T19:12:12.453Z"
   },
   {
    "duration": 10,
    "start_time": "2021-11-22T19:12:17.143Z"
   },
   {
    "duration": 404,
    "start_time": "2021-11-23T17:26:58.574Z"
   },
   {
    "duration": 1144,
    "start_time": "2021-11-23T17:27:24.500Z"
   },
   {
    "duration": 39,
    "start_time": "2021-11-23T17:27:25.647Z"
   },
   {
    "duration": 8,
    "start_time": "2021-11-23T17:27:25.689Z"
   },
   {
    "duration": 8,
    "start_time": "2021-11-23T17:27:25.700Z"
   },
   {
    "duration": 9,
    "start_time": "2021-11-23T17:27:25.711Z"
   },
   {
    "duration": 10,
    "start_time": "2021-11-23T17:27:25.722Z"
   },
   {
    "duration": 76,
    "start_time": "2021-11-23T17:27:25.734Z"
   },
   {
    "duration": 8,
    "start_time": "2021-11-23T17:27:25.814Z"
   },
   {
    "duration": 9,
    "start_time": "2021-11-23T17:27:25.825Z"
   },
   {
    "duration": 51,
    "start_time": "2021-11-23T17:27:25.837Z"
   },
   {
    "duration": 13,
    "start_time": "2021-11-23T17:27:25.890Z"
   },
   {
    "duration": 27,
    "start_time": "2021-11-23T17:27:25.906Z"
   },
   {
    "duration": 9,
    "start_time": "2021-11-23T17:27:25.935Z"
   },
   {
    "duration": 43,
    "start_time": "2021-11-23T17:27:25.946Z"
   },
   {
    "duration": 15,
    "start_time": "2021-11-23T17:27:25.991Z"
   },
   {
    "duration": 15,
    "start_time": "2021-11-23T17:27:26.009Z"
   },
   {
    "duration": 62,
    "start_time": "2021-11-23T17:27:26.026Z"
   },
   {
    "duration": 36,
    "start_time": "2021-11-23T17:27:26.091Z"
   },
   {
    "duration": 14,
    "start_time": "2021-11-23T17:27:26.130Z"
   },
   {
    "duration": 47,
    "start_time": "2021-11-23T17:27:26.147Z"
   },
   {
    "duration": 8,
    "start_time": "2021-11-23T17:27:26.198Z"
   },
   {
    "duration": 31,
    "start_time": "2021-11-23T17:27:26.209Z"
   },
   {
    "duration": 3,
    "start_time": "2021-11-23T17:27:26.246Z"
   },
   {
    "duration": 13,
    "start_time": "2021-11-23T17:27:26.284Z"
   },
   {
    "duration": 41,
    "start_time": "2021-11-23T17:27:26.300Z"
   },
   {
    "duration": 5,
    "start_time": "2021-11-23T17:27:26.344Z"
   },
   {
    "duration": 25,
    "start_time": "2021-11-23T17:27:26.383Z"
   },
   {
    "duration": 46,
    "start_time": "2021-11-23T17:27:26.411Z"
   },
   {
    "duration": 27,
    "start_time": "2021-11-23T17:27:26.459Z"
   },
   {
    "duration": 15,
    "start_time": "2021-11-23T17:27:26.488Z"
   },
   {
    "duration": 4890,
    "start_time": "2021-11-23T17:27:26.505Z"
   },
   {
    "duration": 9,
    "start_time": "2021-11-23T17:27:31.398Z"
   },
   {
    "duration": 1561,
    "start_time": "2021-11-23T17:27:58.492Z"
   },
   {
    "duration": 1617,
    "start_time": "2021-11-23T17:28:22.257Z"
   },
   {
    "duration": 1430,
    "start_time": "2021-11-23T17:28:26.643Z"
   },
   {
    "duration": 1020,
    "start_time": "2021-11-23T17:28:52.148Z"
   },
   {
    "duration": 27,
    "start_time": "2021-11-23T17:28:53.170Z"
   },
   {
    "duration": 10,
    "start_time": "2021-11-23T17:28:53.201Z"
   },
   {
    "duration": 9,
    "start_time": "2021-11-23T17:28:53.214Z"
   },
   {
    "duration": 12,
    "start_time": "2021-11-23T17:28:53.226Z"
   },
   {
    "duration": 50,
    "start_time": "2021-11-23T17:28:53.241Z"
   },
   {
    "duration": 44,
    "start_time": "2021-11-23T17:28:53.294Z"
   },
   {
    "duration": 10,
    "start_time": "2021-11-23T17:28:53.341Z"
   },
   {
    "duration": 6,
    "start_time": "2021-11-23T17:28:53.384Z"
   },
   {
    "duration": 9,
    "start_time": "2021-11-23T17:28:53.393Z"
   },
   {
    "duration": 13,
    "start_time": "2021-11-23T17:28:53.404Z"
   },
   {
    "duration": 69,
    "start_time": "2021-11-23T17:28:53.420Z"
   },
   {
    "duration": 8,
    "start_time": "2021-11-23T17:28:53.491Z"
   },
   {
    "duration": 14,
    "start_time": "2021-11-23T17:28:53.501Z"
   },
   {
    "duration": 19,
    "start_time": "2021-11-23T17:28:53.517Z"
   },
   {
    "duration": 48,
    "start_time": "2021-11-23T17:28:53.539Z"
   },
   {
    "duration": 16,
    "start_time": "2021-11-23T17:28:53.589Z"
   },
   {
    "duration": 26,
    "start_time": "2021-11-23T17:28:53.608Z"
   },
   {
    "duration": 11,
    "start_time": "2021-11-23T17:28:53.636Z"
   },
   {
    "duration": 16,
    "start_time": "2021-11-23T17:28:53.682Z"
   },
   {
    "duration": 7,
    "start_time": "2021-11-23T17:28:53.701Z"
   },
   {
    "duration": 24,
    "start_time": "2021-11-23T17:28:53.711Z"
   },
   {
    "duration": 44,
    "start_time": "2021-11-23T17:28:53.739Z"
   },
   {
    "duration": 12,
    "start_time": "2021-11-23T17:28:53.786Z"
   },
   {
    "duration": 26,
    "start_time": "2021-11-23T17:28:53.801Z"
   },
   {
    "duration": 6,
    "start_time": "2021-11-23T17:28:53.829Z"
   },
   {
    "duration": 62,
    "start_time": "2021-11-23T17:28:53.840Z"
   },
   {
    "duration": 47,
    "start_time": "2021-11-23T17:28:53.904Z"
   },
   {
    "duration": 28,
    "start_time": "2021-11-23T17:28:53.954Z"
   },
   {
    "duration": 11,
    "start_time": "2021-11-23T17:28:53.985Z"
   },
   {
    "duration": 5031,
    "start_time": "2021-11-23T17:28:54.000Z"
   },
   {
    "duration": 12,
    "start_time": "2021-11-23T17:28:59.033Z"
   },
   {
    "duration": 11,
    "start_time": "2021-11-23T17:29:46.730Z"
   },
   {
    "duration": 1500,
    "start_time": "2021-11-23T17:29:53.316Z"
   },
   {
    "duration": 2256,
    "start_time": "2021-11-23T17:30:07.534Z"
   },
   {
    "duration": 11,
    "start_time": "2021-11-23T17:30:12.755Z"
   },
   {
    "duration": 807,
    "start_time": "2021-11-23T17:31:23.510Z"
   },
   {
    "duration": 28,
    "start_time": "2021-11-23T17:31:24.320Z"
   },
   {
    "duration": 7,
    "start_time": "2021-11-23T17:31:24.351Z"
   },
   {
    "duration": 10,
    "start_time": "2021-11-23T17:31:24.382Z"
   },
   {
    "duration": 9,
    "start_time": "2021-11-23T17:31:24.395Z"
   },
   {
    "duration": 11,
    "start_time": "2021-11-23T17:31:24.406Z"
   },
   {
    "duration": 69,
    "start_time": "2021-11-23T17:31:24.420Z"
   },
   {
    "duration": 8,
    "start_time": "2021-11-23T17:31:24.493Z"
   },
   {
    "duration": 7,
    "start_time": "2021-11-23T17:31:24.504Z"
   },
   {
    "duration": 9,
    "start_time": "2021-11-23T17:31:24.514Z"
   },
   {
    "duration": 16,
    "start_time": "2021-11-23T17:31:24.526Z"
   },
   {
    "duration": 60,
    "start_time": "2021-11-23T17:31:24.544Z"
   },
   {
    "duration": 9,
    "start_time": "2021-11-23T17:31:24.606Z"
   },
   {
    "duration": 13,
    "start_time": "2021-11-23T17:31:24.617Z"
   },
   {
    "duration": 58,
    "start_time": "2021-11-23T17:31:24.633Z"
   },
   {
    "duration": 15,
    "start_time": "2021-11-23T17:31:24.693Z"
   },
   {
    "duration": 18,
    "start_time": "2021-11-23T17:31:24.711Z"
   },
   {
    "duration": 69,
    "start_time": "2021-11-23T17:31:24.732Z"
   },
   {
    "duration": 14,
    "start_time": "2021-11-23T17:31:24.804Z"
   },
   {
    "duration": 24,
    "start_time": "2021-11-23T17:31:24.821Z"
   },
   {
    "duration": 36,
    "start_time": "2021-11-23T17:31:24.848Z"
   },
   {
    "duration": 29,
    "start_time": "2021-11-23T17:31:24.887Z"
   },
   {
    "duration": 3,
    "start_time": "2021-11-23T17:31:24.920Z"
   },
   {
    "duration": 15,
    "start_time": "2021-11-23T17:31:24.925Z"
   },
   {
    "duration": 56,
    "start_time": "2021-11-23T17:31:24.942Z"
   },
   {
    "duration": 8,
    "start_time": "2021-11-23T17:31:25.001Z"
   },
   {
    "duration": 44,
    "start_time": "2021-11-23T17:31:25.012Z"
   },
   {
    "duration": 67,
    "start_time": "2021-11-23T17:31:25.083Z"
   },
   {
    "duration": 7,
    "start_time": "2021-11-23T17:31:25.153Z"
   },
   {
    "duration": 32,
    "start_time": "2021-11-23T17:31:25.163Z"
   },
   {
    "duration": 4893,
    "start_time": "2021-11-23T17:31:25.198Z"
   },
   {
    "duration": 9,
    "start_time": "2021-11-23T17:31:30.094Z"
   },
   {
    "duration": 417,
    "start_time": "2021-11-23T17:31:53.827Z"
   },
   {
    "duration": 2022,
    "start_time": "2021-11-23T17:32:01.842Z"
   },
   {
    "duration": 1826,
    "start_time": "2021-11-23T17:32:37.199Z"
   },
   {
    "duration": 10,
    "start_time": "2021-11-23T17:33:17.731Z"
   },
   {
    "duration": 12,
    "start_time": "2021-11-23T17:33:31.716Z"
   },
   {
    "duration": 334,
    "start_time": "2021-11-23T17:46:47.691Z"
   },
   {
    "duration": 38,
    "start_time": "2021-11-23T17:47:04.662Z"
   },
   {
    "duration": 38,
    "start_time": "2021-11-23T17:47:25.967Z"
   },
   {
    "duration": 869,
    "start_time": "2021-11-23T17:47:36.554Z"
   },
   {
    "duration": 27,
    "start_time": "2021-11-23T17:47:37.425Z"
   },
   {
    "duration": 29,
    "start_time": "2021-11-23T17:47:37.455Z"
   },
   {
    "duration": 10,
    "start_time": "2021-11-23T17:47:37.487Z"
   },
   {
    "duration": 13,
    "start_time": "2021-11-23T17:47:37.499Z"
   },
   {
    "duration": 14,
    "start_time": "2021-11-23T17:47:37.515Z"
   },
   {
    "duration": 68,
    "start_time": "2021-11-23T17:47:37.532Z"
   },
   {
    "duration": 10,
    "start_time": "2021-11-23T17:47:37.604Z"
   },
   {
    "duration": 11,
    "start_time": "2021-11-23T17:47:37.617Z"
   },
   {
    "duration": 12,
    "start_time": "2021-11-23T17:47:37.630Z"
   },
   {
    "duration": 45,
    "start_time": "2021-11-23T17:47:37.644Z"
   },
   {
    "duration": 24,
    "start_time": "2021-11-23T17:47:37.692Z"
   },
   {
    "duration": 8,
    "start_time": "2021-11-23T17:47:37.719Z"
   },
   {
    "duration": 11,
    "start_time": "2021-11-23T17:47:37.729Z"
   },
   {
    "duration": 54,
    "start_time": "2021-11-23T17:47:37.742Z"
   },
   {
    "duration": 15,
    "start_time": "2021-11-23T17:47:37.799Z"
   },
   {
    "duration": 23,
    "start_time": "2021-11-23T17:47:37.817Z"
   },
   {
    "duration": 53,
    "start_time": "2021-11-23T17:47:37.842Z"
   },
   {
    "duration": 11,
    "start_time": "2021-11-23T17:47:37.897Z"
   },
   {
    "duration": 14,
    "start_time": "2021-11-23T17:47:37.911Z"
   },
   {
    "duration": 7,
    "start_time": "2021-11-23T17:47:37.928Z"
   },
   {
    "duration": 62,
    "start_time": "2021-11-23T17:47:37.938Z"
   },
   {
    "duration": 3,
    "start_time": "2021-11-23T17:47:38.004Z"
   },
   {
    "duration": 13,
    "start_time": "2021-11-23T17:47:38.011Z"
   },
   {
    "duration": 71,
    "start_time": "2021-11-23T17:47:38.026Z"
   },
   {
    "duration": 18,
    "start_time": "2021-11-23T17:47:38.100Z"
   },
   {
    "duration": 29,
    "start_time": "2021-11-23T17:47:38.120Z"
   },
   {
    "duration": 61,
    "start_time": "2021-11-23T17:47:38.152Z"
   },
   {
    "duration": 6,
    "start_time": "2021-11-23T17:47:38.215Z"
   },
   {
    "duration": 21,
    "start_time": "2021-11-23T17:47:38.223Z"
   },
   {
    "duration": 5158,
    "start_time": "2021-11-23T17:47:38.246Z"
   },
   {
    "duration": 14,
    "start_time": "2021-11-23T17:47:43.407Z"
   },
   {
    "duration": 61,
    "start_time": "2021-11-23T17:47:43.423Z"
   },
   {
    "duration": 3,
    "start_time": "2021-11-23T17:48:01.048Z"
   },
   {
    "duration": 38,
    "start_time": "2021-11-23T17:48:12.664Z"
   },
   {
    "duration": 14,
    "start_time": "2021-11-23T18:05:36.291Z"
   },
   {
    "duration": 14,
    "start_time": "2021-11-23T18:05:40.808Z"
   },
   {
    "duration": 31,
    "start_time": "2021-11-23T18:06:16.557Z"
   },
   {
    "duration": 13,
    "start_time": "2021-11-23T18:06:49.166Z"
   },
   {
    "duration": 16,
    "start_time": "2021-11-23T18:07:39.637Z"
   },
   {
    "duration": 32,
    "start_time": "2021-11-23T18:07:50.962Z"
   },
   {
    "duration": 43,
    "start_time": "2021-11-23T18:08:02.327Z"
   },
   {
    "duration": 23,
    "start_time": "2021-11-23T18:08:38.237Z"
   },
   {
    "duration": 32,
    "start_time": "2021-11-23T18:09:33.156Z"
   },
   {
    "duration": 28,
    "start_time": "2021-11-23T18:15:12.864Z"
   },
   {
    "duration": 13,
    "start_time": "2021-11-23T18:16:29.917Z"
   },
   {
    "duration": 21,
    "start_time": "2021-11-23T18:17:58.711Z"
   },
   {
    "duration": 23,
    "start_time": "2021-11-23T18:18:25.034Z"
   },
   {
    "duration": 24,
    "start_time": "2021-11-23T18:18:28.236Z"
   },
   {
    "duration": 25,
    "start_time": "2021-11-23T18:18:29.677Z"
   },
   {
    "duration": 34,
    "start_time": "2021-11-23T18:18:33.803Z"
   },
   {
    "duration": 22,
    "start_time": "2021-11-23T18:18:42.769Z"
   },
   {
    "duration": 1151,
    "start_time": "2021-11-23T18:31:00.061Z"
   },
   {
    "duration": 28,
    "start_time": "2021-11-23T18:31:01.215Z"
   },
   {
    "duration": 8,
    "start_time": "2021-11-23T18:31:01.246Z"
   },
   {
    "duration": 10,
    "start_time": "2021-11-23T18:31:01.283Z"
   },
   {
    "duration": 23,
    "start_time": "2021-11-23T18:31:01.295Z"
   },
   {
    "duration": 23,
    "start_time": "2021-11-23T18:31:01.320Z"
   },
   {
    "duration": 64,
    "start_time": "2021-11-23T18:31:01.346Z"
   },
   {
    "duration": 12,
    "start_time": "2021-11-23T18:31:01.415Z"
   },
   {
    "duration": 21,
    "start_time": "2021-11-23T18:31:01.430Z"
   },
   {
    "duration": 29,
    "start_time": "2021-11-23T18:31:01.454Z"
   },
   {
    "duration": 28,
    "start_time": "2021-11-23T18:31:01.486Z"
   },
   {
    "duration": 36,
    "start_time": "2021-11-23T18:31:01.516Z"
   },
   {
    "duration": 9,
    "start_time": "2021-11-23T18:31:01.554Z"
   },
   {
    "duration": 19,
    "start_time": "2021-11-23T18:31:01.566Z"
   },
   {
    "duration": 28,
    "start_time": "2021-11-23T18:31:01.588Z"
   },
   {
    "duration": 35,
    "start_time": "2021-11-23T18:31:01.618Z"
   },
   {
    "duration": 31,
    "start_time": "2021-11-23T18:31:01.655Z"
   },
   {
    "duration": 34,
    "start_time": "2021-11-23T18:31:01.688Z"
   },
   {
    "duration": 14,
    "start_time": "2021-11-23T18:31:01.725Z"
   },
   {
    "duration": 46,
    "start_time": "2021-11-23T18:31:01.741Z"
   },
   {
    "duration": 20,
    "start_time": "2021-11-23T18:31:01.790Z"
   },
   {
    "duration": 31,
    "start_time": "2021-11-23T18:31:01.813Z"
   },
   {
    "duration": 4,
    "start_time": "2021-11-23T18:31:01.852Z"
   },
   {
    "duration": 13,
    "start_time": "2021-11-23T18:31:01.884Z"
   },
   {
    "duration": 30,
    "start_time": "2021-11-23T18:31:01.900Z"
   },
   {
    "duration": 11,
    "start_time": "2021-11-23T18:31:01.933Z"
   },
   {
    "duration": 63,
    "start_time": "2021-11-23T18:31:01.947Z"
   },
   {
    "duration": 50,
    "start_time": "2021-11-23T18:31:02.013Z"
   },
   {
    "duration": 21,
    "start_time": "2021-11-23T18:31:02.065Z"
   },
   {
    "duration": 11,
    "start_time": "2021-11-23T18:31:02.088Z"
   },
   {
    "duration": 4862,
    "start_time": "2021-11-23T18:31:02.102Z"
   },
   {
    "duration": 24,
    "start_time": "2021-11-23T18:31:06.967Z"
   },
   {
    "duration": 42,
    "start_time": "2021-11-23T18:31:06.994Z"
   },
   {
    "duration": 55,
    "start_time": "2021-11-23T18:31:07.039Z"
   },
   {
    "duration": 96,
    "start_time": "2021-11-23T18:31:07.096Z"
   },
   {
    "duration": 22,
    "start_time": "2021-11-23T18:46:57.735Z"
   },
   {
    "duration": 24,
    "start_time": "2021-11-23T18:47:10.119Z"
   },
   {
    "duration": 37,
    "start_time": "2021-11-23T18:54:57.132Z"
   },
   {
    "duration": 23,
    "start_time": "2021-11-23T18:54:59.446Z"
   },
   {
    "duration": 46,
    "start_time": "2021-11-23T18:55:04.831Z"
   },
   {
    "duration": 435,
    "start_time": "2021-11-23T19:01:03.636Z"
   },
   {
    "duration": 21,
    "start_time": "2021-11-23T19:01:09.822Z"
   },
   {
    "duration": 1157,
    "start_time": "2021-11-23T19:02:39.046Z"
   },
   {
    "duration": 209,
    "start_time": "2021-11-23T19:02:57.459Z"
   },
   {
    "duration": 424,
    "start_time": "2021-11-23T19:03:23.788Z"
   },
   {
    "duration": 313,
    "start_time": "2021-11-23T19:03:43.505Z"
   },
   {
    "duration": 101,
    "start_time": "2021-11-23T19:03:50.711Z"
   },
   {
    "duration": 410,
    "start_time": "2021-11-23T19:04:01.899Z"
   },
   {
    "duration": 332,
    "start_time": "2021-11-23T19:04:14.049Z"
   },
   {
    "duration": 2231,
    "start_time": "2021-11-23T19:04:21.818Z"
   },
   {
    "duration": 22,
    "start_time": "2021-11-23T19:04:32.873Z"
   },
   {
    "duration": 9513,
    "start_time": "2021-11-23T19:11:55.263Z"
   },
   {
    "duration": 20,
    "start_time": "2021-11-23T19:12:06.938Z"
   },
   {
    "duration": 12,
    "start_time": "2021-11-23T19:12:33.827Z"
   },
   {
    "duration": 14,
    "start_time": "2021-11-23T19:12:44.584Z"
   },
   {
    "duration": 14,
    "start_time": "2021-11-23T19:13:11.224Z"
   },
   {
    "duration": 15,
    "start_time": "2021-11-23T19:13:18.628Z"
   },
   {
    "duration": 20,
    "start_time": "2021-11-23T19:14:53.786Z"
   },
   {
    "duration": 40,
    "start_time": "2021-11-23T19:20:17.445Z"
   },
   {
    "duration": 26,
    "start_time": "2021-11-23T19:20:39.498Z"
   },
   {
    "duration": 20,
    "start_time": "2021-11-23T19:22:33.401Z"
   },
   {
    "duration": 105,
    "start_time": "2021-11-23T19:24:05.828Z"
   },
   {
    "duration": 20,
    "start_time": "2021-11-23T19:24:41.151Z"
   },
   {
    "duration": 30,
    "start_time": "2021-11-23T19:25:58.431Z"
   },
   {
    "duration": 25,
    "start_time": "2021-11-23T19:32:52.142Z"
   },
   {
    "duration": 41,
    "start_time": "2021-11-23T19:41:55.683Z"
   },
   {
    "duration": 23,
    "start_time": "2021-11-23T19:43:15.599Z"
   },
   {
    "duration": 23,
    "start_time": "2021-11-23T19:43:18.858Z"
   },
   {
    "duration": 33,
    "start_time": "2021-11-23T19:43:31.892Z"
   },
   {
    "duration": 35,
    "start_time": "2021-11-23T19:43:41.784Z"
   },
   {
    "duration": 36,
    "start_time": "2021-11-23T19:44:37.105Z"
   },
   {
    "duration": 22,
    "start_time": "2021-11-23T19:44:53.727Z"
   },
   {
    "duration": 35,
    "start_time": "2021-11-23T19:45:16.896Z"
   },
   {
    "duration": 8938,
    "start_time": "2021-11-23T19:45:50.137Z"
   },
   {
    "duration": 8171,
    "start_time": "2021-11-23T19:46:26.797Z"
   },
   {
    "duration": 837,
    "start_time": "2021-11-23T19:46:41.598Z"
   },
   {
    "duration": 27,
    "start_time": "2021-11-23T19:46:42.439Z"
   },
   {
    "duration": 8,
    "start_time": "2021-11-23T19:46:42.481Z"
   },
   {
    "duration": 26,
    "start_time": "2021-11-23T19:46:42.492Z"
   },
   {
    "duration": 12,
    "start_time": "2021-11-23T19:46:42.521Z"
   },
   {
    "duration": 10,
    "start_time": "2021-11-23T19:46:42.535Z"
   },
   {
    "duration": 63,
    "start_time": "2021-11-23T19:46:42.547Z"
   },
   {
    "duration": 7,
    "start_time": "2021-11-23T19:46:42.613Z"
   },
   {
    "duration": 6,
    "start_time": "2021-11-23T19:46:42.624Z"
   },
   {
    "duration": 49,
    "start_time": "2021-11-23T19:46:42.633Z"
   },
   {
    "duration": 10,
    "start_time": "2021-11-23T19:46:42.685Z"
   },
   {
    "duration": 28,
    "start_time": "2021-11-23T19:46:42.697Z"
   },
   {
    "duration": 9,
    "start_time": "2021-11-23T19:46:42.727Z"
   },
   {
    "duration": 52,
    "start_time": "2021-11-23T19:46:42.739Z"
   },
   {
    "duration": 21,
    "start_time": "2021-11-23T19:46:42.795Z"
   },
   {
    "duration": 35,
    "start_time": "2021-11-23T19:46:42.819Z"
   },
   {
    "duration": 19,
    "start_time": "2021-11-23T19:46:42.884Z"
   },
   {
    "duration": 37,
    "start_time": "2021-11-23T19:46:42.906Z"
   },
   {
    "duration": 42,
    "start_time": "2021-11-23T19:46:42.946Z"
   },
   {
    "duration": 24,
    "start_time": "2021-11-23T19:46:42.991Z"
   },
   {
    "duration": 8,
    "start_time": "2021-11-23T19:46:43.018Z"
   },
   {
    "duration": 56,
    "start_time": "2021-11-23T19:46:43.029Z"
   },
   {
    "duration": 3,
    "start_time": "2021-11-23T19:46:43.087Z"
   },
   {
    "duration": 33,
    "start_time": "2021-11-23T19:46:43.092Z"
   },
   {
    "duration": 28,
    "start_time": "2021-11-23T19:46:43.128Z"
   },
   {
    "duration": 23,
    "start_time": "2021-11-23T19:46:43.159Z"
   },
   {
    "duration": 29,
    "start_time": "2021-11-23T19:46:43.190Z"
   },
   {
    "duration": 78,
    "start_time": "2021-11-23T19:46:43.223Z"
   },
   {
    "duration": 8,
    "start_time": "2021-11-23T19:46:43.303Z"
   },
   {
    "duration": 14,
    "start_time": "2021-11-23T19:46:43.313Z"
   },
   {
    "duration": 4778,
    "start_time": "2021-11-23T19:46:43.329Z"
   },
   {
    "duration": 11,
    "start_time": "2021-11-23T19:46:48.109Z"
   },
   {
    "duration": 61,
    "start_time": "2021-11-23T19:46:48.122Z"
   },
   {
    "duration": 24,
    "start_time": "2021-11-23T19:46:48.185Z"
   },
   {
    "duration": 752,
    "start_time": "2021-11-23T19:46:48.211Z"
   },
   {
    "duration": 32,
    "start_time": "2021-11-23T19:46:48.966Z"
   },
   {
    "duration": 24,
    "start_time": "2021-11-23T19:46:49.001Z"
   },
   {
    "duration": 8644,
    "start_time": "2021-11-23T19:46:49.027Z"
   },
   {
    "duration": 327,
    "start_time": "2021-11-23T19:47:50.609Z"
   },
   {
    "duration": 23,
    "start_time": "2021-11-23T19:48:20.755Z"
   },
   {
    "duration": 25,
    "start_time": "2021-11-23T19:57:56.578Z"
   },
   {
    "duration": 34,
    "start_time": "2021-11-23T19:58:07.496Z"
   },
   {
    "duration": 21,
    "start_time": "2021-11-23T19:58:16.333Z"
   },
   {
    "duration": 23,
    "start_time": "2021-11-23T20:02:50.566Z"
   },
   {
    "duration": 22,
    "start_time": "2021-11-23T20:04:33.736Z"
   },
   {
    "duration": 799,
    "start_time": "2021-11-23T20:26:00.129Z"
   },
   {
    "duration": 41,
    "start_time": "2021-11-23T20:26:00.931Z"
   },
   {
    "duration": 11,
    "start_time": "2021-11-23T20:26:00.983Z"
   },
   {
    "duration": 49,
    "start_time": "2021-11-23T20:26:00.997Z"
   },
   {
    "duration": 38,
    "start_time": "2021-11-23T20:26:01.048Z"
   },
   {
    "duration": 13,
    "start_time": "2021-11-23T20:26:01.094Z"
   },
   {
    "duration": 56,
    "start_time": "2021-11-23T20:26:01.110Z"
   },
   {
    "duration": 11,
    "start_time": "2021-11-23T20:26:01.186Z"
   },
   {
    "duration": 42,
    "start_time": "2021-11-23T20:26:01.201Z"
   },
   {
    "duration": 25,
    "start_time": "2021-11-23T20:26:01.246Z"
   },
   {
    "duration": 29,
    "start_time": "2021-11-23T20:26:01.274Z"
   },
   {
    "duration": 36,
    "start_time": "2021-11-23T20:26:01.305Z"
   },
   {
    "duration": 29,
    "start_time": "2021-11-23T20:26:01.344Z"
   },
   {
    "duration": 37,
    "start_time": "2021-11-23T20:26:01.376Z"
   },
   {
    "duration": 34,
    "start_time": "2021-11-23T20:26:01.416Z"
   },
   {
    "duration": 38,
    "start_time": "2021-11-23T20:26:01.453Z"
   },
   {
    "duration": 29,
    "start_time": "2021-11-23T20:26:01.495Z"
   },
   {
    "duration": 28,
    "start_time": "2021-11-23T20:26:01.527Z"
   },
   {
    "duration": 27,
    "start_time": "2021-11-23T20:26:01.558Z"
   },
   {
    "duration": 16,
    "start_time": "2021-11-23T20:26:01.587Z"
   },
   {
    "duration": 12,
    "start_time": "2021-11-23T20:26:01.605Z"
   },
   {
    "duration": 23,
    "start_time": "2021-11-23T20:26:01.620Z"
   },
   {
    "duration": 51,
    "start_time": "2021-11-23T20:26:01.648Z"
   },
   {
    "duration": 26,
    "start_time": "2021-11-23T20:26:01.703Z"
   },
   {
    "duration": 31,
    "start_time": "2021-11-23T20:26:01.732Z"
   },
   {
    "duration": 5,
    "start_time": "2021-11-23T20:26:01.766Z"
   },
   {
    "duration": 34,
    "start_time": "2021-11-23T20:26:01.784Z"
   },
   {
    "duration": 75,
    "start_time": "2021-11-23T20:26:01.820Z"
   },
   {
    "duration": 6,
    "start_time": "2021-11-23T20:26:01.898Z"
   },
   {
    "duration": 20,
    "start_time": "2021-11-23T20:26:01.907Z"
   },
   {
    "duration": 5574,
    "start_time": "2021-11-23T20:26:01.931Z"
   },
   {
    "duration": 13,
    "start_time": "2021-11-23T20:26:07.508Z"
   },
   {
    "duration": 59,
    "start_time": "2021-11-23T20:26:07.524Z"
   },
   {
    "duration": 31,
    "start_time": "2021-11-23T20:26:07.586Z"
   },
   {
    "duration": 865,
    "start_time": "2021-11-23T20:26:07.621Z"
   },
   {
    "duration": 26,
    "start_time": "2021-11-23T20:26:08.488Z"
   },
   {
    "duration": 21,
    "start_time": "2021-11-23T20:26:08.517Z"
   },
   {
    "duration": 52,
    "start_time": "2021-11-23T20:26:08.540Z"
   },
   {
    "duration": 22,
    "start_time": "2021-11-23T20:26:08.594Z"
   },
   {
    "duration": 1036,
    "start_time": "2021-11-24T19:25:01.871Z"
   },
   {
    "duration": 34,
    "start_time": "2021-11-24T19:25:02.910Z"
   },
   {
    "duration": 34,
    "start_time": "2021-11-24T19:25:02.947Z"
   },
   {
    "duration": 42,
    "start_time": "2021-11-24T19:25:02.984Z"
   },
   {
    "duration": 20,
    "start_time": "2021-11-24T19:25:03.029Z"
   },
   {
    "duration": 46,
    "start_time": "2021-11-24T19:25:03.051Z"
   },
   {
    "duration": 66,
    "start_time": "2021-11-24T19:25:03.099Z"
   },
   {
    "duration": 9,
    "start_time": "2021-11-24T19:25:03.168Z"
   },
   {
    "duration": 8,
    "start_time": "2021-11-24T19:25:03.181Z"
   },
   {
    "duration": 12,
    "start_time": "2021-11-24T19:25:03.191Z"
   },
   {
    "duration": 11,
    "start_time": "2021-11-24T19:25:03.205Z"
   },
   {
    "duration": 27,
    "start_time": "2021-11-24T19:25:03.219Z"
   },
   {
    "duration": 8,
    "start_time": "2021-11-24T19:25:03.248Z"
   },
   {
    "duration": 48,
    "start_time": "2021-11-24T19:25:03.259Z"
   },
   {
    "duration": 15,
    "start_time": "2021-11-24T19:25:03.309Z"
   },
   {
    "duration": 28,
    "start_time": "2021-11-24T19:25:03.326Z"
   },
   {
    "duration": 43,
    "start_time": "2021-11-24T19:25:03.357Z"
   },
   {
    "duration": 25,
    "start_time": "2021-11-24T19:25:03.403Z"
   },
   {
    "duration": 12,
    "start_time": "2021-11-24T19:25:03.431Z"
   },
   {
    "duration": 18,
    "start_time": "2021-11-24T19:25:03.445Z"
   },
   {
    "duration": 37,
    "start_time": "2021-11-24T19:25:03.465Z"
   },
   {
    "duration": 23,
    "start_time": "2021-11-24T19:25:03.505Z"
   },
   {
    "duration": 2,
    "start_time": "2021-11-24T19:25:03.534Z"
   },
   {
    "duration": 21,
    "start_time": "2021-11-24T19:25:03.539Z"
   },
   {
    "duration": 69,
    "start_time": "2021-11-24T19:25:03.562Z"
   },
   {
    "duration": 6,
    "start_time": "2021-11-24T19:25:03.634Z"
   },
   {
    "duration": 30,
    "start_time": "2021-11-24T19:25:03.643Z"
   },
   {
    "duration": 71,
    "start_time": "2021-11-24T19:25:03.675Z"
   },
   {
    "duration": 6,
    "start_time": "2021-11-24T19:25:03.749Z"
   },
   {
    "duration": 21,
    "start_time": "2021-11-24T19:25:03.757Z"
   },
   {
    "duration": 5400,
    "start_time": "2021-11-24T19:25:03.782Z"
   },
   {
    "duration": 26,
    "start_time": "2021-11-24T19:25:09.185Z"
   },
   {
    "duration": 63,
    "start_time": "2021-11-24T19:25:09.214Z"
   },
   {
    "duration": 41,
    "start_time": "2021-11-24T19:25:09.280Z"
   },
   {
    "duration": 776,
    "start_time": "2021-11-24T19:25:09.324Z"
   },
   {
    "duration": 32,
    "start_time": "2021-11-24T19:25:10.103Z"
   },
   {
    "duration": 34,
    "start_time": "2021-11-24T19:25:10.137Z"
   },
   {
    "duration": 31,
    "start_time": "2021-11-24T19:25:10.202Z"
   },
   {
    "duration": 31,
    "start_time": "2021-11-24T19:25:10.236Z"
   },
   {
    "duration": 7,
    "start_time": "2021-11-24T19:39:14.658Z"
   },
   {
    "duration": 6,
    "start_time": "2021-11-24T19:39:24.012Z"
   },
   {
    "duration": 831,
    "start_time": "2021-11-24T19:39:35.904Z"
   },
   {
    "duration": 28,
    "start_time": "2021-11-24T19:39:36.737Z"
   },
   {
    "duration": 14,
    "start_time": "2021-11-24T19:39:36.768Z"
   },
   {
    "duration": 28,
    "start_time": "2021-11-24T19:39:36.800Z"
   },
   {
    "duration": 13,
    "start_time": "2021-11-24T19:39:36.831Z"
   },
   {
    "duration": 11,
    "start_time": "2021-11-24T19:39:36.847Z"
   },
   {
    "duration": 407,
    "start_time": "2021-11-24T19:39:36.861Z"
   },
   {
    "duration": -89,
    "start_time": "2021-11-24T19:39:37.362Z"
   },
   {
    "duration": -106,
    "start_time": "2021-11-24T19:39:37.380Z"
   },
   {
    "duration": -136,
    "start_time": "2021-11-24T19:39:37.412Z"
   },
   {
    "duration": -149,
    "start_time": "2021-11-24T19:39:37.426Z"
   },
   {
    "duration": -153,
    "start_time": "2021-11-24T19:39:37.431Z"
   },
   {
    "duration": -155,
    "start_time": "2021-11-24T19:39:37.435Z"
   },
   {
    "duration": -159,
    "start_time": "2021-11-24T19:39:37.440Z"
   },
   {
    "duration": -174,
    "start_time": "2021-11-24T19:39:37.457Z"
   },
   {
    "duration": -178,
    "start_time": "2021-11-24T19:39:37.462Z"
   },
   {
    "duration": -215,
    "start_time": "2021-11-24T19:39:37.500Z"
   },
   {
    "duration": -217,
    "start_time": "2021-11-24T19:39:37.503Z"
   },
   {
    "duration": -244,
    "start_time": "2021-11-24T19:39:37.532Z"
   },
   {
    "duration": -246,
    "start_time": "2021-11-24T19:39:37.535Z"
   },
   {
    "duration": -248,
    "start_time": "2021-11-24T19:39:37.538Z"
   },
   {
    "duration": -249,
    "start_time": "2021-11-24T19:39:37.541Z"
   },
   {
    "duration": -252,
    "start_time": "2021-11-24T19:39:37.545Z"
   },
   {
    "duration": -261,
    "start_time": "2021-11-24T19:39:37.556Z"
   },
   {
    "duration": -292,
    "start_time": "2021-11-24T19:39:37.588Z"
   },
   {
    "duration": -295,
    "start_time": "2021-11-24T19:39:37.592Z"
   },
   {
    "duration": -296,
    "start_time": "2021-11-24T19:39:37.595Z"
   },
   {
    "duration": -298,
    "start_time": "2021-11-24T19:39:37.598Z"
   },
   {
    "duration": -299,
    "start_time": "2021-11-24T19:39:37.601Z"
   },
   {
    "duration": -308,
    "start_time": "2021-11-24T19:39:37.611Z"
   },
   {
    "duration": -309,
    "start_time": "2021-11-24T19:39:37.614Z"
   },
   {
    "duration": -311,
    "start_time": "2021-11-24T19:39:37.617Z"
   },
   {
    "duration": -313,
    "start_time": "2021-11-24T19:39:37.620Z"
   },
   {
    "duration": -314,
    "start_time": "2021-11-24T19:39:37.623Z"
   },
   {
    "duration": -316,
    "start_time": "2021-11-24T19:39:37.626Z"
   },
   {
    "duration": -318,
    "start_time": "2021-11-24T19:39:37.629Z"
   },
   {
    "duration": -319,
    "start_time": "2021-11-24T19:39:37.632Z"
   },
   {
    "duration": -321,
    "start_time": "2021-11-24T19:39:37.635Z"
   },
   {
    "duration": -379,
    "start_time": "2021-11-24T19:39:37.695Z"
   },
   {
    "duration": -384,
    "start_time": "2021-11-24T19:39:37.701Z"
   },
   {
    "duration": -401,
    "start_time": "2021-11-24T19:39:37.719Z"
   },
   {
    "duration": 10,
    "start_time": "2021-11-24T19:42:37.146Z"
   },
   {
    "duration": 34,
    "start_time": "2021-11-24T19:42:57.822Z"
   },
   {
    "duration": 8,
    "start_time": "2021-11-24T19:42:59.977Z"
   },
   {
    "duration": 5,
    "start_time": "2021-11-24T19:44:42.228Z"
   },
   {
    "duration": 5,
    "start_time": "2021-11-24T19:44:53.767Z"
   },
   {
    "duration": 12,
    "start_time": "2021-11-24T19:46:26.230Z"
   },
   {
    "duration": 14,
    "start_time": "2021-11-24T19:47:05.336Z"
   },
   {
    "duration": 283,
    "start_time": "2021-11-24T19:47:32.738Z"
   },
   {
    "duration": 8,
    "start_time": "2021-11-24T19:47:44.992Z"
   },
   {
    "duration": 47,
    "start_time": "2021-11-24T19:49:45.442Z"
   },
   {
    "duration": 882,
    "start_time": "2021-11-24T19:49:55.090Z"
   },
   {
    "duration": 31,
    "start_time": "2021-11-24T19:49:55.974Z"
   },
   {
    "duration": 9,
    "start_time": "2021-11-24T19:49:56.008Z"
   },
   {
    "duration": 26,
    "start_time": "2021-11-24T19:49:56.020Z"
   },
   {
    "duration": 12,
    "start_time": "2021-11-24T19:49:56.049Z"
   },
   {
    "duration": 44,
    "start_time": "2021-11-24T19:49:56.063Z"
   },
   {
    "duration": 48,
    "start_time": "2021-11-24T19:49:56.109Z"
   },
   {
    "duration": 351,
    "start_time": "2021-11-24T19:49:56.161Z"
   },
   {
    "duration": 14,
    "start_time": "2021-11-24T19:49:56.502Z"
   },
   {
    "duration": 9,
    "start_time": "2021-11-24T19:49:56.508Z"
   },
   {
    "duration": 5,
    "start_time": "2021-11-24T19:49:56.514Z"
   },
   {
    "duration": -37,
    "start_time": "2021-11-24T19:49:56.557Z"
   },
   {
    "duration": -42,
    "start_time": "2021-11-24T19:49:56.563Z"
   },
   {
    "duration": -46,
    "start_time": "2021-11-24T19:49:56.569Z"
   },
   {
    "duration": -50,
    "start_time": "2021-11-24T19:49:56.574Z"
   },
   {
    "duration": -53,
    "start_time": "2021-11-24T19:49:56.578Z"
   },
   {
    "duration": -55,
    "start_time": "2021-11-24T19:49:56.582Z"
   },
   {
    "duration": -57,
    "start_time": "2021-11-24T19:49:56.585Z"
   },
   {
    "duration": -61,
    "start_time": "2021-11-24T19:49:56.590Z"
   },
   {
    "duration": -63,
    "start_time": "2021-11-24T19:49:56.594Z"
   },
   {
    "duration": -66,
    "start_time": "2021-11-24T19:49:56.598Z"
   },
   {
    "duration": -75,
    "start_time": "2021-11-24T19:49:56.608Z"
   },
   {
    "duration": -78,
    "start_time": "2021-11-24T19:49:56.613Z"
   },
   {
    "duration": -81,
    "start_time": "2021-11-24T19:49:56.617Z"
   },
   {
    "duration": -84,
    "start_time": "2021-11-24T19:49:56.622Z"
   },
   {
    "duration": -101,
    "start_time": "2021-11-24T19:49:56.640Z"
   },
   {
    "duration": -104,
    "start_time": "2021-11-24T19:49:56.644Z"
   },
   {
    "duration": -105,
    "start_time": "2021-11-24T19:49:56.647Z"
   },
   {
    "duration": -130,
    "start_time": "2021-11-24T19:49:56.673Z"
   },
   {
    "duration": -133,
    "start_time": "2021-11-24T19:49:56.677Z"
   },
   {
    "duration": -136,
    "start_time": "2021-11-24T19:49:56.681Z"
   },
   {
    "duration": -145,
    "start_time": "2021-11-24T19:49:56.692Z"
   },
   {
    "duration": -147,
    "start_time": "2021-11-24T19:49:56.695Z"
   },
   {
    "duration": -148,
    "start_time": "2021-11-24T19:49:56.698Z"
   },
   {
    "duration": -151,
    "start_time": "2021-11-24T19:49:56.702Z"
   },
   {
    "duration": -151,
    "start_time": "2021-11-24T19:49:56.704Z"
   },
   {
    "duration": -153,
    "start_time": "2021-11-24T19:49:56.707Z"
   },
   {
    "duration": -155,
    "start_time": "2021-11-24T19:49:56.710Z"
   },
   {
    "duration": -113,
    "start_time": "2021-11-24T19:49:56.714Z"
   },
   {
    "duration": -114,
    "start_time": "2021-11-24T19:49:56.716Z"
   },
   {
    "duration": -115,
    "start_time": "2021-11-24T19:49:56.719Z"
   },
   {
    "duration": 9,
    "start_time": "2021-11-24T19:50:08.156Z"
   },
   {
    "duration": 833,
    "start_time": "2021-11-24T19:57:14.715Z"
   },
   {
    "duration": 27,
    "start_time": "2021-11-24T19:57:15.551Z"
   },
   {
    "duration": 22,
    "start_time": "2021-11-24T19:57:15.581Z"
   },
   {
    "duration": 32,
    "start_time": "2021-11-24T19:57:15.605Z"
   },
   {
    "duration": 11,
    "start_time": "2021-11-24T19:57:15.640Z"
   },
   {
    "duration": 15,
    "start_time": "2021-11-24T19:57:15.654Z"
   },
   {
    "duration": 56,
    "start_time": "2021-11-24T19:57:15.672Z"
   },
   {
    "duration": 8,
    "start_time": "2021-11-24T19:57:15.731Z"
   },
   {
    "duration": 8,
    "start_time": "2021-11-24T19:57:15.742Z"
   },
   {
    "duration": 21,
    "start_time": "2021-11-24T19:57:15.752Z"
   },
   {
    "duration": 12,
    "start_time": "2021-11-24T19:57:15.801Z"
   },
   {
    "duration": 27,
    "start_time": "2021-11-24T19:57:15.816Z"
   },
   {
    "duration": 10,
    "start_time": "2021-11-24T19:57:15.846Z"
   },
   {
    "duration": 47,
    "start_time": "2021-11-24T19:57:15.858Z"
   },
   {
    "duration": 19,
    "start_time": "2021-11-24T19:57:15.907Z"
   },
   {
    "duration": 23,
    "start_time": "2021-11-24T19:57:15.928Z"
   },
   {
    "duration": 26,
    "start_time": "2021-11-24T19:57:15.953Z"
   },
   {
    "duration": 43,
    "start_time": "2021-11-24T19:57:15.982Z"
   },
   {
    "duration": 16,
    "start_time": "2021-11-24T19:57:16.027Z"
   },
   {
    "duration": 15,
    "start_time": "2021-11-24T19:57:16.046Z"
   },
   {
    "duration": 36,
    "start_time": "2021-11-24T19:57:16.064Z"
   },
   {
    "duration": 21,
    "start_time": "2021-11-24T19:57:16.103Z"
   },
   {
    "duration": 3,
    "start_time": "2021-11-24T19:57:16.130Z"
   },
   {
    "duration": 20,
    "start_time": "2021-11-24T19:57:16.136Z"
   },
   {
    "duration": 58,
    "start_time": "2021-11-24T19:57:16.159Z"
   },
   {
    "duration": 5,
    "start_time": "2021-11-24T19:57:16.219Z"
   },
   {
    "duration": 41,
    "start_time": "2021-11-24T19:57:16.226Z"
   },
   {
    "duration": 67,
    "start_time": "2021-11-24T19:57:16.270Z"
   },
   {
    "duration": 6,
    "start_time": "2021-11-24T19:57:16.340Z"
   },
   {
    "duration": 13,
    "start_time": "2021-11-24T19:57:16.349Z"
   },
   {
    "duration": 4611,
    "start_time": "2021-11-24T19:57:16.364Z"
   },
   {
    "duration": 22,
    "start_time": "2021-11-24T19:57:20.978Z"
   },
   {
    "duration": 43,
    "start_time": "2021-11-24T19:57:21.002Z"
   },
   {
    "duration": 23,
    "start_time": "2021-11-24T19:57:21.048Z"
   },
   {
    "duration": 746,
    "start_time": "2021-11-24T19:57:21.073Z"
   },
   {
    "duration": 28,
    "start_time": "2021-11-24T19:57:21.822Z"
   },
   {
    "duration": 37,
    "start_time": "2021-11-24T19:57:21.852Z"
   },
   {
    "duration": 26,
    "start_time": "2021-11-24T19:57:21.901Z"
   },
   {
    "duration": 26,
    "start_time": "2021-11-24T19:57:21.930Z"
   },
   {
    "duration": 841,
    "start_time": "2021-11-24T20:22:14.058Z"
   },
   {
    "duration": 29,
    "start_time": "2021-11-24T20:22:14.902Z"
   },
   {
    "duration": 9,
    "start_time": "2021-11-24T20:22:14.935Z"
   },
   {
    "duration": 59,
    "start_time": "2021-11-24T20:22:14.948Z"
   },
   {
    "duration": 14,
    "start_time": "2021-11-24T20:22:15.010Z"
   },
   {
    "duration": 17,
    "start_time": "2021-11-24T20:22:15.027Z"
   },
   {
    "duration": 64,
    "start_time": "2021-11-24T20:22:15.047Z"
   },
   {
    "duration": 9,
    "start_time": "2021-11-24T20:22:15.115Z"
   },
   {
    "duration": 22,
    "start_time": "2021-11-24T20:22:15.127Z"
   },
   {
    "duration": 15,
    "start_time": "2021-11-24T20:22:15.151Z"
   },
   {
    "duration": 34,
    "start_time": "2021-11-24T20:22:15.169Z"
   },
   {
    "duration": 30,
    "start_time": "2021-11-24T20:22:15.206Z"
   },
   {
    "duration": 9,
    "start_time": "2021-11-24T20:22:15.239Z"
   },
   {
    "duration": 12,
    "start_time": "2021-11-24T20:22:15.250Z"
   },
   {
    "duration": 49,
    "start_time": "2021-11-24T20:22:15.264Z"
   },
   {
    "duration": 22,
    "start_time": "2021-11-24T20:22:15.316Z"
   },
   {
    "duration": 16,
    "start_time": "2021-11-24T20:22:15.341Z"
   },
   {
    "duration": 51,
    "start_time": "2021-11-24T20:22:15.360Z"
   },
   {
    "duration": 10,
    "start_time": "2021-11-24T20:22:15.414Z"
   },
   {
    "duration": 16,
    "start_time": "2021-11-24T20:22:15.426Z"
   },
   {
    "duration": 6,
    "start_time": "2021-11-24T20:22:15.444Z"
   },
   {
    "duration": 58,
    "start_time": "2021-11-24T20:22:15.453Z"
   },
   {
    "duration": 3,
    "start_time": "2021-11-24T20:22:15.516Z"
   },
   {
    "duration": 12,
    "start_time": "2021-11-24T20:22:15.522Z"
   },
   {
    "duration": 24,
    "start_time": "2021-11-24T20:22:15.536Z"
   },
   {
    "duration": 39,
    "start_time": "2021-11-24T20:22:15.562Z"
   },
   {
    "duration": 30,
    "start_time": "2021-11-24T20:22:15.603Z"
   },
   {
    "duration": 69,
    "start_time": "2021-11-24T20:22:15.635Z"
   },
   {
    "duration": 5,
    "start_time": "2021-11-24T20:22:15.706Z"
   },
   {
    "duration": 10,
    "start_time": "2021-11-24T20:22:15.714Z"
   },
   {
    "duration": 4732,
    "start_time": "2021-11-24T20:22:15.726Z"
   },
   {
    "duration": 10,
    "start_time": "2021-11-24T20:22:20.460Z"
   },
   {
    "duration": 63,
    "start_time": "2021-11-24T20:22:20.472Z"
   },
   {
    "duration": 24,
    "start_time": "2021-11-24T20:22:20.538Z"
   },
   {
    "duration": 761,
    "start_time": "2021-11-24T20:22:20.565Z"
   },
   {
    "duration": 30,
    "start_time": "2021-11-24T20:22:21.329Z"
   },
   {
    "duration": 49,
    "start_time": "2021-11-24T20:22:21.362Z"
   },
   {
    "duration": 23,
    "start_time": "2021-11-24T20:22:21.414Z"
   },
   {
    "duration": 24,
    "start_time": "2021-11-24T20:22:21.439Z"
   },
   {
    "duration": 872,
    "start_time": "2021-11-24T20:41:39.967Z"
   },
   {
    "duration": 27,
    "start_time": "2021-11-24T20:41:40.842Z"
   },
   {
    "duration": 33,
    "start_time": "2021-11-24T20:41:40.872Z"
   },
   {
    "duration": 27,
    "start_time": "2021-11-24T20:41:40.908Z"
   },
   {
    "duration": 9,
    "start_time": "2021-11-24T20:41:40.938Z"
   },
   {
    "duration": 14,
    "start_time": "2021-11-24T20:41:40.949Z"
   },
   {
    "duration": 33,
    "start_time": "2021-11-24T20:41:41.000Z"
   },
   {
    "duration": 11,
    "start_time": "2021-11-24T20:41:41.038Z"
   },
   {
    "duration": 8,
    "start_time": "2021-11-24T20:41:41.053Z"
   },
   {
    "duration": 42,
    "start_time": "2021-11-24T20:41:41.064Z"
   },
   {
    "duration": 14,
    "start_time": "2021-11-24T20:41:41.108Z"
   },
   {
    "duration": 29,
    "start_time": "2021-11-24T20:41:41.124Z"
   },
   {
    "duration": 8,
    "start_time": "2021-11-24T20:41:41.155Z"
   },
   {
    "duration": 10,
    "start_time": "2021-11-24T20:41:41.201Z"
   },
   {
    "duration": 38,
    "start_time": "2021-11-24T20:41:41.214Z"
   },
   {
    "duration": 22,
    "start_time": "2021-11-24T20:41:41.255Z"
   },
   {
    "duration": 24,
    "start_time": "2021-11-24T20:41:41.279Z"
   },
   {
    "duration": 27,
    "start_time": "2021-11-24T20:41:41.305Z"
   },
   {
    "duration": 10,
    "start_time": "2021-11-24T20:41:41.335Z"
   },
   {
    "duration": 16,
    "start_time": "2021-11-24T20:41:41.348Z"
   },
   {
    "duration": 42,
    "start_time": "2021-11-24T20:41:41.366Z"
   },
   {
    "duration": 24,
    "start_time": "2021-11-24T20:41:41.411Z"
   },
   {
    "duration": 2,
    "start_time": "2021-11-24T20:41:41.441Z"
   },
   {
    "duration": 29,
    "start_time": "2021-11-24T20:41:41.446Z"
   },
   {
    "duration": 42,
    "start_time": "2021-11-24T20:41:41.477Z"
   },
   {
    "duration": 8,
    "start_time": "2021-11-24T20:41:41.521Z"
   },
   {
    "duration": 30,
    "start_time": "2021-11-24T20:41:41.531Z"
   },
   {
    "duration": 79,
    "start_time": "2021-11-24T20:41:41.563Z"
   },
   {
    "duration": 6,
    "start_time": "2021-11-24T20:41:41.644Z"
   },
   {
    "duration": 13,
    "start_time": "2021-11-24T20:41:41.652Z"
   },
   {
    "duration": 4574,
    "start_time": "2021-11-24T20:41:41.667Z"
   },
   {
    "duration": 11,
    "start_time": "2021-11-24T20:41:46.243Z"
   },
   {
    "duration": 64,
    "start_time": "2021-11-24T20:41:46.257Z"
   },
   {
    "duration": 26,
    "start_time": "2021-11-24T20:41:46.325Z"
   },
   {
    "duration": 738,
    "start_time": "2021-11-24T20:41:46.353Z"
   },
   {
    "duration": 34,
    "start_time": "2021-11-24T20:41:47.093Z"
   },
   {
    "duration": 24,
    "start_time": "2021-11-24T20:41:47.130Z"
   },
   {
    "duration": 52,
    "start_time": "2021-11-24T20:41:47.156Z"
   },
   {
    "duration": 34,
    "start_time": "2021-11-24T20:41:47.211Z"
   },
   {
    "duration": 1047,
    "start_time": "2021-11-24T21:14:23.324Z"
   },
   {
    "duration": 35,
    "start_time": "2021-11-24T21:14:24.375Z"
   },
   {
    "duration": 7,
    "start_time": "2021-11-24T21:14:24.413Z"
   },
   {
    "duration": 24,
    "start_time": "2021-11-24T21:14:24.423Z"
   },
   {
    "duration": 9,
    "start_time": "2021-11-24T21:14:24.450Z"
   },
   {
    "duration": 11,
    "start_time": "2021-11-24T21:14:24.501Z"
   },
   {
    "duration": 30,
    "start_time": "2021-11-24T21:14:24.514Z"
   },
   {
    "duration": 8,
    "start_time": "2021-11-24T21:14:24.548Z"
   },
   {
    "duration": 50,
    "start_time": "2021-11-24T21:14:24.559Z"
   },
   {
    "duration": 9,
    "start_time": "2021-11-24T21:14:24.612Z"
   },
   {
    "duration": 11,
    "start_time": "2021-11-24T21:14:24.624Z"
   },
   {
    "duration": 26,
    "start_time": "2021-11-24T21:14:24.638Z"
   },
   {
    "duration": 36,
    "start_time": "2021-11-24T21:14:24.666Z"
   },
   {
    "duration": 10,
    "start_time": "2021-11-24T21:14:24.704Z"
   },
   {
    "duration": 14,
    "start_time": "2021-11-24T21:14:24.716Z"
   },
   {
    "duration": 24,
    "start_time": "2021-11-24T21:14:24.733Z"
   },
   {
    "duration": 52,
    "start_time": "2021-11-24T21:14:24.759Z"
   },
   {
    "duration": 26,
    "start_time": "2021-11-24T21:14:24.814Z"
   },
   {
    "duration": 11,
    "start_time": "2021-11-24T21:14:24.842Z"
   },
   {
    "duration": 44,
    "start_time": "2021-11-24T21:14:24.856Z"
   },
   {
    "duration": 8,
    "start_time": "2021-11-24T21:14:24.903Z"
   },
   {
    "duration": 23,
    "start_time": "2021-11-24T21:14:24.914Z"
   },
   {
    "duration": 3,
    "start_time": "2021-11-24T21:14:24.941Z"
   },
   {
    "duration": 54,
    "start_time": "2021-11-24T21:14:24.948Z"
   },
   {
    "duration": 24,
    "start_time": "2021-11-24T21:14:25.005Z"
   },
   {
    "duration": 6,
    "start_time": "2021-11-24T21:14:25.031Z"
   },
   {
    "duration": 63,
    "start_time": "2021-11-24T21:14:25.039Z"
   },
   {
    "duration": 46,
    "start_time": "2021-11-24T21:14:25.104Z"
   },
   {
    "duration": 6,
    "start_time": "2021-11-24T21:14:25.153Z"
   },
   {
    "duration": 41,
    "start_time": "2021-11-24T21:14:25.162Z"
   },
   {
    "duration": 5043,
    "start_time": "2021-11-24T21:14:25.206Z"
   },
   {
    "duration": 10,
    "start_time": "2021-11-24T21:14:30.252Z"
   },
   {
    "duration": 67,
    "start_time": "2021-11-24T21:14:30.265Z"
   },
   {
    "duration": 28,
    "start_time": "2021-11-24T21:14:30.334Z"
   },
   {
    "duration": 760,
    "start_time": "2021-11-24T21:14:30.364Z"
   },
   {
    "duration": 28,
    "start_time": "2021-11-24T21:14:31.126Z"
   },
   {
    "duration": 52,
    "start_time": "2021-11-24T21:14:31.156Z"
   },
   {
    "duration": 31,
    "start_time": "2021-11-24T21:14:31.211Z"
   },
   {
    "duration": 24,
    "start_time": "2021-11-24T21:14:31.245Z"
   },
   {
    "duration": 103,
    "start_time": "2021-11-24T21:18:46.525Z"
   },
   {
    "duration": 838,
    "start_time": "2021-11-24T21:19:08.921Z"
   },
   {
    "duration": 39,
    "start_time": "2021-11-24T21:19:09.761Z"
   },
   {
    "duration": 7,
    "start_time": "2021-11-24T21:19:09.803Z"
   },
   {
    "duration": 28,
    "start_time": "2021-11-24T21:19:09.813Z"
   },
   {
    "duration": 18,
    "start_time": "2021-11-24T21:19:09.843Z"
   },
   {
    "duration": 37,
    "start_time": "2021-11-24T21:19:09.864Z"
   },
   {
    "duration": 31,
    "start_time": "2021-11-24T21:19:09.904Z"
   },
   {
    "duration": 8,
    "start_time": "2021-11-24T21:19:09.939Z"
   },
   {
    "duration": 12,
    "start_time": "2021-11-24T21:19:09.949Z"
   },
   {
    "duration": 40,
    "start_time": "2021-11-24T21:19:09.963Z"
   },
   {
    "duration": 17,
    "start_time": "2021-11-24T21:19:10.006Z"
   },
   {
    "duration": 30,
    "start_time": "2021-11-24T21:19:10.026Z"
   },
   {
    "duration": 10,
    "start_time": "2021-11-24T21:19:10.059Z"
   },
   {
    "duration": 37,
    "start_time": "2021-11-24T21:19:10.072Z"
   },
   {
    "duration": 17,
    "start_time": "2021-11-24T21:19:10.112Z"
   },
   {
    "duration": 40,
    "start_time": "2021-11-24T21:19:10.131Z"
   },
   {
    "duration": 29,
    "start_time": "2021-11-24T21:19:10.174Z"
   },
   {
    "duration": 25,
    "start_time": "2021-11-24T21:19:10.206Z"
   },
   {
    "duration": 11,
    "start_time": "2021-11-24T21:19:10.233Z"
   },
   {
    "duration": 24,
    "start_time": "2021-11-24T21:19:10.247Z"
   },
   {
    "duration": 8,
    "start_time": "2021-11-24T21:19:10.301Z"
   },
   {
    "duration": 24,
    "start_time": "2021-11-24T21:19:10.312Z"
   },
   {
    "duration": 2,
    "start_time": "2021-11-24T21:19:10.344Z"
   },
   {
    "duration": 52,
    "start_time": "2021-11-24T21:19:10.350Z"
   },
   {
    "duration": 24,
    "start_time": "2021-11-24T21:19:10.405Z"
   },
   {
    "duration": 9,
    "start_time": "2021-11-24T21:19:10.432Z"
   },
   {
    "duration": 56,
    "start_time": "2021-11-24T21:19:10.444Z"
   },
   {
    "duration": 47,
    "start_time": "2021-11-24T21:19:10.502Z"
   },
   {
    "duration": 6,
    "start_time": "2021-11-24T21:19:10.551Z"
   },
   {
    "duration": 11,
    "start_time": "2021-11-24T21:19:10.559Z"
   },
   {
    "duration": 4603,
    "start_time": "2021-11-24T21:19:10.573Z"
   },
   {
    "duration": 23,
    "start_time": "2021-11-24T21:19:15.179Z"
   },
   {
    "duration": 46,
    "start_time": "2021-11-24T21:19:15.204Z"
   },
   {
    "duration": 23,
    "start_time": "2021-11-24T21:19:15.252Z"
   },
   {
    "duration": 779,
    "start_time": "2021-11-24T21:19:15.300Z"
   },
   {
    "duration": 38,
    "start_time": "2021-11-24T21:19:16.081Z"
   },
   {
    "duration": 25,
    "start_time": "2021-11-24T21:19:16.122Z"
   },
   {
    "duration": 54,
    "start_time": "2021-11-24T21:19:16.150Z"
   },
   {
    "duration": 22,
    "start_time": "2021-11-24T21:19:16.206Z"
   },
   {
    "duration": 6,
    "start_time": "2021-11-24T22:08:56.407Z"
   },
   {
    "duration": 89,
    "start_time": "2021-11-24T22:10:00.391Z"
   },
   {
    "duration": 83,
    "start_time": "2021-11-24T22:11:10.877Z"
   },
   {
    "duration": 811,
    "start_time": "2021-11-24T22:11:16.708Z"
   },
   {
    "duration": 224,
    "start_time": "2021-11-24T22:11:47.753Z"
   },
   {
    "duration": 231,
    "start_time": "2021-11-24T22:13:20.529Z"
   },
   {
    "duration": 231,
    "start_time": "2021-11-24T22:14:55.548Z"
   },
   {
    "duration": 978,
    "start_time": "2021-11-24T22:15:05.209Z"
   },
   {
    "duration": 17,
    "start_time": "2021-11-24T22:15:06.189Z"
   },
   {
    "duration": 6,
    "start_time": "2021-11-24T22:15:06.208Z"
   },
   {
    "duration": 16,
    "start_time": "2021-11-24T22:15:06.217Z"
   },
   {
    "duration": 9,
    "start_time": "2021-11-24T22:15:06.235Z"
   },
   {
    "duration": 8,
    "start_time": "2021-11-24T22:15:06.245Z"
   },
   {
    "duration": 48,
    "start_time": "2021-11-24T22:15:06.255Z"
   },
   {
    "duration": 5,
    "start_time": "2021-11-24T22:15:06.305Z"
   },
   {
    "duration": 9,
    "start_time": "2021-11-24T22:15:06.312Z"
   },
   {
    "duration": 7,
    "start_time": "2021-11-24T22:15:06.323Z"
   },
   {
    "duration": 8,
    "start_time": "2021-11-24T22:15:06.331Z"
   },
   {
    "duration": 16,
    "start_time": "2021-11-24T22:15:06.341Z"
   },
   {
    "duration": 30,
    "start_time": "2021-11-24T22:15:06.359Z"
   },
   {
    "duration": 10,
    "start_time": "2021-11-24T22:15:06.391Z"
   },
   {
    "duration": 10,
    "start_time": "2021-11-24T22:15:06.403Z"
   },
   {
    "duration": 15,
    "start_time": "2021-11-24T22:15:06.415Z"
   },
   {
    "duration": 11,
    "start_time": "2021-11-24T22:15:06.432Z"
   },
   {
    "duration": 44,
    "start_time": "2021-11-24T22:15:06.444Z"
   },
   {
    "duration": 8,
    "start_time": "2021-11-24T22:15:06.489Z"
   },
   {
    "duration": 11,
    "start_time": "2021-11-24T22:15:06.498Z"
   },
   {
    "duration": 4,
    "start_time": "2021-11-24T22:15:06.511Z"
   },
   {
    "duration": 16,
    "start_time": "2021-11-24T22:15:06.517Z"
   },
   {
    "duration": 1,
    "start_time": "2021-11-24T22:15:06.536Z"
   },
   {
    "duration": 10,
    "start_time": "2021-11-24T22:15:06.539Z"
   },
   {
    "duration": 46,
    "start_time": "2021-11-24T22:15:06.550Z"
   },
   {
    "duration": 9,
    "start_time": "2021-11-24T22:15:06.598Z"
   },
   {
    "duration": 18,
    "start_time": "2021-11-24T22:15:06.609Z"
   },
   {
    "duration": 30,
    "start_time": "2021-11-24T22:15:06.628Z"
   },
   {
    "duration": 34,
    "start_time": "2021-11-24T22:15:06.659Z"
   },
   {
    "duration": 6,
    "start_time": "2021-11-24T22:15:06.694Z"
   },
   {
    "duration": 3527,
    "start_time": "2021-11-24T22:15:06.702Z"
   },
   {
    "duration": 6,
    "start_time": "2021-11-24T22:15:10.231Z"
   },
   {
    "duration": 24,
    "start_time": "2021-11-24T22:15:10.239Z"
   },
   {
    "duration": 34,
    "start_time": "2021-11-24T22:15:10.265Z"
   },
   {
    "duration": 530,
    "start_time": "2021-11-24T22:15:10.301Z"
   },
   {
    "duration": 18,
    "start_time": "2021-11-24T22:15:10.833Z"
   },
   {
    "duration": 14,
    "start_time": "2021-11-24T22:15:10.853Z"
   },
   {
    "duration": 27,
    "start_time": "2021-11-24T22:15:10.868Z"
   },
   {
    "duration": 13,
    "start_time": "2021-11-24T22:15:10.896Z"
   },
   {
    "duration": 11,
    "start_time": "2021-11-24T22:15:39.514Z"
   },
   {
    "duration": 11,
    "start_time": "2021-11-24T22:15:55.811Z"
   },
   {
    "duration": 10,
    "start_time": "2021-11-24T22:16:01.731Z"
   },
   {
    "duration": 7,
    "start_time": "2021-11-24T22:16:22.590Z"
   },
   {
    "duration": 8,
    "start_time": "2021-11-24T22:21:02.587Z"
   },
   {
    "duration": 8,
    "start_time": "2021-11-24T22:21:04.763Z"
   },
   {
    "duration": 8,
    "start_time": "2021-11-24T22:21:16.768Z"
   },
   {
    "duration": 8,
    "start_time": "2021-11-24T22:21:24.002Z"
   },
   {
    "duration": 8,
    "start_time": "2021-11-24T22:21:47.626Z"
   },
   {
    "duration": 84,
    "start_time": "2021-11-24T22:29:08.379Z"
   },
   {
    "duration": 85,
    "start_time": "2021-11-24T22:34:06.609Z"
   },
   {
    "duration": 76,
    "start_time": "2021-11-24T22:34:45.768Z"
   },
   {
    "duration": 6,
    "start_time": "2021-11-24T22:35:13.956Z"
   },
   {
    "duration": 5,
    "start_time": "2021-11-24T22:35:19.127Z"
   },
   {
    "duration": 7,
    "start_time": "2021-11-24T22:35:30.330Z"
   },
   {
    "duration": 9,
    "start_time": "2021-11-24T22:35:33.967Z"
   },
   {
    "duration": 8,
    "start_time": "2021-11-24T22:35:39.315Z"
   },
   {
    "duration": 5,
    "start_time": "2021-11-24T22:35:46.911Z"
   },
   {
    "duration": 9,
    "start_time": "2021-11-24T22:35:48.948Z"
   },
   {
    "duration": 8,
    "start_time": "2021-11-24T22:35:51.530Z"
   },
   {
    "duration": 8,
    "start_time": "2021-11-24T22:36:05.558Z"
   },
   {
    "duration": 5,
    "start_time": "2021-11-24T22:39:51.177Z"
   },
   {
    "duration": 6,
    "start_time": "2021-11-24T22:39:54.309Z"
   },
   {
    "duration": 311,
    "start_time": "2021-11-24T22:41:14.367Z"
   },
   {
    "duration": 252,
    "start_time": "2021-11-24T22:41:58.712Z"
   },
   {
    "duration": 359,
    "start_time": "2021-11-24T22:42:05.882Z"
   },
   {
    "duration": 226,
    "start_time": "2021-11-24T22:42:20.193Z"
   },
   {
    "duration": 234,
    "start_time": "2021-11-24T22:42:32.139Z"
   },
   {
    "duration": 17,
    "start_time": "2021-11-24T22:42:42.480Z"
   },
   {
    "duration": 7,
    "start_time": "2021-11-24T22:42:44.523Z"
   },
   {
    "duration": 81,
    "start_time": "2021-11-24T22:43:00.083Z"
   },
   {
    "duration": 8,
    "start_time": "2021-11-24T22:43:02.923Z"
   },
   {
    "duration": 239,
    "start_time": "2021-11-24T22:43:15.359Z"
   },
   {
    "duration": 7,
    "start_time": "2021-11-24T22:43:25.536Z"
   },
   {
    "duration": 6,
    "start_time": "2021-11-24T22:44:10.660Z"
   },
   {
    "duration": 8,
    "start_time": "2021-11-24T22:44:31.809Z"
   },
   {
    "duration": 235,
    "start_time": "2021-11-24T22:51:17.970Z"
   },
   {
    "duration": 240,
    "start_time": "2021-11-24T22:52:01.130Z"
   },
   {
    "duration": 238,
    "start_time": "2021-11-24T22:53:13.291Z"
   },
   {
    "duration": 234,
    "start_time": "2021-11-24T22:53:19.361Z"
   },
   {
    "duration": 10,
    "start_time": "2021-11-24T22:54:02.216Z"
   },
   {
    "duration": 80,
    "start_time": "2021-11-24T22:54:18.137Z"
   },
   {
    "duration": 6,
    "start_time": "2021-11-24T22:54:23.129Z"
   },
   {
    "duration": 8,
    "start_time": "2021-11-24T22:54:35.523Z"
   },
   {
    "duration": 6,
    "start_time": "2021-11-24T22:54:40.666Z"
   },
   {
    "duration": 7,
    "start_time": "2021-11-24T22:54:52.790Z"
   },
   {
    "duration": 7,
    "start_time": "2021-11-24T22:55:11.295Z"
   },
   {
    "duration": 8,
    "start_time": "2021-11-24T23:24:13.741Z"
   },
   {
    "duration": 583,
    "start_time": "2021-11-24T23:24:35.624Z"
   },
   {
    "duration": 15,
    "start_time": "2021-11-24T23:24:36.209Z"
   },
   {
    "duration": 5,
    "start_time": "2021-11-24T23:24:36.228Z"
   },
   {
    "duration": 22,
    "start_time": "2021-11-24T23:24:36.234Z"
   },
   {
    "duration": 6,
    "start_time": "2021-11-24T23:24:36.257Z"
   },
   {
    "duration": 28,
    "start_time": "2021-11-24T23:24:36.264Z"
   },
   {
    "duration": 19,
    "start_time": "2021-11-24T23:24:36.294Z"
   },
   {
    "duration": 5,
    "start_time": "2021-11-24T23:24:36.315Z"
   },
   {
    "duration": 5,
    "start_time": "2021-11-24T23:24:36.322Z"
   },
   {
    "duration": 6,
    "start_time": "2021-11-24T23:24:36.329Z"
   },
   {
    "duration": 9,
    "start_time": "2021-11-24T23:24:36.337Z"
   },
   {
    "duration": 52,
    "start_time": "2021-11-24T23:24:36.347Z"
   },
   {
    "duration": 6,
    "start_time": "2021-11-24T23:24:36.400Z"
   },
   {
    "duration": 9,
    "start_time": "2021-11-24T23:24:36.408Z"
   },
   {
    "duration": 9,
    "start_time": "2021-11-24T23:24:36.418Z"
   },
   {
    "duration": 14,
    "start_time": "2021-11-24T23:24:36.428Z"
   },
   {
    "duration": 11,
    "start_time": "2021-11-24T23:24:36.444Z"
   },
   {
    "duration": 46,
    "start_time": "2021-11-24T23:24:36.457Z"
   },
   {
    "duration": 8,
    "start_time": "2021-11-24T23:24:36.505Z"
   },
   {
    "duration": 11,
    "start_time": "2021-11-24T23:24:36.515Z"
   },
   {
    "duration": 5,
    "start_time": "2021-11-24T23:24:36.527Z"
   },
   {
    "duration": 14,
    "start_time": "2021-11-24T23:24:36.536Z"
   },
   {
    "duration": 36,
    "start_time": "2021-11-24T23:24:36.552Z"
   },
   {
    "duration": 13,
    "start_time": "2021-11-24T23:24:36.590Z"
   },
   {
    "duration": 8,
    "start_time": "2021-11-24T23:24:36.604Z"
   },
   {
    "duration": 18,
    "start_time": "2021-11-24T23:24:36.614Z"
   },
   {
    "duration": 8,
    "start_time": "2021-11-24T23:24:36.634Z"
   },
   {
    "duration": 45,
    "start_time": "2021-11-24T23:24:36.643Z"
   },
   {
    "duration": 28,
    "start_time": "2021-11-24T23:24:36.690Z"
   },
   {
    "duration": 4,
    "start_time": "2021-11-24T23:24:36.719Z"
   },
   {
    "duration": 8,
    "start_time": "2021-11-24T23:24:36.724Z"
   },
   {
    "duration": 3284,
    "start_time": "2021-11-24T23:24:36.733Z"
   },
   {
    "duration": 7,
    "start_time": "2021-11-24T23:24:40.019Z"
   },
   {
    "duration": 27,
    "start_time": "2021-11-24T23:24:40.027Z"
   },
   {
    "duration": 13,
    "start_time": "2021-11-24T23:24:40.056Z"
   },
   {
    "duration": 576,
    "start_time": "2021-11-24T23:24:40.070Z"
   },
   {
    "duration": 17,
    "start_time": "2021-11-24T23:24:40.647Z"
   },
   {
    "duration": 22,
    "start_time": "2021-11-24T23:24:40.666Z"
   },
   {
    "duration": 13,
    "start_time": "2021-11-24T23:24:40.690Z"
   },
   {
    "duration": 12,
    "start_time": "2021-11-24T23:24:40.705Z"
   },
   {
    "duration": 7,
    "start_time": "2021-11-24T23:25:13.847Z"
   },
   {
    "duration": 556,
    "start_time": "2021-11-24T23:25:21.344Z"
   },
   {
    "duration": 15,
    "start_time": "2021-11-24T23:25:21.902Z"
   },
   {
    "duration": 5,
    "start_time": "2021-11-24T23:25:21.922Z"
   },
   {
    "duration": 17,
    "start_time": "2021-11-24T23:25:21.928Z"
   },
   {
    "duration": 5,
    "start_time": "2021-11-24T23:25:21.946Z"
   },
   {
    "duration": 38,
    "start_time": "2021-11-24T23:25:21.953Z"
   },
   {
    "duration": 19,
    "start_time": "2021-11-24T23:25:21.993Z"
   },
   {
    "duration": 6,
    "start_time": "2021-11-24T23:25:22.014Z"
   },
   {
    "duration": 6,
    "start_time": "2021-11-24T23:25:22.021Z"
   },
   {
    "duration": 7,
    "start_time": "2021-11-24T23:25:22.028Z"
   },
   {
    "duration": 7,
    "start_time": "2021-11-24T23:25:22.036Z"
   },
   {
    "duration": 50,
    "start_time": "2021-11-24T23:25:22.045Z"
   },
   {
    "duration": 5,
    "start_time": "2021-11-24T23:25:22.097Z"
   },
   {
    "duration": 7,
    "start_time": "2021-11-24T23:25:22.103Z"
   },
   {
    "duration": 9,
    "start_time": "2021-11-24T23:25:22.112Z"
   },
   {
    "duration": 13,
    "start_time": "2021-11-24T23:25:22.122Z"
   },
   {
    "duration": 8,
    "start_time": "2021-11-24T23:25:22.137Z"
   },
   {
    "duration": 15,
    "start_time": "2021-11-24T23:25:22.146Z"
   },
   {
    "duration": 31,
    "start_time": "2021-11-24T23:25:22.162Z"
   },
   {
    "duration": 11,
    "start_time": "2021-11-24T23:25:22.194Z"
   },
   {
    "duration": 4,
    "start_time": "2021-11-24T23:25:22.206Z"
   },
   {
    "duration": 13,
    "start_time": "2021-11-24T23:25:22.213Z"
   },
   {
    "duration": 1,
    "start_time": "2021-11-24T23:25:22.228Z"
   },
   {
    "duration": 8,
    "start_time": "2021-11-24T23:25:22.231Z"
   },
   {
    "duration": 7,
    "start_time": "2021-11-24T23:25:22.241Z"
   },
   {
    "duration": 48,
    "start_time": "2021-11-24T23:25:22.249Z"
   },
   {
    "duration": 9,
    "start_time": "2021-11-24T23:25:22.298Z"
   },
   {
    "duration": 20,
    "start_time": "2021-11-24T23:25:22.308Z"
   },
   {
    "duration": 28,
    "start_time": "2021-11-24T23:25:22.330Z"
   },
   {
    "duration": 28,
    "start_time": "2021-11-24T23:25:22.360Z"
   },
   {
    "duration": 7,
    "start_time": "2021-11-24T23:25:22.389Z"
   },
   {
    "duration": 3149,
    "start_time": "2021-11-24T23:25:22.397Z"
   },
   {
    "duration": 7,
    "start_time": "2021-11-24T23:25:25.547Z"
   },
   {
    "duration": 38,
    "start_time": "2021-11-24T23:25:25.555Z"
   },
   {
    "duration": 13,
    "start_time": "2021-11-24T23:25:25.594Z"
   },
   {
    "duration": 508,
    "start_time": "2021-11-24T23:25:25.608Z"
   },
   {
    "duration": 17,
    "start_time": "2021-11-24T23:25:26.118Z"
   },
   {
    "duration": 13,
    "start_time": "2021-11-24T23:25:26.136Z"
   },
   {
    "duration": 12,
    "start_time": "2021-11-24T23:25:26.151Z"
   },
   {
    "duration": 32,
    "start_time": "2021-11-24T23:25:26.165Z"
   },
   {
    "duration": 333,
    "start_time": "2021-11-24T23:28:01.192Z"
   },
   {
    "duration": 84,
    "start_time": "2021-11-24T23:39:22.484Z"
   },
   {
    "duration": 90,
    "start_time": "2021-11-24T23:39:36.168Z"
   },
   {
    "duration": 26,
    "start_time": "2021-11-24T23:40:47.925Z"
   },
   {
    "duration": 24,
    "start_time": "2021-11-24T23:42:07.706Z"
   },
   {
    "duration": 22,
    "start_time": "2021-11-24T23:42:19.486Z"
   },
   {
    "duration": 20,
    "start_time": "2021-11-24T23:43:28.184Z"
   },
   {
    "duration": 24,
    "start_time": "2021-11-24T23:43:34.350Z"
   },
   {
    "duration": 18,
    "start_time": "2021-11-24T23:43:59.481Z"
   },
   {
    "duration": 17,
    "start_time": "2021-11-24T23:50:48.708Z"
   },
   {
    "duration": 18,
    "start_time": "2021-11-24T23:51:36.409Z"
   },
   {
    "duration": 306,
    "start_time": "2021-11-24T23:59:40.127Z"
   },
   {
    "duration": 234,
    "start_time": "2021-11-25T00:00:13.799Z"
   },
   {
    "duration": 246,
    "start_time": "2021-11-25T00:00:28.878Z"
   },
   {
    "duration": 19,
    "start_time": "2021-11-25T00:00:34.050Z"
   },
   {
    "duration": 248,
    "start_time": "2021-11-25T00:00:51.437Z"
   },
   {
    "duration": 24,
    "start_time": "2021-11-25T00:01:23.577Z"
   },
   {
    "duration": 23,
    "start_time": "2021-11-25T00:02:39.148Z"
   },
   {
    "duration": 26,
    "start_time": "2021-11-25T00:02:43.676Z"
   },
   {
    "duration": 28,
    "start_time": "2021-11-25T00:15:14.657Z"
   },
   {
    "duration": 24,
    "start_time": "2021-11-25T00:15:33.052Z"
   },
   {
    "duration": 24,
    "start_time": "2021-11-25T00:15:39.625Z"
   },
   {
    "duration": 26,
    "start_time": "2021-11-25T00:15:53.634Z"
   },
   {
    "duration": 19,
    "start_time": "2021-11-25T00:19:33.805Z"
   },
   {
    "duration": 76,
    "start_time": "2021-11-25T00:19:55.692Z"
   },
   {
    "duration": 20,
    "start_time": "2021-11-25T00:19:58.385Z"
   },
   {
    "duration": 26,
    "start_time": "2021-11-25T00:20:03.175Z"
   },
   {
    "duration": 571,
    "start_time": "2021-11-25T00:23:39.726Z"
   },
   {
    "duration": 15,
    "start_time": "2021-11-25T00:23:40.298Z"
   },
   {
    "duration": 5,
    "start_time": "2021-11-25T00:23:40.314Z"
   },
   {
    "duration": 16,
    "start_time": "2021-11-25T00:23:40.320Z"
   },
   {
    "duration": 6,
    "start_time": "2021-11-25T00:23:40.337Z"
   },
   {
    "duration": 9,
    "start_time": "2021-11-25T00:23:40.344Z"
   },
   {
    "duration": 44,
    "start_time": "2021-11-25T00:23:40.354Z"
   },
   {
    "duration": 4,
    "start_time": "2021-11-25T00:23:40.400Z"
   },
   {
    "duration": 7,
    "start_time": "2021-11-25T00:23:40.406Z"
   },
   {
    "duration": 6,
    "start_time": "2021-11-25T00:23:40.415Z"
   },
   {
    "duration": 7,
    "start_time": "2021-11-25T00:23:40.423Z"
   },
   {
    "duration": 20,
    "start_time": "2021-11-25T00:23:40.431Z"
   },
   {
    "duration": 5,
    "start_time": "2021-11-25T00:23:40.452Z"
   },
   {
    "duration": 33,
    "start_time": "2021-11-25T00:23:40.459Z"
   },
   {
    "duration": 10,
    "start_time": "2021-11-25T00:23:40.494Z"
   },
   {
    "duration": 18,
    "start_time": "2021-11-25T00:23:40.506Z"
   },
   {
    "duration": 10,
    "start_time": "2021-11-25T00:23:40.526Z"
   },
   {
    "duration": 15,
    "start_time": "2021-11-25T00:23:40.537Z"
   },
   {
    "duration": 34,
    "start_time": "2021-11-25T00:23:40.553Z"
   },
   {
    "duration": 9,
    "start_time": "2021-11-25T00:23:40.589Z"
   },
   {
    "duration": 4,
    "start_time": "2021-11-25T00:23:40.600Z"
   },
   {
    "duration": 19,
    "start_time": "2021-11-25T00:23:40.605Z"
   },
   {
    "duration": 2,
    "start_time": "2021-11-25T00:23:40.627Z"
   },
   {
    "duration": 10,
    "start_time": "2021-11-25T00:23:40.631Z"
   },
   {
    "duration": 282,
    "start_time": "2021-11-25T00:23:40.642Z"
   },
   {
    "duration": 344,
    "start_time": "2021-11-25T00:23:40.582Z"
   },
   {
    "duration": 344,
    "start_time": "2021-11-25T00:23:40.584Z"
   },
   {
    "duration": 343,
    "start_time": "2021-11-25T00:23:40.586Z"
   },
   {
    "duration": 342,
    "start_time": "2021-11-25T00:23:40.588Z"
   },
   {
    "duration": 341,
    "start_time": "2021-11-25T00:23:40.590Z"
   },
   {
    "duration": 341,
    "start_time": "2021-11-25T00:23:40.592Z"
   },
   {
    "duration": 340,
    "start_time": "2021-11-25T00:23:40.594Z"
   },
   {
    "duration": 339,
    "start_time": "2021-11-25T00:23:40.596Z"
   },
   {
    "duration": 339,
    "start_time": "2021-11-25T00:23:40.598Z"
   },
   {
    "duration": 337,
    "start_time": "2021-11-25T00:23:40.600Z"
   },
   {
    "duration": 332,
    "start_time": "2021-11-25T00:23:40.606Z"
   },
   {
    "duration": 330,
    "start_time": "2021-11-25T00:23:40.609Z"
   },
   {
    "duration": 329,
    "start_time": "2021-11-25T00:23:40.611Z"
   },
   {
    "duration": 328,
    "start_time": "2021-11-25T00:23:40.613Z"
   },
   {
    "duration": 327,
    "start_time": "2021-11-25T00:23:40.614Z"
   },
   {
    "duration": 326,
    "start_time": "2021-11-25T00:23:40.616Z"
   },
   {
    "duration": 325,
    "start_time": "2021-11-25T00:23:40.618Z"
   },
   {
    "duration": 324,
    "start_time": "2021-11-25T00:23:40.620Z"
   },
   {
    "duration": 245,
    "start_time": "2021-11-25T00:27:18.410Z"
   },
   {
    "duration": 9,
    "start_time": "2021-11-25T00:29:03.184Z"
   },
   {
    "duration": 15,
    "start_time": "2021-11-25T00:29:19.254Z"
   },
   {
    "duration": 8,
    "start_time": "2021-11-25T00:29:34.310Z"
   },
   {
    "duration": 9,
    "start_time": "2021-11-25T00:29:35.534Z"
   },
   {
    "duration": 9,
    "start_time": "2021-11-25T00:29:36.854Z"
   },
   {
    "duration": 8,
    "start_time": "2021-11-25T00:29:38.263Z"
   },
   {
    "duration": 613,
    "start_time": "2021-11-25T00:29:43.381Z"
   },
   {
    "duration": 16,
    "start_time": "2021-11-25T00:29:43.996Z"
   },
   {
    "duration": 8,
    "start_time": "2021-11-25T00:29:44.013Z"
   },
   {
    "duration": 18,
    "start_time": "2021-11-25T00:29:44.022Z"
   },
   {
    "duration": 6,
    "start_time": "2021-11-25T00:29:44.041Z"
   },
   {
    "duration": 11,
    "start_time": "2021-11-25T00:29:44.048Z"
   },
   {
    "duration": 36,
    "start_time": "2021-11-25T00:29:44.060Z"
   },
   {
    "duration": 5,
    "start_time": "2021-11-25T00:29:44.099Z"
   },
   {
    "duration": 5,
    "start_time": "2021-11-25T00:29:44.106Z"
   },
   {
    "duration": 6,
    "start_time": "2021-11-25T00:29:44.112Z"
   },
   {
    "duration": 9,
    "start_time": "2021-11-25T00:29:44.120Z"
   },
   {
    "duration": 16,
    "start_time": "2021-11-25T00:29:44.131Z"
   },
   {
    "duration": 5,
    "start_time": "2021-11-25T00:29:44.148Z"
   },
   {
    "duration": 37,
    "start_time": "2021-11-25T00:29:44.154Z"
   },
   {
    "duration": 8,
    "start_time": "2021-11-25T00:29:44.193Z"
   },
   {
    "duration": 13,
    "start_time": "2021-11-25T00:29:44.202Z"
   },
   {
    "duration": 14,
    "start_time": "2021-11-25T00:29:44.216Z"
   },
   {
    "duration": 15,
    "start_time": "2021-11-25T00:29:44.231Z"
   },
   {
    "duration": 6,
    "start_time": "2021-11-25T00:29:44.247Z"
   },
   {
    "duration": 35,
    "start_time": "2021-11-25T00:29:44.254Z"
   },
   {
    "duration": 11,
    "start_time": "2021-11-25T00:29:44.290Z"
   },
   {
    "duration": 15,
    "start_time": "2021-11-25T00:29:44.302Z"
   },
   {
    "duration": 2,
    "start_time": "2021-11-25T00:29:44.319Z"
   },
   {
    "duration": 9,
    "start_time": "2021-11-25T00:29:44.323Z"
   },
   {
    "duration": 9,
    "start_time": "2021-11-25T00:29:44.333Z"
   },
   {
    "duration": 17,
    "start_time": "2021-11-25T00:29:44.344Z"
   },
   {
    "duration": 26,
    "start_time": "2021-11-25T00:29:44.363Z"
   },
   {
    "duration": 18,
    "start_time": "2021-11-25T00:29:44.390Z"
   },
   {
    "duration": 27,
    "start_time": "2021-11-25T00:29:44.409Z"
   },
   {
    "duration": 4,
    "start_time": "2021-11-25T00:29:44.437Z"
   },
   {
    "duration": 8,
    "start_time": "2021-11-25T00:29:44.442Z"
   },
   {
    "duration": 3345,
    "start_time": "2021-11-25T00:29:44.452Z"
   },
   {
    "duration": 6,
    "start_time": "2021-11-25T00:29:47.799Z"
   },
   {
    "duration": 24,
    "start_time": "2021-11-25T00:29:47.807Z"
   },
   {
    "duration": 12,
    "start_time": "2021-11-25T00:29:47.833Z"
   },
   {
    "duration": 524,
    "start_time": "2021-11-25T00:29:47.847Z"
   },
   {
    "duration": 22,
    "start_time": "2021-11-25T00:29:48.373Z"
   },
   {
    "duration": 16,
    "start_time": "2021-11-25T00:29:48.397Z"
   },
   {
    "duration": 24,
    "start_time": "2021-11-25T00:29:48.414Z"
   },
   {
    "duration": 11,
    "start_time": "2021-11-25T00:29:48.440Z"
   },
   {
    "duration": 43,
    "start_time": "2021-11-25T00:29:48.452Z"
   },
   {
    "duration": 13,
    "start_time": "2021-11-25T00:29:48.496Z"
   },
   {
    "duration": 12,
    "start_time": "2021-11-25T00:29:48.510Z"
   },
   {
    "duration": 7,
    "start_time": "2021-11-25T00:30:24.866Z"
   },
   {
    "duration": 6,
    "start_time": "2021-11-25T00:30:26.446Z"
   },
   {
    "duration": 573,
    "start_time": "2021-11-25T00:30:34.615Z"
   },
   {
    "duration": 16,
    "start_time": "2021-11-25T00:30:35.190Z"
   },
   {
    "duration": 18,
    "start_time": "2021-11-25T00:30:35.207Z"
   },
   {
    "duration": 45,
    "start_time": "2021-11-25T00:30:35.226Z"
   },
   {
    "duration": 6,
    "start_time": "2021-11-25T00:30:35.272Z"
   },
   {
    "duration": 30,
    "start_time": "2021-11-25T00:30:35.279Z"
   },
   {
    "duration": 26,
    "start_time": "2021-11-25T00:30:35.310Z"
   },
   {
    "duration": 10,
    "start_time": "2021-11-25T00:30:35.338Z"
   },
   {
    "duration": 18,
    "start_time": "2021-11-25T00:30:35.349Z"
   },
   {
    "duration": 14,
    "start_time": "2021-11-25T00:30:35.368Z"
   },
   {
    "duration": 21,
    "start_time": "2021-11-25T00:30:35.383Z"
   },
   {
    "duration": 17,
    "start_time": "2021-11-25T00:30:35.406Z"
   },
   {
    "duration": 9,
    "start_time": "2021-11-25T00:30:35.424Z"
   },
   {
    "duration": 11,
    "start_time": "2021-11-25T00:30:35.434Z"
   },
   {
    "duration": 7,
    "start_time": "2021-11-25T00:30:35.447Z"
   },
   {
    "duration": 13,
    "start_time": "2021-11-25T00:30:35.455Z"
   },
   {
    "duration": 14,
    "start_time": "2021-11-25T00:30:35.469Z"
   },
   {
    "duration": 15,
    "start_time": "2021-11-25T00:30:35.484Z"
   },
   {
    "duration": 6,
    "start_time": "2021-11-25T00:30:35.500Z"
   },
   {
    "duration": 9,
    "start_time": "2021-11-25T00:30:35.507Z"
   },
   {
    "duration": 3,
    "start_time": "2021-11-25T00:30:35.518Z"
   },
   {
    "duration": 13,
    "start_time": "2021-11-25T00:30:35.522Z"
   },
   {
    "duration": 2,
    "start_time": "2021-11-25T00:30:35.538Z"
   },
   {
    "duration": 8,
    "start_time": "2021-11-25T00:30:35.541Z"
   },
   {
    "duration": 39,
    "start_time": "2021-11-25T00:30:35.550Z"
   },
   {
    "duration": 17,
    "start_time": "2021-11-25T00:30:35.590Z"
   },
   {
    "duration": 7,
    "start_time": "2021-11-25T00:30:35.609Z"
   },
   {
    "duration": 18,
    "start_time": "2021-11-25T00:30:35.618Z"
   },
   {
    "duration": 54,
    "start_time": "2021-11-25T00:30:35.637Z"
   },
   {
    "duration": 5,
    "start_time": "2021-11-25T00:30:35.692Z"
   },
   {
    "duration": 7,
    "start_time": "2021-11-25T00:30:35.699Z"
   },
   {
    "duration": 3254,
    "start_time": "2021-11-25T00:30:35.708Z"
   },
   {
    "duration": 6,
    "start_time": "2021-11-25T00:30:38.964Z"
   },
   {
    "duration": 22,
    "start_time": "2021-11-25T00:30:38.987Z"
   },
   {
    "duration": 12,
    "start_time": "2021-11-25T00:30:39.010Z"
   },
   {
    "duration": 496,
    "start_time": "2021-11-25T00:30:39.024Z"
   },
   {
    "duration": 24,
    "start_time": "2021-11-25T00:30:39.521Z"
   },
   {
    "duration": 15,
    "start_time": "2021-11-25T00:30:39.547Z"
   },
   {
    "duration": 37,
    "start_time": "2021-11-25T00:30:39.564Z"
   },
   {
    "duration": 11,
    "start_time": "2021-11-25T00:30:39.603Z"
   },
   {
    "duration": 13,
    "start_time": "2021-11-25T00:30:39.616Z"
   },
   {
    "duration": 13,
    "start_time": "2021-11-25T00:30:39.630Z"
   },
   {
    "duration": 12,
    "start_time": "2021-11-25T00:30:39.644Z"
   },
   {
    "duration": 8,
    "start_time": "2021-11-25T00:31:32.593Z"
   },
   {
    "duration": 7,
    "start_time": "2021-11-25T00:31:34.584Z"
   },
   {
    "duration": 577,
    "start_time": "2021-11-25T00:31:41.615Z"
   },
   {
    "duration": 15,
    "start_time": "2021-11-25T00:31:42.193Z"
   },
   {
    "duration": 4,
    "start_time": "2021-11-25T00:31:42.212Z"
   },
   {
    "duration": 15,
    "start_time": "2021-11-25T00:31:42.218Z"
   },
   {
    "duration": 7,
    "start_time": "2021-11-25T00:31:42.235Z"
   },
   {
    "duration": 6,
    "start_time": "2021-11-25T00:31:42.243Z"
   },
   {
    "duration": 47,
    "start_time": "2021-11-25T00:31:42.251Z"
   },
   {
    "duration": 5,
    "start_time": "2021-11-25T00:31:42.300Z"
   },
   {
    "duration": 5,
    "start_time": "2021-11-25T00:31:42.307Z"
   },
   {
    "duration": 6,
    "start_time": "2021-11-25T00:31:42.313Z"
   },
   {
    "duration": 6,
    "start_time": "2021-11-25T00:31:42.321Z"
   },
   {
    "duration": 16,
    "start_time": "2021-11-25T00:31:42.328Z"
   },
   {
    "duration": 4,
    "start_time": "2021-11-25T00:31:42.346Z"
   },
   {
    "duration": 39,
    "start_time": "2021-11-25T00:31:42.352Z"
   },
   {
    "duration": 8,
    "start_time": "2021-11-25T00:31:42.392Z"
   },
   {
    "duration": 12,
    "start_time": "2021-11-25T00:31:42.401Z"
   },
   {
    "duration": 11,
    "start_time": "2021-11-25T00:31:42.415Z"
   },
   {
    "duration": 14,
    "start_time": "2021-11-25T00:31:42.428Z"
   },
   {
    "duration": 6,
    "start_time": "2021-11-25T00:31:42.443Z"
   },
   {
    "duration": 37,
    "start_time": "2021-11-25T00:31:42.451Z"
   },
   {
    "duration": 4,
    "start_time": "2021-11-25T00:31:42.489Z"
   },
   {
    "duration": 13,
    "start_time": "2021-11-25T00:31:42.496Z"
   },
   {
    "duration": 2,
    "start_time": "2021-11-25T00:31:42.511Z"
   },
   {
    "duration": 8,
    "start_time": "2021-11-25T00:31:42.514Z"
   },
   {
    "duration": 7,
    "start_time": "2021-11-25T00:31:42.524Z"
   },
   {
    "duration": 17,
    "start_time": "2021-11-25T00:31:42.532Z"
   },
   {
    "duration": 39,
    "start_time": "2021-11-25T00:31:42.550Z"
   },
   {
    "duration": 17,
    "start_time": "2021-11-25T00:31:42.590Z"
   },
   {
    "duration": 27,
    "start_time": "2021-11-25T00:31:42.608Z"
   },
   {
    "duration": 3,
    "start_time": "2021-11-25T00:31:42.637Z"
   },
   {
    "duration": 7,
    "start_time": "2021-11-25T00:31:42.642Z"
   },
   {
    "duration": 3272,
    "start_time": "2021-11-25T00:31:42.650Z"
   },
   {
    "duration": 6,
    "start_time": "2021-11-25T00:31:45.924Z"
   },
   {
    "duration": 23,
    "start_time": "2021-11-25T00:31:45.932Z"
   },
   {
    "duration": 31,
    "start_time": "2021-11-25T00:31:45.957Z"
   },
   {
    "duration": 570,
    "start_time": "2021-11-25T00:31:45.989Z"
   },
   {
    "duration": 28,
    "start_time": "2021-11-25T00:31:46.560Z"
   },
   {
    "duration": 16,
    "start_time": "2021-11-25T00:31:46.590Z"
   },
   {
    "duration": 23,
    "start_time": "2021-11-25T00:31:46.608Z"
   },
   {
    "duration": 12,
    "start_time": "2021-11-25T00:31:46.632Z"
   },
   {
    "duration": 13,
    "start_time": "2021-11-25T00:31:46.645Z"
   },
   {
    "duration": 37,
    "start_time": "2021-11-25T00:31:46.660Z"
   },
   {
    "duration": 12,
    "start_time": "2021-11-25T00:31:46.699Z"
   },
   {
    "duration": 8,
    "start_time": "2021-11-25T00:32:04.182Z"
   },
   {
    "duration": 7,
    "start_time": "2021-11-25T00:33:20.031Z"
   },
   {
    "duration": 7,
    "start_time": "2021-11-25T00:33:24.120Z"
   },
   {
    "duration": 8,
    "start_time": "2021-11-25T00:33:26.827Z"
   },
   {
    "duration": 7,
    "start_time": "2021-11-25T00:33:29.390Z"
   },
   {
    "duration": 7,
    "start_time": "2021-11-25T00:33:33.841Z"
   },
   {
    "duration": 8,
    "start_time": "2021-11-25T00:33:50.016Z"
   },
   {
    "duration": 7,
    "start_time": "2021-11-25T00:35:57.073Z"
   },
   {
    "duration": 7,
    "start_time": "2021-11-25T00:35:58.459Z"
   },
   {
    "duration": 584,
    "start_time": "2021-11-25T00:36:05.004Z"
   },
   {
    "duration": 15,
    "start_time": "2021-11-25T00:36:05.590Z"
   },
   {
    "duration": 5,
    "start_time": "2021-11-25T00:36:05.606Z"
   },
   {
    "duration": 18,
    "start_time": "2021-11-25T00:36:05.612Z"
   },
   {
    "duration": 7,
    "start_time": "2021-11-25T00:36:05.631Z"
   },
   {
    "duration": 8,
    "start_time": "2021-11-25T00:36:05.640Z"
   },
   {
    "duration": 43,
    "start_time": "2021-11-25T00:36:05.649Z"
   },
   {
    "duration": 4,
    "start_time": "2021-11-25T00:36:05.694Z"
   },
   {
    "duration": 4,
    "start_time": "2021-11-25T00:36:05.700Z"
   },
   {
    "duration": 8,
    "start_time": "2021-11-25T00:36:05.705Z"
   },
   {
    "duration": 11,
    "start_time": "2021-11-25T00:36:05.714Z"
   },
   {
    "duration": 16,
    "start_time": "2021-11-25T00:36:05.726Z"
   },
   {
    "duration": 5,
    "start_time": "2021-11-25T00:36:05.743Z"
   },
   {
    "duration": 9,
    "start_time": "2021-11-25T00:36:05.749Z"
   },
   {
    "duration": 33,
    "start_time": "2021-11-25T00:36:05.759Z"
   },
   {
    "duration": 13,
    "start_time": "2021-11-25T00:36:05.793Z"
   },
   {
    "duration": 12,
    "start_time": "2021-11-25T00:36:05.807Z"
   },
   {
    "duration": 15,
    "start_time": "2021-11-25T00:36:05.820Z"
   },
   {
    "duration": 6,
    "start_time": "2021-11-25T00:36:05.836Z"
   },
   {
    "duration": 10,
    "start_time": "2021-11-25T00:36:05.844Z"
   },
   {
    "duration": 5,
    "start_time": "2021-11-25T00:36:05.855Z"
   },
   {
    "duration": 14,
    "start_time": "2021-11-25T00:36:05.888Z"
   },
   {
    "duration": 2,
    "start_time": "2021-11-25T00:36:05.905Z"
   },
   {
    "duration": 10,
    "start_time": "2021-11-25T00:36:05.909Z"
   },
   {
    "duration": 7,
    "start_time": "2021-11-25T00:36:05.920Z"
   },
   {
    "duration": 16,
    "start_time": "2021-11-25T00:36:05.929Z"
   },
   {
    "duration": 7,
    "start_time": "2021-11-25T00:36:05.947Z"
   },
   {
    "duration": 43,
    "start_time": "2021-11-25T00:36:05.956Z"
   },
   {
    "duration": 29,
    "start_time": "2021-11-25T00:36:06.000Z"
   },
   {
    "duration": 4,
    "start_time": "2021-11-25T00:36:06.030Z"
   },
   {
    "duration": 9,
    "start_time": "2021-11-25T00:36:06.035Z"
   },
   {
    "duration": 3214,
    "start_time": "2021-11-25T00:36:06.045Z"
   },
   {
    "duration": 6,
    "start_time": "2021-11-25T00:36:09.261Z"
   },
   {
    "duration": 33,
    "start_time": "2021-11-25T00:36:09.269Z"
   },
   {
    "duration": 12,
    "start_time": "2021-11-25T00:36:09.304Z"
   },
   {
    "duration": 507,
    "start_time": "2021-11-25T00:36:09.318Z"
   },
   {
    "duration": 23,
    "start_time": "2021-11-25T00:36:09.826Z"
   },
   {
    "duration": 16,
    "start_time": "2021-11-25T00:36:09.851Z"
   },
   {
    "duration": 39,
    "start_time": "2021-11-25T00:36:09.868Z"
   },
   {
    "duration": 11,
    "start_time": "2021-11-25T00:36:09.909Z"
   },
   {
    "duration": 13,
    "start_time": "2021-11-25T00:36:09.921Z"
   },
   {
    "duration": 12,
    "start_time": "2021-11-25T00:36:09.936Z"
   },
   {
    "duration": 12,
    "start_time": "2021-11-25T00:36:09.949Z"
   },
   {
    "duration": 342,
    "start_time": "2021-11-25T00:39:36.764Z"
   },
   {
    "duration": 2,
    "start_time": "2021-11-25T00:39:46.885Z"
   },
   {
    "duration": 351,
    "start_time": "2021-11-25T00:39:49.757Z"
   },
   {
    "duration": 19,
    "start_time": "2021-11-25T00:40:10.026Z"
   },
   {
    "duration": 212,
    "start_time": "2021-11-25T00:41:52.033Z"
   },
   {
    "duration": 71,
    "start_time": "2021-11-25T00:43:53.677Z"
   },
   {
    "duration": 2,
    "start_time": "2021-11-25T00:43:54.889Z"
   },
   {
    "duration": 272,
    "start_time": "2021-11-25T00:43:57.257Z"
   },
   {
    "duration": 278,
    "start_time": "2021-11-25T00:44:01.069Z"
   },
   {
    "duration": 3350,
    "start_time": "2021-11-25T00:45:20.166Z"
   },
   {
    "duration": 331,
    "start_time": "2021-11-25T00:48:07.903Z"
   },
   {
    "duration": 255,
    "start_time": "2021-11-25T00:49:23.996Z"
   },
   {
    "duration": 241,
    "start_time": "2021-11-25T00:50:58.587Z"
   },
   {
    "duration": 682,
    "start_time": "2021-11-25T00:51:03.663Z"
   },
   {
    "duration": 1187,
    "start_time": "2021-11-25T00:51:44.890Z"
   },
   {
    "duration": 536,
    "start_time": "2021-11-25T00:52:58.398Z"
   },
   {
    "duration": 366,
    "start_time": "2021-11-25T00:56:49.177Z"
   },
   {
    "duration": 383,
    "start_time": "2021-11-25T00:57:09.772Z"
   },
   {
    "duration": 340,
    "start_time": "2021-11-25T00:57:29.934Z"
   },
   {
    "duration": 332,
    "start_time": "2021-11-25T00:57:35.127Z"
   },
   {
    "duration": 346,
    "start_time": "2021-11-25T00:57:39.437Z"
   },
   {
    "duration": 352,
    "start_time": "2021-11-25T00:57:45.795Z"
   },
   {
    "duration": 468,
    "start_time": "2021-11-25T00:57:49.179Z"
   },
   {
    "duration": 353,
    "start_time": "2021-11-25T00:57:53.800Z"
   },
   {
    "duration": 352,
    "start_time": "2021-11-25T00:57:56.596Z"
   },
   {
    "duration": 349,
    "start_time": "2021-11-25T00:59:55.553Z"
   },
   {
    "duration": 359,
    "start_time": "2021-11-25T01:01:01.657Z"
   },
   {
    "duration": 231,
    "start_time": "2021-11-25T01:02:14.095Z"
   },
   {
    "duration": 231,
    "start_time": "2021-11-25T01:02:19.014Z"
   },
   {
    "duration": 226,
    "start_time": "2021-11-25T01:02:28.828Z"
   },
   {
    "duration": 356,
    "start_time": "2021-11-25T01:02:42.875Z"
   },
   {
    "duration": 333,
    "start_time": "2021-11-25T01:02:52.533Z"
   },
   {
    "duration": 375,
    "start_time": "2021-11-25T01:03:03.964Z"
   },
   {
    "duration": 301,
    "start_time": "2021-11-25T01:03:44.259Z"
   },
   {
    "duration": 259,
    "start_time": "2021-11-25T01:04:01.932Z"
   },
   {
    "duration": 258,
    "start_time": "2021-11-25T01:04:23.315Z"
   },
   {
    "duration": 270,
    "start_time": "2021-11-25T01:06:10.698Z"
   },
   {
    "duration": 237,
    "start_time": "2021-11-25T01:06:24.328Z"
   },
   {
    "duration": 549,
    "start_time": "2021-11-25T01:11:34.079Z"
   },
   {
    "duration": 30,
    "start_time": "2021-11-25T01:11:42.894Z"
   },
   {
    "duration": 26,
    "start_time": "2021-11-25T01:11:44.354Z"
   },
   {
    "duration": 174,
    "start_time": "2021-11-25T01:12:18.386Z"
   },
   {
    "duration": 24,
    "start_time": "2021-11-25T01:12:36.375Z"
   },
   {
    "duration": 18,
    "start_time": "2021-11-25T01:13:05.766Z"
   },
   {
    "duration": 83,
    "start_time": "2021-11-25T01:14:35.394Z"
   },
   {
    "duration": 82,
    "start_time": "2021-11-25T01:14:42.505Z"
   },
   {
    "duration": 19,
    "start_time": "2021-11-25T01:14:57.613Z"
   },
   {
    "duration": 23,
    "start_time": "2021-11-25T01:16:15.489Z"
   },
   {
    "duration": 17,
    "start_time": "2021-11-25T01:16:33.473Z"
   },
   {
    "duration": 49,
    "start_time": "2021-11-25T01:16:39.005Z"
   },
   {
    "duration": 165,
    "start_time": "2021-11-25T01:16:49.236Z"
   },
   {
    "duration": 90,
    "start_time": "2021-11-25T01:17:43.277Z"
   },
   {
    "duration": 80,
    "start_time": "2021-11-25T01:17:49.496Z"
   },
   {
    "duration": 115,
    "start_time": "2021-11-25T01:17:55.359Z"
   },
   {
    "duration": 75,
    "start_time": "2021-11-25T01:17:57.841Z"
   },
   {
    "duration": 79,
    "start_time": "2021-11-25T01:18:29.325Z"
   },
   {
    "duration": 74,
    "start_time": "2021-11-25T01:18:32.948Z"
   },
   {
    "duration": 120,
    "start_time": "2021-11-25T01:19:00.464Z"
   },
   {
    "duration": 35,
    "start_time": "2021-11-25T01:19:07.682Z"
   },
   {
    "duration": 31,
    "start_time": "2021-11-25T01:20:29.422Z"
   },
   {
    "duration": 84,
    "start_time": "2021-11-25T01:20:54.479Z"
   },
   {
    "duration": 153,
    "start_time": "2021-11-25T01:21:02.232Z"
   },
   {
    "duration": 183,
    "start_time": "2021-11-25T01:21:16.082Z"
   },
   {
    "duration": 77,
    "start_time": "2021-11-25T01:21:55.427Z"
   },
   {
    "duration": 84,
    "start_time": "2021-11-25T01:22:01.762Z"
   },
   {
    "duration": 28,
    "start_time": "2021-11-25T01:22:06.900Z"
   },
   {
    "duration": 88,
    "start_time": "2021-11-25T01:22:38.804Z"
   },
   {
    "duration": 83,
    "start_time": "2021-11-25T01:22:44.162Z"
   },
   {
    "duration": 81,
    "start_time": "2021-11-25T01:22:50.468Z"
   },
   {
    "duration": 29,
    "start_time": "2021-11-25T01:22:56.357Z"
   },
   {
    "duration": 313,
    "start_time": "2021-11-25T01:24:52.589Z"
   },
   {
    "duration": 25,
    "start_time": "2021-11-25T01:24:59.283Z"
   },
   {
    "duration": 28,
    "start_time": "2021-11-25T01:26:00.728Z"
   },
   {
    "duration": 28,
    "start_time": "2021-11-25T01:26:33.181Z"
   },
   {
    "duration": 260,
    "start_time": "2021-11-25T01:26:42.193Z"
   },
   {
    "duration": 269,
    "start_time": "2021-11-25T01:26:57.351Z"
   },
   {
    "duration": 243,
    "start_time": "2021-11-25T01:27:01.109Z"
   },
   {
    "duration": 244,
    "start_time": "2021-11-25T01:27:05.808Z"
   },
   {
    "duration": 332,
    "start_time": "2021-11-25T01:33:17.838Z"
   },
   {
    "duration": 6033,
    "start_time": "2021-11-25T01:33:22.266Z"
   },
   {
    "duration": 6169,
    "start_time": "2021-11-25T01:33:28.635Z"
   },
   {
    "duration": 89,
    "start_time": "2021-11-25T01:35:07.541Z"
   },
   {
    "duration": 169,
    "start_time": "2021-11-25T01:35:10.876Z"
   },
   {
    "duration": 34,
    "start_time": "2021-11-25T01:35:30.001Z"
   },
   {
    "duration": 261,
    "start_time": "2021-11-25T01:35:34.574Z"
   },
   {
    "duration": 29,
    "start_time": "2021-11-25T01:35:38.393Z"
   },
   {
    "duration": 168,
    "start_time": "2021-11-25T01:35:45.253Z"
   },
   {
    "duration": 92,
    "start_time": "2021-11-25T01:36:22.665Z"
   },
   {
    "duration": 12,
    "start_time": "2021-11-25T01:36:36.341Z"
   },
   {
    "duration": 86,
    "start_time": "2021-11-25T01:41:44.137Z"
   },
   {
    "duration": 24,
    "start_time": "2021-11-25T01:41:50.087Z"
   },
   {
    "duration": 26,
    "start_time": "2021-11-25T01:42:20.863Z"
   },
   {
    "duration": 18,
    "start_time": "2021-11-25T01:42:42.560Z"
   },
   {
    "duration": 87,
    "start_time": "2021-11-25T01:42:54.758Z"
   },
   {
    "duration": 24,
    "start_time": "2021-11-25T01:42:56.088Z"
   },
   {
    "duration": 160,
    "start_time": "2021-11-25T01:43:02.816Z"
   },
   {
    "duration": 23,
    "start_time": "2021-11-25T01:46:42.094Z"
   },
   {
    "duration": 293,
    "start_time": "2021-11-25T01:47:01.164Z"
   },
   {
    "duration": 25,
    "start_time": "2021-11-25T01:47:12.159Z"
   },
   {
    "duration": 189,
    "start_time": "2021-11-25T01:47:43.609Z"
   },
   {
    "duration": 30,
    "start_time": "2021-11-25T01:48:03.051Z"
   },
   {
    "duration": 170,
    "start_time": "2021-11-25T01:48:11.400Z"
   },
   {
    "duration": 31,
    "start_time": "2021-11-25T01:48:46.856Z"
   },
   {
    "duration": 170,
    "start_time": "2021-11-25T01:48:50.671Z"
   },
   {
    "duration": 251,
    "start_time": "2021-11-25T01:50:00.188Z"
   },
   {
    "duration": 166,
    "start_time": "2021-11-25T01:50:58.448Z"
   },
   {
    "duration": 160,
    "start_time": "2021-11-25T01:51:01.147Z"
   },
   {
    "duration": 27,
    "start_time": "2021-11-25T01:51:04.701Z"
   },
   {
    "duration": 167,
    "start_time": "2021-11-25T01:51:08.252Z"
   },
   {
    "duration": 163,
    "start_time": "2021-11-25T01:51:10.912Z"
   },
   {
    "duration": 169,
    "start_time": "2021-11-25T01:51:14.572Z"
   },
   {
    "duration": 332,
    "start_time": "2021-11-25T01:52:01.918Z"
   },
   {
    "duration": 26,
    "start_time": "2021-11-25T01:53:04.719Z"
   },
   {
    "duration": 25,
    "start_time": "2021-11-25T01:58:23.565Z"
   },
   {
    "duration": 153,
    "start_time": "2021-11-25T02:01:47.807Z"
   },
   {
    "duration": 244,
    "start_time": "2021-11-25T02:02:07.108Z"
   },
   {
    "duration": 309,
    "start_time": "2021-11-25T02:02:27.730Z"
   },
   {
    "duration": 288,
    "start_time": "2021-11-25T02:03:05.009Z"
   },
   {
    "duration": 178,
    "start_time": "2021-11-25T02:03:32.031Z"
   },
   {
    "duration": 519,
    "start_time": "2021-11-25T02:06:32.243Z"
   },
   {
    "duration": 392,
    "start_time": "2021-11-25T02:07:07.704Z"
   },
   {
    "duration": 394,
    "start_time": "2021-11-25T02:07:11.912Z"
   },
   {
    "duration": 534,
    "start_time": "2021-11-25T02:07:21.097Z"
   },
   {
    "duration": 159,
    "start_time": "2021-11-25T02:07:57.955Z"
   },
   {
    "duration": 25,
    "start_time": "2021-11-25T02:08:53.606Z"
   },
   {
    "duration": 22,
    "start_time": "2021-11-25T02:09:21.799Z"
   },
   {
    "duration": 19,
    "start_time": "2021-11-25T02:09:38.793Z"
   },
   {
    "duration": 618,
    "start_time": "2021-11-25T02:09:46.961Z"
   },
   {
    "duration": 15,
    "start_time": "2021-11-25T02:09:47.581Z"
   },
   {
    "duration": 6,
    "start_time": "2021-11-25T02:09:47.598Z"
   },
   {
    "duration": 16,
    "start_time": "2021-11-25T02:09:47.606Z"
   },
   {
    "duration": 6,
    "start_time": "2021-11-25T02:09:47.623Z"
   },
   {
    "duration": 10,
    "start_time": "2021-11-25T02:09:47.631Z"
   },
   {
    "duration": 19,
    "start_time": "2021-11-25T02:09:47.643Z"
   },
   {
    "duration": 24,
    "start_time": "2021-11-25T02:09:47.663Z"
   },
   {
    "duration": 4,
    "start_time": "2021-11-25T02:09:47.690Z"
   },
   {
    "duration": 6,
    "start_time": "2021-11-25T02:09:47.695Z"
   },
   {
    "duration": 7,
    "start_time": "2021-11-25T02:09:47.703Z"
   },
   {
    "duration": 16,
    "start_time": "2021-11-25T02:09:47.711Z"
   },
   {
    "duration": 5,
    "start_time": "2021-11-25T02:09:47.728Z"
   },
   {
    "duration": 8,
    "start_time": "2021-11-25T02:09:47.734Z"
   },
   {
    "duration": 13,
    "start_time": "2021-11-25T02:09:47.743Z"
   },
   {
    "duration": 34,
    "start_time": "2021-11-25T02:09:47.757Z"
   },
   {
    "duration": 9,
    "start_time": "2021-11-25T02:09:47.793Z"
   },
   {
    "duration": 16,
    "start_time": "2021-11-25T02:09:47.803Z"
   },
   {
    "duration": 6,
    "start_time": "2021-11-25T02:09:47.820Z"
   },
   {
    "duration": 9,
    "start_time": "2021-11-25T02:09:47.828Z"
   },
   {
    "duration": 4,
    "start_time": "2021-11-25T02:09:47.838Z"
   },
   {
    "duration": 51,
    "start_time": "2021-11-25T02:09:47.843Z"
   },
   {
    "duration": 1,
    "start_time": "2021-11-25T02:09:47.896Z"
   },
   {
    "duration": 8,
    "start_time": "2021-11-25T02:09:47.899Z"
   },
   {
    "duration": 11,
    "start_time": "2021-11-25T02:09:47.908Z"
   },
   {
    "duration": 16,
    "start_time": "2021-11-25T02:09:47.920Z"
   },
   {
    "duration": 6,
    "start_time": "2021-11-25T02:09:47.939Z"
   },
   {
    "duration": 17,
    "start_time": "2021-11-25T02:09:47.947Z"
   },
   {
    "duration": 51,
    "start_time": "2021-11-25T02:09:47.965Z"
   },
   {
    "duration": 3,
    "start_time": "2021-11-25T02:09:48.018Z"
   },
   {
    "duration": 8,
    "start_time": "2021-11-25T02:09:48.022Z"
   },
   {
    "duration": 3206,
    "start_time": "2021-11-25T02:09:48.031Z"
   },
   {
    "duration": 7,
    "start_time": "2021-11-25T02:09:51.239Z"
   },
   {
    "duration": 26,
    "start_time": "2021-11-25T02:09:51.247Z"
   },
   {
    "duration": 13,
    "start_time": "2021-11-25T02:09:51.288Z"
   },
   {
    "duration": 521,
    "start_time": "2021-11-25T02:09:51.302Z"
   },
   {
    "duration": 24,
    "start_time": "2021-11-25T02:09:51.824Z"
   },
   {
    "duration": 368,
    "start_time": "2021-11-25T02:09:51.849Z"
   },
   {
    "duration": 363,
    "start_time": "2021-11-25T02:09:51.856Z"
   },
   {
    "duration": 360,
    "start_time": "2021-11-25T02:09:51.860Z"
   },
   {
    "duration": 356,
    "start_time": "2021-11-25T02:09:51.865Z"
   },
   {
    "duration": 355,
    "start_time": "2021-11-25T02:09:51.867Z"
   },
   {
    "duration": 354,
    "start_time": "2021-11-25T02:09:51.869Z"
   },
   {
    "duration": 353,
    "start_time": "2021-11-25T02:09:51.871Z"
   },
   {
    "duration": 352,
    "start_time": "2021-11-25T02:09:51.873Z"
   },
   {
    "duration": 619,
    "start_time": "2021-11-25T02:12:41.554Z"
   },
   {
    "duration": 15,
    "start_time": "2021-11-25T02:12:42.175Z"
   },
   {
    "duration": 4,
    "start_time": "2021-11-25T02:12:42.194Z"
   },
   {
    "duration": 16,
    "start_time": "2021-11-25T02:12:42.199Z"
   },
   {
    "duration": 5,
    "start_time": "2021-11-25T02:12:42.217Z"
   },
   {
    "duration": 8,
    "start_time": "2021-11-25T02:12:42.224Z"
   },
   {
    "duration": 18,
    "start_time": "2021-11-25T02:12:42.234Z"
   },
   {
    "duration": 37,
    "start_time": "2021-11-25T02:12:42.254Z"
   },
   {
    "duration": 6,
    "start_time": "2021-11-25T02:12:42.292Z"
   },
   {
    "duration": 11,
    "start_time": "2021-11-25T02:12:42.299Z"
   },
   {
    "duration": 7,
    "start_time": "2021-11-25T02:12:42.311Z"
   },
   {
    "duration": 19,
    "start_time": "2021-11-25T02:12:42.320Z"
   },
   {
    "duration": 5,
    "start_time": "2021-11-25T02:12:42.340Z"
   },
   {
    "duration": 8,
    "start_time": "2021-11-25T02:12:42.346Z"
   },
   {
    "duration": 11,
    "start_time": "2021-11-25T02:12:42.355Z"
   },
   {
    "duration": 28,
    "start_time": "2021-11-25T02:12:42.367Z"
   },
   {
    "duration": 11,
    "start_time": "2021-11-25T02:12:42.396Z"
   },
   {
    "duration": 14,
    "start_time": "2021-11-25T02:12:42.408Z"
   },
   {
    "duration": 6,
    "start_time": "2021-11-25T02:12:42.423Z"
   },
   {
    "duration": 9,
    "start_time": "2021-11-25T02:12:42.431Z"
   },
   {
    "duration": 4,
    "start_time": "2021-11-25T02:12:42.441Z"
   },
   {
    "duration": 46,
    "start_time": "2021-11-25T02:12:42.447Z"
   },
   {
    "duration": 2,
    "start_time": "2021-11-25T02:12:42.495Z"
   },
   {
    "duration": 8,
    "start_time": "2021-11-25T02:12:42.498Z"
   },
   {
    "duration": 8,
    "start_time": "2021-11-25T02:12:42.508Z"
   },
   {
    "duration": 17,
    "start_time": "2021-11-25T02:12:42.518Z"
   },
   {
    "duration": 6,
    "start_time": "2021-11-25T02:12:42.536Z"
   },
   {
    "duration": 19,
    "start_time": "2021-11-25T02:12:42.543Z"
   },
   {
    "duration": 49,
    "start_time": "2021-11-25T02:12:42.563Z"
   },
   {
    "duration": 3,
    "start_time": "2021-11-25T02:12:42.613Z"
   },
   {
    "duration": 8,
    "start_time": "2021-11-25T02:12:42.618Z"
   },
   {
    "duration": 3024,
    "start_time": "2021-11-25T02:12:42.628Z"
   },
   {
    "duration": 6,
    "start_time": "2021-11-25T02:12:45.653Z"
   },
   {
    "duration": 38,
    "start_time": "2021-11-25T02:12:45.661Z"
   },
   {
    "duration": 14,
    "start_time": "2021-11-25T02:12:45.701Z"
   },
   {
    "duration": 504,
    "start_time": "2021-11-25T02:12:45.716Z"
   },
   {
    "duration": 22,
    "start_time": "2021-11-25T02:12:46.222Z"
   },
   {
    "duration": 307,
    "start_time": "2021-11-25T02:12:46.246Z"
   },
   {
    "duration": 376,
    "start_time": "2021-11-25T02:12:46.179Z"
   },
   {
    "duration": 373,
    "start_time": "2021-11-25T02:12:46.182Z"
   },
   {
    "duration": 363,
    "start_time": "2021-11-25T02:12:46.193Z"
   },
   {
    "duration": 362,
    "start_time": "2021-11-25T02:12:46.195Z"
   },
   {
    "duration": 360,
    "start_time": "2021-11-25T02:12:46.197Z"
   },
   {
    "duration": 358,
    "start_time": "2021-11-25T02:12:46.200Z"
   },
   {
    "duration": 353,
    "start_time": "2021-11-25T02:12:46.206Z"
   },
   {
    "duration": 1045,
    "start_time": "2021-11-25T02:13:02.139Z"
   },
   {
    "duration": 2,
    "start_time": "2021-11-25T02:13:08.919Z"
   },
   {
    "duration": 2,
    "start_time": "2021-11-25T02:13:12.829Z"
   },
   {
    "duration": 241,
    "start_time": "2021-11-25T02:13:15.723Z"
   },
   {
    "duration": 1083,
    "start_time": "2021-11-25T07:20:32.182Z"
   },
   {
    "duration": 367,
    "start_time": "2021-11-25T07:20:35.024Z"
   },
   {
    "duration": 291,
    "start_time": "2021-11-25T07:20:47.753Z"
   },
   {
    "duration": 625,
    "start_time": "2021-11-25T07:21:03.683Z"
   },
   {
    "duration": 17,
    "start_time": "2021-11-25T07:21:04.310Z"
   },
   {
    "duration": 30,
    "start_time": "2021-11-25T07:21:04.329Z"
   },
   {
    "duration": 37,
    "start_time": "2021-11-25T07:21:04.361Z"
   },
   {
    "duration": 33,
    "start_time": "2021-11-25T07:21:04.400Z"
   },
   {
    "duration": 32,
    "start_time": "2021-11-25T07:21:04.435Z"
   },
   {
    "duration": 47,
    "start_time": "2021-11-25T07:21:04.468Z"
   },
   {
    "duration": 24,
    "start_time": "2021-11-25T07:21:04.517Z"
   },
   {
    "duration": 41,
    "start_time": "2021-11-25T07:21:04.543Z"
   },
   {
    "duration": 33,
    "start_time": "2021-11-25T07:21:04.586Z"
   },
   {
    "duration": 37,
    "start_time": "2021-11-25T07:21:04.621Z"
   },
   {
    "duration": 40,
    "start_time": "2021-11-25T07:21:04.660Z"
   },
   {
    "duration": 31,
    "start_time": "2021-11-25T07:21:04.702Z"
   },
   {
    "duration": 31,
    "start_time": "2021-11-25T07:21:04.735Z"
   },
   {
    "duration": 23,
    "start_time": "2021-11-25T07:21:04.769Z"
   },
   {
    "duration": 36,
    "start_time": "2021-11-25T07:21:04.794Z"
   },
   {
    "duration": 27,
    "start_time": "2021-11-25T07:21:04.832Z"
   },
   {
    "duration": 26,
    "start_time": "2021-11-25T07:21:04.861Z"
   },
   {
    "duration": 38,
    "start_time": "2021-11-25T07:21:04.889Z"
   },
   {
    "duration": 28,
    "start_time": "2021-11-25T07:21:04.929Z"
   },
   {
    "duration": 13,
    "start_time": "2021-11-25T07:21:04.958Z"
   },
   {
    "duration": 39,
    "start_time": "2021-11-25T07:21:04.972Z"
   },
   {
    "duration": 14,
    "start_time": "2021-11-25T07:21:05.014Z"
   },
   {
    "duration": 28,
    "start_time": "2021-11-25T07:21:05.030Z"
   },
   {
    "duration": 32,
    "start_time": "2021-11-25T07:21:05.059Z"
   },
   {
    "duration": 37,
    "start_time": "2021-11-25T07:21:05.092Z"
   },
   {
    "duration": 37,
    "start_time": "2021-11-25T07:21:05.130Z"
   },
   {
    "duration": 59,
    "start_time": "2021-11-25T07:21:05.168Z"
   },
   {
    "duration": 48,
    "start_time": "2021-11-25T07:21:05.229Z"
   },
   {
    "duration": 27,
    "start_time": "2021-11-25T07:21:05.279Z"
   },
   {
    "duration": 13,
    "start_time": "2021-11-25T07:21:05.307Z"
   },
   {
    "duration": 3704,
    "start_time": "2021-11-25T07:21:05.322Z"
   },
   {
    "duration": 20,
    "start_time": "2021-11-25T07:21:09.029Z"
   },
   {
    "duration": 50,
    "start_time": "2021-11-25T07:21:09.051Z"
   },
   {
    "duration": 16,
    "start_time": "2021-11-25T07:21:09.103Z"
   },
   {
    "duration": 577,
    "start_time": "2021-11-25T07:21:09.120Z"
   },
   {
    "duration": 27,
    "start_time": "2021-11-25T07:21:09.698Z"
   },
   {
    "duration": 360,
    "start_time": "2021-11-25T07:21:09.726Z"
   },
   {
    "duration": 28,
    "start_time": "2021-11-25T07:21:10.087Z"
   },
   {
    "duration": 440,
    "start_time": "2021-11-25T07:21:10.117Z"
   },
   {
    "duration": 681,
    "start_time": "2021-11-25T07:21:10.559Z"
   },
   {
    "duration": 17,
    "start_time": "2021-11-25T07:21:11.242Z"
   },
   {
    "duration": 17,
    "start_time": "2021-11-25T07:21:11.261Z"
   },
   {
    "duration": 16,
    "start_time": "2021-11-25T07:21:11.279Z"
   },
   {
    "duration": 15,
    "start_time": "2021-11-25T07:21:11.296Z"
   },
   {
    "duration": 2,
    "start_time": "2021-11-25T07:21:28.986Z"
   },
   {
    "duration": 21,
    "start_time": "2021-11-25T07:21:33.000Z"
   },
   {
    "duration": 182,
    "start_time": "2021-11-25T07:22:46.755Z"
   },
   {
    "duration": 19,
    "start_time": "2021-11-25T07:23:04.236Z"
   },
   {
    "duration": 374,
    "start_time": "2021-11-25T07:23:06.796Z"
   },
   {
    "duration": 360,
    "start_time": "2021-11-25T07:23:33.454Z"
   },
   {
    "duration": 239,
    "start_time": "2021-11-25T07:23:38.982Z"
   },
   {
    "duration": 595,
    "start_time": "2021-11-25T15:28:04.346Z"
   },
   {
    "duration": 16,
    "start_time": "2021-11-25T15:28:04.943Z"
   },
   {
    "duration": 6,
    "start_time": "2021-11-25T15:28:04.961Z"
   },
   {
    "duration": 17,
    "start_time": "2021-11-25T15:28:04.968Z"
   },
   {
    "duration": 7,
    "start_time": "2021-11-25T15:28:04.987Z"
   },
   {
    "duration": 5,
    "start_time": "2021-11-25T15:28:04.996Z"
   },
   {
    "duration": 18,
    "start_time": "2021-11-25T15:28:05.003Z"
   },
   {
    "duration": 5,
    "start_time": "2021-11-25T15:28:05.024Z"
   },
   {
    "duration": 10,
    "start_time": "2021-11-25T15:28:05.031Z"
   },
   {
    "duration": 13,
    "start_time": "2021-11-25T15:28:05.042Z"
   },
   {
    "duration": 8,
    "start_time": "2021-11-25T15:28:05.056Z"
   },
   {
    "duration": 37,
    "start_time": "2021-11-25T15:28:05.065Z"
   },
   {
    "duration": 5,
    "start_time": "2021-11-25T15:28:05.103Z"
   },
   {
    "duration": 11,
    "start_time": "2021-11-25T15:28:05.110Z"
   },
   {
    "duration": 7,
    "start_time": "2021-11-25T15:28:05.123Z"
   },
   {
    "duration": 13,
    "start_time": "2021-11-25T15:28:05.132Z"
   },
   {
    "duration": 11,
    "start_time": "2021-11-25T15:28:05.146Z"
   },
   {
    "duration": 41,
    "start_time": "2021-11-25T15:28:05.158Z"
   },
   {
    "duration": 6,
    "start_time": "2021-11-25T15:28:05.200Z"
   },
   {
    "duration": 12,
    "start_time": "2021-11-25T15:28:05.208Z"
   },
   {
    "duration": 6,
    "start_time": "2021-11-25T15:28:05.222Z"
   },
   {
    "duration": 16,
    "start_time": "2021-11-25T15:28:05.229Z"
   },
   {
    "duration": 2,
    "start_time": "2021-11-25T15:28:05.247Z"
   },
   {
    "duration": 8,
    "start_time": "2021-11-25T15:28:05.251Z"
   },
   {
    "duration": 29,
    "start_time": "2021-11-25T15:28:05.261Z"
   },
   {
    "duration": 17,
    "start_time": "2021-11-25T15:28:05.291Z"
   },
   {
    "duration": 8,
    "start_time": "2021-11-25T15:28:05.310Z"
   },
   {
    "duration": 22,
    "start_time": "2021-11-25T15:28:05.320Z"
   },
   {
    "duration": 44,
    "start_time": "2021-11-25T15:28:05.344Z"
   },
   {
    "duration": 3,
    "start_time": "2021-11-25T15:28:05.390Z"
   },
   {
    "duration": 16,
    "start_time": "2021-11-25T15:28:05.395Z"
   },
   {
    "duration": 3207,
    "start_time": "2021-11-25T15:28:05.413Z"
   },
   {
    "duration": 6,
    "start_time": "2021-11-25T15:28:08.621Z"
   },
   {
    "duration": 25,
    "start_time": "2021-11-25T15:28:08.629Z"
   },
   {
    "duration": 13,
    "start_time": "2021-11-25T15:28:08.655Z"
   },
   {
    "duration": 546,
    "start_time": "2021-11-25T15:28:08.670Z"
   },
   {
    "duration": 23,
    "start_time": "2021-11-25T15:28:09.218Z"
   },
   {
    "duration": 336,
    "start_time": "2021-11-25T15:28:09.242Z"
   },
   {
    "duration": 502,
    "start_time": "2021-11-25T15:28:09.078Z"
   },
   {
    "duration": 499,
    "start_time": "2021-11-25T15:28:09.082Z"
   },
   {
    "duration": 494,
    "start_time": "2021-11-25T15:28:09.087Z"
   },
   {
    "duration": 489,
    "start_time": "2021-11-25T15:28:09.093Z"
   },
   {
    "duration": 488,
    "start_time": "2021-11-25T15:28:09.095Z"
   },
   {
    "duration": 487,
    "start_time": "2021-11-25T15:28:09.097Z"
   },
   {
    "duration": 485,
    "start_time": "2021-11-25T15:28:09.099Z"
   },
   {
    "duration": 55,
    "start_time": "2021-11-25T15:35:03.078Z"
   },
   {
    "duration": 263,
    "start_time": "2021-11-25T15:35:25.329Z"
   },
   {
    "duration": 19,
    "start_time": "2021-11-25T15:35:41.253Z"
   },
   {
    "duration": 10,
    "start_time": "2021-11-25T15:35:48.832Z"
   },
   {
    "duration": 54,
    "start_time": "2021-11-25T15:39:26.744Z"
   },
   {
    "duration": 3074,
    "start_time": "2021-11-25T15:39:32.193Z"
   },
   {
    "duration": 12,
    "start_time": "2021-11-25T15:39:35.268Z"
   },
   {
    "duration": 5,
    "start_time": "2021-11-25T15:39:35.285Z"
   },
   {
    "duration": 17,
    "start_time": "2021-11-25T15:39:35.291Z"
   },
   {
    "duration": 5,
    "start_time": "2021-11-25T15:39:35.310Z"
   },
   {
    "duration": 10,
    "start_time": "2021-11-25T15:39:35.317Z"
   },
   {
    "duration": 18,
    "start_time": "2021-11-25T15:39:35.329Z"
   },
   {
    "duration": 5,
    "start_time": "2021-11-25T15:39:35.349Z"
   },
   {
    "duration": 6,
    "start_time": "2021-11-25T15:39:35.356Z"
   },
   {
    "duration": 7,
    "start_time": "2021-11-25T15:39:35.388Z"
   },
   {
    "duration": 8,
    "start_time": "2021-11-25T15:39:35.397Z"
   },
   {
    "duration": 19,
    "start_time": "2021-11-25T15:39:35.407Z"
   },
   {
    "duration": 5,
    "start_time": "2021-11-25T15:39:35.427Z"
   },
   {
    "duration": 9,
    "start_time": "2021-11-25T15:39:35.434Z"
   },
   {
    "duration": 9,
    "start_time": "2021-11-25T15:39:35.445Z"
   },
   {
    "duration": 42,
    "start_time": "2021-11-25T15:39:35.455Z"
   },
   {
    "duration": 12,
    "start_time": "2021-11-25T15:39:35.499Z"
   },
   {
    "duration": 15,
    "start_time": "2021-11-25T15:39:35.513Z"
   },
   {
    "duration": 12,
    "start_time": "2021-11-25T15:39:35.530Z"
   },
   {
    "duration": 18,
    "start_time": "2021-11-25T15:39:35.544Z"
   },
   {
    "duration": 11,
    "start_time": "2021-11-25T15:39:35.564Z"
   },
   {
    "duration": 22,
    "start_time": "2021-11-25T15:39:35.578Z"
   },
   {
    "duration": 2,
    "start_time": "2021-11-25T15:39:35.602Z"
   },
   {
    "duration": 16,
    "start_time": "2021-11-25T15:39:35.605Z"
   },
   {
    "duration": 20,
    "start_time": "2021-11-25T15:39:35.623Z"
   },
   {
    "duration": 28,
    "start_time": "2021-11-25T15:39:35.645Z"
   },
   {
    "duration": 11,
    "start_time": "2021-11-25T15:39:35.675Z"
   },
   {
    "duration": 23,
    "start_time": "2021-11-25T15:39:35.687Z"
   },
   {
    "duration": 29,
    "start_time": "2021-11-25T15:39:35.712Z"
   },
   {
    "duration": 6,
    "start_time": "2021-11-25T15:39:35.743Z"
   },
   {
    "duration": 12,
    "start_time": "2021-11-25T15:39:35.751Z"
   },
   {
    "duration": 3279,
    "start_time": "2021-11-25T15:39:35.765Z"
   },
   {
    "duration": 7,
    "start_time": "2021-11-25T15:39:39.046Z"
   },
   {
    "duration": 39,
    "start_time": "2021-11-25T15:39:39.054Z"
   },
   {
    "duration": 14,
    "start_time": "2021-11-25T15:39:39.094Z"
   },
   {
    "duration": 7,
    "start_time": "2021-11-25T15:39:39.109Z"
   },
   {
    "duration": 25,
    "start_time": "2021-11-25T15:39:39.117Z"
   },
   {
    "duration": 309,
    "start_time": "2021-11-25T15:39:39.144Z"
   },
   {
    "duration": 524,
    "start_time": "2021-11-25T15:39:38.930Z"
   },
   {
    "duration": 510,
    "start_time": "2021-11-25T15:39:38.945Z"
   },
   {
    "duration": 505,
    "start_time": "2021-11-25T15:39:38.951Z"
   },
   {
    "duration": 504,
    "start_time": "2021-11-25T15:39:38.953Z"
   },
   {
    "duration": 504,
    "start_time": "2021-11-25T15:39:38.954Z"
   },
   {
    "duration": 503,
    "start_time": "2021-11-25T15:39:38.956Z"
   },
   {
    "duration": 502,
    "start_time": "2021-11-25T15:39:38.958Z"
   },
   {
    "duration": 517,
    "start_time": "2021-11-25T15:43:44.018Z"
   },
   {
    "duration": 1113,
    "start_time": "2021-11-25T15:43:51.865Z"
   },
   {
    "duration": 13,
    "start_time": "2021-11-25T15:43:52.980Z"
   },
   {
    "duration": 12,
    "start_time": "2021-11-25T15:43:52.997Z"
   },
   {
    "duration": 19,
    "start_time": "2021-11-25T15:43:53.011Z"
   },
   {
    "duration": 8,
    "start_time": "2021-11-25T15:43:53.032Z"
   },
   {
    "duration": 8,
    "start_time": "2021-11-25T15:43:53.041Z"
   },
   {
    "duration": 45,
    "start_time": "2021-11-25T15:43:53.053Z"
   },
   {
    "duration": 7,
    "start_time": "2021-11-25T15:43:53.100Z"
   },
   {
    "duration": 6,
    "start_time": "2021-11-25T15:43:53.109Z"
   },
   {
    "duration": 314,
    "start_time": "2021-11-25T15:43:53.116Z"
   },
   {
    "duration": 513,
    "start_time": "2021-11-25T15:43:52.920Z"
   },
   {
    "duration": 511,
    "start_time": "2021-11-25T15:43:52.922Z"
   },
   {
    "duration": 509,
    "start_time": "2021-11-25T15:43:52.925Z"
   },
   {
    "duration": 507,
    "start_time": "2021-11-25T15:43:52.928Z"
   },
   {
    "duration": 506,
    "start_time": "2021-11-25T15:43:52.930Z"
   },
   {
    "duration": 505,
    "start_time": "2021-11-25T15:43:52.932Z"
   },
   {
    "duration": 504,
    "start_time": "2021-11-25T15:43:52.934Z"
   },
   {
    "duration": 503,
    "start_time": "2021-11-25T15:43:52.936Z"
   },
   {
    "duration": 501,
    "start_time": "2021-11-25T15:43:52.939Z"
   },
   {
    "duration": 500,
    "start_time": "2021-11-25T15:43:52.941Z"
   },
   {
    "duration": 499,
    "start_time": "2021-11-25T15:43:52.943Z"
   },
   {
    "duration": 498,
    "start_time": "2021-11-25T15:43:52.945Z"
   },
   {
    "duration": 496,
    "start_time": "2021-11-25T15:43:52.948Z"
   },
   {
    "duration": 495,
    "start_time": "2021-11-25T15:43:52.950Z"
   },
   {
    "duration": 493,
    "start_time": "2021-11-25T15:43:52.953Z"
   },
   {
    "duration": 493,
    "start_time": "2021-11-25T15:43:52.954Z"
   },
   {
    "duration": 487,
    "start_time": "2021-11-25T15:43:52.961Z"
   },
   {
    "duration": 486,
    "start_time": "2021-11-25T15:43:52.963Z"
   },
   {
    "duration": 484,
    "start_time": "2021-11-25T15:43:52.966Z"
   },
   {
    "duration": 478,
    "start_time": "2021-11-25T15:43:52.973Z"
   },
   {
    "duration": 478,
    "start_time": "2021-11-25T15:43:52.975Z"
   },
   {
    "duration": 477,
    "start_time": "2021-11-25T15:43:52.977Z"
   },
   {
    "duration": 478,
    "start_time": "2021-11-25T15:43:52.978Z"
   },
   {
    "duration": 477,
    "start_time": "2021-11-25T15:43:52.980Z"
   },
   {
    "duration": 474,
    "start_time": "2021-11-25T15:43:52.984Z"
   },
   {
    "duration": 469,
    "start_time": "2021-11-25T15:43:52.990Z"
   },
   {
    "duration": 468,
    "start_time": "2021-11-25T15:43:52.992Z"
   },
   {
    "duration": 466,
    "start_time": "2021-11-25T15:43:52.994Z"
   },
   {
    "duration": 465,
    "start_time": "2021-11-25T15:43:52.996Z"
   },
   {
    "duration": 458,
    "start_time": "2021-11-25T15:43:53.004Z"
   },
   {
    "duration": 456,
    "start_time": "2021-11-25T15:43:53.006Z"
   },
   {
    "duration": 455,
    "start_time": "2021-11-25T15:43:53.008Z"
   },
   {
    "duration": 454,
    "start_time": "2021-11-25T15:43:53.010Z"
   },
   {
    "duration": 453,
    "start_time": "2021-11-25T15:43:53.012Z"
   },
   {
    "duration": 452,
    "start_time": "2021-11-25T15:43:53.014Z"
   },
   {
    "duration": 450,
    "start_time": "2021-11-25T15:43:53.017Z"
   },
   {
    "duration": 241,
    "start_time": "2021-11-25T15:44:05.579Z"
   },
   {
    "duration": 54,
    "start_time": "2021-11-25T15:44:14.236Z"
   },
   {
    "duration": 11,
    "start_time": "2021-11-25T15:44:15.887Z"
   },
   {
    "duration": 7,
    "start_time": "2021-11-25T15:44:18.619Z"
   },
   {
    "duration": 19,
    "start_time": "2021-11-25T15:44:19.325Z"
   },
   {
    "duration": 7,
    "start_time": "2021-11-25T15:44:22.691Z"
   },
   {
    "duration": 7,
    "start_time": "2021-11-25T15:44:23.756Z"
   },
   {
    "duration": 19,
    "start_time": "2021-11-25T15:44:25.169Z"
   },
   {
    "duration": 6,
    "start_time": "2021-11-25T15:44:26.581Z"
   },
   {
    "duration": 4,
    "start_time": "2021-11-25T15:44:28.122Z"
   },
   {
    "duration": 242,
    "start_time": "2021-11-25T15:44:30.196Z"
   },
   {
    "duration": 53,
    "start_time": "2021-11-25T15:45:42.714Z"
   },
   {
    "duration": 7,
    "start_time": "2021-11-25T15:45:54.109Z"
   },
   {
    "duration": 16,
    "start_time": "2021-11-25T15:45:58.129Z"
   },
   {
    "duration": 7,
    "start_time": "2021-11-25T15:46:00.166Z"
   },
   {
    "duration": 445,
    "start_time": "2021-11-25T15:46:07.868Z"
   },
   {
    "duration": 57,
    "start_time": "2021-11-25T15:46:50.606Z"
   },
   {
    "duration": 332,
    "start_time": "2021-11-25T15:46:56.631Z"
   },
   {
    "duration": 216,
    "start_time": "2021-11-25T15:47:06.990Z"
   },
   {
    "duration": 277,
    "start_time": "2021-11-25T15:47:10.126Z"
   },
   {
    "duration": 201,
    "start_time": "2021-11-25T15:47:14.467Z"
   },
   {
    "duration": 192,
    "start_time": "2021-11-25T15:47:18.085Z"
   },
   {
    "duration": 239,
    "start_time": "2021-11-25T15:47:20.668Z"
   },
   {
    "duration": 227,
    "start_time": "2021-11-25T15:47:24.404Z"
   },
   {
    "duration": 766,
    "start_time": "2021-11-25T15:48:01.776Z"
   },
   {
    "duration": 189,
    "start_time": "2021-11-25T15:48:08.504Z"
   },
   {
    "duration": 231,
    "start_time": "2021-11-25T15:48:26.973Z"
   },
   {
    "duration": 227,
    "start_time": "2021-11-25T15:48:51.356Z"
   },
   {
    "duration": 225,
    "start_time": "2021-11-25T15:50:12.446Z"
   },
   {
    "duration": 301,
    "start_time": "2021-11-25T15:50:19.259Z"
   },
   {
    "duration": 254,
    "start_time": "2021-11-25T15:50:31.187Z"
   },
   {
    "duration": 415,
    "start_time": "2021-11-25T15:52:07.342Z"
   },
   {
    "duration": 415,
    "start_time": "2021-11-25T15:52:27.331Z"
   },
   {
    "duration": 409,
    "start_time": "2021-11-25T15:52:35.986Z"
   },
   {
    "duration": 250,
    "start_time": "2021-11-25T15:53:16.415Z"
   },
   {
    "duration": 277,
    "start_time": "2021-11-25T15:53:29.314Z"
   },
   {
    "duration": 304,
    "start_time": "2021-11-25T15:54:03.374Z"
   },
   {
    "duration": 534,
    "start_time": "2021-11-25T15:54:55.517Z"
   },
   {
    "duration": 41709,
    "start_time": "2021-11-25T15:55:15.004Z"
   },
   {
    "duration": 228,
    "start_time": "2021-11-25T15:59:18.727Z"
   },
   {
    "duration": 226,
    "start_time": "2021-11-25T16:03:08.899Z"
   },
   {
    "duration": 231,
    "start_time": "2021-11-25T16:03:12.272Z"
   },
   {
    "duration": 225,
    "start_time": "2021-11-25T16:03:17.524Z"
   },
   {
    "duration": 228,
    "start_time": "2021-11-25T16:04:43.507Z"
   },
   {
    "duration": 1013,
    "start_time": "2021-11-25T16:05:27.733Z"
   },
   {
    "duration": 256,
    "start_time": "2021-11-25T16:06:12.419Z"
   },
   {
    "duration": 214,
    "start_time": "2021-11-25T16:06:19.322Z"
   },
   {
    "duration": 195,
    "start_time": "2021-11-25T16:06:23.929Z"
   },
   {
    "duration": 574,
    "start_time": "2021-11-25T16:06:28.662Z"
   },
   {
    "duration": 213,
    "start_time": "2021-11-25T16:06:31.570Z"
   },
   {
    "duration": 216,
    "start_time": "2021-11-25T16:06:37.193Z"
   },
   {
    "duration": 209,
    "start_time": "2021-11-25T16:06:42.222Z"
   },
   {
    "duration": 231,
    "start_time": "2021-11-25T16:06:45.706Z"
   },
   {
    "duration": 234,
    "start_time": "2021-11-25T16:06:49.922Z"
   },
   {
    "duration": 228,
    "start_time": "2021-11-25T16:06:57.464Z"
   },
   {
    "duration": 237,
    "start_time": "2021-11-25T16:07:12.125Z"
   },
   {
    "duration": 276,
    "start_time": "2021-11-25T16:07:20.176Z"
   },
   {
    "duration": 278,
    "start_time": "2021-11-25T16:07:53.121Z"
   },
   {
    "duration": 268,
    "start_time": "2021-11-25T16:07:57.279Z"
   },
   {
    "duration": 271,
    "start_time": "2021-11-25T16:08:11.751Z"
   },
   {
    "duration": 266,
    "start_time": "2021-11-25T16:08:37.351Z"
   },
   {
    "duration": 269,
    "start_time": "2021-11-25T16:08:42.980Z"
   },
   {
    "duration": 349,
    "start_time": "2021-11-25T16:08:49.556Z"
   },
   {
    "duration": 208,
    "start_time": "2021-11-25T16:09:05.556Z"
   },
   {
    "duration": 234,
    "start_time": "2021-11-25T16:09:10.105Z"
   },
   {
    "duration": 229,
    "start_time": "2021-11-25T16:09:48.533Z"
   },
   {
    "duration": 234,
    "start_time": "2021-11-25T16:10:13.559Z"
   },
   {
    "duration": 54,
    "start_time": "2021-11-25T16:10:27.489Z"
   },
   {
    "duration": 232,
    "start_time": "2021-11-25T16:10:37.516Z"
   },
   {
    "duration": 230,
    "start_time": "2021-11-25T16:10:42.318Z"
   },
   {
    "duration": 240,
    "start_time": "2021-11-25T16:10:51.073Z"
   },
   {
    "duration": 239,
    "start_time": "2021-11-25T16:11:01.086Z"
   },
   {
    "duration": 1118,
    "start_time": "2021-11-25T16:11:26.250Z"
   },
   {
    "duration": 14,
    "start_time": "2021-11-25T16:11:27.370Z"
   },
   {
    "duration": 5,
    "start_time": "2021-11-25T16:11:31.435Z"
   },
   {
    "duration": 17,
    "start_time": "2021-11-25T16:11:32.768Z"
   },
   {
    "duration": 7,
    "start_time": "2021-11-25T16:11:34.944Z"
   },
   {
    "duration": 7,
    "start_time": "2021-11-25T16:11:36.387Z"
   },
   {
    "duration": 21,
    "start_time": "2021-11-25T16:11:38.411Z"
   },
   {
    "duration": 6,
    "start_time": "2021-11-25T16:11:42.121Z"
   },
   {
    "duration": 4,
    "start_time": "2021-11-25T16:11:43.695Z"
   },
   {
    "duration": 506,
    "start_time": "2021-11-25T16:11:47.703Z"
   },
   {
    "duration": 512,
    "start_time": "2021-11-25T16:12:24.370Z"
   },
   {
    "duration": 253,
    "start_time": "2021-11-25T16:13:56.041Z"
   },
   {
    "duration": 240,
    "start_time": "2021-11-25T16:14:10.555Z"
   },
   {
    "duration": 5,
    "start_time": "2021-11-25T16:14:16.402Z"
   },
   {
    "duration": 60,
    "start_time": "2021-11-25T16:14:46.691Z"
   },
   {
    "duration": 81,
    "start_time": "2021-11-25T16:14:52.738Z"
   },
   {
    "duration": 5,
    "start_time": "2021-11-25T16:14:58.232Z"
   },
   {
    "duration": 226,
    "start_time": "2021-11-25T16:15:39.638Z"
   },
   {
    "duration": 241,
    "start_time": "2021-11-25T16:16:00.220Z"
   },
   {
    "duration": 228,
    "start_time": "2021-11-25T16:16:02.419Z"
   },
   {
    "duration": 242,
    "start_time": "2021-11-25T16:16:11.275Z"
   },
   {
    "duration": 314,
    "start_time": "2021-11-25T16:16:15.652Z"
   },
   {
    "duration": 73,
    "start_time": "2021-11-25T16:16:35.090Z"
   },
   {
    "duration": 752,
    "start_time": "2021-11-25T16:16:38.114Z"
   },
   {
    "duration": 2194,
    "start_time": "2021-11-25T16:17:56.305Z"
   },
   {
    "duration": 885,
    "start_time": "2021-11-25T16:18:03.868Z"
   },
   {
    "duration": 769,
    "start_time": "2021-11-25T16:18:23.220Z"
   },
   {
    "duration": 780,
    "start_time": "2021-11-25T16:18:58.068Z"
   },
   {
    "duration": 848,
    "start_time": "2021-11-25T16:19:19.042Z"
   },
   {
    "duration": 828,
    "start_time": "2021-11-25T16:19:26.379Z"
   },
   {
    "duration": 5,
    "start_time": "2021-11-25T16:19:36.180Z"
   },
   {
    "duration": 234,
    "start_time": "2021-11-25T16:20:32.187Z"
   },
   {
    "duration": 57,
    "start_time": "2021-11-25T16:20:38.866Z"
   },
   {
    "duration": 252,
    "start_time": "2021-11-25T16:20:45.142Z"
   },
   {
    "duration": 247,
    "start_time": "2021-11-25T16:20:50.599Z"
   },
   {
    "duration": 225,
    "start_time": "2021-11-25T16:20:51.095Z"
   },
   {
    "duration": 1128,
    "start_time": "2021-11-25T16:21:06.968Z"
   },
   {
    "duration": 13,
    "start_time": "2021-11-25T16:21:09.030Z"
   },
   {
    "duration": 6,
    "start_time": "2021-11-25T16:21:11.263Z"
   },
   {
    "duration": 16,
    "start_time": "2021-11-25T16:21:12.588Z"
   },
   {
    "duration": 7,
    "start_time": "2021-11-25T16:21:16.448Z"
   },
   {
    "duration": 7,
    "start_time": "2021-11-25T16:21:17.596Z"
   },
   {
    "duration": 19,
    "start_time": "2021-11-25T16:21:19.293Z"
   },
   {
    "duration": 5,
    "start_time": "2021-11-25T16:21:20.367Z"
   },
   {
    "duration": 4,
    "start_time": "2021-11-25T16:21:21.723Z"
   },
   {
    "duration": 5,
    "start_time": "2021-11-25T16:21:23.684Z"
   },
   {
    "duration": 6,
    "start_time": "2021-11-25T16:21:25.534Z"
   },
   {
    "duration": 8,
    "start_time": "2021-11-25T16:21:27.602Z"
   },
   {
    "duration": 18,
    "start_time": "2021-11-25T16:21:29.857Z"
   },
   {
    "duration": 5,
    "start_time": "2021-11-25T16:21:30.892Z"
   },
   {
    "duration": 8,
    "start_time": "2021-11-25T16:21:32.283Z"
   },
   {
    "duration": 12,
    "start_time": "2021-11-25T16:21:33.878Z"
   },
   {
    "duration": 17,
    "start_time": "2021-11-25T16:21:36.719Z"
   },
   {
    "duration": 10,
    "start_time": "2021-11-25T16:21:38.666Z"
   },
   {
    "duration": 16,
    "start_time": "2021-11-25T16:21:39.782Z"
   },
   {
    "duration": 7,
    "start_time": "2021-11-25T16:21:41.166Z"
   },
   {
    "duration": 11,
    "start_time": "2021-11-25T16:21:43.529Z"
   },
   {
    "duration": 5,
    "start_time": "2021-11-25T16:21:45.785Z"
   },
   {
    "duration": 14,
    "start_time": "2021-11-25T16:21:46.281Z"
   },
   {
    "duration": 2,
    "start_time": "2021-11-25T16:21:46.511Z"
   },
   {
    "duration": 6,
    "start_time": "2021-11-25T16:21:47.993Z"
   },
   {
    "duration": 6,
    "start_time": "2021-11-25T16:21:48.495Z"
   },
   {
    "duration": 15,
    "start_time": "2021-11-25T16:21:48.693Z"
   },
   {
    "duration": 9,
    "start_time": "2021-11-25T16:21:48.968Z"
   },
   {
    "duration": 18,
    "start_time": "2021-11-25T16:21:49.752Z"
   },
   {
    "duration": 28,
    "start_time": "2021-11-25T16:21:50.256Z"
   },
   {
    "duration": 7,
    "start_time": "2021-11-25T16:21:51.758Z"
   },
   {
    "duration": 7,
    "start_time": "2021-11-25T16:21:53.301Z"
   },
   {
    "duration": 3438,
    "start_time": "2021-11-25T16:21:54.306Z"
   },
   {
    "duration": 7,
    "start_time": "2021-11-25T16:21:57.746Z"
   },
   {
    "duration": 7,
    "start_time": "2021-11-25T16:22:00.435Z"
   },
   {
    "duration": 24,
    "start_time": "2021-11-25T16:22:03.389Z"
   },
   {
    "duration": 14,
    "start_time": "2021-11-25T16:22:05.547Z"
   },
   {
    "duration": 2,
    "start_time": "2021-11-25T16:22:13.775Z"
   },
   {
    "duration": 23,
    "start_time": "2021-11-25T16:22:16.713Z"
   },
   {
    "duration": 310,
    "start_time": "2021-11-25T16:22:17.788Z"
   },
   {
    "duration": 235,
    "start_time": "2021-11-25T16:22:24.985Z"
   },
   {
    "duration": 18,
    "start_time": "2021-11-25T16:22:27.646Z"
   },
   {
    "duration": 289,
    "start_time": "2021-11-25T16:22:28.500Z"
   },
   {
    "duration": 589,
    "start_time": "2021-11-25T16:22:31.448Z"
   },
   {
    "duration": 16,
    "start_time": "2021-11-25T16:22:37.788Z"
   },
   {
    "duration": 16,
    "start_time": "2021-11-25T16:22:40.855Z"
   },
   {
    "duration": 15,
    "start_time": "2021-11-25T16:22:43.241Z"
   },
   {
    "duration": 14,
    "start_time": "2021-11-25T16:22:45.351Z"
   },
   {
    "duration": 2,
    "start_time": "2021-11-25T16:24:39.754Z"
   },
   {
    "duration": 240,
    "start_time": "2021-11-25T16:24:42.576Z"
   },
   {
    "duration": 2,
    "start_time": "2021-11-25T16:24:47.195Z"
   },
   {
    "duration": 347,
    "start_time": "2021-11-25T16:24:49.858Z"
   },
   {
    "duration": 4,
    "start_time": "2021-11-25T16:25:05.644Z"
   },
   {
    "duration": 20,
    "start_time": "2021-11-25T16:25:07.853Z"
   },
   {
    "duration": 297,
    "start_time": "2021-11-25T16:25:09.141Z"
   },
   {
    "duration": 287,
    "start_time": "2021-11-25T16:25:14.336Z"
   },
   {
    "duration": 19,
    "start_time": "2021-11-25T16:25:16.025Z"
   },
   {
    "duration": 297,
    "start_time": "2021-11-25T16:25:17.096Z"
   },
   {
    "duration": 227,
    "start_time": "2021-11-25T16:25:26.568Z"
   },
   {
    "duration": 704,
    "start_time": "2021-11-25T16:25:38.395Z"
   },
   {
    "duration": 13,
    "start_time": "2021-11-25T16:25:39.101Z"
   },
   {
    "duration": 9,
    "start_time": "2021-11-25T16:25:39.116Z"
   },
   {
    "duration": 22,
    "start_time": "2021-11-25T16:25:39.127Z"
   },
   {
    "duration": 6,
    "start_time": "2021-11-25T16:25:39.150Z"
   },
   {
    "duration": 7,
    "start_time": "2021-11-25T16:25:39.158Z"
   },
   {
    "duration": 34,
    "start_time": "2021-11-25T16:25:39.167Z"
   },
   {
    "duration": 6,
    "start_time": "2021-11-25T16:25:39.204Z"
   },
   {
    "duration": 8,
    "start_time": "2021-11-25T16:25:39.212Z"
   },
   {
    "duration": 8,
    "start_time": "2021-11-25T16:25:39.222Z"
   },
   {
    "duration": 6,
    "start_time": "2021-11-25T16:25:39.231Z"
   },
   {
    "duration": 8,
    "start_time": "2021-11-25T16:25:39.239Z"
   },
   {
    "duration": 45,
    "start_time": "2021-11-25T16:25:39.249Z"
   },
   {
    "duration": 5,
    "start_time": "2021-11-25T16:25:39.295Z"
   },
   {
    "duration": 8,
    "start_time": "2021-11-25T16:25:39.302Z"
   },
   {
    "duration": 9,
    "start_time": "2021-11-25T16:25:39.312Z"
   },
   {
    "duration": 23,
    "start_time": "2021-11-25T16:25:39.323Z"
   },
   {
    "duration": 13,
    "start_time": "2021-11-25T16:25:39.347Z"
   },
   {
    "duration": 27,
    "start_time": "2021-11-25T16:25:39.361Z"
   },
   {
    "duration": 7,
    "start_time": "2021-11-25T16:25:39.389Z"
   },
   {
    "duration": 13,
    "start_time": "2021-11-25T16:25:39.397Z"
   },
   {
    "duration": 5,
    "start_time": "2021-11-25T16:25:39.411Z"
   },
   {
    "duration": 15,
    "start_time": "2021-11-25T16:25:39.419Z"
   },
   {
    "duration": 2,
    "start_time": "2021-11-25T16:25:39.436Z"
   },
   {
    "duration": 12,
    "start_time": "2021-11-25T16:25:39.439Z"
   },
   {
    "duration": 38,
    "start_time": "2021-11-25T16:25:39.453Z"
   },
   {
    "duration": 28,
    "start_time": "2021-11-25T16:25:39.492Z"
   },
   {
    "duration": 8,
    "start_time": "2021-11-25T16:25:39.522Z"
   },
   {
    "duration": 26,
    "start_time": "2021-11-25T16:25:39.531Z"
   },
   {
    "duration": 55,
    "start_time": "2021-11-25T16:25:39.559Z"
   },
   {
    "duration": 6,
    "start_time": "2021-11-25T16:25:39.616Z"
   },
   {
    "duration": 7,
    "start_time": "2021-11-25T16:25:39.624Z"
   },
   {
    "duration": 3234,
    "start_time": "2021-11-25T16:25:39.633Z"
   },
   {
    "duration": 22,
    "start_time": "2021-11-25T16:25:42.869Z"
   },
   {
    "duration": 25,
    "start_time": "2021-11-25T16:25:42.892Z"
   },
   {
    "duration": 13,
    "start_time": "2021-11-25T16:25:42.919Z"
   },
   {
    "duration": 484,
    "start_time": "2021-11-25T16:25:42.934Z"
   },
   {
    "duration": 23,
    "start_time": "2021-11-25T16:25:43.419Z"
   },
   {
    "duration": 315,
    "start_time": "2021-11-25T16:25:43.444Z"
   },
   {
    "duration": 537,
    "start_time": "2021-11-25T16:25:43.224Z"
   },
   {
    "duration": 533,
    "start_time": "2021-11-25T16:25:43.229Z"
   },
   {
    "duration": 528,
    "start_time": "2021-11-25T16:25:43.235Z"
   },
   {
    "duration": 527,
    "start_time": "2021-11-25T16:25:43.237Z"
   },
   {
    "duration": 526,
    "start_time": "2021-11-25T16:25:43.239Z"
   },
   {
    "duration": 525,
    "start_time": "2021-11-25T16:25:43.241Z"
   },
   {
    "duration": 524,
    "start_time": "2021-11-25T16:25:43.243Z"
   },
   {
    "duration": 301,
    "start_time": "2021-11-25T16:26:02.943Z"
   },
   {
    "duration": 2,
    "start_time": "2021-11-25T16:26:11.467Z"
   },
   {
    "duration": 19,
    "start_time": "2021-11-25T16:26:14.604Z"
   },
   {
    "duration": 329,
    "start_time": "2021-11-25T16:26:15.704Z"
   },
   {
    "duration": 19,
    "start_time": "2021-11-25T16:26:17.651Z"
   },
   {
    "duration": 255,
    "start_time": "2021-11-25T16:26:18.012Z"
   },
   {
    "duration": 681,
    "start_time": "2021-11-25T16:26:30.387Z"
   },
   {
    "duration": 13,
    "start_time": "2021-11-25T16:26:31.070Z"
   },
   {
    "duration": 14,
    "start_time": "2021-11-25T16:26:31.087Z"
   },
   {
    "duration": 29,
    "start_time": "2021-11-25T16:26:31.103Z"
   },
   {
    "duration": 9,
    "start_time": "2021-11-25T16:26:31.134Z"
   },
   {
    "duration": 16,
    "start_time": "2021-11-25T16:26:31.144Z"
   },
   {
    "duration": 19,
    "start_time": "2021-11-25T16:26:31.163Z"
   },
   {
    "duration": 5,
    "start_time": "2021-11-25T16:26:31.184Z"
   },
   {
    "duration": 10,
    "start_time": "2021-11-25T16:26:31.190Z"
   },
   {
    "duration": 13,
    "start_time": "2021-11-25T16:26:31.202Z"
   },
   {
    "duration": 8,
    "start_time": "2021-11-25T16:26:31.216Z"
   },
   {
    "duration": 15,
    "start_time": "2021-11-25T16:26:31.226Z"
   },
   {
    "duration": 24,
    "start_time": "2021-11-25T16:26:31.243Z"
   },
   {
    "duration": 6,
    "start_time": "2021-11-25T16:26:31.269Z"
   },
   {
    "duration": 19,
    "start_time": "2021-11-25T16:26:31.277Z"
   },
   {
    "duration": 17,
    "start_time": "2021-11-25T16:26:31.297Z"
   },
   {
    "duration": 18,
    "start_time": "2021-11-25T16:26:31.316Z"
   },
   {
    "duration": 18,
    "start_time": "2021-11-25T16:26:31.336Z"
   },
   {
    "duration": 16,
    "start_time": "2021-11-25T16:26:31.356Z"
   },
   {
    "duration": 12,
    "start_time": "2021-11-25T16:26:31.374Z"
   },
   {
    "duration": 10,
    "start_time": "2021-11-25T16:26:31.388Z"
   },
   {
    "duration": 8,
    "start_time": "2021-11-25T16:26:31.402Z"
   },
   {
    "duration": 19,
    "start_time": "2021-11-25T16:26:31.412Z"
   },
   {
    "duration": 2,
    "start_time": "2021-11-25T16:26:31.433Z"
   },
   {
    "duration": 14,
    "start_time": "2021-11-25T16:26:31.436Z"
   },
   {
    "duration": 15,
    "start_time": "2021-11-25T16:26:31.451Z"
   },
   {
    "duration": 25,
    "start_time": "2021-11-25T16:26:31.467Z"
   },
   {
    "duration": 8,
    "start_time": "2021-11-25T16:26:31.493Z"
   },
   {
    "duration": 21,
    "start_time": "2021-11-25T16:26:31.503Z"
   },
   {
    "duration": 28,
    "start_time": "2021-11-25T16:26:31.526Z"
   },
   {
    "duration": 4,
    "start_time": "2021-11-25T16:26:31.555Z"
   },
   {
    "duration": 28,
    "start_time": "2021-11-25T16:26:31.560Z"
   },
   {
    "duration": 3078,
    "start_time": "2021-11-25T16:26:31.590Z"
   },
   {
    "duration": 19,
    "start_time": "2021-11-25T16:26:34.670Z"
   },
   {
    "duration": 34,
    "start_time": "2021-11-25T16:26:34.690Z"
   },
   {
    "duration": 14,
    "start_time": "2021-11-25T16:26:34.725Z"
   },
   {
    "duration": 474,
    "start_time": "2021-11-25T16:26:34.741Z"
   },
   {
    "duration": 23,
    "start_time": "2021-11-25T16:26:35.217Z"
   },
   {
    "duration": 362,
    "start_time": "2021-11-25T16:26:35.241Z"
   },
   {
    "duration": 22,
    "start_time": "2021-11-25T16:26:35.604Z"
   },
   {
    "duration": 238,
    "start_time": "2021-11-25T16:26:35.627Z"
   },
   {
    "duration": 575,
    "start_time": "2021-11-25T16:26:35.867Z"
   },
   {
    "duration": 14,
    "start_time": "2021-11-25T16:26:36.444Z"
   },
   {
    "duration": 15,
    "start_time": "2021-11-25T16:26:36.459Z"
   },
   {
    "duration": 13,
    "start_time": "2021-11-25T16:26:36.488Z"
   },
   {
    "duration": 13,
    "start_time": "2021-11-25T16:26:36.502Z"
   },
   {
    "duration": 5,
    "start_time": "2021-11-25T16:28:02.123Z"
   },
   {
    "duration": 8,
    "start_time": "2021-11-25T16:28:14.604Z"
   },
   {
    "duration": 923,
    "start_time": "2021-11-25T16:28:20.508Z"
   },
   {
    "duration": 75,
    "start_time": "2021-11-25T16:28:25.925Z"
   },
   {
    "duration": 797,
    "start_time": "2021-11-25T16:28:29.047Z"
   },
   {
    "duration": 834,
    "start_time": "2021-11-25T16:28:37.619Z"
   },
   {
    "duration": 769,
    "start_time": "2021-11-25T16:28:42.867Z"
   },
   {
    "duration": 6,
    "start_time": "2021-11-25T16:30:35.572Z"
   },
   {
    "duration": 5,
    "start_time": "2021-11-25T16:31:20.932Z"
   },
   {
    "duration": 815,
    "start_time": "2021-11-25T16:31:28.207Z"
   },
   {
    "duration": 70,
    "start_time": "2021-11-25T16:31:43.417Z"
   },
   {
    "duration": 748,
    "start_time": "2021-11-25T16:31:46.101Z"
   },
   {
    "duration": 243,
    "start_time": "2021-11-25T16:34:14.421Z"
   },
   {
    "duration": 7,
    "start_time": "2021-11-25T16:36:26.228Z"
   },
   {
    "duration": 9,
    "start_time": "2021-11-25T16:36:36.543Z"
   },
   {
    "duration": 8,
    "start_time": "2021-11-25T16:36:43.580Z"
   },
   {
    "duration": 277,
    "start_time": "2021-11-25T16:36:54.348Z"
   },
   {
    "duration": 242,
    "start_time": "2021-11-25T16:37:04.977Z"
   },
   {
    "duration": 226,
    "start_time": "2021-11-25T16:38:43.128Z"
   },
   {
    "duration": 6,
    "start_time": "2021-11-25T16:38:45.396Z"
   },
   {
    "duration": 236,
    "start_time": "2021-11-25T16:39:31.259Z"
   },
   {
    "duration": 244,
    "start_time": "2021-11-25T16:39:42.499Z"
   },
   {
    "duration": 375,
    "start_time": "2021-11-25T16:39:47.720Z"
   },
   {
    "duration": 465,
    "start_time": "2021-11-25T16:41:38.464Z"
   },
   {
    "duration": 430,
    "start_time": "2021-11-25T16:41:44.433Z"
   },
   {
    "duration": 56,
    "start_time": "2021-11-25T16:42:08.304Z"
   },
   {
    "duration": 311,
    "start_time": "2021-11-25T16:42:17.180Z"
   },
   {
    "duration": 222,
    "start_time": "2021-11-25T16:43:50.005Z"
   },
   {
    "duration": 309,
    "start_time": "2021-11-25T16:43:59.041Z"
   },
   {
    "duration": 202,
    "start_time": "2021-11-25T16:44:07.183Z"
   },
   {
    "duration": 230,
    "start_time": "2021-11-25T16:44:14.855Z"
   },
   {
    "duration": 229,
    "start_time": "2021-11-25T16:44:20.953Z"
   },
   {
    "duration": 224,
    "start_time": "2021-11-25T16:44:26.430Z"
   },
   {
    "duration": 293,
    "start_time": "2021-11-25T16:44:41.526Z"
   },
   {
    "duration": 221,
    "start_time": "2021-11-25T16:44:50.192Z"
   },
   {
    "duration": 216,
    "start_time": "2021-11-25T16:44:53.524Z"
   },
   {
    "duration": 228,
    "start_time": "2021-11-25T16:44:58.790Z"
   },
   {
    "duration": 322,
    "start_time": "2021-11-25T16:46:33.419Z"
   },
   {
    "duration": 326,
    "start_time": "2021-11-25T16:46:47.383Z"
   },
   {
    "duration": 460,
    "start_time": "2021-11-25T16:46:54.276Z"
   },
   {
    "duration": 219,
    "start_time": "2021-11-25T16:47:38.775Z"
   },
   {
    "duration": 652,
    "start_time": "2021-11-25T16:47:55.007Z"
   },
   {
    "duration": 199,
    "start_time": "2021-11-25T16:47:58.638Z"
   },
   {
    "duration": 239,
    "start_time": "2021-11-25T16:48:03.008Z"
   },
   {
    "duration": 230,
    "start_time": "2021-11-25T16:48:09.166Z"
   },
   {
    "duration": 297,
    "start_time": "2021-11-25T16:48:13.170Z"
   },
   {
    "duration": 227,
    "start_time": "2021-11-25T16:48:18.099Z"
   },
   {
    "duration": 230,
    "start_time": "2021-11-25T16:48:21.034Z"
   },
   {
    "duration": 227,
    "start_time": "2021-11-25T16:48:29.866Z"
   },
   {
    "duration": 203,
    "start_time": "2021-11-25T16:48:33.006Z"
   },
   {
    "duration": 232,
    "start_time": "2021-11-25T16:48:36.487Z"
   },
   {
    "duration": 262,
    "start_time": "2021-11-25T16:48:43.410Z"
   },
   {
    "duration": 208,
    "start_time": "2021-11-25T16:48:46.905Z"
   },
   {
    "duration": 252,
    "start_time": "2021-11-25T16:48:57.297Z"
   },
   {
    "duration": 220,
    "start_time": "2021-11-25T16:49:02.737Z"
   },
   {
    "duration": 264,
    "start_time": "2021-11-25T16:49:11.789Z"
   },
   {
    "duration": 286,
    "start_time": "2021-11-25T16:49:21.339Z"
   },
   {
    "duration": 206,
    "start_time": "2021-11-25T16:52:09.965Z"
   },
   {
    "duration": 183,
    "start_time": "2021-11-25T16:53:23.777Z"
   },
   {
    "duration": 248,
    "start_time": "2021-11-25T16:53:28.088Z"
   },
   {
    "duration": 202,
    "start_time": "2021-11-25T16:53:34.309Z"
   },
   {
    "duration": 181,
    "start_time": "2021-11-25T16:53:40.737Z"
   },
   {
    "duration": 243,
    "start_time": "2021-11-25T16:53:44.599Z"
   },
   {
    "duration": 183,
    "start_time": "2021-11-25T16:53:48.639Z"
   },
   {
    "duration": 206,
    "start_time": "2021-11-25T16:53:51.125Z"
   },
   {
    "duration": 222,
    "start_time": "2021-11-25T16:53:54.451Z"
   },
   {
    "duration": 379,
    "start_time": "2021-11-25T16:54:03.480Z"
   },
   {
    "duration": 214,
    "start_time": "2021-11-25T16:54:08.958Z"
   },
   {
    "duration": 528,
    "start_time": "2021-11-25T16:54:13.947Z"
   },
   {
    "duration": 230,
    "start_time": "2021-11-25T16:54:20.598Z"
   },
   {
    "duration": 221,
    "start_time": "2021-11-25T16:54:43.635Z"
   },
   {
    "duration": 246,
    "start_time": "2021-11-25T18:26:13.122Z"
   },
   {
    "duration": 233,
    "start_time": "2021-11-25T18:26:25.770Z"
   },
   {
    "duration": 244,
    "start_time": "2021-11-25T18:26:57.435Z"
   },
   {
    "duration": 287,
    "start_time": "2021-11-25T18:27:01.714Z"
   },
   {
    "duration": 240,
    "start_time": "2021-11-25T18:27:04.615Z"
   },
   {
    "duration": 304,
    "start_time": "2021-11-25T18:27:15.759Z"
   },
   {
    "duration": 695,
    "start_time": "2021-11-25T18:27:27.073Z"
   },
   {
    "duration": 12,
    "start_time": "2021-11-25T18:27:27.770Z"
   },
   {
    "duration": 9,
    "start_time": "2021-11-25T18:27:27.783Z"
   },
   {
    "duration": 20,
    "start_time": "2021-11-25T18:27:27.793Z"
   },
   {
    "duration": 5,
    "start_time": "2021-11-25T18:27:27.815Z"
   },
   {
    "duration": 16,
    "start_time": "2021-11-25T18:27:27.821Z"
   },
   {
    "duration": 19,
    "start_time": "2021-11-25T18:27:27.838Z"
   },
   {
    "duration": 5,
    "start_time": "2021-11-25T18:27:27.860Z"
   },
   {
    "duration": 5,
    "start_time": "2021-11-25T18:27:27.866Z"
   },
   {
    "duration": 303,
    "start_time": "2021-11-25T18:27:27.888Z"
   },
   {
    "duration": 6,
    "start_time": "2021-11-25T18:27:28.193Z"
   },
   {
    "duration": 10,
    "start_time": "2021-11-25T18:27:28.200Z"
   },
   {
    "duration": 16,
    "start_time": "2021-11-25T18:27:28.212Z"
   },
   {
    "duration": 5,
    "start_time": "2021-11-25T18:27:28.229Z"
   },
   {
    "duration": 6,
    "start_time": "2021-11-25T18:27:28.236Z"
   },
   {
    "duration": 8,
    "start_time": "2021-11-25T18:27:28.243Z"
   },
   {
    "duration": 42,
    "start_time": "2021-11-25T18:27:28.252Z"
   },
   {
    "duration": 9,
    "start_time": "2021-11-25T18:27:28.295Z"
   },
   {
    "duration": 51,
    "start_time": "2021-11-25T18:27:28.305Z"
   },
   {
    "duration": 6,
    "start_time": "2021-11-25T18:27:28.357Z"
   },
   {
    "duration": 10,
    "start_time": "2021-11-25T18:27:28.387Z"
   },
   {
    "duration": 4,
    "start_time": "2021-11-25T18:27:28.398Z"
   },
   {
    "duration": 20,
    "start_time": "2021-11-25T18:27:28.405Z"
   },
   {
    "duration": 2,
    "start_time": "2021-11-25T18:27:28.428Z"
   },
   {
    "duration": 8,
    "start_time": "2021-11-25T18:27:28.432Z"
   },
   {
    "duration": 9,
    "start_time": "2021-11-25T18:27:28.441Z"
   },
   {
    "duration": 40,
    "start_time": "2021-11-25T18:27:28.452Z"
   },
   {
    "duration": 7,
    "start_time": "2021-11-25T18:27:28.493Z"
   },
   {
    "duration": 22,
    "start_time": "2021-11-25T18:27:28.501Z"
   },
   {
    "duration": 29,
    "start_time": "2021-11-25T18:27:28.524Z"
   },
   {
    "duration": 6,
    "start_time": "2021-11-25T18:27:28.555Z"
   },
   {
    "duration": 7,
    "start_time": "2021-11-25T18:27:28.562Z"
   },
   {
    "duration": 3262,
    "start_time": "2021-11-25T18:27:28.570Z"
   },
   {
    "duration": 7,
    "start_time": "2021-11-25T18:27:31.833Z"
   },
   {
    "duration": 24,
    "start_time": "2021-11-25T18:27:31.842Z"
   },
   {
    "duration": 30,
    "start_time": "2021-11-25T18:27:31.868Z"
   },
   {
    "duration": 374,
    "start_time": "2021-11-25T18:27:31.900Z"
   },
   {
    "duration": 28,
    "start_time": "2021-11-25T18:27:32.275Z"
   },
   {
    "duration": 307,
    "start_time": "2021-11-25T18:27:32.305Z"
   },
   {
    "duration": 19,
    "start_time": "2021-11-25T18:27:32.613Z"
   },
   {
    "duration": 275,
    "start_time": "2021-11-25T18:27:32.633Z"
   },
   {
    "duration": 623,
    "start_time": "2021-11-25T18:27:32.910Z"
   },
   {
    "duration": 15,
    "start_time": "2021-11-25T18:27:33.535Z"
   },
   {
    "duration": 16,
    "start_time": "2021-11-25T18:27:33.552Z"
   },
   {
    "duration": 30,
    "start_time": "2021-11-25T18:27:33.570Z"
   },
   {
    "duration": 13,
    "start_time": "2021-11-25T18:27:33.602Z"
   },
   {
    "duration": 54,
    "start_time": "2021-11-25T18:27:37.938Z"
   },
   {
    "duration": 11,
    "start_time": "2021-11-25T18:27:38.796Z"
   },
   {
    "duration": 5,
    "start_time": "2021-11-25T18:27:40.347Z"
   },
   {
    "duration": 16,
    "start_time": "2021-11-25T18:27:41.341Z"
   },
   {
    "duration": 7,
    "start_time": "2021-11-25T18:27:43.803Z"
   },
   {
    "duration": 7,
    "start_time": "2021-11-25T18:27:44.878Z"
   },
   {
    "duration": 19,
    "start_time": "2021-11-25T18:27:45.420Z"
   },
   {
    "duration": 6,
    "start_time": "2021-11-25T18:27:46.188Z"
   },
   {
    "duration": 4,
    "start_time": "2021-11-25T18:27:46.983Z"
   },
   {
    "duration": 225,
    "start_time": "2021-11-25T18:27:47.774Z"
   },
   {
    "duration": 6,
    "start_time": "2021-11-25T18:27:49.205Z"
   },
   {
    "duration": 7,
    "start_time": "2021-11-25T18:27:49.997Z"
   },
   {
    "duration": 18,
    "start_time": "2021-11-25T18:27:50.833Z"
   },
   {
    "duration": 6,
    "start_time": "2021-11-25T18:27:51.471Z"
   },
   {
    "duration": 6,
    "start_time": "2021-11-25T18:27:53.383Z"
   },
   {
    "duration": 8,
    "start_time": "2021-11-25T18:27:54.647Z"
   },
   {
    "duration": 15,
    "start_time": "2021-11-25T18:27:56.783Z"
   },
   {
    "duration": 10,
    "start_time": "2021-11-25T18:27:57.955Z"
   },
   {
    "duration": 22,
    "start_time": "2021-11-25T18:27:59.003Z"
   },
   {
    "duration": 7,
    "start_time": "2021-11-25T18:28:00.463Z"
   },
   {
    "duration": 17,
    "start_time": "2021-11-25T18:28:01.765Z"
   },
   {
    "duration": 7,
    "start_time": "2021-11-25T18:28:04.109Z"
   },
   {
    "duration": 13,
    "start_time": "2021-11-25T18:28:04.959Z"
   },
   {
    "duration": 2,
    "start_time": "2021-11-25T18:28:05.507Z"
   },
   {
    "duration": 6,
    "start_time": "2021-11-25T18:28:08.115Z"
   },
   {
    "duration": 7,
    "start_time": "2021-11-25T18:28:10.237Z"
   },
   {
    "duration": 15,
    "start_time": "2021-11-25T18:28:10.625Z"
   },
   {
    "duration": 8,
    "start_time": "2021-11-25T18:28:11.327Z"
   },
   {
    "duration": 19,
    "start_time": "2021-11-25T18:28:13.819Z"
   },
   {
    "duration": 6,
    "start_time": "2021-11-25T18:28:22.073Z"
   },
   {
    "duration": 5,
    "start_time": "2021-11-25T18:28:37.933Z"
   },
   {
    "duration": 5,
    "start_time": "2021-11-25T18:28:39.735Z"
   },
   {
    "duration": 16,
    "start_time": "2021-11-25T18:28:41.138Z"
   },
   {
    "duration": 8,
    "start_time": "2021-11-25T18:28:41.902Z"
   },
   {
    "duration": 17,
    "start_time": "2021-11-25T18:28:43.539Z"
   },
   {
    "duration": 32,
    "start_time": "2021-11-25T18:28:44.285Z"
   },
   {
    "duration": 19,
    "start_time": "2021-11-25T18:28:47.527Z"
   },
   {
    "duration": 8,
    "start_time": "2021-11-25T18:28:49.702Z"
   },
   {
    "duration": 3334,
    "start_time": "2021-11-25T18:28:51.820Z"
   },
   {
    "duration": 7,
    "start_time": "2021-11-25T18:28:55.156Z"
   },
   {
    "duration": 23,
    "start_time": "2021-11-25T18:28:59.150Z"
   },
   {
    "duration": 16,
    "start_time": "2021-11-25T18:29:03.004Z"
   },
   {
    "duration": 3,
    "start_time": "2021-11-25T18:29:07.519Z"
   },
   {
    "duration": 22,
    "start_time": "2021-11-25T18:29:09.344Z"
   },
   {
    "duration": 301,
    "start_time": "2021-11-25T18:29:12.129Z"
   },
   {
    "duration": 19,
    "start_time": "2021-11-25T18:29:13.871Z"
   },
   {
    "duration": 215,
    "start_time": "2021-11-25T18:29:15.235Z"
   },
   {
    "duration": 159,
    "start_time": "2021-11-25T18:29:18.425Z"
   },
   {
    "duration": 29,
    "start_time": "2021-11-25T18:30:17.132Z"
   },
   {
    "duration": 28,
    "start_time": "2021-11-25T18:30:26.483Z"
   },
   {
    "duration": 29,
    "start_time": "2021-11-25T18:30:28.243Z"
   },
   {
    "duration": 159,
    "start_time": "2021-11-25T18:30:46.469Z"
   },
   {
    "duration": 300,
    "start_time": "2021-11-25T18:35:19.704Z"
   },
   {
    "duration": 290,
    "start_time": "2021-11-25T18:35:28.912Z"
   },
   {
    "duration": 293,
    "start_time": "2021-11-25T18:35:33.655Z"
   },
   {
    "duration": 294,
    "start_time": "2021-11-25T18:35:42.090Z"
   },
   {
    "duration": 292,
    "start_time": "2021-11-25T18:38:51.040Z"
   },
   {
    "duration": 200,
    "start_time": "2021-11-25T18:50:58.897Z"
   },
   {
    "duration": 197,
    "start_time": "2021-11-25T18:51:12.774Z"
   },
   {
    "duration": 266,
    "start_time": "2021-11-25T18:51:21.494Z"
   },
   {
    "duration": 205,
    "start_time": "2021-11-25T18:51:41.665Z"
   },
   {
    "duration": 203,
    "start_time": "2021-11-25T18:51:45.656Z"
   },
   {
    "duration": 339,
    "start_time": "2021-11-25T18:52:12.178Z"
   },
   {
    "duration": 200,
    "start_time": "2021-11-25T18:52:14.599Z"
   },
   {
    "duration": 662,
    "start_time": "2021-11-25T18:52:20.354Z"
   },
   {
    "duration": 12,
    "start_time": "2021-11-25T18:52:21.018Z"
   },
   {
    "duration": 9,
    "start_time": "2021-11-25T18:52:21.032Z"
   },
   {
    "duration": 25,
    "start_time": "2021-11-25T18:52:21.042Z"
   },
   {
    "duration": 7,
    "start_time": "2021-11-25T18:52:21.069Z"
   },
   {
    "duration": 6,
    "start_time": "2021-11-25T18:52:21.088Z"
   },
   {
    "duration": 28,
    "start_time": "2021-11-25T18:52:21.096Z"
   },
   {
    "duration": 17,
    "start_time": "2021-11-25T18:52:21.126Z"
   },
   {
    "duration": 12,
    "start_time": "2021-11-25T18:52:21.145Z"
   },
   {
    "duration": 300,
    "start_time": "2021-11-25T18:52:21.158Z"
   },
   {
    "duration": 6,
    "start_time": "2021-11-25T18:52:21.460Z"
   },
   {
    "duration": 21,
    "start_time": "2021-11-25T18:52:21.467Z"
   },
   {
    "duration": 16,
    "start_time": "2021-11-25T18:52:21.490Z"
   },
   {
    "duration": 5,
    "start_time": "2021-11-25T18:52:21.508Z"
   },
   {
    "duration": 10,
    "start_time": "2021-11-25T18:52:21.514Z"
   },
   {
    "duration": 14,
    "start_time": "2021-11-25T18:52:21.525Z"
   },
   {
    "duration": 18,
    "start_time": "2021-11-25T18:52:21.540Z"
   },
   {
    "duration": 16,
    "start_time": "2021-11-25T18:52:21.560Z"
   },
   {
    "duration": 60,
    "start_time": "2021-11-25T18:52:21.578Z"
   },
   {
    "duration": 6,
    "start_time": "2021-11-25T18:52:21.639Z"
   },
   {
    "duration": 10,
    "start_time": "2021-11-25T18:52:21.647Z"
   },
   {
    "duration": 14,
    "start_time": "2021-11-25T18:52:21.658Z"
   },
   {
    "duration": 26,
    "start_time": "2021-11-25T18:52:21.674Z"
   },
   {
    "duration": 2,
    "start_time": "2021-11-25T18:52:21.701Z"
   },
   {
    "duration": 10,
    "start_time": "2021-11-25T18:52:21.704Z"
   },
   {
    "duration": 7,
    "start_time": "2021-11-25T18:52:21.716Z"
   },
   {
    "duration": 19,
    "start_time": "2021-11-25T18:52:21.724Z"
   },
   {
    "duration": 8,
    "start_time": "2021-11-25T18:52:21.744Z"
   },
   {
    "duration": 37,
    "start_time": "2021-11-25T18:52:21.754Z"
   },
   {
    "duration": 28,
    "start_time": "2021-11-25T18:52:21.792Z"
   },
   {
    "duration": 5,
    "start_time": "2021-11-25T18:52:21.822Z"
   },
   {
    "duration": 6,
    "start_time": "2021-11-25T18:52:21.829Z"
   },
   {
    "duration": 3237,
    "start_time": "2021-11-25T18:52:21.837Z"
   },
   {
    "duration": 16,
    "start_time": "2021-11-25T18:52:25.075Z"
   },
   {
    "duration": 31,
    "start_time": "2021-11-25T18:52:25.092Z"
   },
   {
    "duration": 14,
    "start_time": "2021-11-25T18:52:25.125Z"
   },
   {
    "duration": 446,
    "start_time": "2021-11-25T18:52:25.140Z"
   },
   {
    "duration": 25,
    "start_time": "2021-11-25T18:52:25.588Z"
   },
   {
    "duration": 295,
    "start_time": "2021-11-25T18:52:25.615Z"
   },
   {
    "duration": 20,
    "start_time": "2021-11-25T18:52:25.912Z"
   },
   {
    "duration": 257,
    "start_time": "2021-11-25T18:52:25.934Z"
   },
   {
    "duration": 1022,
    "start_time": "2021-11-25T18:52:26.193Z"
   },
   {
    "duration": 15,
    "start_time": "2021-11-25T18:52:27.217Z"
   },
   {
    "duration": 15,
    "start_time": "2021-11-25T18:52:27.234Z"
   },
   {
    "duration": 13,
    "start_time": "2021-11-25T18:52:27.250Z"
   },
   {
    "duration": 35,
    "start_time": "2021-11-25T18:52:27.264Z"
   },
   {
    "duration": 224,
    "start_time": "2021-11-25T18:52:47.125Z"
   },
   {
    "duration": 221,
    "start_time": "2021-11-25T18:52:55.222Z"
   },
   {
    "duration": 203,
    "start_time": "2021-11-25T18:52:58.785Z"
   },
   {
    "duration": 230,
    "start_time": "2021-11-25T18:53:09.698Z"
   },
   {
    "duration": 622,
    "start_time": "2021-11-25T18:53:15.335Z"
   },
   {
    "duration": 13,
    "start_time": "2021-11-25T18:53:15.958Z"
   },
   {
    "duration": 19,
    "start_time": "2021-11-25T18:53:15.973Z"
   },
   {
    "duration": 28,
    "start_time": "2021-11-25T18:53:15.994Z"
   },
   {
    "duration": 6,
    "start_time": "2021-11-25T18:53:16.024Z"
   },
   {
    "duration": 9,
    "start_time": "2021-11-25T18:53:16.031Z"
   },
   {
    "duration": 20,
    "start_time": "2021-11-25T18:53:16.041Z"
   },
   {
    "duration": 5,
    "start_time": "2021-11-25T18:53:16.064Z"
   },
   {
    "duration": 19,
    "start_time": "2021-11-25T18:53:16.071Z"
   },
   {
    "duration": 335,
    "start_time": "2021-11-25T18:53:16.092Z"
   },
   {
    "duration": 7,
    "start_time": "2021-11-25T18:53:16.429Z"
   },
   {
    "duration": 12,
    "start_time": "2021-11-25T18:53:16.438Z"
   },
   {
    "duration": 36,
    "start_time": "2021-11-25T18:53:16.452Z"
   },
   {
    "duration": 6,
    "start_time": "2021-11-25T18:53:16.490Z"
   },
   {
    "duration": 11,
    "start_time": "2021-11-25T18:53:16.498Z"
   },
   {
    "duration": 12,
    "start_time": "2021-11-25T18:53:16.511Z"
   },
   {
    "duration": 15,
    "start_time": "2021-11-25T18:53:16.525Z"
   },
   {
    "duration": 11,
    "start_time": "2021-11-25T18:53:16.541Z"
   },
   {
    "duration": 83,
    "start_time": "2021-11-25T18:53:16.553Z"
   },
   {
    "duration": 8,
    "start_time": "2021-11-25T18:53:16.637Z"
   },
   {
    "duration": 11,
    "start_time": "2021-11-25T18:53:16.647Z"
   },
   {
    "duration": 28,
    "start_time": "2021-11-25T18:53:16.660Z"
   },
   {
    "duration": 14,
    "start_time": "2021-11-25T18:53:16.691Z"
   },
   {
    "duration": 2,
    "start_time": "2021-11-25T18:53:16.707Z"
   },
   {
    "duration": 9,
    "start_time": "2021-11-25T18:53:16.710Z"
   },
   {
    "duration": 13,
    "start_time": "2021-11-25T18:53:16.720Z"
   },
   {
    "duration": 18,
    "start_time": "2021-11-25T18:53:16.735Z"
   },
   {
    "duration": 9,
    "start_time": "2021-11-25T18:53:16.754Z"
   },
   {
    "duration": 36,
    "start_time": "2021-11-25T18:53:16.765Z"
   },
   {
    "duration": 28,
    "start_time": "2021-11-25T18:53:16.803Z"
   },
   {
    "duration": 4,
    "start_time": "2021-11-25T18:53:16.833Z"
   },
   {
    "duration": 9,
    "start_time": "2021-11-25T18:53:16.838Z"
   },
   {
    "duration": 3341,
    "start_time": "2021-11-25T18:53:16.848Z"
   },
   {
    "duration": 7,
    "start_time": "2021-11-25T18:53:20.190Z"
   },
   {
    "duration": 35,
    "start_time": "2021-11-25T18:53:20.198Z"
   },
   {
    "duration": 17,
    "start_time": "2021-11-25T18:53:20.235Z"
   },
   {
    "duration": 428,
    "start_time": "2021-11-25T18:53:20.254Z"
   },
   {
    "duration": 25,
    "start_time": "2021-11-25T18:53:20.683Z"
   },
   {
    "duration": 306,
    "start_time": "2021-11-25T18:53:20.709Z"
   },
   {
    "duration": 19,
    "start_time": "2021-11-25T18:53:21.016Z"
   },
   {
    "duration": 262,
    "start_time": "2021-11-25T18:53:21.036Z"
   },
   {
    "duration": 779,
    "start_time": "2021-11-25T18:53:21.300Z"
   },
   {
    "duration": 17,
    "start_time": "2021-11-25T18:53:22.081Z"
   },
   {
    "duration": 15,
    "start_time": "2021-11-25T18:53:22.099Z"
   },
   {
    "duration": 13,
    "start_time": "2021-11-25T18:53:22.115Z"
   },
   {
    "duration": 12,
    "start_time": "2021-11-25T18:53:22.129Z"
   },
   {
    "duration": 686,
    "start_time": "2021-11-25T19:12:24.532Z"
   },
   {
    "duration": 13,
    "start_time": "2021-11-25T19:12:25.220Z"
   },
   {
    "duration": 5,
    "start_time": "2021-11-25T19:12:25.235Z"
   },
   {
    "duration": 20,
    "start_time": "2021-11-25T19:12:25.242Z"
   },
   {
    "duration": 28,
    "start_time": "2021-11-25T19:12:25.264Z"
   },
   {
    "duration": 9,
    "start_time": "2021-11-25T19:12:25.294Z"
   },
   {
    "duration": 19,
    "start_time": "2021-11-25T19:12:25.305Z"
   },
   {
    "duration": 5,
    "start_time": "2021-11-25T19:12:25.326Z"
   },
   {
    "duration": 10,
    "start_time": "2021-11-25T19:12:25.333Z"
   },
   {
    "duration": 344,
    "start_time": "2021-11-25T19:12:25.345Z"
   },
   {
    "duration": 6,
    "start_time": "2021-11-25T19:12:25.690Z"
   },
   {
    "duration": 10,
    "start_time": "2021-11-25T19:12:25.698Z"
   },
   {
    "duration": 17,
    "start_time": "2021-11-25T19:12:25.709Z"
   },
   {
    "duration": 5,
    "start_time": "2021-11-25T19:12:25.728Z"
   },
   {
    "duration": 10,
    "start_time": "2021-11-25T19:12:25.734Z"
   },
   {
    "duration": 11,
    "start_time": "2021-11-25T19:12:25.745Z"
   },
   {
    "duration": 38,
    "start_time": "2021-11-25T19:12:25.758Z"
   },
   {
    "duration": 10,
    "start_time": "2021-11-25T19:12:25.797Z"
   },
   {
    "duration": 49,
    "start_time": "2021-11-25T19:12:25.808Z"
   },
   {
    "duration": 7,
    "start_time": "2021-11-25T19:12:25.859Z"
   },
   {
    "duration": 29,
    "start_time": "2021-11-25T19:12:25.867Z"
   },
   {
    "duration": 4,
    "start_time": "2021-11-25T19:12:25.897Z"
   },
   {
    "duration": 13,
    "start_time": "2021-11-25T19:12:25.904Z"
   },
   {
    "duration": 2,
    "start_time": "2021-11-25T19:12:25.919Z"
   },
   {
    "duration": 10,
    "start_time": "2021-11-25T19:12:25.922Z"
   },
   {
    "duration": 9,
    "start_time": "2021-11-25T19:12:25.933Z"
   },
   {
    "duration": 17,
    "start_time": "2021-11-25T19:12:25.943Z"
   },
   {
    "duration": 31,
    "start_time": "2021-11-25T19:12:25.961Z"
   },
   {
    "duration": 24,
    "start_time": "2021-11-25T19:12:25.993Z"
   },
   {
    "duration": 27,
    "start_time": "2021-11-25T19:12:26.018Z"
   },
   {
    "duration": 4,
    "start_time": "2021-11-25T19:12:26.047Z"
   },
   {
    "duration": 8,
    "start_time": "2021-11-25T19:12:26.053Z"
   },
   {
    "duration": 3112,
    "start_time": "2021-11-25T19:12:26.062Z"
   },
   {
    "duration": 6,
    "start_time": "2021-11-25T19:12:29.188Z"
   },
   {
    "duration": 24,
    "start_time": "2021-11-25T19:12:29.196Z"
   },
   {
    "duration": 13,
    "start_time": "2021-11-25T19:12:29.221Z"
   },
   {
    "duration": 523,
    "start_time": "2021-11-25T19:12:29.235Z"
   },
   {
    "duration": 35,
    "start_time": "2021-11-25T19:12:29.760Z"
   },
   {
    "duration": 313,
    "start_time": "2021-11-25T19:12:29.797Z"
   },
   {
    "duration": 20,
    "start_time": "2021-11-25T19:12:30.112Z"
   },
   {
    "duration": 257,
    "start_time": "2021-11-25T19:12:30.133Z"
   },
   {
    "duration": 797,
    "start_time": "2021-11-25T19:12:30.392Z"
   },
   {
    "duration": 16,
    "start_time": "2021-11-25T19:12:31.192Z"
   },
   {
    "duration": 24,
    "start_time": "2021-11-25T19:12:31.210Z"
   },
   {
    "duration": 26,
    "start_time": "2021-11-25T19:12:31.236Z"
   },
   {
    "duration": 35,
    "start_time": "2021-11-25T19:12:31.264Z"
   },
   {
    "duration": 673,
    "start_time": "2021-11-25T19:14:16.587Z"
   },
   {
    "duration": 13,
    "start_time": "2021-11-25T19:14:17.262Z"
   },
   {
    "duration": 6,
    "start_time": "2021-11-25T19:14:17.277Z"
   },
   {
    "duration": 17,
    "start_time": "2021-11-25T19:14:17.288Z"
   },
   {
    "duration": 11,
    "start_time": "2021-11-25T19:14:17.307Z"
   },
   {
    "duration": 20,
    "start_time": "2021-11-25T19:14:17.319Z"
   },
   {
    "duration": 18,
    "start_time": "2021-11-25T19:14:17.340Z"
   },
   {
    "duration": 6,
    "start_time": "2021-11-25T19:14:17.360Z"
   },
   {
    "duration": 21,
    "start_time": "2021-11-25T19:14:17.367Z"
   },
   {
    "duration": 315,
    "start_time": "2021-11-25T19:14:17.390Z"
   },
   {
    "duration": 7,
    "start_time": "2021-11-25T19:14:17.706Z"
   },
   {
    "duration": 8,
    "start_time": "2021-11-25T19:14:17.714Z"
   },
   {
    "duration": 17,
    "start_time": "2021-11-25T19:14:17.724Z"
   },
   {
    "duration": 6,
    "start_time": "2021-11-25T19:14:17.742Z"
   },
   {
    "duration": 16,
    "start_time": "2021-11-25T19:14:17.749Z"
   },
   {
    "duration": 27,
    "start_time": "2021-11-25T19:14:17.767Z"
   },
   {
    "duration": 14,
    "start_time": "2021-11-25T19:14:17.796Z"
   },
   {
    "duration": 8,
    "start_time": "2021-11-25T19:14:17.811Z"
   },
   {
    "duration": 71,
    "start_time": "2021-11-25T19:14:17.821Z"
   },
   {
    "duration": 7,
    "start_time": "2021-11-25T19:14:17.893Z"
   },
   {
    "duration": 10,
    "start_time": "2021-11-25T19:14:17.901Z"
   },
   {
    "duration": 4,
    "start_time": "2021-11-25T19:14:17.913Z"
   },
   {
    "duration": 13,
    "start_time": "2021-11-25T19:14:17.920Z"
   },
   {
    "duration": 2,
    "start_time": "2021-11-25T19:14:17.935Z"
   },
   {
    "duration": 11,
    "start_time": "2021-11-25T19:14:17.938Z"
   },
   {
    "duration": 9,
    "start_time": "2021-11-25T19:14:17.950Z"
   },
   {
    "duration": 39,
    "start_time": "2021-11-25T19:14:17.961Z"
   },
   {
    "duration": 10,
    "start_time": "2021-11-25T19:14:18.002Z"
   },
   {
    "duration": 18,
    "start_time": "2021-11-25T19:14:18.014Z"
   },
   {
    "duration": 28,
    "start_time": "2021-11-25T19:14:18.033Z"
   },
   {
    "duration": 25,
    "start_time": "2021-11-25T19:14:18.063Z"
   },
   {
    "duration": 12,
    "start_time": "2021-11-25T19:14:18.089Z"
   },
   {
    "duration": 3333,
    "start_time": "2021-11-25T19:14:18.103Z"
   },
   {
    "duration": 6,
    "start_time": "2021-11-25T19:14:21.438Z"
   },
   {
    "duration": 27,
    "start_time": "2021-11-25T19:14:21.446Z"
   },
   {
    "duration": 22,
    "start_time": "2021-11-25T19:14:21.475Z"
   },
   {
    "duration": 382,
    "start_time": "2021-11-25T19:14:21.499Z"
   },
   {
    "duration": 26,
    "start_time": "2021-11-25T19:14:21.883Z"
   },
   {
    "duration": 297,
    "start_time": "2021-11-25T19:14:21.910Z"
   },
   {
    "duration": 18,
    "start_time": "2021-11-25T19:14:22.209Z"
   },
   {
    "duration": 236,
    "start_time": "2021-11-25T19:14:22.229Z"
   },
   {
    "duration": 771,
    "start_time": "2021-11-25T19:14:22.467Z"
   },
   {
    "duration": 15,
    "start_time": "2021-11-25T19:14:23.240Z"
   },
   {
    "duration": 16,
    "start_time": "2021-11-25T19:14:23.256Z"
   },
   {
    "duration": 13,
    "start_time": "2021-11-25T19:14:23.288Z"
   },
   {
    "duration": 12,
    "start_time": "2021-11-25T19:14:23.303Z"
   },
   {
    "duration": 1311,
    "start_time": "2021-11-25T20:09:08.245Z"
   },
   {
    "duration": 29,
    "start_time": "2021-11-25T20:09:09.559Z"
   },
   {
    "duration": 13,
    "start_time": "2021-11-25T20:09:09.592Z"
   },
   {
    "duration": 27,
    "start_time": "2021-11-25T20:09:09.608Z"
   },
   {
    "duration": 9,
    "start_time": "2021-11-25T20:09:09.638Z"
   },
   {
    "duration": 10,
    "start_time": "2021-11-25T20:09:09.682Z"
   },
   {
    "duration": 30,
    "start_time": "2021-11-25T20:09:09.694Z"
   },
   {
    "duration": 10,
    "start_time": "2021-11-25T20:09:09.728Z"
   },
   {
    "duration": 44,
    "start_time": "2021-11-25T20:09:09.742Z"
   },
   {
    "duration": 766,
    "start_time": "2021-11-25T20:09:09.789Z"
   },
   {
    "duration": 9,
    "start_time": "2021-11-25T20:09:10.558Z"
   },
   {
    "duration": 25,
    "start_time": "2021-11-25T20:09:10.569Z"
   },
   {
    "duration": 29,
    "start_time": "2021-11-25T20:09:10.596Z"
   },
   {
    "duration": 8,
    "start_time": "2021-11-25T20:09:10.628Z"
   },
   {
    "duration": 49,
    "start_time": "2021-11-25T20:09:10.639Z"
   },
   {
    "duration": 21,
    "start_time": "2021-11-25T20:09:10.690Z"
   },
   {
    "duration": 26,
    "start_time": "2021-11-25T20:09:10.714Z"
   },
   {
    "duration": 17,
    "start_time": "2021-11-25T20:09:10.743Z"
   },
   {
    "duration": 76,
    "start_time": "2021-11-25T20:09:10.782Z"
   },
   {
    "duration": 25,
    "start_time": "2021-11-25T20:09:10.861Z"
   },
   {
    "duration": 16,
    "start_time": "2021-11-25T20:09:10.888Z"
   },
   {
    "duration": 7,
    "start_time": "2021-11-25T20:09:10.907Z"
   },
   {
    "duration": 64,
    "start_time": "2021-11-25T20:09:10.919Z"
   },
   {
    "duration": 3,
    "start_time": "2021-11-25T20:09:10.986Z"
   },
   {
    "duration": 22,
    "start_time": "2021-11-25T20:09:10.991Z"
   },
   {
    "duration": 12,
    "start_time": "2021-11-25T20:09:11.015Z"
   },
   {
    "duration": 53,
    "start_time": "2021-11-25T20:09:11.029Z"
   },
   {
    "duration": 11,
    "start_time": "2021-11-25T20:09:11.085Z"
   },
   {
    "duration": 36,
    "start_time": "2021-11-25T20:09:11.098Z"
   },
   {
    "duration": 76,
    "start_time": "2021-11-25T20:09:11.137Z"
   },
   {
    "duration": 6,
    "start_time": "2021-11-25T20:09:11.216Z"
   },
   {
    "duration": 18,
    "start_time": "2021-11-25T20:09:11.224Z"
   },
   {
    "duration": 5264,
    "start_time": "2021-11-25T20:09:11.245Z"
   },
   {
    "duration": 11,
    "start_time": "2021-11-25T20:09:16.511Z"
   },
   {
    "duration": 62,
    "start_time": "2021-11-25T20:09:16.525Z"
   },
   {
    "duration": 21,
    "start_time": "2021-11-25T20:09:16.590Z"
   },
   {
    "duration": 598,
    "start_time": "2021-11-25T20:09:16.614Z"
   },
   {
    "duration": 38,
    "start_time": "2021-11-25T20:09:17.214Z"
   },
   {
    "duration": 477,
    "start_time": "2021-11-25T20:09:17.255Z"
   },
   {
    "duration": 31,
    "start_time": "2021-11-25T20:09:17.735Z"
   },
   {
    "duration": 366,
    "start_time": "2021-11-25T20:09:17.781Z"
   },
   {
    "duration": 1325,
    "start_time": "2021-11-25T20:09:18.150Z"
   },
   {
    "duration": 23,
    "start_time": "2021-11-25T20:09:19.478Z"
   },
   {
    "duration": 25,
    "start_time": "2021-11-25T20:09:19.504Z"
   },
   {
    "duration": 55,
    "start_time": "2021-11-25T20:09:19.532Z"
   },
   {
    "duration": 23,
    "start_time": "2021-11-25T20:09:19.589Z"
   },
   {
    "duration": 11,
    "start_time": "2021-11-25T20:36:31.155Z"
   },
   {
    "duration": 459,
    "start_time": "2021-11-25T20:37:29.844Z"
   },
   {
    "duration": 950,
    "start_time": "2021-11-25T20:38:00.885Z"
   },
   {
    "duration": 6,
    "start_time": "2021-11-25T20:38:04.483Z"
   },
   {
    "duration": 8,
    "start_time": "2021-11-25T20:38:19.005Z"
   },
   {
    "duration": 10,
    "start_time": "2021-11-25T20:38:27.532Z"
   },
   {
    "duration": 11,
    "start_time": "2021-11-25T20:57:35.058Z"
   },
   {
    "duration": 11,
    "start_time": "2021-11-25T20:57:52.125Z"
   },
   {
    "duration": 8,
    "start_time": "2021-11-25T20:57:58.914Z"
   },
   {
    "duration": 138,
    "start_time": "2021-11-25T21:06:40.510Z"
   },
   {
    "duration": 1034,
    "start_time": "2021-11-25T21:07:17.189Z"
   },
   {
    "duration": 21,
    "start_time": "2021-11-25T21:07:18.226Z"
   },
   {
    "duration": 13,
    "start_time": "2021-11-25T21:07:18.250Z"
   },
   {
    "duration": 27,
    "start_time": "2021-11-25T21:07:18.283Z"
   },
   {
    "duration": 20,
    "start_time": "2021-11-25T21:07:18.313Z"
   },
   {
    "duration": 27,
    "start_time": "2021-11-25T21:07:18.336Z"
   },
   {
    "duration": 59,
    "start_time": "2021-11-25T21:07:18.366Z"
   },
   {
    "duration": 10,
    "start_time": "2021-11-25T21:07:18.430Z"
   },
   {
    "duration": 41,
    "start_time": "2021-11-25T21:07:18.444Z"
   },
   {
    "duration": 921,
    "start_time": "2021-11-25T21:07:18.488Z"
   },
   {
    "duration": 12,
    "start_time": "2021-11-25T21:07:19.412Z"
   },
   {
    "duration": 17,
    "start_time": "2021-11-25T21:07:19.427Z"
   },
   {
    "duration": 67,
    "start_time": "2021-11-25T21:07:19.447Z"
   },
   {
    "duration": 12,
    "start_time": "2021-11-25T21:07:19.517Z"
   },
   {
    "duration": 13,
    "start_time": "2021-11-25T21:07:19.532Z"
   },
   {
    "duration": 47,
    "start_time": "2021-11-25T21:07:19.548Z"
   },
   {
    "duration": 24,
    "start_time": "2021-11-25T21:07:19.597Z"
   },
   {
    "duration": 19,
    "start_time": "2021-11-25T21:07:19.624Z"
   },
   {
    "duration": 95,
    "start_time": "2021-11-25T21:07:19.645Z"
   },
   {
    "duration": 10,
    "start_time": "2021-11-25T21:07:19.743Z"
   },
   {
    "duration": 40,
    "start_time": "2021-11-25T21:07:19.755Z"
   },
   {
    "duration": 7,
    "start_time": "2021-11-25T21:07:19.797Z"
   },
   {
    "duration": 20,
    "start_time": "2021-11-25T21:07:19.809Z"
   },
   {
    "duration": 3,
    "start_time": "2021-11-25T21:07:19.832Z"
   },
   {
    "duration": 51,
    "start_time": "2021-11-25T21:07:19.837Z"
   },
   {
    "duration": 12,
    "start_time": "2021-11-25T21:07:19.890Z"
   },
   {
    "duration": 28,
    "start_time": "2021-11-25T21:07:19.905Z"
   },
   {
    "duration": 15,
    "start_time": "2021-11-25T21:07:19.936Z"
   },
   {
    "duration": 45,
    "start_time": "2021-11-25T21:07:19.983Z"
   },
   {
    "duration": 87,
    "start_time": "2021-11-25T21:07:20.031Z"
   },
   {
    "duration": 8,
    "start_time": "2021-11-25T21:07:20.121Z"
   },
   {
    "duration": 14,
    "start_time": "2021-11-25T21:07:20.132Z"
   },
   {
    "duration": 4804,
    "start_time": "2021-11-25T21:07:20.149Z"
   },
   {
    "duration": 26,
    "start_time": "2021-11-25T21:07:24.955Z"
   },
   {
    "duration": 42,
    "start_time": "2021-11-25T21:07:24.984Z"
   },
   {
    "duration": 24,
    "start_time": "2021-11-25T21:07:25.028Z"
   },
   {
    "duration": 582,
    "start_time": "2021-11-25T21:07:25.055Z"
   },
   {
    "duration": 45,
    "start_time": "2021-11-25T21:07:25.640Z"
   },
   {
    "duration": 485,
    "start_time": "2021-11-25T21:07:25.688Z"
   },
   {
    "duration": 33,
    "start_time": "2021-11-25T21:07:26.176Z"
   },
   {
    "duration": 432,
    "start_time": "2021-11-25T21:07:26.211Z"
   },
   {
    "duration": 1404,
    "start_time": "2021-11-25T21:07:26.646Z"
   },
   {
    "duration": 41,
    "start_time": "2021-11-25T21:07:28.052Z"
   },
   {
    "duration": 25,
    "start_time": "2021-11-25T21:07:28.095Z"
   },
   {
    "duration": 23,
    "start_time": "2021-11-25T21:07:28.122Z"
   },
   {
    "duration": 23,
    "start_time": "2021-11-25T21:07:28.183Z"
   },
   {
    "duration": 1010,
    "start_time": "2021-11-25T21:09:42.866Z"
   },
   {
    "duration": 21,
    "start_time": "2021-11-25T21:09:43.879Z"
   },
   {
    "duration": 7,
    "start_time": "2021-11-25T21:09:43.903Z"
   },
   {
    "duration": 27,
    "start_time": "2021-11-25T21:09:43.913Z"
   },
   {
    "duration": 41,
    "start_time": "2021-11-25T21:09:43.942Z"
   },
   {
    "duration": 10,
    "start_time": "2021-11-25T21:09:43.985Z"
   },
   {
    "duration": 29,
    "start_time": "2021-11-25T21:09:43.998Z"
   },
   {
    "duration": 7,
    "start_time": "2021-11-25T21:09:44.031Z"
   },
   {
    "duration": 41,
    "start_time": "2021-11-25T21:09:44.041Z"
   },
   {
    "duration": 605,
    "start_time": "2021-11-25T21:09:44.084Z"
   },
   {
    "duration": 9,
    "start_time": "2021-11-25T21:09:44.692Z"
   },
   {
    "duration": 13,
    "start_time": "2021-11-25T21:09:44.703Z"
   },
   {
    "duration": 26,
    "start_time": "2021-11-25T21:09:44.718Z"
   },
   {
    "duration": 41,
    "start_time": "2021-11-25T21:09:44.746Z"
   },
   {
    "duration": 12,
    "start_time": "2021-11-25T21:09:44.789Z"
   },
   {
    "duration": 17,
    "start_time": "2021-11-25T21:09:44.804Z"
   },
   {
    "duration": 25,
    "start_time": "2021-11-25T21:09:44.824Z"
   },
   {
    "duration": 16,
    "start_time": "2021-11-25T21:09:44.883Z"
   },
   {
    "duration": 91,
    "start_time": "2021-11-25T21:09:44.902Z"
   },
   {
    "duration": 11,
    "start_time": "2021-11-25T21:09:44.996Z"
   },
   {
    "duration": 20,
    "start_time": "2021-11-25T21:09:45.009Z"
   },
   {
    "duration": 9,
    "start_time": "2021-11-25T21:09:45.032Z"
   },
   {
    "duration": 24,
    "start_time": "2021-11-25T21:09:45.083Z"
   },
   {
    "duration": 3,
    "start_time": "2021-11-25T21:09:45.111Z"
   },
   {
    "duration": 13,
    "start_time": "2021-11-25T21:09:45.117Z"
   },
   {
    "duration": 49,
    "start_time": "2021-11-25T21:09:45.133Z"
   },
   {
    "duration": 24,
    "start_time": "2021-11-25T21:09:45.185Z"
   },
   {
    "duration": 14,
    "start_time": "2021-11-25T21:09:45.211Z"
   },
   {
    "duration": 55,
    "start_time": "2021-11-25T21:09:45.227Z"
   },
   {
    "duration": 51,
    "start_time": "2021-11-25T21:09:45.284Z"
   },
   {
    "duration": 7,
    "start_time": "2021-11-25T21:09:45.337Z"
   },
   {
    "duration": 39,
    "start_time": "2021-11-25T21:09:45.346Z"
   },
   {
    "duration": 5102,
    "start_time": "2021-11-25T21:09:45.388Z"
   },
   {
    "duration": 10,
    "start_time": "2021-11-25T21:09:50.493Z"
   },
   {
    "duration": 43,
    "start_time": "2021-11-25T21:09:50.506Z"
   },
   {
    "duration": 47,
    "start_time": "2021-11-25T21:09:50.551Z"
   },
   {
    "duration": 598,
    "start_time": "2021-11-25T21:09:50.601Z"
   },
   {
    "duration": 38,
    "start_time": "2021-11-25T21:09:51.202Z"
   },
   {
    "duration": 456,
    "start_time": "2021-11-25T21:09:51.243Z"
   },
   {
    "duration": 30,
    "start_time": "2021-11-25T21:09:51.702Z"
   },
   {
    "duration": 431,
    "start_time": "2021-11-25T21:09:51.735Z"
   },
   {
    "duration": 1351,
    "start_time": "2021-11-25T21:09:52.170Z"
   },
   {
    "duration": 24,
    "start_time": "2021-11-25T21:09:53.523Z"
   },
   {
    "duration": 48,
    "start_time": "2021-11-25T21:09:53.550Z"
   },
   {
    "duration": 22,
    "start_time": "2021-11-25T21:09:53.601Z"
   },
   {
    "duration": 21,
    "start_time": "2021-11-25T21:09:53.625Z"
   },
   {
    "duration": 412,
    "start_time": "2021-11-26T06:31:45.096Z"
   },
   {
    "duration": 757,
    "start_time": "2021-11-26T06:31:54.293Z"
   },
   {
    "duration": 15,
    "start_time": "2021-11-26T06:31:55.052Z"
   },
   {
    "duration": 8,
    "start_time": "2021-11-26T06:31:55.070Z"
   },
   {
    "duration": 22,
    "start_time": "2021-11-26T06:31:55.081Z"
   },
   {
    "duration": 8,
    "start_time": "2021-11-26T06:31:55.105Z"
   },
   {
    "duration": 12,
    "start_time": "2021-11-26T06:31:55.116Z"
   },
   {
    "duration": 50,
    "start_time": "2021-11-26T06:31:55.130Z"
   },
   {
    "duration": 8,
    "start_time": "2021-11-26T06:31:55.183Z"
   },
   {
    "duration": 6,
    "start_time": "2021-11-26T06:31:55.193Z"
   },
   {
    "duration": 373,
    "start_time": "2021-11-26T06:31:55.201Z"
   },
   {
    "duration": 7,
    "start_time": "2021-11-26T06:31:55.576Z"
   },
   {
    "duration": 17,
    "start_time": "2021-11-26T06:31:55.586Z"
   },
   {
    "duration": 23,
    "start_time": "2021-11-26T06:31:55.605Z"
   },
   {
    "duration": 16,
    "start_time": "2021-11-26T06:31:55.630Z"
   },
   {
    "duration": 18,
    "start_time": "2021-11-26T06:31:55.663Z"
   },
   {
    "duration": 36,
    "start_time": "2021-11-26T06:31:55.683Z"
   },
   {
    "duration": 42,
    "start_time": "2021-11-26T06:31:55.721Z"
   },
   {
    "duration": 58,
    "start_time": "2021-11-26T06:31:55.764Z"
   },
   {
    "duration": 76,
    "start_time": "2021-11-26T06:31:55.824Z"
   },
   {
    "duration": 8,
    "start_time": "2021-11-26T06:31:55.902Z"
   },
   {
    "duration": 12,
    "start_time": "2021-11-26T06:31:55.911Z"
   },
   {
    "duration": 5,
    "start_time": "2021-11-26T06:31:55.924Z"
   },
   {
    "duration": 40,
    "start_time": "2021-11-26T06:31:55.933Z"
   },
   {
    "duration": 2,
    "start_time": "2021-11-26T06:31:55.976Z"
   },
   {
    "duration": 10,
    "start_time": "2021-11-26T06:31:55.979Z"
   },
   {
    "duration": 10,
    "start_time": "2021-11-26T06:31:55.991Z"
   },
   {
    "duration": 24,
    "start_time": "2021-11-26T06:31:56.003Z"
   },
   {
    "duration": 38,
    "start_time": "2021-11-26T06:31:56.029Z"
   },
   {
    "duration": 30,
    "start_time": "2021-11-26T06:31:56.069Z"
   },
   {
    "duration": 37,
    "start_time": "2021-11-26T06:31:56.101Z"
   },
   {
    "duration": 26,
    "start_time": "2021-11-26T06:31:56.141Z"
   },
   {
    "duration": 11,
    "start_time": "2021-11-26T06:31:56.169Z"
   },
   {
    "duration": 3714,
    "start_time": "2021-11-26T06:31:56.182Z"
   },
   {
    "duration": 7,
    "start_time": "2021-11-26T06:31:59.898Z"
   },
   {
    "duration": 32,
    "start_time": "2021-11-26T06:31:59.907Z"
   },
   {
    "duration": 33,
    "start_time": "2021-11-26T06:31:59.941Z"
   },
   {
    "duration": 472,
    "start_time": "2021-11-26T06:31:59.975Z"
   },
   {
    "duration": 32,
    "start_time": "2021-11-26T06:32:00.449Z"
   },
   {
    "duration": 358,
    "start_time": "2021-11-26T06:32:00.483Z"
   },
   {
    "duration": 34,
    "start_time": "2021-11-26T06:32:00.843Z"
   },
   {
    "duration": 312,
    "start_time": "2021-11-26T06:32:00.879Z"
   },
   {
    "duration": 1091,
    "start_time": "2021-11-26T06:32:01.193Z"
   },
   {
    "duration": 16,
    "start_time": "2021-11-26T06:32:02.286Z"
   },
   {
    "duration": 53,
    "start_time": "2021-11-26T06:32:02.304Z"
   },
   {
    "duration": 16,
    "start_time": "2021-11-26T06:32:02.359Z"
   },
   {
    "duration": 18,
    "start_time": "2021-11-26T06:32:02.377Z"
   },
   {
    "duration": 2,
    "start_time": "2021-11-26T06:41:06.524Z"
   },
   {
    "duration": 741,
    "start_time": "2021-11-26T15:36:27.424Z"
   },
   {
    "duration": 13,
    "start_time": "2021-11-26T15:36:28.167Z"
   },
   {
    "duration": 7,
    "start_time": "2021-11-26T15:36:28.183Z"
   },
   {
    "duration": 24,
    "start_time": "2021-11-26T15:36:28.192Z"
   },
   {
    "duration": 33,
    "start_time": "2021-11-26T15:36:28.217Z"
   },
   {
    "duration": 12,
    "start_time": "2021-11-26T15:36:28.251Z"
   },
   {
    "duration": 22,
    "start_time": "2021-11-26T15:36:28.265Z"
   },
   {
    "duration": 6,
    "start_time": "2021-11-26T15:36:28.289Z"
   },
   {
    "duration": 5,
    "start_time": "2021-11-26T15:36:28.297Z"
   },
   {
    "duration": 378,
    "start_time": "2021-11-26T15:36:28.304Z"
   },
   {
    "duration": 6,
    "start_time": "2021-11-26T15:36:28.684Z"
   },
   {
    "duration": 12,
    "start_time": "2021-11-26T15:36:28.692Z"
   },
   {
    "duration": 19,
    "start_time": "2021-11-26T15:36:28.705Z"
   },
   {
    "duration": 21,
    "start_time": "2021-11-26T15:36:28.726Z"
   },
   {
    "duration": 7,
    "start_time": "2021-11-26T15:36:28.749Z"
   },
   {
    "duration": 13,
    "start_time": "2021-11-26T15:36:28.758Z"
   },
   {
    "duration": 14,
    "start_time": "2021-11-26T15:36:28.773Z"
   },
   {
    "duration": 11,
    "start_time": "2021-11-26T15:36:28.789Z"
   },
   {
    "duration": 80,
    "start_time": "2021-11-26T15:36:28.802Z"
   },
   {
    "duration": 12,
    "start_time": "2021-11-26T15:36:28.884Z"
   },
   {
    "duration": 11,
    "start_time": "2021-11-26T15:36:28.898Z"
   },
   {
    "duration": 4,
    "start_time": "2021-11-26T15:36:28.911Z"
   },
   {
    "duration": 39,
    "start_time": "2021-11-26T15:36:28.917Z"
   },
   {
    "duration": 2,
    "start_time": "2021-11-26T15:36:28.958Z"
   },
   {
    "duration": 9,
    "start_time": "2021-11-26T15:36:28.961Z"
   },
   {
    "duration": 7,
    "start_time": "2021-11-26T15:36:28.971Z"
   },
   {
    "duration": 17,
    "start_time": "2021-11-26T15:36:28.981Z"
   },
   {
    "duration": 13,
    "start_time": "2021-11-26T15:36:29.000Z"
   },
   {
    "duration": 56,
    "start_time": "2021-11-26T15:36:29.015Z"
   },
   {
    "duration": 35,
    "start_time": "2021-11-26T15:36:29.073Z"
   },
   {
    "duration": 5,
    "start_time": "2021-11-26T15:36:29.110Z"
   },
   {
    "duration": 44,
    "start_time": "2021-11-26T15:36:29.117Z"
   },
   {
    "duration": 3719,
    "start_time": "2021-11-26T15:36:29.163Z"
   },
   {
    "duration": 8,
    "start_time": "2021-11-26T15:36:32.883Z"
   },
   {
    "duration": 27,
    "start_time": "2021-11-26T15:36:32.893Z"
   },
   {
    "duration": 31,
    "start_time": "2021-11-26T15:36:32.921Z"
   },
   {
    "duration": 410,
    "start_time": "2021-11-26T15:36:32.954Z"
   },
   {
    "duration": 27,
    "start_time": "2021-11-26T15:36:33.365Z"
   },
   {
    "duration": 385,
    "start_time": "2021-11-26T15:36:33.394Z"
   },
   {
    "duration": 22,
    "start_time": "2021-11-26T15:36:33.781Z"
   },
   {
    "duration": 331,
    "start_time": "2021-11-26T15:36:33.805Z"
   },
   {
    "duration": 2,
    "start_time": "2021-11-26T15:36:34.144Z"
   },
   {
    "duration": 15,
    "start_time": "2021-11-26T15:36:34.148Z"
   },
   {
    "duration": 17,
    "start_time": "2021-11-26T15:36:34.164Z"
   },
   {
    "duration": 15,
    "start_time": "2021-11-26T15:36:34.182Z"
   },
   {
    "duration": 15,
    "start_time": "2021-11-26T15:36:34.198Z"
   }
  ],
  "kernelspec": {
   "display_name": "Python 3 (ipykernel)",
   "language": "python",
   "name": "python3"
  },
  "language_info": {
   "codemirror_mode": {
    "name": "ipython",
    "version": 3
   },
   "file_extension": ".py",
   "mimetype": "text/x-python",
   "name": "python",
   "nbconvert_exporter": "python",
   "pygments_lexer": "ipython3",
   "version": "3.9.7"
  },
  "toc": {
   "base_numbering": 1,
   "nav_menu": {
    "height": "108.993px",
    "width": "455.99px"
   },
   "number_sections": true,
   "sideBar": true,
   "skip_h1_title": true,
   "title_cell": "Table of Contents",
   "title_sidebar": "Contents",
   "toc_cell": false,
   "toc_position": {
    "height": "calc(100% - 180px)",
    "left": "10px",
    "top": "150px",
    "width": "240px"
   },
   "toc_section_display": true,
   "toc_window_display": true
  }
 },
 "nbformat": 4,
 "nbformat_minor": 2
}

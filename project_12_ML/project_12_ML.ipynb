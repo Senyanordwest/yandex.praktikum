{
 "cells": [
  {
   "cell_type": "markdown",
   "metadata": {},
   "source": [
    " <font size=5><font color='darkslateblue'>\n",
    "<b>Стратегия взаимодействия с клиентами на основе аналитических данных</b></font>"
   ]
  },
  {
   "cell_type": "markdown",
   "metadata": {},
   "source": [
    "## Описание проекта"
   ]
  },
  {
   "cell_type": "markdown",
   "metadata": {},
   "source": [
    "Сеть фитнес-центров разрабатывает стратегию взаимодействия с клиентами на основе аналитических данных.\n",
    "\n",
    "Распространённая проблема фитнес-клубов и других сервисов — отток клиентов. Как понять, что клиент больше не с вами? Можно записать в отток тех, кто попросил закрыть договор или удалил аккаунт. Однако клиенты не всегда уходят демонстративно: чаще перестают пользоваться сервисом тихо.\n",
    "\n",
    "Индикаторы оттока зависят от специфики отрасли. Когда пользователь редко, но стабильно закупается в интернет-магазине — не похоже, что он «отвалился». А вот если две недели не заходит на канал с ежедневно обновляемым контентом, дела плохи: подписчик заскучал и, кажется, оставил вас.\n",
    "\n",
    "Для фитнес-центра можно считать, что клиент попал в отток, если за последний месяц ни разу не посетил спортзал. Конечно, не исключено, что он уехал на Бали и по приезде обязательно продолжит ходить на фитнес. Однако чаще бывает наоборот. Если клиент начал новую жизнь с понедельника, немного походил в спортзал, а потом пропал — скорее всего, он не вернётся.\n",
    "\n",
    "Чтобы бороться с оттоком, отдел по работе с клиентами перевёл в электронный вид множество клиентских анкет. <b>Задача — провести анализ и подготовить план действий по удержанию клиентов.</b>\n",
    "А именно:\n",
    "* научиться прогнозировать вероятность оттока (на уровне следующего месяца) для каждого клиента;\n",
    "* сформировать типичные портреты клиентов: выделить несколько наиболее ярких групп и охарактеризовать их основные свойства;\n",
    "* проанализировать основные признаки, наиболее сильно влияющие на отток;\n",
    "сформулировать основные выводы и разработать рекомендации по повышению качества работы с клиентами:\n",
    "\n",
    "    1) выделить целевые группы клиентов;<br/>\n",
    "    2) предложить меры по снижению оттока;<br/>\n",
    "    3) определить другие особенности взаимодействия с клиентами."
   ]
  },
  {
   "cell_type": "markdown",
   "metadata": {},
   "source": [
    "## Описание исходных данных"
   ]
  },
  {
   "cell_type": "markdown",
   "metadata": {},
   "source": [
    "Фитнесс-центр предоставил сведения в csv-файлах. Заказчик подготовил данные, которые содержат данные на месяц до оттока и факт оттока на определённый месяц. Набор данных включает следующие поля:\n",
    "\n",
    "<b>Данные клиента за предыдущий до проверки факта оттока месяц:</b><br/>\n",
    "`gender` — пол;\n",
    "<br/>\n",
    "`Near_Location` — проживание или работа в районе, где находится фитнес-центр;<br/>\n",
    "`Partner` — сотрудник компании-партнёра клуба (сотрудничество с компаниями, чьи сотрудники могут получать скидки на абонемент — в таком случае фитнес-центр хранит информацию о работодателе клиента);\n",
    "<br/>\n",
    "`Promo_friends` — факт первоначальной записи в рамках акции «приведи друга» (использовал промо-код от знакомого при оплате первого абонемента);\n",
    "<br/>\n",
    "`Phone` — наличие контактного телефона;\n",
    "<br/>\n",
    "`Age` — возраст;\n",
    "<br/>\n",
    "`Lifetime` — время с момента первого обращения в фитнес-центр (в месяцах).\n",
    "\n",
    "<b>Информация на основе журнала посещений, покупок и информация о текущем статусе абонемента клиента:</b>\n",
    "<br/>\n",
    "`Contract_period` — длительность текущего действующего абонемента (месяц, 6 месяцев, год);\n",
    "<br/>\n",
    "`Month_to_end_contract` — срок до окончания текущего действующего абонемента (в месяцах);\n",
    "<br/>\n",
    "`Group_visits` — факт посещения групповых занятий;\n",
    "<br/>\n",
    "`Avg_class_frequency_total` — средняя частота посещений в неделю за все время с начала действия абонемента;\n",
    "<br/>\n",
    "`Avg_class_frequency_current_month` — средняя частота посещений в неделю за предыдущий месяц;\n",
    "<br/>\n",
    "`Avg_additional_charges_total` — суммарная выручка от других услуг фитнес-центра: кафе, спорттовары, косметический и массажный салон.\n",
    "<br/>\n",
    "`Churn` — факт оттока в текущем месяце."
   ]
  },
  {
   "cell_type": "markdown",
   "metadata": {},
   "source": [
    "## Ознакомление и подготовка данных"
   ]
  },
  {
   "cell_type": "code",
   "execution_count": 1,
   "metadata": {},
   "outputs": [],
   "source": [
    "#импорт библиотек\n",
    "\n",
    "import pandas as pd\n",
    "import matplotlib.pyplot as plt\n",
    "import numpy as np\n",
    "\n",
    "import scipy.stats as stats\n",
    "from scipy.cluster import hierarchy\n",
    "\n",
    "\n",
    "import math as mth\n",
    "import seaborn as sns\n",
    "\n",
    "# ML\n",
    "from sklearn.preprocessing import StandardScaler\n",
    "from sklearn.model_selection import train_test_split\n",
    "from sklearn.linear_model import LogisticRegression\n",
    "from sklearn.metrics import confusion_matrix, accuracy_score, precision_score, recall_score, silhouette_score\n",
    "from sklearn.ensemble import RandomForestClassifier\n",
    "from scipy.cluster.hierarchy import dendrogram, linkage\n",
    "from sklearn.cluster import KMeans\n",
    "# ML\n",
    "\n",
    "sns.set(font_scale=1.1)\n",
    "#sns.set_style(\"darkgrid\", {\"grid.color\": \"dimgray\", \"grid.linestyle\": \":\"})\n",
    "import warnings\n",
    "warnings.filterwarnings(\"ignore\")\n",
    "\n",
    "pd.set_option('display.float_format', '{:,.3f}'.format)\n",
    "pd.set_option('display.max_columns', None)\n",
    "pd.options.display.max_colwidth = 150  "
   ]
  },
  {
   "cell_type": "code",
   "execution_count": 2,
   "metadata": {
    "scrolled": false
   },
   "outputs": [
    {
     "name": "stdout",
     "output_type": "stream",
     "text": [
      "\u001b[1mОбщая информация о датасете:\u001b[0m\n",
      "<class 'pandas.core.frame.DataFrame'>\n",
      "RangeIndex: 4000 entries, 0 to 3999\n",
      "Data columns (total 14 columns):\n",
      " #   Column                             Non-Null Count  Dtype  \n",
      "---  ------                             --------------  -----  \n",
      " 0   gender                             4000 non-null   int64  \n",
      " 1   Near_Location                      4000 non-null   int64  \n",
      " 2   Partner                            4000 non-null   int64  \n",
      " 3   Promo_friends                      4000 non-null   int64  \n",
      " 4   Phone                              4000 non-null   int64  \n",
      " 5   Contract_period                    4000 non-null   int64  \n",
      " 6   Group_visits                       4000 non-null   int64  \n",
      " 7   Age                                4000 non-null   int64  \n",
      " 8   Avg_additional_charges_total       4000 non-null   float64\n",
      " 9   Month_to_end_contract              4000 non-null   float64\n",
      " 10  Lifetime                           4000 non-null   int64  \n",
      " 11  Avg_class_frequency_total          4000 non-null   float64\n",
      " 12  Avg_class_frequency_current_month  4000 non-null   float64\n",
      " 13  Churn                              4000 non-null   int64  \n",
      "dtypes: float64(4), int64(10)\n",
      "memory usage: 437.6 KB\n",
      "------------------------------\n",
      "\u001b[1mКоличество пропусков в столбцах:\u001b[0m\n",
      "gender                               0\n",
      "Near_Location                        0\n",
      "Partner                              0\n",
      "Promo_friends                        0\n",
      "Phone                                0\n",
      "Contract_period                      0\n",
      "Group_visits                         0\n",
      "Age                                  0\n",
      "Avg_additional_charges_total         0\n",
      "Month_to_end_contract                0\n",
      "Lifetime                             0\n",
      "Avg_class_frequency_total            0\n",
      "Avg_class_frequency_current_month    0\n",
      "Churn                                0\n",
      "dtype: int64\n",
      "------------------------------\n",
      "Количество дублей: 0\n"
     ]
    },
    {
     "data": {
      "text/html": [
       "<div>\n",
       "<style scoped>\n",
       "    .dataframe tbody tr th:only-of-type {\n",
       "        vertical-align: middle;\n",
       "    }\n",
       "\n",
       "    .dataframe tbody tr th {\n",
       "        vertical-align: top;\n",
       "    }\n",
       "\n",
       "    .dataframe thead th {\n",
       "        text-align: right;\n",
       "    }\n",
       "</style>\n",
       "<table border=\"1\" class=\"dataframe\">\n",
       "  <thead>\n",
       "    <tr style=\"text-align: right;\">\n",
       "      <th></th>\n",
       "      <th>gender</th>\n",
       "      <th>Near_Location</th>\n",
       "      <th>Partner</th>\n",
       "      <th>Promo_friends</th>\n",
       "      <th>Phone</th>\n",
       "      <th>Contract_period</th>\n",
       "      <th>Group_visits</th>\n",
       "      <th>Age</th>\n",
       "      <th>Avg_additional_charges_total</th>\n",
       "      <th>Month_to_end_contract</th>\n",
       "      <th>Lifetime</th>\n",
       "      <th>Avg_class_frequency_total</th>\n",
       "      <th>Avg_class_frequency_current_month</th>\n",
       "      <th>Churn</th>\n",
       "    </tr>\n",
       "  </thead>\n",
       "  <tbody>\n",
       "    <tr>\n",
       "      <th>200</th>\n",
       "      <td>0</td>\n",
       "      <td>1</td>\n",
       "      <td>1</td>\n",
       "      <td>0</td>\n",
       "      <td>1</td>\n",
       "      <td>1</td>\n",
       "      <td>0</td>\n",
       "      <td>34</td>\n",
       "      <td>46.492</td>\n",
       "      <td>1.000</td>\n",
       "      <td>0</td>\n",
       "      <td>1.011</td>\n",
       "      <td>0.000</td>\n",
       "      <td>1</td>\n",
       "    </tr>\n",
       "    <tr>\n",
       "      <th>1078</th>\n",
       "      <td>1</td>\n",
       "      <td>1</td>\n",
       "      <td>0</td>\n",
       "      <td>0</td>\n",
       "      <td>1</td>\n",
       "      <td>1</td>\n",
       "      <td>0</td>\n",
       "      <td>27</td>\n",
       "      <td>24.554</td>\n",
       "      <td>1.000</td>\n",
       "      <td>4</td>\n",
       "      <td>1.391</td>\n",
       "      <td>0.979</td>\n",
       "      <td>1</td>\n",
       "    </tr>\n",
       "    <tr>\n",
       "      <th>610</th>\n",
       "      <td>1</td>\n",
       "      <td>1</td>\n",
       "      <td>1</td>\n",
       "      <td>1</td>\n",
       "      <td>1</td>\n",
       "      <td>6</td>\n",
       "      <td>1</td>\n",
       "      <td>31</td>\n",
       "      <td>85.672</td>\n",
       "      <td>6.000</td>\n",
       "      <td>1</td>\n",
       "      <td>1.010</td>\n",
       "      <td>0.731</td>\n",
       "      <td>1</td>\n",
       "    </tr>\n",
       "    <tr>\n",
       "      <th>2159</th>\n",
       "      <td>1</td>\n",
       "      <td>0</td>\n",
       "      <td>1</td>\n",
       "      <td>0</td>\n",
       "      <td>1</td>\n",
       "      <td>1</td>\n",
       "      <td>0</td>\n",
       "      <td>26</td>\n",
       "      <td>75.803</td>\n",
       "      <td>1.000</td>\n",
       "      <td>1</td>\n",
       "      <td>1.457</td>\n",
       "      <td>1.540</td>\n",
       "      <td>1</td>\n",
       "    </tr>\n",
       "    <tr>\n",
       "      <th>1169</th>\n",
       "      <td>0</td>\n",
       "      <td>0</td>\n",
       "      <td>0</td>\n",
       "      <td>0</td>\n",
       "      <td>1</td>\n",
       "      <td>1</td>\n",
       "      <td>0</td>\n",
       "      <td>31</td>\n",
       "      <td>410.757</td>\n",
       "      <td>1.000</td>\n",
       "      <td>3</td>\n",
       "      <td>2.402</td>\n",
       "      <td>2.473</td>\n",
       "      <td>0</td>\n",
       "    </tr>\n",
       "    <tr>\n",
       "      <th>2448</th>\n",
       "      <td>0</td>\n",
       "      <td>0</td>\n",
       "      <td>0</td>\n",
       "      <td>0</td>\n",
       "      <td>1</td>\n",
       "      <td>12</td>\n",
       "      <td>1</td>\n",
       "      <td>28</td>\n",
       "      <td>106.110</td>\n",
       "      <td>10.000</td>\n",
       "      <td>3</td>\n",
       "      <td>2.559</td>\n",
       "      <td>2.521</td>\n",
       "      <td>0</td>\n",
       "    </tr>\n",
       "    <tr>\n",
       "      <th>2938</th>\n",
       "      <td>1</td>\n",
       "      <td>1</td>\n",
       "      <td>0</td>\n",
       "      <td>0</td>\n",
       "      <td>0</td>\n",
       "      <td>1</td>\n",
       "      <td>0</td>\n",
       "      <td>23</td>\n",
       "      <td>199.155</td>\n",
       "      <td>1.000</td>\n",
       "      <td>0</td>\n",
       "      <td>2.947</td>\n",
       "      <td>2.702</td>\n",
       "      <td>1</td>\n",
       "    </tr>\n",
       "    <tr>\n",
       "      <th>813</th>\n",
       "      <td>1</td>\n",
       "      <td>1</td>\n",
       "      <td>1</td>\n",
       "      <td>1</td>\n",
       "      <td>1</td>\n",
       "      <td>6</td>\n",
       "      <td>1</td>\n",
       "      <td>34</td>\n",
       "      <td>115.869</td>\n",
       "      <td>4.000</td>\n",
       "      <td>9</td>\n",
       "      <td>0.652</td>\n",
       "      <td>0.571</td>\n",
       "      <td>0</td>\n",
       "    </tr>\n",
       "    <tr>\n",
       "      <th>1268</th>\n",
       "      <td>0</td>\n",
       "      <td>1</td>\n",
       "      <td>0</td>\n",
       "      <td>1</td>\n",
       "      <td>1</td>\n",
       "      <td>1</td>\n",
       "      <td>0</td>\n",
       "      <td>29</td>\n",
       "      <td>158.982</td>\n",
       "      <td>1.000</td>\n",
       "      <td>2</td>\n",
       "      <td>1.776</td>\n",
       "      <td>0.705</td>\n",
       "      <td>1</td>\n",
       "    </tr>\n",
       "    <tr>\n",
       "      <th>870</th>\n",
       "      <td>0</td>\n",
       "      <td>1</td>\n",
       "      <td>0</td>\n",
       "      <td>0</td>\n",
       "      <td>1</td>\n",
       "      <td>1</td>\n",
       "      <td>1</td>\n",
       "      <td>32</td>\n",
       "      <td>67.588</td>\n",
       "      <td>1.000</td>\n",
       "      <td>4</td>\n",
       "      <td>1.217</td>\n",
       "      <td>1.334</td>\n",
       "      <td>0</td>\n",
       "    </tr>\n",
       "  </tbody>\n",
       "</table>\n",
       "</div>"
      ],
      "text/plain": [
       "      gender  Near_Location  Partner  Promo_friends  Phone  Contract_period  \\\n",
       "200        0              1        1              0      1                1   \n",
       "1078       1              1        0              0      1                1   \n",
       "610        1              1        1              1      1                6   \n",
       "2159       1              0        1              0      1                1   \n",
       "1169       0              0        0              0      1                1   \n",
       "2448       0              0        0              0      1               12   \n",
       "2938       1              1        0              0      0                1   \n",
       "813        1              1        1              1      1                6   \n",
       "1268       0              1        0              1      1                1   \n",
       "870        0              1        0              0      1                1   \n",
       "\n",
       "      Group_visits  Age  Avg_additional_charges_total  Month_to_end_contract  \\\n",
       "200              0   34                        46.492                  1.000   \n",
       "1078             0   27                        24.554                  1.000   \n",
       "610              1   31                        85.672                  6.000   \n",
       "2159             0   26                        75.803                  1.000   \n",
       "1169             0   31                       410.757                  1.000   \n",
       "2448             1   28                       106.110                 10.000   \n",
       "2938             0   23                       199.155                  1.000   \n",
       "813              1   34                       115.869                  4.000   \n",
       "1268             0   29                       158.982                  1.000   \n",
       "870              1   32                        67.588                  1.000   \n",
       "\n",
       "      Lifetime  Avg_class_frequency_total  Avg_class_frequency_current_month  \\\n",
       "200          0                      1.011                              0.000   \n",
       "1078         4                      1.391                              0.979   \n",
       "610          1                      1.010                              0.731   \n",
       "2159         1                      1.457                              1.540   \n",
       "1169         3                      2.402                              2.473   \n",
       "2448         3                      2.559                              2.521   \n",
       "2938         0                      2.947                              2.702   \n",
       "813          9                      0.652                              0.571   \n",
       "1268         2                      1.776                              0.705   \n",
       "870          4                      1.217                              1.334   \n",
       "\n",
       "      Churn  \n",
       "200       1  \n",
       "1078      1  \n",
       "610       1  \n",
       "2159      1  \n",
       "1169      0  \n",
       "2448      0  \n",
       "2938      1  \n",
       "813       0  \n",
       "1268      1  \n",
       "870       0  "
      ]
     },
     "execution_count": 2,
     "metadata": {},
     "output_type": "execute_result"
    }
   ],
   "source": [
    "# загружаем исходные данные\n",
    "gym_churn = pd.read_csv('/datasets/gym_churn.csv')\n",
    "\n",
    "# функция для первого взгляда\n",
    "def first_look(df):\n",
    "    print('\\033[1m' + 'Общая информация о датасете:' + '\\033[0m')\n",
    "    df.info(),\n",
    "    (df.style.set_properties(\n",
    "    **{'text-align': 'center'}).highlight_null(null_color='lightcoral')),\n",
    "    print('-'*10*3),\n",
    "    print('\\033[1m' + 'Количество пропусков в столбцах:' + '\\033[0m'),\n",
    "    print(df.isna().sum()),\n",
    "    print('-'*10*3),\n",
    "    print('Количество дублей:', df.duplicated().sum())\n",
    "    return df.sample(10, random_state=1)\n",
    "\n",
    "first_look(gym_churn)"
   ]
  },
  {
   "cell_type": "markdown",
   "metadata": {},
   "source": [
    "<font size=2,5> На первый взгляд данные в датасете в порядке, пропусков нет, поправим сразу регистр названий столбцов в настоящий <i>snake_case</i>. С типами данных тоже всё в порядке, за исключением столбца `Month_to_end_contract` - срок до окончания абонемента указывается в месяцах, плавающая точка ни к чему. Также немного поменяем последовательность столбцов - сгруппируем вместе бинарные признаки, \"средние\" и данные по \"месяцам\"."
   ]
  },
  {
   "cell_type": "code",
   "execution_count": 3,
   "metadata": {},
   "outputs": [],
   "source": [
    "# нижний регистр для столбцов\n",
    "gym_churn.columns = map(str.lower, gym_churn.columns)"
   ]
  },
  {
   "cell_type": "code",
   "execution_count": 4,
   "metadata": {
    "scrolled": true
   },
   "outputs": [
    {
     "data": {
      "text/html": [
       "<div>\n",
       "<style scoped>\n",
       "    .dataframe tbody tr th:only-of-type {\n",
       "        vertical-align: middle;\n",
       "    }\n",
       "\n",
       "    .dataframe tbody tr th {\n",
       "        vertical-align: top;\n",
       "    }\n",
       "\n",
       "    .dataframe thead th {\n",
       "        text-align: right;\n",
       "    }\n",
       "</style>\n",
       "<table border=\"1\" class=\"dataframe\">\n",
       "  <thead>\n",
       "    <tr style=\"text-align: right;\">\n",
       "      <th></th>\n",
       "      <th>gender</th>\n",
       "      <th>near_location</th>\n",
       "      <th>partner</th>\n",
       "      <th>promo_friends</th>\n",
       "      <th>phone</th>\n",
       "      <th>contract_period</th>\n",
       "      <th>group_visits</th>\n",
       "      <th>age</th>\n",
       "      <th>avg_additional_charges_total</th>\n",
       "      <th>month_to_end_contract</th>\n",
       "      <th>lifetime</th>\n",
       "      <th>avg_class_frequency_total</th>\n",
       "      <th>avg_class_frequency_current_month</th>\n",
       "      <th>churn</th>\n",
       "    </tr>\n",
       "  </thead>\n",
       "  <tbody>\n",
       "    <tr>\n",
       "      <th>0</th>\n",
       "      <td>1</td>\n",
       "      <td>1</td>\n",
       "      <td>1</td>\n",
       "      <td>1</td>\n",
       "      <td>0</td>\n",
       "      <td>6</td>\n",
       "      <td>1</td>\n",
       "      <td>29</td>\n",
       "      <td>14.227</td>\n",
       "      <td>5</td>\n",
       "      <td>3</td>\n",
       "      <td>0.020</td>\n",
       "      <td>0.000</td>\n",
       "      <td>0</td>\n",
       "    </tr>\n",
       "    <tr>\n",
       "      <th>1</th>\n",
       "      <td>0</td>\n",
       "      <td>1</td>\n",
       "      <td>0</td>\n",
       "      <td>0</td>\n",
       "      <td>1</td>\n",
       "      <td>12</td>\n",
       "      <td>1</td>\n",
       "      <td>31</td>\n",
       "      <td>113.203</td>\n",
       "      <td>12</td>\n",
       "      <td>7</td>\n",
       "      <td>1.923</td>\n",
       "      <td>1.910</td>\n",
       "      <td>0</td>\n",
       "    </tr>\n",
       "    <tr>\n",
       "      <th>2</th>\n",
       "      <td>0</td>\n",
       "      <td>1</td>\n",
       "      <td>1</td>\n",
       "      <td>0</td>\n",
       "      <td>1</td>\n",
       "      <td>1</td>\n",
       "      <td>0</td>\n",
       "      <td>28</td>\n",
       "      <td>129.448</td>\n",
       "      <td>1</td>\n",
       "      <td>2</td>\n",
       "      <td>1.859</td>\n",
       "      <td>1.737</td>\n",
       "      <td>0</td>\n",
       "    </tr>\n",
       "    <tr>\n",
       "      <th>3</th>\n",
       "      <td>0</td>\n",
       "      <td>1</td>\n",
       "      <td>1</td>\n",
       "      <td>1</td>\n",
       "      <td>1</td>\n",
       "      <td>12</td>\n",
       "      <td>1</td>\n",
       "      <td>33</td>\n",
       "      <td>62.670</td>\n",
       "      <td>12</td>\n",
       "      <td>2</td>\n",
       "      <td>3.206</td>\n",
       "      <td>3.357</td>\n",
       "      <td>0</td>\n",
       "    </tr>\n",
       "    <tr>\n",
       "      <th>4</th>\n",
       "      <td>1</td>\n",
       "      <td>1</td>\n",
       "      <td>1</td>\n",
       "      <td>1</td>\n",
       "      <td>1</td>\n",
       "      <td>1</td>\n",
       "      <td>0</td>\n",
       "      <td>26</td>\n",
       "      <td>198.362</td>\n",
       "      <td>1</td>\n",
       "      <td>3</td>\n",
       "      <td>1.114</td>\n",
       "      <td>1.120</td>\n",
       "      <td>0</td>\n",
       "    </tr>\n",
       "  </tbody>\n",
       "</table>\n",
       "</div>"
      ],
      "text/plain": [
       "   gender  near_location  partner  promo_friends  phone  contract_period  \\\n",
       "0       1              1        1              1      0                6   \n",
       "1       0              1        0              0      1               12   \n",
       "2       0              1        1              0      1                1   \n",
       "3       0              1        1              1      1               12   \n",
       "4       1              1        1              1      1                1   \n",
       "\n",
       "   group_visits  age  avg_additional_charges_total  month_to_end_contract  \\\n",
       "0             1   29                        14.227                      5   \n",
       "1             1   31                       113.203                     12   \n",
       "2             0   28                       129.448                      1   \n",
       "3             1   33                        62.670                     12   \n",
       "4             0   26                       198.362                      1   \n",
       "\n",
       "   lifetime  avg_class_frequency_total  avg_class_frequency_current_month  \\\n",
       "0         3                      0.020                              0.000   \n",
       "1         7                      1.923                              1.910   \n",
       "2         2                      1.859                              1.737   \n",
       "3         2                      3.206                              3.357   \n",
       "4         3                      1.114                              1.120   \n",
       "\n",
       "   churn  \n",
       "0      0  \n",
       "1      0  \n",
       "2      0  \n",
       "3      0  \n",
       "4      0  "
      ]
     },
     "execution_count": 4,
     "metadata": {},
     "output_type": "execute_result"
    }
   ],
   "source": [
    "# правим тип столбца \n",
    "gym_churn['month_to_end_contract'] = gym_churn['month_to_end_contract'].astype('int')\n",
    "gym_churn.head(5)"
   ]
  },
  {
   "cell_type": "markdown",
   "metadata": {},
   "source": [
    "<font size=2,5> Перегруппируем столбцы:"
   ]
  },
  {
   "cell_type": "code",
   "execution_count": 5,
   "metadata": {
    "scrolled": true
   },
   "outputs": [
    {
     "data": {
      "text/plain": [
       "['gender',\n",
       " 'near_location',\n",
       " 'partner',\n",
       " 'promo_friends',\n",
       " 'phone',\n",
       " 'contract_period',\n",
       " 'group_visits',\n",
       " 'age',\n",
       " 'avg_additional_charges_total',\n",
       " 'month_to_end_contract',\n",
       " 'lifetime',\n",
       " 'avg_class_frequency_total',\n",
       " 'avg_class_frequency_current_month',\n",
       " 'churn']"
      ]
     },
     "execution_count": 5,
     "metadata": {},
     "output_type": "execute_result"
    }
   ],
   "source": [
    "gym_churn.columns.tolist()"
   ]
  },
  {
   "cell_type": "code",
   "execution_count": 6,
   "metadata": {
    "scrolled": false
   },
   "outputs": [
    {
     "data": {
      "text/html": [
       "<div>\n",
       "<style scoped>\n",
       "    .dataframe tbody tr th:only-of-type {\n",
       "        vertical-align: middle;\n",
       "    }\n",
       "\n",
       "    .dataframe tbody tr th {\n",
       "        vertical-align: top;\n",
       "    }\n",
       "\n",
       "    .dataframe thead th {\n",
       "        text-align: right;\n",
       "    }\n",
       "</style>\n",
       "<table border=\"1\" class=\"dataframe\">\n",
       "  <thead>\n",
       "    <tr style=\"text-align: right;\">\n",
       "      <th></th>\n",
       "      <th>gender</th>\n",
       "      <th>near_location</th>\n",
       "      <th>partner</th>\n",
       "      <th>promo_friends</th>\n",
       "      <th>phone</th>\n",
       "      <th>group_visits</th>\n",
       "      <th>churn</th>\n",
       "      <th>age</th>\n",
       "      <th>contract_period</th>\n",
       "      <th>month_to_end_contract</th>\n",
       "      <th>lifetime</th>\n",
       "      <th>avg_additional_charges_total</th>\n",
       "      <th>avg_class_frequency_total</th>\n",
       "      <th>avg_class_frequency_current_month</th>\n",
       "    </tr>\n",
       "  </thead>\n",
       "  <tbody>\n",
       "    <tr>\n",
       "      <th>0</th>\n",
       "      <td>1</td>\n",
       "      <td>1</td>\n",
       "      <td>1</td>\n",
       "      <td>1</td>\n",
       "      <td>0</td>\n",
       "      <td>1</td>\n",
       "      <td>0</td>\n",
       "      <td>29</td>\n",
       "      <td>6</td>\n",
       "      <td>5</td>\n",
       "      <td>3</td>\n",
       "      <td>14.227</td>\n",
       "      <td>0.020</td>\n",
       "      <td>0.000</td>\n",
       "    </tr>\n",
       "    <tr>\n",
       "      <th>1</th>\n",
       "      <td>0</td>\n",
       "      <td>1</td>\n",
       "      <td>0</td>\n",
       "      <td>0</td>\n",
       "      <td>1</td>\n",
       "      <td>1</td>\n",
       "      <td>0</td>\n",
       "      <td>31</td>\n",
       "      <td>12</td>\n",
       "      <td>12</td>\n",
       "      <td>7</td>\n",
       "      <td>113.203</td>\n",
       "      <td>1.923</td>\n",
       "      <td>1.910</td>\n",
       "    </tr>\n",
       "    <tr>\n",
       "      <th>2</th>\n",
       "      <td>0</td>\n",
       "      <td>1</td>\n",
       "      <td>1</td>\n",
       "      <td>0</td>\n",
       "      <td>1</td>\n",
       "      <td>0</td>\n",
       "      <td>0</td>\n",
       "      <td>28</td>\n",
       "      <td>1</td>\n",
       "      <td>1</td>\n",
       "      <td>2</td>\n",
       "      <td>129.448</td>\n",
       "      <td>1.859</td>\n",
       "      <td>1.737</td>\n",
       "    </tr>\n",
       "    <tr>\n",
       "      <th>3</th>\n",
       "      <td>0</td>\n",
       "      <td>1</td>\n",
       "      <td>1</td>\n",
       "      <td>1</td>\n",
       "      <td>1</td>\n",
       "      <td>1</td>\n",
       "      <td>0</td>\n",
       "      <td>33</td>\n",
       "      <td>12</td>\n",
       "      <td>12</td>\n",
       "      <td>2</td>\n",
       "      <td>62.670</td>\n",
       "      <td>3.206</td>\n",
       "      <td>3.357</td>\n",
       "    </tr>\n",
       "    <tr>\n",
       "      <th>4</th>\n",
       "      <td>1</td>\n",
       "      <td>1</td>\n",
       "      <td>1</td>\n",
       "      <td>1</td>\n",
       "      <td>1</td>\n",
       "      <td>0</td>\n",
       "      <td>0</td>\n",
       "      <td>26</td>\n",
       "      <td>1</td>\n",
       "      <td>1</td>\n",
       "      <td>3</td>\n",
       "      <td>198.362</td>\n",
       "      <td>1.114</td>\n",
       "      <td>1.120</td>\n",
       "    </tr>\n",
       "  </tbody>\n",
       "</table>\n",
       "</div>"
      ],
      "text/plain": [
       "   gender  near_location  partner  promo_friends  phone  group_visits  churn  \\\n",
       "0       1              1        1              1      0             1      0   \n",
       "1       0              1        0              0      1             1      0   \n",
       "2       0              1        1              0      1             0      0   \n",
       "3       0              1        1              1      1             1      0   \n",
       "4       1              1        1              1      1             0      0   \n",
       "\n",
       "   age  contract_period  month_to_end_contract  lifetime  \\\n",
       "0   29                6                      5         3   \n",
       "1   31               12                     12         7   \n",
       "2   28                1                      1         2   \n",
       "3   33               12                     12         2   \n",
       "4   26                1                      1         3   \n",
       "\n",
       "   avg_additional_charges_total  avg_class_frequency_total  \\\n",
       "0                        14.227                      0.020   \n",
       "1                       113.203                      1.923   \n",
       "2                       129.448                      1.859   \n",
       "3                        62.670                      3.206   \n",
       "4                       198.362                      1.114   \n",
       "\n",
       "   avg_class_frequency_current_month  \n",
       "0                              0.000  \n",
       "1                              1.910  \n",
       "2                              1.737  \n",
       "3                              3.357  \n",
       "4                              1.120  "
      ]
     },
     "execution_count": 6,
     "metadata": {},
     "output_type": "execute_result"
    }
   ],
   "source": [
    "gym_churn = gym_churn[['gender', 'near_location', 'partner', 'promo_friends', 'phone', 'group_visits', 'churn',\n",
    "                       'age',\n",
    "                       'contract_period', 'month_to_end_contract', 'lifetime',\n",
    "                       'avg_additional_charges_total', 'avg_class_frequency_total', 'avg_class_frequency_current_month']]\n",
    "gym_churn.head(5)"
   ]
  },
  {
   "cell_type": "markdown",
   "metadata": {},
   "source": [
    "<font size=2,5> После группировки таблица стала немного удобнее для визуальной работы, для надёжности проверим ещё датасет на дубликаты:"
   ]
  },
  {
   "cell_type": "code",
   "execution_count": 7,
   "metadata": {},
   "outputs": [
    {
     "data": {
      "text/plain": [
       "0"
      ]
     },
     "execution_count": 7,
     "metadata": {},
     "output_type": "execute_result"
    }
   ],
   "source": [
    "gym_churn.duplicated().sum()"
   ]
  },
  {
   "cell_type": "markdown",
   "metadata": {},
   "source": [
    "## Исследовательский анализ данных (EDA)"
   ]
  },
  {
   "cell_type": "markdown",
   "metadata": {},
   "source": [
    "### Значения в столбцах"
   ]
  },
  {
   "cell_type": "code",
   "execution_count": 8,
   "metadata": {
    "scrolled": false
   },
   "outputs": [
    {
     "data": {
      "text/html": [
       "<div>\n",
       "<style scoped>\n",
       "    .dataframe tbody tr th:only-of-type {\n",
       "        vertical-align: middle;\n",
       "    }\n",
       "\n",
       "    .dataframe tbody tr th {\n",
       "        vertical-align: top;\n",
       "    }\n",
       "\n",
       "    .dataframe thead th {\n",
       "        text-align: right;\n",
       "    }\n",
       "</style>\n",
       "<table border=\"1\" class=\"dataframe\">\n",
       "  <thead>\n",
       "    <tr style=\"text-align: right;\">\n",
       "      <th></th>\n",
       "      <th>count</th>\n",
       "      <th>mean</th>\n",
       "      <th>std</th>\n",
       "      <th>min</th>\n",
       "      <th>25%</th>\n",
       "      <th>50%</th>\n",
       "      <th>75%</th>\n",
       "      <th>max</th>\n",
       "    </tr>\n",
       "  </thead>\n",
       "  <tbody>\n",
       "    <tr>\n",
       "      <th>gender</th>\n",
       "      <td>4,000.000</td>\n",
       "      <td>0.510</td>\n",
       "      <td>0.500</td>\n",
       "      <td>0.000</td>\n",
       "      <td>0.000</td>\n",
       "      <td>1.000</td>\n",
       "      <td>1.000</td>\n",
       "      <td>1.000</td>\n",
       "    </tr>\n",
       "    <tr>\n",
       "      <th>near_location</th>\n",
       "      <td>4,000.000</td>\n",
       "      <td>0.845</td>\n",
       "      <td>0.362</td>\n",
       "      <td>0.000</td>\n",
       "      <td>1.000</td>\n",
       "      <td>1.000</td>\n",
       "      <td>1.000</td>\n",
       "      <td>1.000</td>\n",
       "    </tr>\n",
       "    <tr>\n",
       "      <th>partner</th>\n",
       "      <td>4,000.000</td>\n",
       "      <td>0.487</td>\n",
       "      <td>0.500</td>\n",
       "      <td>0.000</td>\n",
       "      <td>0.000</td>\n",
       "      <td>0.000</td>\n",
       "      <td>1.000</td>\n",
       "      <td>1.000</td>\n",
       "    </tr>\n",
       "    <tr>\n",
       "      <th>promo_friends</th>\n",
       "      <td>4,000.000</td>\n",
       "      <td>0.308</td>\n",
       "      <td>0.462</td>\n",
       "      <td>0.000</td>\n",
       "      <td>0.000</td>\n",
       "      <td>0.000</td>\n",
       "      <td>1.000</td>\n",
       "      <td>1.000</td>\n",
       "    </tr>\n",
       "    <tr>\n",
       "      <th>phone</th>\n",
       "      <td>4,000.000</td>\n",
       "      <td>0.903</td>\n",
       "      <td>0.295</td>\n",
       "      <td>0.000</td>\n",
       "      <td>1.000</td>\n",
       "      <td>1.000</td>\n",
       "      <td>1.000</td>\n",
       "      <td>1.000</td>\n",
       "    </tr>\n",
       "    <tr>\n",
       "      <th>group_visits</th>\n",
       "      <td>4,000.000</td>\n",
       "      <td>0.412</td>\n",
       "      <td>0.492</td>\n",
       "      <td>0.000</td>\n",
       "      <td>0.000</td>\n",
       "      <td>0.000</td>\n",
       "      <td>1.000</td>\n",
       "      <td>1.000</td>\n",
       "    </tr>\n",
       "    <tr>\n",
       "      <th>churn</th>\n",
       "      <td>4,000.000</td>\n",
       "      <td>0.265</td>\n",
       "      <td>0.442</td>\n",
       "      <td>0.000</td>\n",
       "      <td>0.000</td>\n",
       "      <td>0.000</td>\n",
       "      <td>1.000</td>\n",
       "      <td>1.000</td>\n",
       "    </tr>\n",
       "    <tr>\n",
       "      <th>age</th>\n",
       "      <td>4,000.000</td>\n",
       "      <td>29.184</td>\n",
       "      <td>3.258</td>\n",
       "      <td>18.000</td>\n",
       "      <td>27.000</td>\n",
       "      <td>29.000</td>\n",
       "      <td>31.000</td>\n",
       "      <td>41.000</td>\n",
       "    </tr>\n",
       "    <tr>\n",
       "      <th>contract_period</th>\n",
       "      <td>4,000.000</td>\n",
       "      <td>4.681</td>\n",
       "      <td>4.550</td>\n",
       "      <td>1.000</td>\n",
       "      <td>1.000</td>\n",
       "      <td>1.000</td>\n",
       "      <td>6.000</td>\n",
       "      <td>12.000</td>\n",
       "    </tr>\n",
       "    <tr>\n",
       "      <th>month_to_end_contract</th>\n",
       "      <td>4,000.000</td>\n",
       "      <td>4.323</td>\n",
       "      <td>4.191</td>\n",
       "      <td>1.000</td>\n",
       "      <td>1.000</td>\n",
       "      <td>1.000</td>\n",
       "      <td>6.000</td>\n",
       "      <td>12.000</td>\n",
       "    </tr>\n",
       "    <tr>\n",
       "      <th>lifetime</th>\n",
       "      <td>4,000.000</td>\n",
       "      <td>3.725</td>\n",
       "      <td>3.749</td>\n",
       "      <td>0.000</td>\n",
       "      <td>1.000</td>\n",
       "      <td>3.000</td>\n",
       "      <td>5.000</td>\n",
       "      <td>31.000</td>\n",
       "    </tr>\n",
       "    <tr>\n",
       "      <th>avg_additional_charges_total</th>\n",
       "      <td>4,000.000</td>\n",
       "      <td>146.944</td>\n",
       "      <td>96.356</td>\n",
       "      <td>0.148</td>\n",
       "      <td>68.869</td>\n",
       "      <td>136.220</td>\n",
       "      <td>210.950</td>\n",
       "      <td>552.591</td>\n",
       "    </tr>\n",
       "    <tr>\n",
       "      <th>avg_class_frequency_total</th>\n",
       "      <td>4,000.000</td>\n",
       "      <td>1.879</td>\n",
       "      <td>0.972</td>\n",
       "      <td>0.000</td>\n",
       "      <td>1.181</td>\n",
       "      <td>1.833</td>\n",
       "      <td>2.536</td>\n",
       "      <td>6.024</td>\n",
       "    </tr>\n",
       "    <tr>\n",
       "      <th>avg_class_frequency_current_month</th>\n",
       "      <td>4,000.000</td>\n",
       "      <td>1.767</td>\n",
       "      <td>1.053</td>\n",
       "      <td>0.000</td>\n",
       "      <td>0.963</td>\n",
       "      <td>1.720</td>\n",
       "      <td>2.510</td>\n",
       "      <td>6.147</td>\n",
       "    </tr>\n",
       "  </tbody>\n",
       "</table>\n",
       "</div>"
      ],
      "text/plain": [
       "                                      count    mean    std    min    25%  \\\n",
       "gender                            4,000.000   0.510  0.500  0.000  0.000   \n",
       "near_location                     4,000.000   0.845  0.362  0.000  1.000   \n",
       "partner                           4,000.000   0.487  0.500  0.000  0.000   \n",
       "promo_friends                     4,000.000   0.308  0.462  0.000  0.000   \n",
       "phone                             4,000.000   0.903  0.295  0.000  1.000   \n",
       "group_visits                      4,000.000   0.412  0.492  0.000  0.000   \n",
       "churn                             4,000.000   0.265  0.442  0.000  0.000   \n",
       "age                               4,000.000  29.184  3.258 18.000 27.000   \n",
       "contract_period                   4,000.000   4.681  4.550  1.000  1.000   \n",
       "month_to_end_contract             4,000.000   4.323  4.191  1.000  1.000   \n",
       "lifetime                          4,000.000   3.725  3.749  0.000  1.000   \n",
       "avg_additional_charges_total      4,000.000 146.944 96.356  0.148 68.869   \n",
       "avg_class_frequency_total         4,000.000   1.879  0.972  0.000  1.181   \n",
       "avg_class_frequency_current_month 4,000.000   1.767  1.053  0.000  0.963   \n",
       "\n",
       "                                      50%     75%     max  \n",
       "gender                              1.000   1.000   1.000  \n",
       "near_location                       1.000   1.000   1.000  \n",
       "partner                             0.000   1.000   1.000  \n",
       "promo_friends                       0.000   1.000   1.000  \n",
       "phone                               1.000   1.000   1.000  \n",
       "group_visits                        0.000   1.000   1.000  \n",
       "churn                               0.000   1.000   1.000  \n",
       "age                                29.000  31.000  41.000  \n",
       "contract_period                     1.000   6.000  12.000  \n",
       "month_to_end_contract               1.000   6.000  12.000  \n",
       "lifetime                            3.000   5.000  31.000  \n",
       "avg_additional_charges_total      136.220 210.950 552.591  \n",
       "avg_class_frequency_total           1.833   2.536   6.024  \n",
       "avg_class_frequency_current_month   1.720   2.510   6.147  "
      ]
     },
     "execution_count": 8,
     "metadata": {},
     "output_type": "execute_result"
    }
   ],
   "source": [
    "gym_churn.describe().T"
   ]
  },
  {
   "cell_type": "code",
   "execution_count": 9,
   "metadata": {
    "scrolled": true
   },
   "outputs": [
    {
     "data": {
      "text/plain": [
       "1     2207\n",
       "12     960\n",
       "6      833\n",
       "Name: contract_period, dtype: int64"
      ]
     },
     "execution_count": 9,
     "metadata": {},
     "output_type": "execute_result"
    }
   ],
   "source": [
    "gym_churn['contract_period'].value_counts()"
   ]
  },
  {
   "cell_type": "markdown",
   "metadata": {},
   "source": [
    "<font size=2,5> С бинарными признаками всё в порядке, никаких нулевых значений и значений >1. По данным признакам сразу можно сделать следующие выводы о клиентах:\n",
    "* по полу (`gender`) клиенты фитнесс-центров распределены практически поровну, среднее значение 0,51;\n",
    "* большая часть клиентов живёт или работает в районе посещаемого фитнесс центра (`near_location`), среднее значение 0,85; <i><font color='mediumblue'>(здесь и далее выводы по бинарным признакам даются с условием, что 1 - это да, а 0 - нет., в целом это логично, но т.к. в исходных данных данный момент дополнительно не уточнён, руководствуемся только логикой)</font></i>\n",
    "* простых клиентов также практически поровну с партнёрскими клиентами (`partner`), среднее значение 0,49;\n",
    "* клиентов по акции приведи друга (`promo_friends`) треть, среднее значение 0,31;\n",
    "* малый процент клиентов, десятая часть, не делится своим телефоном (`phone`), среднее значение 0,90;\n",
    "* факт посещения групповых занятий (`group_visits`) отмечен тоже почти у половины клиентов, среднее значение 0,41;\n",
    "* факт оттока в текущем месяце (`churn`) зафиксирован почти у трети клиентов, среднее значение 0,27.<br/>\n",
    "    \n",
    "    \n",
    "* данные о возрасте клиентов (`age`) корректны, интервал от 18 лет до 41 года;\n",
    "* абонементы (`contract_period`) примерно половина клиентов приобретает на 1 месяц, и по четверти клиентов приобретают годовые и полугодовые абонементы;\n",
    "* самый большой `lifetime` клиентов - 31 месяц, медиана же составляет 3 месяца, а среднее значение 3,7 месяца;     \n",
    "* среднее значение суммарной выручки от доп.услуг (`avg_additional_charges_total`) 146,94 у.е., а медианное 136,22, значения довольно близки, скорее всего нет каких-то слишком больших \"выбросов\";\n",
    "* значения по частоте посещений в неделю за всё время (`avg_class_frequency_total`) и за предыдущий месяц (`avg_class_frequency_current_month`) схожи, минимумы одинаковы - 0 тренировок, максимальные значения 6,02 и 6,15 тренировок в неделю соответственно, медиана 1,83 и 1,72, а среднее 1,88 и 1,77.<br/>"
   ]
  },
  {
   "cell_type": "markdown",
   "metadata": {},
   "source": [
    "### Cредние значения признаков в двух группах — тех, кто ушел в отток и тех, кто остался"
   ]
  },
  {
   "cell_type": "code",
   "execution_count": 10,
   "metadata": {
    "scrolled": true
   },
   "outputs": [
    {
     "data": {
      "text/html": [
       "<div>\n",
       "<style scoped>\n",
       "    .dataframe tbody tr th:only-of-type {\n",
       "        vertical-align: middle;\n",
       "    }\n",
       "\n",
       "    .dataframe tbody tr th {\n",
       "        vertical-align: top;\n",
       "    }\n",
       "\n",
       "    .dataframe thead th {\n",
       "        text-align: right;\n",
       "    }\n",
       "</style>\n",
       "<table border=\"1\" class=\"dataframe\">\n",
       "  <thead>\n",
       "    <tr style=\"text-align: right;\">\n",
       "      <th></th>\n",
       "      <th>gender</th>\n",
       "      <th>near_location</th>\n",
       "      <th>partner</th>\n",
       "      <th>promo_friends</th>\n",
       "      <th>phone</th>\n",
       "      <th>group_visits</th>\n",
       "      <th>age</th>\n",
       "      <th>contract_period</th>\n",
       "      <th>month_to_end_contract</th>\n",
       "      <th>lifetime</th>\n",
       "      <th>avg_additional_charges_total</th>\n",
       "      <th>avg_class_frequency_total</th>\n",
       "      <th>avg_class_frequency_current_month</th>\n",
       "    </tr>\n",
       "    <tr>\n",
       "      <th>churn</th>\n",
       "      <th></th>\n",
       "      <th></th>\n",
       "      <th></th>\n",
       "      <th></th>\n",
       "      <th></th>\n",
       "      <th></th>\n",
       "      <th></th>\n",
       "      <th></th>\n",
       "      <th></th>\n",
       "      <th></th>\n",
       "      <th></th>\n",
       "      <th></th>\n",
       "      <th></th>\n",
       "    </tr>\n",
       "  </thead>\n",
       "  <tbody>\n",
       "    <tr>\n",
       "      <th>0</th>\n",
       "      <td>0.510</td>\n",
       "      <td>0.873</td>\n",
       "      <td>0.534</td>\n",
       "      <td>0.354</td>\n",
       "      <td>0.904</td>\n",
       "      <td>0.464</td>\n",
       "      <td>29.977</td>\n",
       "      <td>5.747</td>\n",
       "      <td>5.283</td>\n",
       "      <td>4.712</td>\n",
       "      <td>158.446</td>\n",
       "      <td>2.025</td>\n",
       "      <td>2.028</td>\n",
       "    </tr>\n",
       "    <tr>\n",
       "      <th>1</th>\n",
       "      <td>0.511</td>\n",
       "      <td>0.768</td>\n",
       "      <td>0.355</td>\n",
       "      <td>0.184</td>\n",
       "      <td>0.903</td>\n",
       "      <td>0.269</td>\n",
       "      <td>26.990</td>\n",
       "      <td>1.729</td>\n",
       "      <td>1.663</td>\n",
       "      <td>0.991</td>\n",
       "      <td>115.083</td>\n",
       "      <td>1.475</td>\n",
       "      <td>1.045</td>\n",
       "    </tr>\n",
       "  </tbody>\n",
       "</table>\n",
       "</div>"
      ],
      "text/plain": [
       "       gender  near_location  partner  promo_friends  phone  group_visits  \\\n",
       "churn                                                                       \n",
       "0       0.510          0.873    0.534          0.354  0.904         0.464   \n",
       "1       0.511          0.768    0.355          0.184  0.903         0.269   \n",
       "\n",
       "         age  contract_period  month_to_end_contract  lifetime  \\\n",
       "churn                                                            \n",
       "0     29.977            5.747                  5.283     4.712   \n",
       "1     26.990            1.729                  1.663     0.991   \n",
       "\n",
       "       avg_additional_charges_total  avg_class_frequency_total  \\\n",
       "churn                                                            \n",
       "0                           158.446                      2.025   \n",
       "1                           115.083                      1.475   \n",
       "\n",
       "       avg_class_frequency_current_month  \n",
       "churn                                     \n",
       "0                                  2.028  \n",
       "1                                  1.045  "
      ]
     },
     "execution_count": 10,
     "metadata": {},
     "output_type": "execute_result"
    }
   ],
   "source": [
    "gym_churn.groupby('churn').mean()"
   ]
  },
  {
   "cell_type": "markdown",
   "metadata": {},
   "source": [
    "<font size=2,5> При разделении клиентов на ушедших и оставшихся по признакам наблюдаем следующее:<br/>\n",
    "    \n",
    "<u>по бинарным признакам:</u>\n",
    "* по гендеру паритет, значения практически одинаковы;\n",
    "* работают или живут в районе фитнесс-центра 87% оставшихся клиентов, 77% ушедших;\n",
    "* из клиентов по партнёрской программе уходит 35,5%, оставшихся половина - 53%;\n",
    "* по акции \"приведи друга\" среди оставшихся 35%, среди ушедших 18%;\n",
    "* телефоны оставляют одинаково клиенты из двух групп;\n",
    "* групповые занятия посещают 27% ушедших клиентов и 46% оставшихся;<br/>\n",
    "    \n",
    "<u>по остальным признакам:</u>\n",
    "* средний возраст оставшихся клиентов немного выше 30 лет против 27 у ушедших;\n",
    "* у ушедших клиентов контракт в большинстве своём скорее всего оформлен на один месяц - среднее значение 1,73, тогда как у оставшихся скорее полугодовой, среднее значение 5,75. Средние сроки до окончания контракта в этих группах 5,3 и 1,7 месяца соответственно;\n",
    "* выручка с оставшихся клиентов выше - 158,5 у.е., у ушедших выручка 115,1 у.е.;\n",
    "* частота недельных помещений и с начала действия абонемента, и недельная за прошлый месяц выше у оставшихся клиентов и составляет 2 тренировки, для ушедших же это 1,5 с начала действия абонемента и 1 за последний месяц.<br/>\n",
    "    \n",
    "<b>Уже можно попробовать составить характер поведения клиентов</b>:\n",
    "* остающийся клиент это в первую очередь клиент с длинным (полугодовым, годовым) абонементом, изначально более замотивированный на занятия спортом, тогда как уходяший клиент скорее всего приобретал только месячный абонемент, возможно в целях простого ознакомления с залом, когда хочется \"пощупать\" заведение, а одной ознакомительной тренировки недостаточно.\n",
    "* мотивированный остающийся клиент больше тратит денег на доп.услуги, охотнее занимается в группе и вообще чаще посещает фитнесс-центр. Если для остающихся клиентов есть пускай и незначительное, но превышение ср.значения тренировок за последний месяц, по сравнению с общим ср.числом (2,025 < 2.028), клиент втягивается, ему нравится посещать занятия и он старается больше времени уделять физической активности. То для ушедших клиентов показатель за последний месяц уже заметно ниже общего ср.числа тренировок (1,475 > 1.045), с течением времени желание тренироваться в зале, который по каким-то причинам тебя не устраивает разумеется будет падать.\n",
    "* Влияние на поведение клиентов, пускай и не такой заметное, оказывает близость зала к дому/месту работы, но процент остающихся клиентов с залом поблизости всё же больше, чем среди ушедших.\n",
    "    \n"
   ]
  },
  {
   "cell_type": "markdown",
   "metadata": {},
   "source": [
    "### Графики распределения признаков для тех, кто ушёл и тех, кто остался"
   ]
  },
  {
   "cell_type": "markdown",
   "metadata": {},
   "source": [
    "<font size=2,5> Разделим признаки на бинарные и остальные"
   ]
  },
  {
   "cell_type": "code",
   "execution_count": 11,
   "metadata": {
    "scrolled": true
   },
   "outputs": [
    {
     "data": {
      "text/plain": [
       "['gender',\n",
       " 'near_location',\n",
       " 'partner',\n",
       " 'promo_friends',\n",
       " 'phone',\n",
       " 'group_visits']"
      ]
     },
     "execution_count": 11,
     "metadata": {},
     "output_type": "execute_result"
    }
   ],
   "source": [
    "# список с бинарными признаками\n",
    "binary = gym_churn.columns.values[0:6].tolist()\n",
    "binary"
   ]
  },
  {
   "cell_type": "code",
   "execution_count": 12,
   "metadata": {
    "scrolled": true
   },
   "outputs": [
    {
     "data": {
      "text/plain": [
       "['age',\n",
       " 'contract_period',\n",
       " 'month_to_end_contract',\n",
       " 'lifetime',\n",
       " 'avg_additional_charges_total',\n",
       " 'avg_class_frequency_total',\n",
       " 'avg_class_frequency_current_month']"
      ]
     },
     "execution_count": 12,
     "metadata": {},
     "output_type": "execute_result"
    }
   ],
   "source": [
    "# список с числовыми признаками\n",
    "numerical = gym_churn.columns.values[7:].tolist()\n",
    "numerical"
   ]
  },
  {
   "cell_type": "code",
   "execution_count": 13,
   "metadata": {
    "scrolled": false
   },
   "outputs": [
    {
     "data": {
      "image/png": "[encoded data removed]",
      "text/plain": [
       "<Figure size 1440x1080 with 6 Axes>"
      ]
     },
     "metadata": {},
     "output_type": "display_data"
    }
   ],
   "source": [
    "# графики для бинарных признаков\n",
    "\n",
    "fig, axes = plt.subplots(nrows=2, ncols=3, figsize=(20,15))\n",
    "axes_list = [item for sublist in axes for item in sublist]\n",
    "fig.tight_layout(pad=5.0)\n",
    "fig.suptitle('Распределение бинарных признаков', fontsize=15)\n",
    "for value in binary:\n",
    "    ax = axes_list.pop(0)\n",
    "    # для ушедших\n",
    "    sns.distplot(gym_churn.query('churn == 1')[value], bins=5, ax=ax, kde=False, label='ушли',\n",
    "                 hist_kws = {'color':'red', 'edgecolor':'black', 'linewidth':1, 'linestyle':'--', 'alpha':1}),\n",
    "    # для оставшихся\n",
    "    sns.distplot(gym_churn.query('churn == 0')[value], bins=5, ax=ax, kde=False, label='остались',\n",
    "                 hist_kws = {'color':'green', 'edgecolor':'darkgreen', 'linewidth':2, 'linestyle':'-', 'alpha':0.3})\n",
    "    ax.set_xticks([0,1])\n",
    "    ax.set_xlabel(value, fontsize=13)\n",
    "    ax.set_ylabel('Кол-во значений', fontsize=13)\n",
    "    ax.legend();"
   ]
  },
  {
   "cell_type": "markdown",
   "metadata": {},
   "source": [
    "<font size=2,5><u>По бинарным признакам можно сделать следующие выводы:</u>\n",
    "* по гендерам распределение общих долей и процента ушедших клиентов примерно поровну;\n",
    "* живущих/работающих рядом с фитнесс-центром значительно больше, а доля ушедших сильно меньше, чем у тех, кто вынужден долго добираться до зала;\n",
    "* доля \"партнёрских\" пользователей немного больше, чем простых клиентов, а отток их примерно в два раза ниже, чес у простых клиентов;\n",
    "* участников промо-акции \"приведи друга\" почти в два раза меньше, чем обычных клиентов, но зато среди них доля ушедших значительно меньше, чем среди простых клиентов;\n",
    "* среди тех, кто оставил свой контактный номер и нет, доли ушедших пользователей примерно равны, вряд ли этот показатель оказывает сильное влияние;\n",
    "* а вот факт участия в групповых тренировках влияет на пользователей, при почти равных долях, доля оттока непосещавших групповые занятия примерно в 3 раза больше таковой у тех, кто на групповые занятия ходил.<br/>\n",
    "    \n",
    "Построим графики для остальных признаков"
   ]
  },
  {
   "cell_type": "code",
   "execution_count": 14,
   "metadata": {
    "scrolled": false
   },
   "outputs": [
    {
     "data": {
      "image/png": "[encoded data removed]",
      "text/plain": [
       "<Figure size 1440x1800 with 8 Axes>"
      ]
     },
     "metadata": {},
     "output_type": "display_data"
    }
   ],
   "source": [
    "# графики для числовых признаков\n",
    "\n",
    "fig, axes = plt.subplots(nrows=4, ncols=2, figsize=(20,25))\n",
    "axes_list = [item for sublist in axes for item in sublist]\n",
    "fig.tight_layout(pad=4.0)\n",
    "fig.suptitle('Распределение числовых признаков', fontsize=20)\n",
    "for value in numerical:\n",
    "    ax = axes_list.pop(0)\n",
    "    # для ушедших\n",
    "    sns.distplot(gym_churn.query('churn == 1')[value], bins=10, ax=ax, kde=False, label='ушли',\n",
    "                 hist_kws = {'color':'red', 'edgecolor':'black', 'linewidth':.5, 'linestyle':'--', 'alpha':1}),\n",
    "    # для оставшихся\n",
    "    sns.distplot(gym_churn.query('churn == 0')[value], bins=10, ax=ax, kde=False, label='остались',\n",
    "                 hist_kws = {'color':'green', 'edgecolor':'darkgreen', 'linewidth':2, 'linestyle':'-', 'alpha':0.3})\n",
    "    #ax.set_xticks([0,1])\n",
    "    ax.set_xlabel(value, fontsize=13)\n",
    "    ax.set_ylabel('Кол-во значений', fontsize=13)\n",
    "    ax.legend();"
   ]
  },
  {
   "cell_type": "markdown",
   "metadata": {},
   "source": [
    "<font size=2,5><u>По числовым признакам выводы  следующие:</u>\n",
    "* возраст - чем старше клиент, тем меньше вероятность его ухода, клиенты в возрасте до ~27 лет уходят очень часто;\n",
    "* период контракта - здесь хорошо видно, что клиенты с длительным контрактом на 12 месяцев практически не уходят, а вот текучка клиентов с абонементов сроком на один месяц очень сильная;\n",
    "* со сроком до окончания контракта ситуация схожая, у кого остаётся один месяц до конца контракта, те чащё всего и уходят;\n",
    "* отток клиентов идёт в первые пять месяцев, чем лайфтайм клиентов выше, тем меньше вероятность его ухода, однако и клиентов со \"сроком жизни\" больше года значительно меньше, чем клиентов до года;\n",
    "* графики выручки от доп.услуг схожи как у оставшихся клиентов, так и тех, кто ушёл в отток. Что там, что там большая часть платит до 250 у.е в месяц. У оставшихся клиентов лишь немного длиннее \"хвост\" - есть небольшшое кол-вопользователей, готовх тратить в месяц более 350 у.е.\n",
    "* средняя частота посещений в неделю за все время - у клиентов, тренирующихся до двух раз в неделю доли оттока от общего числа примерно одинаковы, но уже на трёх тренировках в неделю ситуация меняется, отток резко падает, с значения больше 4 тренировок в неделю оттока нет, определённо так много тренировко себе могут позволить либо проффесиональные спортсмены, либо очень увлечённые любители, у которых есть чёткий тренировочный график;\n",
    "* график средней частоты посещений в неделю за предыдущий месяц похож с таковым для графика за всё время, с тем исключением, что чем клиент чаще ходил в фитнесс-центр, тем меньше отток. Количество тех, кто за последний месяц не посещал тренировки почти такое же, как и кто ушел."
   ]
  },
  {
   "cell_type": "markdown",
   "metadata": {},
   "source": [
    "<div class=\"alert alert-success\">\n",
    "<b>Комментарий ревьюера: ✅</b>\n",
    "\n",
    "Отличный способ визуализации, здорово что используешь метод `subplots`.\n",
    "    \n",
    "\n",
    "\n",
    "</div>"
   ]
  },
  {
   "cell_type": "markdown",
   "metadata": {},
   "source": [
    "### Матрица корреляций"
   ]
  },
  {
   "cell_type": "code",
   "execution_count": 15,
   "metadata": {
    "scrolled": false
   },
   "outputs": [
    {
     "data": {
      "image/png": "[encoded data removed]",
      "text/plain": [
       "<Figure size 1080x1008 with 2 Axes>"
      ]
     },
     "metadata": {},
     "output_type": "display_data"
    }
   ],
   "source": [
    "corr_mtrx = gym_churn.corr()\n",
    "mask = np.tril(np.ones_like(corr_mtrx, dtype=bool))\n",
    "\n",
    "f, ax = plt.subplots(figsize=(15, 14))\n",
    "sns.heatmap(corr_mtrx, mask=mask, annot = True, fmt = '0.2f', linewidths=.5, cmap=\"coolwarm\", square=True, alpha=.7);\n",
    "#plt.xticks(rotation=70);"
   ]
  },
  {
   "cell_type": "markdown",
   "metadata": {},
   "source": [
    "<font size=2,5><u>По матрице корреляций видим следующее:</u>\n",
    "* Самая сильная положительная корреляция у срока контракта и срока до окончания контракта, а также у частоты посещений за всё время и за предыдуший месяц, стоит удалить по одному признаку из каждой пары, чтобы исключить мультиколлинеарность; \n",
    "* Хорошая корреляция между промо \"приведи друга\" и партнёрской программой, похоже что коллеги и друзья через \"сарафанное радио\" делают неплохую рекламу;\n",
    "* партнёрская программа также неплохо, в сравнении с остальными показателями, коррелирует с периодом контракта;\n",
    "* Сильную отрицательную зависимость показывает факт оттока с таким покащателями в порядке усиления связи: срок до окончания контракта, срок контракта, возраст, частота посещений за последний месяц и лайфтайм;\n",
    "* есть пары признаков с нулевой корреляцией: телефон и партнёрская программа, отток и гендер, отток и телефон, период контракта и пол. Что в прочем логично, сложно представить взаимосвязь между оставил ли клиент свой номер телефона и ушёл в этом месяце."
   ]
  },
  {
   "cell_type": "markdown",
   "metadata": {},
   "source": [
    "<font size=2,5>Исключим мультиколлинеарность, удалим признаки `contract_period` и `avg_class_frequency_current_month` "
   ]
  },
  {
   "cell_type": "code",
   "execution_count": 16,
   "metadata": {},
   "outputs": [
    {
     "data": {
      "text/html": [
       "<div>\n",
       "<style scoped>\n",
       "    .dataframe tbody tr th:only-of-type {\n",
       "        vertical-align: middle;\n",
       "    }\n",
       "\n",
       "    .dataframe tbody tr th {\n",
       "        vertical-align: top;\n",
       "    }\n",
       "\n",
       "    .dataframe thead th {\n",
       "        text-align: right;\n",
       "    }\n",
       "</style>\n",
       "<table border=\"1\" class=\"dataframe\">\n",
       "  <thead>\n",
       "    <tr style=\"text-align: right;\">\n",
       "      <th></th>\n",
       "      <th>gender</th>\n",
       "      <th>near_location</th>\n",
       "      <th>partner</th>\n",
       "      <th>promo_friends</th>\n",
       "      <th>phone</th>\n",
       "      <th>group_visits</th>\n",
       "      <th>churn</th>\n",
       "      <th>age</th>\n",
       "      <th>month_to_end_contract</th>\n",
       "      <th>lifetime</th>\n",
       "      <th>avg_additional_charges_total</th>\n",
       "      <th>avg_class_frequency_total</th>\n",
       "    </tr>\n",
       "  </thead>\n",
       "  <tbody>\n",
       "    <tr>\n",
       "      <th>0</th>\n",
       "      <td>1</td>\n",
       "      <td>1</td>\n",
       "      <td>1</td>\n",
       "      <td>1</td>\n",
       "      <td>0</td>\n",
       "      <td>1</td>\n",
       "      <td>0</td>\n",
       "      <td>29</td>\n",
       "      <td>5</td>\n",
       "      <td>3</td>\n",
       "      <td>14.227</td>\n",
       "      <td>0.020</td>\n",
       "    </tr>\n",
       "    <tr>\n",
       "      <th>1</th>\n",
       "      <td>0</td>\n",
       "      <td>1</td>\n",
       "      <td>0</td>\n",
       "      <td>0</td>\n",
       "      <td>1</td>\n",
       "      <td>1</td>\n",
       "      <td>0</td>\n",
       "      <td>31</td>\n",
       "      <td>12</td>\n",
       "      <td>7</td>\n",
       "      <td>113.203</td>\n",
       "      <td>1.923</td>\n",
       "    </tr>\n",
       "    <tr>\n",
       "      <th>2</th>\n",
       "      <td>0</td>\n",
       "      <td>1</td>\n",
       "      <td>1</td>\n",
       "      <td>0</td>\n",
       "      <td>1</td>\n",
       "      <td>0</td>\n",
       "      <td>0</td>\n",
       "      <td>28</td>\n",
       "      <td>1</td>\n",
       "      <td>2</td>\n",
       "      <td>129.448</td>\n",
       "      <td>1.859</td>\n",
       "    </tr>\n",
       "    <tr>\n",
       "      <th>3</th>\n",
       "      <td>0</td>\n",
       "      <td>1</td>\n",
       "      <td>1</td>\n",
       "      <td>1</td>\n",
       "      <td>1</td>\n",
       "      <td>1</td>\n",
       "      <td>0</td>\n",
       "      <td>33</td>\n",
       "      <td>12</td>\n",
       "      <td>2</td>\n",
       "      <td>62.670</td>\n",
       "      <td>3.206</td>\n",
       "    </tr>\n",
       "    <tr>\n",
       "      <th>4</th>\n",
       "      <td>1</td>\n",
       "      <td>1</td>\n",
       "      <td>1</td>\n",
       "      <td>1</td>\n",
       "      <td>1</td>\n",
       "      <td>0</td>\n",
       "      <td>0</td>\n",
       "      <td>26</td>\n",
       "      <td>1</td>\n",
       "      <td>3</td>\n",
       "      <td>198.362</td>\n",
       "      <td>1.114</td>\n",
       "    </tr>\n",
       "  </tbody>\n",
       "</table>\n",
       "</div>"
      ],
      "text/plain": [
       "   gender  near_location  partner  promo_friends  phone  group_visits  churn  \\\n",
       "0       1              1        1              1      0             1      0   \n",
       "1       0              1        0              0      1             1      0   \n",
       "2       0              1        1              0      1             0      0   \n",
       "3       0              1        1              1      1             1      0   \n",
       "4       1              1        1              1      1             0      0   \n",
       "\n",
       "   age  month_to_end_contract  lifetime  avg_additional_charges_total  \\\n",
       "0   29                      5         3                        14.227   \n",
       "1   31                     12         7                       113.203   \n",
       "2   28                      1         2                       129.448   \n",
       "3   33                     12         2                        62.670   \n",
       "4   26                      1         3                       198.362   \n",
       "\n",
       "   avg_class_frequency_total  \n",
       "0                      0.020  \n",
       "1                      1.923  \n",
       "2                      1.859  \n",
       "3                      3.206  \n",
       "4                      1.114  "
      ]
     },
     "execution_count": 16,
     "metadata": {},
     "output_type": "execute_result"
    }
   ],
   "source": [
    "gym_churn_edit = gym_churn.drop(columns=['contract_period', 'avg_class_frequency_current_month'])\n",
    "gym_churn_edit.head()"
   ]
  },
  {
   "cell_type": "markdown",
   "metadata": {},
   "source": [
    "## Модель прогнозирования оттока клиентов"
   ]
  },
  {
   "cell_type": "markdown",
   "metadata": {},
   "source": [
    "<font size=2,5><b>Построим модель бинарной классификации клиентов, где целевой признак — факт оттока клиента в следующем месяце:</b>"
   ]
  },
  {
   "cell_type": "markdown",
   "metadata": {},
   "source": [
    "### Разделение данных на обучающую и валидационную выборку функцией train_test_split()."
   ]
  },
  {
   "cell_type": "code",
   "execution_count": 17,
   "metadata": {},
   "outputs": [
    {
     "name": "stdout",
     "output_type": "stream",
     "text": [
      "[[-1.02020406  0.41949551 -0.98300159 -0.68037116  0.31311215 -0.85408585\n",
      "  -1.88824527 -0.80401253 -0.45840986 -0.75522726 -1.22326715]\n",
      " [ 0.98019606 -2.38381576 -0.98300159 -0.68037116  0.31311215 -0.85408585\n",
      "  -0.04144312  0.38447606  1.14702805  0.72868936 -0.65157706]\n",
      " [-1.02020406  0.41949551  1.01729235 -0.68037116  0.31311215 -0.85408585\n",
      "   0.88195795 -0.80401253 -0.19083688  0.67344225  0.40130419]\n",
      " [-1.02020406  0.41949551  1.01729235  1.469786    0.31311215  1.17084249\n",
      "  -1.58044491  1.81066236 -0.99355583 -0.55851686 -0.49907205]\n",
      " [-1.02020406 -2.38381576  1.01729235 -0.68037116  0.31311215 -0.85408585\n",
      "   0.88195795 -0.80401253  1.14702805 -0.85576453 -0.30643147]]\n"
     ]
    }
   ],
   "source": [
    "# делим данные на признаки (матрица X) и целевую переменную (y)\n",
    "X = gym_churn_edit.drop(columns=['churn'])\n",
    "y = gym_churn_edit['churn']\n",
    "\n",
    "# разделяем модель на обучающую и валидационную выборки\n",
    "X_train, X_test, y_train, y_test = train_test_split(X, y, test_size=0.3, random_state=0)\n",
    "\n",
    "# создаём объект класса StandardScaler и применяем его к обучающей выборке\n",
    "scaler = StandardScaler()\n",
    "\n",
    "# обучаем scaler и одновременно трансформируем матрицу для обучающей выборки\n",
    "X_train_st = scaler.fit_transform(X_train) \n",
    "print(X_train_st[:5])\n",
    "\n",
    "# применяем стандартизацию к матрице признаков для тестовой выборки\n",
    "X_test_st = scaler.transform(X_test)"
   ]
  },
  {
   "cell_type": "markdown",
   "metadata": {},
   "source": [
    "### Обучение модели на train-выборке двумя способами: Логистическая регрессия и Случайный лес"
   ]
  },
  {
   "cell_type": "code",
   "execution_count": 18,
   "metadata": {},
   "outputs": [],
   "source": [
    "# задаём список моделей\n",
    "models = [\n",
    "    LogisticRegression(random_state=0),\n",
    "    RandomForestClassifier(random_state=0)]\n",
    "\n",
    "# функция, которая принимает на вход модель и данные и выводит метрики\n",
    "def make_prediction(m, X_train, y_train, X_test, y_test):\n",
    "    model = m\n",
    "    model.fit(X_train, y_train)\n",
    "    y_pred = model.predict(X_test)\n",
    "    print(\n",
    "        'Accuracy:{:.2f} Precision:{:.2f} Recall:{:.2f}'.format(\n",
    "            accuracy_score(y_test, y_pred),\n",
    "            precision_score(y_test, y_pred),\n",
    "            recall_score(y_test, y_pred),\n",
    "        )\n",
    "    )"
   ]
  },
  {
   "cell_type": "markdown",
   "metadata": {},
   "source": [
    "<font size=2,5>Оценим метрики accuracy, precision и recall для обеих моделей на валидационной выборке."
   ]
  },
  {
   "cell_type": "code",
   "execution_count": 19,
   "metadata": {},
   "outputs": [
    {
     "name": "stdout",
     "output_type": "stream",
     "text": [
      "LogisticRegression(random_state=0)\n",
      "Accuracy:0.88 Precision:0.77 Recall:0.75\n",
      "*********************************************\n",
      "RandomForestClassifier(random_state=0)\n",
      "Accuracy:0.89 Precision:0.80 Recall:0.78\n",
      "*********************************************\n"
     ]
    }
   ],
   "source": [
    "# цикл, который выводит метрики по списку моделей\n",
    "for i in models:\n",
    "    print(i)    \n",
    "    make_prediction(\n",
    "        m=i,\n",
    "        X_train=X_train,\n",
    "        y_train=y_train,\n",
    "        X_test=X_test,\n",
    "        y_test=y_test),\n",
    "    print(\"***\"*15)\n",
    "    "
   ]
  },
  {
   "cell_type": "markdown",
   "metadata": {},
   "source": [
    "<font size=2,5><b>Оценка метрик:</b><br/>\n",
    "<u>Случайный лес по всем параметрам немного лучше Логистической регрессии.</u>\n",
    "* по параметру Accuracy - доля правильных ответов - 0,89 против 0,88;\n",
    "* Precision - точность - 0,80 против 0,77;\n",
    "* Recall - полнота - 0,78 против 0,75"
   ]
  },
  {
   "cell_type": "markdown",
   "metadata": {},
   "source": [
    "## Кластеризация клиентов"
   ]
  },
  {
   "cell_type": "markdown",
   "metadata": {},
   "source": [
    "<font size=2,5>Построим матрицу расстояний функцией linkage() на стандартизованной матрице признаков и нарисуем дендрограмму.<br/>\n",
    "<font color='slategrey'><i>Внимание: отрисовка дендрограммы может занять время! На основании полученного графика предположите, какое количество кластеров можно выделить.</i></font>"
   ]
  },
  {
   "cell_type": "code",
   "execution_count": 20,
   "metadata": {
    "scrolled": false
   },
   "outputs": [
    {
     "data": {
      "image/png": "[encoded data removed]",
      "text/plain": [
       "<Figure size 1224x504 with 1 Axes>"
      ]
     },
     "metadata": {},
     "output_type": "display_data"
    },
    {
     "name": "stdout",
     "output_type": "stream",
     "text": [
      "CPU times: user 25.3 s, sys: 607 ms, total: 25.9 s\n",
      "Wall time: 26.1 s\n"
     ]
    }
   ],
   "source": [
    "%%time\n",
    "\n",
    "# стандартизируем данные\n",
    "sc = StandardScaler()\n",
    "X_sc = sc.fit_transform(X)\n",
    "linked = linkage(X_sc, method = 'ward')\n",
    "linked\n",
    "\n",
    "hierarchy.set_link_color_palette(['#5c0c03', '#ca1f27', '#27408b', '#8430c8', '#555e31'])\n",
    "\n",
    "sns.set_style(\"dark\")\n",
    "\n",
    "plt.figure(figsize=(17, 7))\n",
    "with plt.rc_context({'lines.linewidth': 2.0}):\n",
    "    dendrogram(linked,\n",
    "               leaf_font_size=12,\n",
    "               orientation='top',\n",
    "               truncate_mode='lastp',\n",
    "               p=70,\n",
    "               show_contracted=True)\n",
    "plt.title('Дендрограмма')\n",
    "#plt.xticks([])\n",
    "hierarchy.set_link_color_palette(None)\n",
    "plt.show()"
   ]
  },
  {
   "cell_type": "markdown",
   "metadata": {},
   "source": [
    "<font size=2,5> На графике разбивка на 4 кластера, однако последний, самый большой кластер можно разделить на 2, а то и три кластера.<br/>\n",
    "<font color='blue'><b>В соответствии с условиями задания принимаем число кластеров `n=5`</b>"
   ]
  },
  {
   "cell_type": "markdown",
   "metadata": {},
   "source": [
    "### Обучение модели кластеризации на основании алгоритма K-Means"
   ]
  },
  {
   "cell_type": "code",
   "execution_count": 21,
   "metadata": {},
   "outputs": [
    {
     "data": {
      "text/plain": [
       "array([4, 2, 3, ..., 0, 0, 4], dtype=int32)"
      ]
     },
     "execution_count": 21,
     "metadata": {},
     "output_type": "execute_result"
    }
   ],
   "source": [
    " # задаём число кластеров, равное 5\n",
    "km = KMeans(n_clusters = 5, random_state=0)\n",
    "\n",
    "# применяем алгоритм к данным и формируем вектор кластеров \n",
    "labels = km.fit_predict(X_sc)\n",
    "labels"
   ]
  },
  {
   "cell_type": "markdown",
   "metadata": {},
   "source": [
    "### Cредние значения признаков для кластеров"
   ]
  },
  {
   "cell_type": "code",
   "execution_count": 22,
   "metadata": {
    "scrolled": true
   },
   "outputs": [
    {
     "data": {
      "text/html": [
       "<div>\n",
       "<style scoped>\n",
       "    .dataframe tbody tr th:only-of-type {\n",
       "        vertical-align: middle;\n",
       "    }\n",
       "\n",
       "    .dataframe tbody tr th {\n",
       "        vertical-align: top;\n",
       "    }\n",
       "\n",
       "    .dataframe thead th {\n",
       "        text-align: right;\n",
       "    }\n",
       "</style>\n",
       "<table border=\"1\" class=\"dataframe\">\n",
       "  <thead>\n",
       "    <tr style=\"text-align: right;\">\n",
       "      <th></th>\n",
       "      <th>gender</th>\n",
       "      <th>near_location</th>\n",
       "      <th>partner</th>\n",
       "      <th>promo_friends</th>\n",
       "      <th>phone</th>\n",
       "      <th>group_visits</th>\n",
       "      <th>churn</th>\n",
       "      <th>age</th>\n",
       "      <th>contract_period</th>\n",
       "      <th>month_to_end_contract</th>\n",
       "      <th>lifetime</th>\n",
       "      <th>avg_additional_charges_total</th>\n",
       "      <th>avg_class_frequency_total</th>\n",
       "      <th>avg_class_frequency_current_month</th>\n",
       "    </tr>\n",
       "    <tr>\n",
       "      <th>cluster</th>\n",
       "      <th></th>\n",
       "      <th></th>\n",
       "      <th></th>\n",
       "      <th></th>\n",
       "      <th></th>\n",
       "      <th></th>\n",
       "      <th></th>\n",
       "      <th></th>\n",
       "      <th></th>\n",
       "      <th></th>\n",
       "      <th></th>\n",
       "      <th></th>\n",
       "      <th></th>\n",
       "      <th></th>\n",
       "    </tr>\n",
       "  </thead>\n",
       "  <tbody>\n",
       "    <tr>\n",
       "      <th>0</th>\n",
       "      <td>0.499</td>\n",
       "      <td>0.995</td>\n",
       "      <td>0.889</td>\n",
       "      <td>1.000</td>\n",
       "      <td>1.000</td>\n",
       "      <td>0.519</td>\n",
       "      <td>0.133</td>\n",
       "      <td>29.543</td>\n",
       "      <td>6.844</td>\n",
       "      <td>6.266</td>\n",
       "      <td>4.211</td>\n",
       "      <td>152.139</td>\n",
       "      <td>1.952</td>\n",
       "      <td>1.899</td>\n",
       "    </tr>\n",
       "    <tr>\n",
       "      <th>1</th>\n",
       "      <td>0.501</td>\n",
       "      <td>0.000</td>\n",
       "      <td>0.488</td>\n",
       "      <td>0.077</td>\n",
       "      <td>1.000</td>\n",
       "      <td>0.232</td>\n",
       "      <td>0.402</td>\n",
       "      <td>28.686</td>\n",
       "      <td>2.978</td>\n",
       "      <td>2.804</td>\n",
       "      <td>2.978</td>\n",
       "      <td>137.277</td>\n",
       "      <td>1.763</td>\n",
       "      <td>1.598</td>\n",
       "    </tr>\n",
       "    <tr>\n",
       "      <th>2</th>\n",
       "      <td>0.521</td>\n",
       "      <td>0.996</td>\n",
       "      <td>0.418</td>\n",
       "      <td>0.011</td>\n",
       "      <td>1.000</td>\n",
       "      <td>0.547</td>\n",
       "      <td>0.017</td>\n",
       "      <td>30.805</td>\n",
       "      <td>6.726</td>\n",
       "      <td>6.163</td>\n",
       "      <td>5.702</td>\n",
       "      <td>177.104</td>\n",
       "      <td>2.319</td>\n",
       "      <td>2.314</td>\n",
       "    </tr>\n",
       "    <tr>\n",
       "      <th>3</th>\n",
       "      <td>0.512</td>\n",
       "      <td>1.000</td>\n",
       "      <td>0.197</td>\n",
       "      <td>0.054</td>\n",
       "      <td>1.000</td>\n",
       "      <td>0.297</td>\n",
       "      <td>0.506</td>\n",
       "      <td>27.819</td>\n",
       "      <td>2.013</td>\n",
       "      <td>1.899</td>\n",
       "      <td>2.059</td>\n",
       "      <td>124.626</td>\n",
       "      <td>1.539</td>\n",
       "      <td>1.324</td>\n",
       "    </tr>\n",
       "    <tr>\n",
       "      <th>4</th>\n",
       "      <td>0.523</td>\n",
       "      <td>0.863</td>\n",
       "      <td>0.472</td>\n",
       "      <td>0.306</td>\n",
       "      <td>0.000</td>\n",
       "      <td>0.427</td>\n",
       "      <td>0.267</td>\n",
       "      <td>29.298</td>\n",
       "      <td>4.777</td>\n",
       "      <td>4.466</td>\n",
       "      <td>3.940</td>\n",
       "      <td>144.208</td>\n",
       "      <td>1.854</td>\n",
       "      <td>1.724</td>\n",
       "    </tr>\n",
       "  </tbody>\n",
       "</table>\n",
       "</div>"
      ],
      "text/plain": [
       "         gender  near_location  partner  promo_friends  phone  group_visits  \\\n",
       "cluster                                                                       \n",
       "0         0.499          0.995    0.889          1.000  1.000         0.519   \n",
       "1         0.501          0.000    0.488          0.077  1.000         0.232   \n",
       "2         0.521          0.996    0.418          0.011  1.000         0.547   \n",
       "3         0.512          1.000    0.197          0.054  1.000         0.297   \n",
       "4         0.523          0.863    0.472          0.306  0.000         0.427   \n",
       "\n",
       "         churn    age  contract_period  month_to_end_contract  lifetime  \\\n",
       "cluster                                                                   \n",
       "0        0.133 29.543            6.844                  6.266     4.211   \n",
       "1        0.402 28.686            2.978                  2.804     2.978   \n",
       "2        0.017 30.805            6.726                  6.163     5.702   \n",
       "3        0.506 27.819            2.013                  1.899     2.059   \n",
       "4        0.267 29.298            4.777                  4.466     3.940   \n",
       "\n",
       "         avg_additional_charges_total  avg_class_frequency_total  \\\n",
       "cluster                                                            \n",
       "0                             152.139                      1.952   \n",
       "1                             137.277                      1.763   \n",
       "2                             177.104                      2.319   \n",
       "3                             124.626                      1.539   \n",
       "4                             144.208                      1.854   \n",
       "\n",
       "         avg_class_frequency_current_month  \n",
       "cluster                                     \n",
       "0                                    1.899  \n",
       "1                                    1.598  \n",
       "2                                    2.314  \n",
       "3                                    1.324  \n",
       "4                                    1.724  "
      ]
     },
     "execution_count": 22,
     "metadata": {},
     "output_type": "execute_result"
    }
   ],
   "source": [
    "# сохраняем метки кластера в исходный датасет\n",
    "gym_churn['cluster'] = labels\n",
    "\n",
    "# выводим статистику по средним значениям наших признаков с группировкой по кластерам\n",
    "gym_churn.groupby('cluster').agg('mean')"
   ]
  },
  {
   "cell_type": "markdown",
   "metadata": {},
   "source": [
    "<font size=2,5> Характерные особенности кластеров:<br/>\n",
    "    \n",
    "* <b>0 кластер:</b> самые высокие средние значения по партнёрской программе - 0,889 и по программе \"приведи друга\" - 1,0, хорошие средние показатели по общей выручке - 152,14 (второй результат) и \"посещаемости\" - 1,95. Это определённо кластер клиентов по партнёрской програме и акции.<br/>\n",
    "    \n",
    "* <b>1 кластер:</b> Выделяется нулевым значением `near_location`, все клиенты в этом кластере живут или работают далеко от фитнесс-центра.<br/>\n",
    "    \n",
    "* <b>2 кластер:</b> В нём практически нет клиентов по акции \"приведи друга\", он самый возрастной - средний возраст 30,8 лет, активней остальных ходит как на групповые занятия - ср.знач. 0,55, суммарно самый платёжоспособный, ср.значение выручки от доп.услуг - 177,1 и радует регулярностью занятий, самая высокая частота помещений за всё время - 2,32, ни у одного из других кластеров это показатель не превышает 2.<br/>\n",
    "        \n",
    "* <b>3 кластер:</b> Все клиенты живут/работют близко к фитнесс-центру, ср.знач. `near_location` - 1,0, самое малое число клиентов по партнёрской программе - 0,2, самая большая \"текучка\" также в этом кластере - `churn` 0,506, и самые низкие показатели срока окончания обонемента - 1,9, лайфтайма - 2,06, выручки - 124,63 и посещаемости 1,54 тренировки в неделю.<br/>\n",
    "    \n",
    "* <b>4 кластер:</b> Это скрытные клиенты, предпочитающие не оставлять свой номер телефона, нулевое значение этого параметра. При этом у этих клиентов не самый плохой лайфтайм, почти 4 месяца, как и показатель оттока - 0,27, также они не хуже всех приносят выручку с доп.услуг - 144,21, охотно посещают групповые занятия - 0,43, большая часть живёт или работает близко к залу - 0,863 и почти половина из них пришли по партнёрской программе 0,472. Эдакая \"золотая середина\", пускай и скрытная.  <br/>\n",
    "\n"
   ]
  },
  {
   "cell_type": "markdown",
   "metadata": {},
   "source": [
    "### Распределения признаков для кластеров"
   ]
  },
  {
   "cell_type": "code",
   "execution_count": 23,
   "metadata": {
    "scrolled": true
   },
   "outputs": [
    {
     "name": "stdout",
     "output_type": "stream",
     "text": [
      "['gender', 'near_location', 'partner', 'promo_friends', 'phone', 'group_visits']\n",
      "['age', 'contract_period', 'month_to_end_contract', 'lifetime', 'avg_additional_charges_total', 'avg_class_frequency_total', 'avg_class_frequency_current_month']\n"
     ]
    }
   ],
   "source": [
    "# check\n",
    "# список с бинарными признаками\n",
    "print(binary)\n",
    "# список с числовыми признаками\n",
    "print(numerical)"
   ]
  },
  {
   "cell_type": "code",
   "execution_count": 24,
   "metadata": {},
   "outputs": [],
   "source": [
    "#gym_churn"
   ]
  },
  {
   "cell_type": "code",
   "execution_count": 25,
   "metadata": {
    "scrolled": false
   },
   "outputs": [
    {
     "data": {
      "image/png": "[encoded data removed]",
      "text/plain": [
       "<Figure size 720x360 with 1 Axes>"
      ]
     },
     "metadata": {},
     "output_type": "display_data"
    },
    {
     "data": {
      "image/png": "[encoded data removed]",
      "text/plain": [
       "<Figure size 720x360 with 1 Axes>"
      ]
     },
     "metadata": {},
     "output_type": "display_data"
    },
    {
     "data": {
      "image/png": "[encoded data removed]",
      "text/plain": [
       "<Figure size 720x360 with 1 Axes>"
      ]
     },
     "metadata": {},
     "output_type": "display_data"
    },
    {
     "data": {
      "image/png": "[encoded data removed]",
      "text/plain": [
       "<Figure size 720x360 with 1 Axes>"
      ]
     },
     "metadata": {},
     "output_type": "display_data"
    },
    {
     "data": {
      "image/png": "[encoded data removed]",
      "text/plain": [
       "<Figure size 720x360 with 1 Axes>"
      ]
     },
     "metadata": {},
     "output_type": "display_data"
    },
    {
     "data": {
      "image/png": "[encoded data removed]",
      "text/plain": [
       "<Figure size 720x360 with 1 Axes>"
      ]
     },
     "metadata": {},
     "output_type": "display_data"
    }
   ],
   "source": [
    "# графики для бинарных признаков\n",
    "sns.set_style(\"darkgrid\")\n",
    "palette = [\"#00257A\", \"#44DAAA\", \"#594D36\", \"#E63746\", \"#442234\"]\n",
    "for value in binary:\n",
    "    g = sns.displot(gym_churn, x=gym_churn[value], hue='cluster',\n",
    "                    palette=sns.color_palette(palette, len(palette)),\n",
    "                    kind='hist', multiple='stack')\n",
    "    plt.title(f'{value}')\n",
    "    plt.ylabel(\"Кол-во клиентов\")\n",
    "    plt.xlabel(\"\")\n",
    "    plt.xticks([0, 1])\n",
    "    g.fig.set_figwidth(10)\n",
    "    g.fig.set_figheight(5);\n"
   ]
  },
  {
   "cell_type": "markdown",
   "metadata": {},
   "source": [
    "<font size=2,5><u>Для кластеров по бинарным признакам можно сделать следующие выводы:</u>\n",
    "* по гендерам каких-то ярких особенностей нет;\n",
    "* по близости зала к дому/работе выделяется <b>кластер 1</b>, все клиенты которого далеко от фитнесс-центра;\n",
    "* партнёрская программа и программа приведи друга - пользователи <b>кластера 0</b> здесь преобладают;\n",
    "* <b>кластер 4</b> - те, кто не оставляет номер телефона;\n",
    "* групповые тренировки меньшн всех любят пользователи <b>1 и 3 кластеров.</b><br/>\n",
    "    \n",
    "Построим графики для остальных признаков:"
   ]
  },
  {
   "cell_type": "code",
   "execution_count": 26,
   "metadata": {
    "scrolled": false
   },
   "outputs": [
    {
     "data": {
      "image/png": "[encoded data removed]",
      "text/plain": [
       "<Figure size 1080x360 with 1 Axes>"
      ]
     },
     "metadata": {},
     "output_type": "display_data"
    },
    {
     "data": {
      "image/png": "[encoded data removed]",
      "text/plain": [
       "<Figure size 1080x360 with 1 Axes>"
      ]
     },
     "metadata": {},
     "output_type": "display_data"
    },
    {
     "data": {
      "image/png": "[encoded data removed]",
      "text/plain": [
       "<Figure size 1080x360 with 1 Axes>"
      ]
     },
     "metadata": {},
     "output_type": "display_data"
    },
    {
     "data": {
      "image/png": "[encoded data removed]",
      "text/plain": [
       "<Figure size 1080x360 with 1 Axes>"
      ]
     },
     "metadata": {},
     "output_type": "display_data"
    },
    {
     "data": {
      "image/png": "[encoded data removed]",
      "text/plain": [
       "<Figure size 1080x360 with 1 Axes>"
      ]
     },
     "metadata": {},
     "output_type": "display_data"
    },
    {
     "data": {
      "image/png": "[encoded data removed]",
      "text/plain": [
       "<Figure size 1080x360 with 1 Axes>"
      ]
     },
     "metadata": {},
     "output_type": "display_data"
    },
    {
     "data": {
      "image/png": "[encoded data removed]",
      "text/plain": [
       "<Figure size 1080x360 with 1 Axes>"
      ]
     },
     "metadata": {},
     "output_type": "display_data"
    }
   ],
   "source": [
    "# графики для числовых признаков\n",
    "sns.set_style(\"darkgrid\")\n",
    "palette = [\"#00257A\", \"#44DAAA\", \"#594D36\", \"#E63746\", \"#442234\"]\n",
    "for value in numerical:\n",
    "    g = sns.displot(gym_churn, x=gym_churn[value], hue='cluster',\n",
    "                    palette=sns.color_palette(palette, len(palette)),\n",
    "                    kind='hist', multiple='stack')\n",
    "    plt.title(f'{value}')\n",
    "    plt.ylabel(\"Кол-во клиентов\")\n",
    "    plt.xlabel(\"\")\n",
    "    #plt.xticks([0, 1])\n",
    "    g.fig.set_figwidth(15)\n",
    "    g.fig.set_figheight(5);\n"
   ]
  },
  {
   "cell_type": "markdown",
   "metadata": {},
   "source": [
    "<font size=2,5><u>По числовым признакам можно сделать следующие выводы:</u>\n",
    "* возраст во всех кластерах распределён равномерно, также можно отметить, что практически нет клиентов старше 40 лет;\n",
    "* абонементы трёх видов, на 1, 6 и 12 месяцев, 3 кластер практичсеки целиком из клиентов с месячным абонементом;\n",
    "* отсюда и вытекает корреляция в этом кластере и по оставшимся месяцам, в 3 кластере преобладает срок до окончания контракта в месяц;\n",
    "* пик лайфтайма во всех кластерах на 1 месяце, за исключением 2 кластера, в этой группе он похоже стремится к 5 месяцам;\n",
    "* 0 и 3 кластер тратят на допуслуги заметно больше остальных;\n",
    "* средняя частота посещений в неделю как за всё время, так и за последний месяц лучше всего у 2 кластера, а в аутсайдерах 3 кластер, есть довольно большая часть клиентов, кто вообще не посещает зал неделями."
   ]
  },
  {
   "cell_type": "markdown",
   "metadata": {},
   "source": [
    "### Доля оттока для каждого кластера"
   ]
  },
  {
   "cell_type": "code",
   "execution_count": 27,
   "metadata": {
    "scrolled": true
   },
   "outputs": [
    {
     "data": {
      "text/html": [
       "<div>\n",
       "<style scoped>\n",
       "    .dataframe tbody tr th:only-of-type {\n",
       "        vertical-align: middle;\n",
       "    }\n",
       "\n",
       "    .dataframe tbody tr th {\n",
       "        vertical-align: top;\n",
       "    }\n",
       "\n",
       "    .dataframe thead th {\n",
       "        text-align: right;\n",
       "    }\n",
       "</style>\n",
       "<table border=\"1\" class=\"dataframe\">\n",
       "  <thead>\n",
       "    <tr style=\"text-align: right;\">\n",
       "      <th></th>\n",
       "      <th>cluster</th>\n",
       "      <th>churn</th>\n",
       "    </tr>\n",
       "  </thead>\n",
       "  <tbody>\n",
       "    <tr>\n",
       "      <th>0</th>\n",
       "      <td>0</td>\n",
       "      <td>0.133</td>\n",
       "    </tr>\n",
       "    <tr>\n",
       "      <th>1</th>\n",
       "      <td>1</td>\n",
       "      <td>0.402</td>\n",
       "    </tr>\n",
       "    <tr>\n",
       "      <th>2</th>\n",
       "      <td>2</td>\n",
       "      <td>0.017</td>\n",
       "    </tr>\n",
       "    <tr>\n",
       "      <th>3</th>\n",
       "      <td>3</td>\n",
       "      <td>0.506</td>\n",
       "    </tr>\n",
       "    <tr>\n",
       "      <th>4</th>\n",
       "      <td>4</td>\n",
       "      <td>0.267</td>\n",
       "    </tr>\n",
       "  </tbody>\n",
       "</table>\n",
       "</div>"
      ],
      "text/plain": [
       "   cluster  churn\n",
       "0        0  0.133\n",
       "1        1  0.402\n",
       "2        2  0.017\n",
       "3        3  0.506\n",
       "4        4  0.267"
      ]
     },
     "execution_count": 27,
     "metadata": {},
     "output_type": "execute_result"
    }
   ],
   "source": [
    "outflow_share = gym_churn.groupby('cluster')['churn'].agg('sum') / gym_churn.groupby('cluster')['churn'].count()\n",
    "outflow_share.reset_index()#(drop=True)"
   ]
  },
  {
   "cell_type": "markdown",
   "metadata": {},
   "source": [
    "<font size=2,5>Сильнее всего к оттоку склонны 3 и 1 кластеры, самые же стойкие и лояльные клиенты во 2 кластере."
   ]
  },
  {
   "cell_type": "markdown",
   "metadata": {},
   "source": [
    "## Выводы"
   ]
  },
  {
   "cell_type": "markdown",
   "metadata": {},
   "source": [
    "<font size=2,5><i><b>В проекте был проведён анализ данных о клиентах сети фитнесс-центров.</b></i><br/>\n",
    "    \n",
    "* Перед проведением анализа выполнена небольшая предобработка данных, исправлен тип данных в столбе, столбцы сгруппированы по типу данных в них (бинарные или численные), для соблюдения стиля подкорректированы названия столбцов. В остальном же данные, предоставленные для анализа не потребовали сильной обработки, пропусков, дублей, некорректных значений не выявлено.<br/>\n",
    "    \n",
    "<hr style=\"border-color: darkblue;\">\n",
    "    \n",
    "<i><b>Исследовательский анализ дал возможность представить общие черты поведения клиентов:</b></i><br/>\n",
    "    \n",
    "- Остающиеся клиенты это в первую очередь клиенты с длинным (полугодовым, годовым) абонементом, изначально скорее всего более замотивированные на занятия спортом, тогда как уходяшие клиенты в большинстве своём приобретаю только месячные абонементы, возможно в целях простого ознакомления с залом, когда хочется \"пощупать\" заведение, а одной ознакомительной тренировки недостаточно, либо это не сильно мотивированные клиенты, которым в случае чего и не жалко \"потерять\" абонемент.\n",
    "- Мотивированные остающиеся клиенты также больше тратят денег на доп.услуги, охотнее занимаются в группе и вообще чаще посещают фитнесс-центр. Если для остающихся клиентов есть пускай и незначительное, но превышение ср.значения тренировок за последний месяц, по сравнению с общим ср.числом (2,025 < 2.028), клиент втягивается, ему нравится посещать занятия и он старается больше времени уделять физической активности. То для ушедших клиентов показатель за последний месяц уже заметно ниже общего ср.числа тренировок (1,475 > 1.045), с течением времени желание тренироваться в зале по разным причинам падает.<br/>\n",
    "    \n",
    "<hr style=\"border-color: darkblue;\">\n",
    "\n",
    "<i><b>Прогнозирование оттока клиентов:</b></i><br/>\n",
    "\n",
    "- Для построения моделей прогнозирования оттока клиентов были использованы две модели: логистическая регрессия и случайный лес.\n",
    "- Обе модели показали хорошие результаты, по всем параметрам Случайный лес немного лучше Логистической регрессии:\n",
    "    * по параметру Accuracy - доля правильных ответов - 0,89 против 0,88;\n",
    "    * Precision - точность - 0,80 против 0,77;\n",
    "    * Recall - полнота - 0,78 против 0,75<br/>\n",
    "    \n",
    "<hr style=\"border-color: darkblue;\">\n",
    "\n",
    "<i><b>Кластеризация клиентов:</b></i><br/>\n",
    "\n",
    "В соответствии с заданием была выполнена разбивка на 5 кластеров, однако при построении дендрограммы было получено 4 кластера.<br/> Характерные особенности получившихся кластеров:\n",
    "* <b>0 кластер:</b> самые высокие средние значения по партнёрской программе - 0,889 и по программе \"приведи друга\" - 1,0, хорошие средние показатели по общей выручке - 152,14 (второй результат) и \"посещаемости\" - 1,95. Это определённо кластер клиентов по партнёрской програме и акции.<br/>\n",
    "<b><font color='coral'>Доля оттока клиентов - 0,133</font></b><br/>\n",
    "\n",
    "    \n",
    "* <b>1 кластер:</b> Выделяется нулевым значением `near_location`, все клиенты в этом кластере живут или работают далеко от фитнесс-центра.<br/>\n",
    "<b><font color='crimson'>Доля оттока клиентов - 0, 402</font></b> <br/>\n",
    "\n",
    "    \n",
    "* <b>2 кластер:</b> В нём практически нет клиентов по акции \"приведи друга\", он самый возрастной - средний возраст 30,8 лет, активней остальных ходит как на групповые занятия - ср.знач. 0,55, суммарно самый платёжоспособный, ср.значение выручки от доп.услуг - 177,1 и радует регулярностью занятий, самая высокая частота помещений за всё время - 2,32, ни у одного из других кластеров это показатель не превышает 2.<br/>\n",
    "<b><font color='limegreen'>Доля оттока клиентов - 0,017</font></b><br/>\n",
    "\n",
    "    \n",
    "* <b>3 кластер:</b> Все клиенты живут/работют близко к фитнесс-центру, ср.знач. `near_location` - 1,0, самое малое число клиентов по партнёрской программе - 0,2, самая большая \"текучка\" также в этом кластере - `churn` 0,506, и самые низкие показатели срока окончания обонемента - 1,9, лайфтайма - 2,06, выручки - 124,63 и посещаемости 1,54 тренировки в неделю.<br/>\n",
    "<b><font color='crimson'>Доля оттока клиентов - 0,506</font></b><br/>\n",
    "\n",
    "    \n",
    "* <b>4 кластер:</b> Это скрытные клиенты, предпочитающие не оставлять свой номер телефона, нулевое значение этого параметра. При этом у этих клиентов не самый плохой лайфтайм, почти 4 месяца, как и показатель оттока - 0,27, также они не хуже всех приносят выручку с доп.услуг - 144,21, охотно посещают групповые занятия - 0,43, большая часть живёт или работает близко к залу - 0,863 и почти половина из них пришли по партнёрской программе 0,472. Эдакая \"золотая середина\", пускай и скрытная.<br/>\n",
    "<b><font color='coral'>Доля оттока клиентов - 0,267</font></b><br/>\n",
    "    \n",
    "<hr style=\"border-color: darkblue;\">"
   ]
  },
  {
   "cell_type": "markdown",
   "metadata": {},
   "source": [
    "## Рекомендации"
   ]
  },
  {
   "cell_type": "markdown",
   "metadata": {},
   "source": [
    "<font size=2,5><b>На основании анализа кластеризации клиентов можно сделать рекомендовать следующее:</b>\n",
    "    \n",
    "1. Обратить внимание на клиентов с короткими, месячными абонементами, а также пришедших в фитнесс-центр самостоятельно, а не по акциям и партнёрским программам. Ненавязчивое внимание к новым клиентам может помочь этим клиентам стать постоянными. Предложение бесплатной групповой тренировки или занятие с тренером поможет создать и укрепить социальные связи и простимулирует желание заниматься дальше.<br/>\n",
    "    \n",
    "    \n",
    "2. Нельзя при этом забывать и про клиентов с длинными абонементом и хорошим лайфтаймом. Лояльность тоже нужно поощрять и делать клиентам подарки, например бесплатная доп-услуга в день рождения покажет клиенту, что его здесь ценят.<br/>\n",
    "    \n",
    "    \n",
    "3. В целом по возможности нужно стараться проявлять индивидуальный подход к каждому клиенту, обращать внимание не только на \"проблемные\" признаки. Предлагать клиентам советы, интересоваться успехами, всячески оказывать поддержку. Так все клиенты будут видеть, что нет никакого разделения на \"любимых\" и \"не любимых\".<br/>\n",
    "    \n",
    "    \n",
    "4. Также не стоит забывать о поддержании в исправном состоянии интерьера клуба и работоспособности спортивного инвентаря и другого оборудования. Неисправный инвентарь может привести к травматизму, публичность окажет негативный эффект не тольо на пострадавшего, но и на остальных посетителей, кто будет находиться рядом в момент ЧП. Неисправная мебель в раздевалке или, что ещё хуже проблемы с душевыми (отсутствие горячей воды) точно не добавит клиентам желания вернуться ещё раз."
   ]
  }
 ],
 "metadata": {
  "ExecuteTimeLog": [
   {
    "duration": 1528,
    "start_time": "2022-04-19T19:12:05.634Z"
   },
   {
    "duration": 290,
    "start_time": "2022-04-19T19:13:40.147Z"
   },
   {
    "duration": 1448,
    "start_time": "2022-04-19T19:13:47.095Z"
   },
   {
    "duration": 89,
    "start_time": "2022-04-19T19:13:48.545Z"
   },
   {
    "duration": 45,
    "start_time": "2022-04-19T19:14:33.299Z"
   },
   {
    "duration": 43,
    "start_time": "2022-04-19T19:14:49.875Z"
   },
   {
    "duration": 3,
    "start_time": "2022-04-19T19:23:30.857Z"
   },
   {
    "duration": 16,
    "start_time": "2022-04-19T19:23:35.650Z"
   },
   {
    "duration": 3,
    "start_time": "2022-04-19T19:23:52.937Z"
   },
   {
    "duration": 3,
    "start_time": "2022-04-19T19:30:47.838Z"
   },
   {
    "duration": 4,
    "start_time": "2022-04-19T19:31:57.042Z"
   },
   {
    "duration": 15,
    "start_time": "2022-04-19T19:32:02.993Z"
   },
   {
    "duration": 3,
    "start_time": "2022-04-19T19:35:24.192Z"
   },
   {
    "duration": 18,
    "start_time": "2022-04-19T19:35:25.395Z"
   },
   {
    "duration": 10,
    "start_time": "2022-04-19T19:35:37.396Z"
   },
   {
    "duration": 162,
    "start_time": "2022-04-19T19:36:34.252Z"
   },
   {
    "duration": 4,
    "start_time": "2022-04-19T19:37:21.829Z"
   },
   {
    "duration": 11,
    "start_time": "2022-04-19T19:41:52.729Z"
   },
   {
    "duration": 11,
    "start_time": "2022-04-19T19:42:20.896Z"
   },
   {
    "duration": 10,
    "start_time": "2022-04-19T19:58:44.185Z"
   },
   {
    "duration": 37,
    "start_time": "2022-04-19T20:05:26.177Z"
   },
   {
    "duration": 18,
    "start_time": "2022-04-19T20:10:25.581Z"
   },
   {
    "duration": 14,
    "start_time": "2022-04-19T20:10:35.371Z"
   },
   {
    "duration": 15,
    "start_time": "2022-04-19T20:14:58.628Z"
   },
   {
    "duration": 19,
    "start_time": "2022-04-19T20:15:12.973Z"
   },
   {
    "duration": 18,
    "start_time": "2022-04-19T20:15:15.580Z"
   },
   {
    "duration": 20,
    "start_time": "2022-04-19T20:15:25.574Z"
   },
   {
    "duration": 1819,
    "start_time": "2022-04-19T20:15:31.727Z"
   },
   {
    "duration": 110,
    "start_time": "2022-04-19T20:15:33.549Z"
   },
   {
    "duration": 3,
    "start_time": "2022-04-19T20:15:33.660Z"
   },
   {
    "duration": 12,
    "start_time": "2022-04-19T20:15:33.665Z"
   },
   {
    "duration": 4,
    "start_time": "2022-04-19T20:15:33.678Z"
   },
   {
    "duration": 12,
    "start_time": "2022-04-19T20:15:33.683Z"
   },
   {
    "duration": 59,
    "start_time": "2022-04-19T20:15:33.696Z"
   },
   {
    "duration": 151,
    "start_time": "2022-04-19T20:15:33.757Z"
   },
   {
    "duration": 1481,
    "start_time": "2022-04-19T20:15:59.953Z"
   },
   {
    "duration": 92,
    "start_time": "2022-04-19T20:16:01.437Z"
   },
   {
    "duration": 3,
    "start_time": "2022-04-19T20:16:01.530Z"
   },
   {
    "duration": 15,
    "start_time": "2022-04-19T20:16:01.535Z"
   },
   {
    "duration": 4,
    "start_time": "2022-04-19T20:16:01.552Z"
   },
   {
    "duration": 22,
    "start_time": "2022-04-19T20:16:01.557Z"
   },
   {
    "duration": 46,
    "start_time": "2022-04-19T20:16:01.581Z"
   },
   {
    "duration": 141,
    "start_time": "2022-04-19T20:16:01.629Z"
   },
   {
    "duration": 18,
    "start_time": "2022-04-19T20:16:28.997Z"
   },
   {
    "duration": 17,
    "start_time": "2022-04-19T20:16:32.041Z"
   },
   {
    "duration": 7,
    "start_time": "2022-04-19T20:17:58.541Z"
   },
   {
    "duration": 14,
    "start_time": "2022-04-19T20:18:04.971Z"
   },
   {
    "duration": 13,
    "start_time": "2022-04-19T20:37:59.277Z"
   },
   {
    "duration": 6,
    "start_time": "2022-04-19T20:38:10.450Z"
   },
   {
    "duration": 3482,
    "start_time": "2022-04-19T20:41:17.620Z"
   },
   {
    "duration": 15,
    "start_time": "2022-04-19T20:41:30.572Z"
   },
   {
    "duration": 3050,
    "start_time": "2022-04-19T20:41:34.672Z"
   },
   {
    "duration": 185,
    "start_time": "2022-04-19T20:41:38.646Z"
   },
   {
    "duration": 5,
    "start_time": "2022-04-19T20:41:44.179Z"
   },
   {
    "duration": 5,
    "start_time": "2022-04-19T20:41:54.801Z"
   },
   {
    "duration": 8,
    "start_time": "2022-04-19T22:22:28.721Z"
   },
   {
    "duration": 4,
    "start_time": "2022-04-19T22:29:33.427Z"
   },
   {
    "duration": 12,
    "start_time": "2022-04-19T22:29:40.787Z"
   },
   {
    "duration": 10,
    "start_time": "2022-04-19T22:29:50.614Z"
   },
   {
    "duration": 13,
    "start_time": "2022-04-19T22:30:05.410Z"
   },
   {
    "duration": 16,
    "start_time": "2022-04-19T22:30:13.939Z"
   },
   {
    "duration": 17,
    "start_time": "2022-04-19T22:30:26.285Z"
   },
   {
    "duration": 19,
    "start_time": "2022-04-19T22:30:48.499Z"
   },
   {
    "duration": 1375,
    "start_time": "2022-04-19T22:30:53.013Z"
   },
   {
    "duration": 82,
    "start_time": "2022-04-19T22:30:54.390Z"
   },
   {
    "duration": 3,
    "start_time": "2022-04-19T22:30:54.473Z"
   },
   {
    "duration": 11,
    "start_time": "2022-04-19T22:30:54.478Z"
   },
   {
    "duration": 4,
    "start_time": "2022-04-19T22:30:54.490Z"
   },
   {
    "duration": 27,
    "start_time": "2022-04-19T22:30:54.496Z"
   },
   {
    "duration": 9,
    "start_time": "2022-04-19T22:30:54.525Z"
   },
   {
    "duration": 34,
    "start_time": "2022-04-19T22:30:54.536Z"
   },
   {
    "duration": 5,
    "start_time": "2022-04-19T22:30:54.572Z"
   },
   {
    "duration": 44,
    "start_time": "2022-04-19T22:30:54.580Z"
   },
   {
    "duration": 193,
    "start_time": "2022-04-21T19:39:18.360Z"
   },
   {
    "duration": 176,
    "start_time": "2022-04-21T19:39:29.478Z"
   },
   {
    "duration": 8,
    "start_time": "2022-04-21T19:39:33.912Z"
   },
   {
    "duration": 8,
    "start_time": "2022-04-21T19:39:39.976Z"
   },
   {
    "duration": 15,
    "start_time": "2022-04-21T19:39:45.240Z"
   },
   {
    "duration": 20,
    "start_time": "2022-04-21T19:41:22.429Z"
   },
   {
    "duration": 21,
    "start_time": "2022-04-21T19:41:27.150Z"
   },
   {
    "duration": 21,
    "start_time": "2022-04-21T19:41:37.179Z"
   },
   {
    "duration": 26,
    "start_time": "2022-04-21T19:41:45.420Z"
   },
   {
    "duration": 8,
    "start_time": "2022-04-21T19:43:20.137Z"
   },
   {
    "duration": 20,
    "start_time": "2022-04-21T19:43:52.913Z"
   },
   {
    "duration": 8,
    "start_time": "2022-04-21T19:48:00.201Z"
   },
   {
    "duration": 12,
    "start_time": "2022-04-21T19:59:37.348Z"
   },
   {
    "duration": 3,
    "start_time": "2022-04-21T20:04:21.558Z"
   },
   {
    "duration": 4,
    "start_time": "2022-04-21T20:04:25.348Z"
   },
   {
    "duration": 246,
    "start_time": "2022-04-21T20:04:32.892Z"
   },
   {
    "duration": 193,
    "start_time": "2022-04-21T20:04:39.798Z"
   },
   {
    "duration": 126,
    "start_time": "2022-04-21T20:04:59.640Z"
   },
   {
    "duration": 203,
    "start_time": "2022-04-21T20:05:05.697Z"
   },
   {
    "duration": 5,
    "start_time": "2022-04-21T20:05:11.786Z"
   },
   {
    "duration": 4,
    "start_time": "2022-04-21T20:05:24.491Z"
   },
   {
    "duration": 4,
    "start_time": "2022-04-21T20:05:47.917Z"
   },
   {
    "duration": 4,
    "start_time": "2022-04-21T20:05:49.541Z"
   },
   {
    "duration": 966,
    "start_time": "2022-04-21T20:08:44.133Z"
   },
   {
    "duration": 100,
    "start_time": "2022-04-21T20:09:14.614Z"
   },
   {
    "duration": 910,
    "start_time": "2022-04-21T20:09:22.950Z"
   },
   {
    "duration": 4642,
    "start_time": "2022-04-21T20:10:41.445Z"
   },
   {
    "duration": 5981,
    "start_time": "2022-04-21T20:11:36.292Z"
   },
   {
    "duration": 1059,
    "start_time": "2022-04-21T20:11:44.646Z"
   },
   {
    "duration": 990,
    "start_time": "2022-04-21T20:11:58.246Z"
   },
   {
    "duration": 1035,
    "start_time": "2022-04-21T20:12:07.077Z"
   },
   {
    "duration": 1043,
    "start_time": "2022-04-21T20:12:13.640Z"
   },
   {
    "duration": 1127,
    "start_time": "2022-04-21T20:13:31.343Z"
   },
   {
    "duration": 1029,
    "start_time": "2022-04-21T20:14:15.658Z"
   },
   {
    "duration": 1068,
    "start_time": "2022-04-21T20:14:24.939Z"
   },
   {
    "duration": 964,
    "start_time": "2022-04-21T20:15:47.482Z"
   },
   {
    "duration": 1166,
    "start_time": "2022-04-21T20:16:00.334Z"
   },
   {
    "duration": 954,
    "start_time": "2022-04-21T20:17:37.181Z"
   },
   {
    "duration": 1027,
    "start_time": "2022-04-21T20:18:53.243Z"
   },
   {
    "duration": 991,
    "start_time": "2022-04-21T20:19:04.980Z"
   },
   {
    "duration": 983,
    "start_time": "2022-04-21T20:19:47.586Z"
   },
   {
    "duration": 1025,
    "start_time": "2022-04-21T20:19:55.663Z"
   },
   {
    "duration": 5192,
    "start_time": "2022-04-21T20:20:56.316Z"
   },
   {
    "duration": 980,
    "start_time": "2022-04-21T20:21:18.069Z"
   },
   {
    "duration": 743,
    "start_time": "2022-04-21T20:21:27.023Z"
   },
   {
    "duration": 645,
    "start_time": "2022-04-21T20:22:13.763Z"
   },
   {
    "duration": 855,
    "start_time": "2022-04-21T20:22:38.726Z"
   },
   {
    "duration": 607,
    "start_time": "2022-04-21T20:25:27.702Z"
   },
   {
    "duration": 594,
    "start_time": "2022-04-21T20:25:42.275Z"
   },
   {
    "duration": 589,
    "start_time": "2022-04-21T20:26:25.662Z"
   },
   {
    "duration": 622,
    "start_time": "2022-04-21T20:26:37.703Z"
   },
   {
    "duration": 862,
    "start_time": "2022-04-21T20:26:42.886Z"
   },
   {
    "duration": 598,
    "start_time": "2022-04-21T20:29:53.626Z"
   },
   {
    "duration": 622,
    "start_time": "2022-04-21T20:30:05.484Z"
   },
   {
    "duration": 740,
    "start_time": "2022-04-21T20:30:23.545Z"
   },
   {
    "duration": 829,
    "start_time": "2022-04-21T20:31:58.023Z"
   },
   {
    "duration": 17,
    "start_time": "2022-04-21T20:32:31.902Z"
   },
   {
    "duration": 3679,
    "start_time": "2022-04-21T20:32:37.233Z"
   },
   {
    "duration": 160,
    "start_time": "2022-04-21T20:32:40.914Z"
   },
   {
    "duration": 3,
    "start_time": "2022-04-21T20:32:41.075Z"
   },
   {
    "duration": 14,
    "start_time": "2022-04-21T20:32:41.080Z"
   },
   {
    "duration": 6,
    "start_time": "2022-04-21T20:32:41.096Z"
   },
   {
    "duration": 26,
    "start_time": "2022-04-21T20:32:41.104Z"
   },
   {
    "duration": 9,
    "start_time": "2022-04-21T20:32:41.131Z"
   },
   {
    "duration": 35,
    "start_time": "2022-04-21T20:32:41.142Z"
   },
   {
    "duration": 5,
    "start_time": "2022-04-21T20:32:41.179Z"
   },
   {
    "duration": 41,
    "start_time": "2022-04-21T20:32:41.186Z"
   },
   {
    "duration": 4,
    "start_time": "2022-04-21T20:32:41.229Z"
   },
   {
    "duration": 772,
    "start_time": "2022-04-21T20:32:41.235Z"
   },
   {
    "duration": 836,
    "start_time": "2022-04-21T20:32:46.137Z"
   },
   {
    "duration": 704,
    "start_time": "2022-04-21T20:32:50.841Z"
   },
   {
    "duration": 637,
    "start_time": "2022-04-21T20:34:15.625Z"
   },
   {
    "duration": 733,
    "start_time": "2022-04-21T20:34:41.508Z"
   },
   {
    "duration": 847,
    "start_time": "2022-04-21T20:34:50.397Z"
   },
   {
    "duration": 740,
    "start_time": "2022-04-21T20:35:16.322Z"
   },
   {
    "duration": 707,
    "start_time": "2022-04-21T20:35:25.788Z"
   },
   {
    "duration": 819,
    "start_time": "2022-04-21T20:35:32.134Z"
   },
   {
    "duration": 753,
    "start_time": "2022-04-21T20:35:50.219Z"
   },
   {
    "duration": 883,
    "start_time": "2022-04-21T20:36:05.455Z"
   },
   {
    "duration": 246,
    "start_time": "2022-04-21T20:36:37.952Z"
   },
   {
    "duration": 1224,
    "start_time": "2022-04-21T20:36:54.258Z"
   },
   {
    "duration": 822,
    "start_time": "2022-04-21T20:37:32.310Z"
   },
   {
    "duration": 1294,
    "start_time": "2022-04-21T20:37:40.289Z"
   },
   {
    "duration": 797,
    "start_time": "2022-04-21T20:37:47.502Z"
   },
   {
    "duration": 742,
    "start_time": "2022-04-21T20:37:54.509Z"
   },
   {
    "duration": 915,
    "start_time": "2022-04-21T20:37:58.756Z"
   },
   {
    "duration": 735,
    "start_time": "2022-04-21T20:38:03.984Z"
   },
   {
    "duration": 6,
    "start_time": "2022-04-21T20:38:39.288Z"
   },
   {
    "duration": 733,
    "start_time": "2022-04-21T20:38:41.973Z"
   },
   {
    "duration": 923,
    "start_time": "2022-04-21T20:38:55.378Z"
   },
   {
    "duration": 787,
    "start_time": "2022-04-21T20:38:59.704Z"
   },
   {
    "duration": 763,
    "start_time": "2022-04-21T20:39:10.453Z"
   },
   {
    "duration": 748,
    "start_time": "2022-04-21T20:40:47.451Z"
   },
   {
    "duration": 1065,
    "start_time": "2022-04-21T20:41:13.421Z"
   },
   {
    "duration": 769,
    "start_time": "2022-04-21T20:41:19.575Z"
   },
   {
    "duration": 731,
    "start_time": "2022-04-21T20:41:31.296Z"
   },
   {
    "duration": 913,
    "start_time": "2022-04-21T20:41:44.974Z"
   },
   {
    "duration": 727,
    "start_time": "2022-04-21T20:41:53.073Z"
   },
   {
    "duration": 746,
    "start_time": "2022-04-21T20:42:00.017Z"
   },
   {
    "duration": 753,
    "start_time": "2022-04-21T20:42:09.253Z"
   },
   {
    "duration": 941,
    "start_time": "2022-04-21T20:42:23.940Z"
   },
   {
    "duration": 629,
    "start_time": "2022-04-21T20:42:28.125Z"
   },
   {
    "duration": 743,
    "start_time": "2022-04-21T20:42:30.813Z"
   },
   {
    "duration": 744,
    "start_time": "2022-04-21T20:42:34.908Z"
   },
   {
    "duration": 899,
    "start_time": "2022-04-21T20:43:03.225Z"
   },
   {
    "duration": 748,
    "start_time": "2022-04-21T20:43:20.719Z"
   },
   {
    "duration": 715,
    "start_time": "2022-04-21T20:43:25.572Z"
   },
   {
    "duration": 856,
    "start_time": "2022-04-21T20:43:27.870Z"
   },
   {
    "duration": 739,
    "start_time": "2022-04-21T20:44:01.621Z"
   },
   {
    "duration": 768,
    "start_time": "2022-04-21T20:44:05.326Z"
   },
   {
    "duration": 755,
    "start_time": "2022-04-21T20:44:10.977Z"
   },
   {
    "duration": 903,
    "start_time": "2022-04-21T20:44:18.687Z"
   },
   {
    "duration": 826,
    "start_time": "2022-04-21T20:44:23.761Z"
   },
   {
    "duration": 725,
    "start_time": "2022-04-21T20:44:30.574Z"
   },
   {
    "duration": 730,
    "start_time": "2022-04-21T20:46:50.292Z"
   },
   {
    "duration": 926,
    "start_time": "2022-04-21T20:47:07.789Z"
   },
   {
    "duration": 786,
    "start_time": "2022-04-21T20:47:13.572Z"
   },
   {
    "duration": 1407,
    "start_time": "2022-04-21T20:47:27.399Z"
   },
   {
    "duration": 77,
    "start_time": "2022-04-21T20:47:28.808Z"
   },
   {
    "duration": 2,
    "start_time": "2022-04-21T20:47:28.887Z"
   },
   {
    "duration": 11,
    "start_time": "2022-04-21T20:47:28.892Z"
   },
   {
    "duration": 19,
    "start_time": "2022-04-21T20:47:28.904Z"
   },
   {
    "duration": 13,
    "start_time": "2022-04-21T20:47:28.925Z"
   },
   {
    "duration": 8,
    "start_time": "2022-04-21T20:47:28.939Z"
   },
   {
    "duration": 37,
    "start_time": "2022-04-21T20:47:28.949Z"
   },
   {
    "duration": 5,
    "start_time": "2022-04-21T20:47:28.987Z"
   },
   {
    "duration": 37,
    "start_time": "2022-04-21T20:47:28.994Z"
   },
   {
    "duration": 4,
    "start_time": "2022-04-21T20:47:29.033Z"
   },
   {
    "duration": 828,
    "start_time": "2022-04-21T20:47:29.039Z"
   },
   {
    "duration": 90,
    "start_time": "2022-04-21T20:47:56.153Z"
   },
   {
    "duration": 1420,
    "start_time": "2022-04-21T20:48:00.314Z"
   },
   {
    "duration": 80,
    "start_time": "2022-04-21T20:48:01.736Z"
   },
   {
    "duration": 3,
    "start_time": "2022-04-21T20:48:01.817Z"
   },
   {
    "duration": 13,
    "start_time": "2022-04-21T20:48:01.822Z"
   },
   {
    "duration": 12,
    "start_time": "2022-04-21T20:48:01.836Z"
   },
   {
    "duration": 29,
    "start_time": "2022-04-21T20:48:01.849Z"
   },
   {
    "duration": 16,
    "start_time": "2022-04-21T20:48:01.879Z"
   },
   {
    "duration": 74,
    "start_time": "2022-04-21T20:48:01.896Z"
   },
   {
    "duration": 5,
    "start_time": "2022-04-21T20:48:01.972Z"
   },
   {
    "duration": 17,
    "start_time": "2022-04-21T20:48:01.979Z"
   },
   {
    "duration": 23,
    "start_time": "2022-04-21T20:48:01.998Z"
   },
   {
    "duration": 792,
    "start_time": "2022-04-21T20:48:02.023Z"
   },
   {
    "duration": 575,
    "start_time": "2022-04-21T20:48:10.651Z"
   },
   {
    "duration": 1132,
    "start_time": "2022-04-21T20:48:13.702Z"
   },
   {
    "duration": 769,
    "start_time": "2022-04-21T20:48:20.486Z"
   },
   {
    "duration": 1033,
    "start_time": "2022-04-21T20:48:28.272Z"
   },
   {
    "duration": 724,
    "start_time": "2022-04-21T20:48:36.232Z"
   },
   {
    "duration": 749,
    "start_time": "2022-04-21T20:48:44.190Z"
   },
   {
    "duration": 788,
    "start_time": "2022-04-21T20:48:49.698Z"
   },
   {
    "duration": 912,
    "start_time": "2022-04-21T20:49:01.229Z"
   },
   {
    "duration": 755,
    "start_time": "2022-04-21T20:50:02.496Z"
   },
   {
    "duration": 6,
    "start_time": "2022-04-21T20:56:10.367Z"
   },
   {
    "duration": 5,
    "start_time": "2022-04-21T20:56:40.789Z"
   },
   {
    "duration": 4,
    "start_time": "2022-04-21T21:24:01.991Z"
   },
   {
    "duration": 4,
    "start_time": "2022-04-21T21:24:08.388Z"
   },
   {
    "duration": 4,
    "start_time": "2022-04-21T21:24:18.360Z"
   },
   {
    "duration": 4,
    "start_time": "2022-04-21T21:24:27.691Z"
   },
   {
    "duration": 15,
    "start_time": "2022-04-21T21:25:49.271Z"
   },
   {
    "duration": 1376,
    "start_time": "2022-04-21T21:26:00.650Z"
   },
   {
    "duration": 85,
    "start_time": "2022-04-21T21:26:02.028Z"
   },
   {
    "duration": 3,
    "start_time": "2022-04-21T21:26:02.114Z"
   },
   {
    "duration": 14,
    "start_time": "2022-04-21T21:26:02.118Z"
   },
   {
    "duration": 4,
    "start_time": "2022-04-21T21:26:02.134Z"
   },
   {
    "duration": 13,
    "start_time": "2022-04-21T21:26:02.139Z"
   },
   {
    "duration": 7,
    "start_time": "2022-04-21T21:26:02.153Z"
   },
   {
    "duration": 35,
    "start_time": "2022-04-21T21:26:02.162Z"
   },
   {
    "duration": 5,
    "start_time": "2022-04-21T21:26:02.222Z"
   },
   {
    "duration": 13,
    "start_time": "2022-04-21T21:26:02.229Z"
   },
   {
    "duration": 3,
    "start_time": "2022-04-21T21:26:02.244Z"
   },
   {
    "duration": 5,
    "start_time": "2022-04-21T21:26:02.248Z"
   },
   {
    "duration": 1316,
    "start_time": "2022-04-21T21:26:02.255Z"
   },
   {
    "duration": 5,
    "start_time": "2022-04-21T21:31:41.569Z"
   },
   {
    "duration": 1036,
    "start_time": "2022-04-21T21:32:15.416Z"
   },
   {
    "duration": 856,
    "start_time": "2022-04-21T21:32:40.611Z"
   },
   {
    "duration": 678,
    "start_time": "2022-04-21T21:34:09.755Z"
   },
   {
    "duration": 1054,
    "start_time": "2022-04-21T21:34:18.525Z"
   },
   {
    "duration": 1226,
    "start_time": "2022-04-21T21:36:06.944Z"
   },
   {
    "duration": 1511,
    "start_time": "2022-04-21T21:36:27.207Z"
   },
   {
    "duration": 1992,
    "start_time": "2022-04-21T21:37:00.254Z"
   },
   {
    "duration": 1867,
    "start_time": "2022-04-21T21:37:09.317Z"
   },
   {
    "duration": 1498,
    "start_time": "2022-04-21T21:37:29.767Z"
   },
   {
    "duration": 1669,
    "start_time": "2022-04-21T21:37:37.595Z"
   },
   {
    "duration": 1613,
    "start_time": "2022-04-21T21:37:45.715Z"
   },
   {
    "duration": 1790,
    "start_time": "2022-04-21T21:37:50.998Z"
   },
   {
    "duration": 1812,
    "start_time": "2022-04-21T21:38:10.672Z"
   },
   {
    "duration": 1818,
    "start_time": "2022-04-21T21:38:49.314Z"
   },
   {
    "duration": 1581,
    "start_time": "2022-04-21T21:39:00.768Z"
   },
   {
    "duration": 1802,
    "start_time": "2022-04-21T21:39:12.655Z"
   },
   {
    "duration": 1457,
    "start_time": "2022-04-21T21:39:33.547Z"
   },
   {
    "duration": 1734,
    "start_time": "2022-04-21T21:39:38.459Z"
   },
   {
    "duration": 1198,
    "start_time": "2022-04-21T21:39:49.800Z"
   },
   {
    "duration": 1360,
    "start_time": "2022-04-21T21:41:34.346Z"
   },
   {
    "duration": 1869,
    "start_time": "2022-04-21T21:41:40.178Z"
   },
   {
    "duration": 2191,
    "start_time": "2022-04-21T21:42:25.586Z"
   },
   {
    "duration": 2184,
    "start_time": "2022-04-21T21:42:33.940Z"
   },
   {
    "duration": 2186,
    "start_time": "2022-04-21T21:42:39.229Z"
   },
   {
    "duration": 2069,
    "start_time": "2022-04-21T21:42:47.130Z"
   },
   {
    "duration": 2141,
    "start_time": "2022-04-21T21:42:52.188Z"
   },
   {
    "duration": 203,
    "start_time": "2022-04-21T21:43:02.722Z"
   },
   {
    "duration": 2087,
    "start_time": "2022-04-21T21:43:06.698Z"
   },
   {
    "duration": 2518,
    "start_time": "2022-04-21T21:43:17.399Z"
   },
   {
    "duration": 2024,
    "start_time": "2022-04-21T21:43:26.864Z"
   },
   {
    "duration": 2158,
    "start_time": "2022-04-21T21:43:55.515Z"
   },
   {
    "duration": 2163,
    "start_time": "2022-04-21T21:44:02.728Z"
   },
   {
    "duration": 2303,
    "start_time": "2022-04-21T21:44:16.890Z"
   },
   {
    "duration": 2038,
    "start_time": "2022-04-21T21:44:23.518Z"
   },
   {
    "duration": 1906,
    "start_time": "2022-04-21T21:44:37.198Z"
   },
   {
    "duration": 1765,
    "start_time": "2022-04-21T21:47:30.964Z"
   },
   {
    "duration": 1953,
    "start_time": "2022-04-21T21:48:36.487Z"
   },
   {
    "duration": 2111,
    "start_time": "2022-04-21T21:48:48.852Z"
   },
   {
    "duration": 1973,
    "start_time": "2022-04-21T21:49:02.904Z"
   },
   {
    "duration": 2010,
    "start_time": "2022-04-21T21:50:31.324Z"
   },
   {
    "duration": 1416,
    "start_time": "2022-04-21T22:24:36.114Z"
   },
   {
    "duration": 1308,
    "start_time": "2022-04-21T22:25:01.608Z"
   },
   {
    "duration": 1300,
    "start_time": "2022-04-21T22:25:10.152Z"
   },
   {
    "duration": 167,
    "start_time": "2022-04-21T22:27:57.641Z"
   },
   {
    "duration": 174,
    "start_time": "2022-04-21T22:28:23.170Z"
   },
   {
    "duration": 272,
    "start_time": "2022-04-21T22:28:32.845Z"
   },
   {
    "duration": 1458,
    "start_time": "2022-04-21T22:28:55.690Z"
   },
   {
    "duration": 1336,
    "start_time": "2022-04-21T22:29:42.026Z"
   },
   {
    "duration": 1319,
    "start_time": "2022-04-21T22:29:54.428Z"
   },
   {
    "duration": 1478,
    "start_time": "2022-04-21T22:29:59.577Z"
   },
   {
    "duration": 1478,
    "start_time": "2022-04-21T22:30:09.182Z"
   },
   {
    "duration": 1483,
    "start_time": "2022-04-21T22:30:18.382Z"
   },
   {
    "duration": 1345,
    "start_time": "2022-04-21T22:30:23.058Z"
   },
   {
    "duration": 1600,
    "start_time": "2022-04-21T22:31:05.971Z"
   },
   {
    "duration": 1337,
    "start_time": "2022-04-21T22:31:18.566Z"
   },
   {
    "duration": 219,
    "start_time": "2022-04-21T22:32:25.377Z"
   },
   {
    "duration": 1267,
    "start_time": "2022-04-21T22:32:51.559Z"
   },
   {
    "duration": 1437,
    "start_time": "2022-04-21T22:32:55.177Z"
   },
   {
    "duration": 1326,
    "start_time": "2022-04-21T22:32:59.762Z"
   },
   {
    "duration": 1404,
    "start_time": "2022-04-21T22:33:14.889Z"
   },
   {
    "duration": 1304,
    "start_time": "2022-04-21T22:36:46.406Z"
   },
   {
    "duration": 14,
    "start_time": "2022-04-21T22:37:42.508Z"
   },
   {
    "duration": 1047,
    "start_time": "2022-04-21T22:37:59.612Z"
   },
   {
    "duration": 1006,
    "start_time": "2022-04-21T22:38:53.208Z"
   },
   {
    "duration": 932,
    "start_time": "2022-04-21T22:38:58.478Z"
   },
   {
    "duration": 906,
    "start_time": "2022-04-21T22:39:05.658Z"
   },
   {
    "duration": 913,
    "start_time": "2022-04-21T22:39:21.832Z"
   },
   {
    "duration": 1147,
    "start_time": "2022-04-21T22:45:37.168Z"
   },
   {
    "duration": 937,
    "start_time": "2022-04-22T08:18:41.059Z"
   },
   {
    "duration": 988,
    "start_time": "2022-04-22T08:18:47.095Z"
   },
   {
    "duration": 1044,
    "start_time": "2022-04-22T08:18:58.282Z"
   },
   {
    "duration": 1305,
    "start_time": "2022-04-22T08:19:04.623Z"
   },
   {
    "duration": 1418,
    "start_time": "2022-04-22T08:20:27.706Z"
   },
   {
    "duration": 1160,
    "start_time": "2022-04-22T08:20:38.651Z"
   },
   {
    "duration": 1145,
    "start_time": "2022-04-22T08:20:44.492Z"
   },
   {
    "duration": 1010,
    "start_time": "2022-04-22T08:20:50.732Z"
   },
   {
    "duration": 1010,
    "start_time": "2022-04-22T08:20:58.900Z"
   },
   {
    "duration": 995,
    "start_time": "2022-04-22T08:21:10.186Z"
   },
   {
    "duration": 852,
    "start_time": "2022-04-22T19:37:10.312Z"
   },
   {
    "duration": 1776,
    "start_time": "2022-04-22T19:37:16.827Z"
   },
   {
    "duration": 99,
    "start_time": "2022-04-22T19:37:18.605Z"
   },
   {
    "duration": 3,
    "start_time": "2022-04-22T19:37:18.706Z"
   },
   {
    "duration": 16,
    "start_time": "2022-04-22T19:37:18.711Z"
   },
   {
    "duration": 13,
    "start_time": "2022-04-22T19:37:18.729Z"
   },
   {
    "duration": 16,
    "start_time": "2022-04-22T19:37:18.745Z"
   },
   {
    "duration": 12,
    "start_time": "2022-04-22T19:37:18.763Z"
   },
   {
    "duration": 78,
    "start_time": "2022-04-22T19:37:18.777Z"
   },
   {
    "duration": 6,
    "start_time": "2022-04-22T19:37:18.857Z"
   },
   {
    "duration": 13,
    "start_time": "2022-04-22T19:37:18.866Z"
   },
   {
    "duration": 4,
    "start_time": "2022-04-22T19:37:18.881Z"
   },
   {
    "duration": 5,
    "start_time": "2022-04-22T19:37:18.887Z"
   },
   {
    "duration": 1318,
    "start_time": "2022-04-22T19:37:18.893Z"
   },
   {
    "duration": 2202,
    "start_time": "2022-04-22T19:37:20.213Z"
   },
   {
    "duration": 1247,
    "start_time": "2022-04-22T19:37:22.417Z"
   },
   {
    "duration": 2,
    "start_time": "2022-04-22T19:37:23.666Z"
   },
   {
    "duration": 2154,
    "start_time": "2022-04-22T19:37:37.812Z"
   },
   {
    "duration": 1534,
    "start_time": "2022-04-22T19:37:50.815Z"
   },
   {
    "duration": 15,
    "start_time": "2022-04-22T19:42:29.513Z"
   },
   {
    "duration": 4,
    "start_time": "2022-04-22T19:47:13.770Z"
   },
   {
    "duration": 6,
    "start_time": "2022-04-22T19:49:24.046Z"
   },
   {
    "duration": 14,
    "start_time": "2022-04-22T19:50:52.095Z"
   },
   {
    "duration": 20,
    "start_time": "2022-04-22T19:51:18.438Z"
   },
   {
    "duration": 13,
    "start_time": "2022-04-22T19:51:32.415Z"
   },
   {
    "duration": 15,
    "start_time": "2022-04-22T19:52:22.942Z"
   },
   {
    "duration": 104,
    "start_time": "2022-04-22T20:01:27.981Z"
   },
   {
    "duration": 1663,
    "start_time": "2022-04-22T20:02:17.808Z"
   },
   {
    "duration": 83,
    "start_time": "2022-04-22T20:02:19.473Z"
   },
   {
    "duration": 3,
    "start_time": "2022-04-22T20:02:19.558Z"
   },
   {
    "duration": 13,
    "start_time": "2022-04-22T20:02:19.563Z"
   },
   {
    "duration": 4,
    "start_time": "2022-04-22T20:02:19.577Z"
   },
   {
    "duration": 13,
    "start_time": "2022-04-22T20:02:19.582Z"
   },
   {
    "duration": 34,
    "start_time": "2022-04-22T20:02:19.596Z"
   },
   {
    "duration": 37,
    "start_time": "2022-04-22T20:02:19.631Z"
   },
   {
    "duration": 5,
    "start_time": "2022-04-22T20:02:19.670Z"
   },
   {
    "duration": 12,
    "start_time": "2022-04-22T20:02:19.678Z"
   },
   {
    "duration": 32,
    "start_time": "2022-04-22T20:02:19.692Z"
   },
   {
    "duration": 5,
    "start_time": "2022-04-22T20:02:19.725Z"
   },
   {
    "duration": 1211,
    "start_time": "2022-04-22T20:02:19.732Z"
   },
   {
    "duration": 2005,
    "start_time": "2022-04-22T20:02:20.945Z"
   },
   {
    "duration": 938,
    "start_time": "2022-04-22T20:02:22.952Z"
   },
   {
    "duration": 10,
    "start_time": "2022-04-22T20:02:23.891Z"
   },
   {
    "duration": 27,
    "start_time": "2022-04-22T20:02:23.903Z"
   },
   {
    "duration": 2,
    "start_time": "2022-04-22T20:02:23.932Z"
   },
   {
    "duration": 850,
    "start_time": "2022-04-22T20:04:29.873Z"
   },
   {
    "duration": 1383,
    "start_time": "2022-04-22T20:05:09.220Z"
   },
   {
    "duration": 1169,
    "start_time": "2022-04-22T20:06:29.427Z"
   },
   {
    "duration": 1365,
    "start_time": "2022-04-22T20:06:49.157Z"
   },
   {
    "duration": 10,
    "start_time": "2022-04-22T20:07:57.962Z"
   },
   {
    "duration": 1687,
    "start_time": "2022-04-22T20:08:03.578Z"
   },
   {
    "duration": 89,
    "start_time": "2022-04-22T20:08:05.268Z"
   },
   {
    "duration": 3,
    "start_time": "2022-04-22T20:08:05.359Z"
   },
   {
    "duration": 15,
    "start_time": "2022-04-22T20:08:05.363Z"
   },
   {
    "duration": 9,
    "start_time": "2022-04-22T20:08:05.381Z"
   },
   {
    "duration": 13,
    "start_time": "2022-04-22T20:08:05.392Z"
   },
   {
    "duration": 9,
    "start_time": "2022-04-22T20:08:05.423Z"
   },
   {
    "duration": 40,
    "start_time": "2022-04-22T20:08:05.434Z"
   },
   {
    "duration": 6,
    "start_time": "2022-04-22T20:08:05.475Z"
   },
   {
    "duration": 39,
    "start_time": "2022-04-22T20:08:05.483Z"
   },
   {
    "duration": 4,
    "start_time": "2022-04-22T20:08:05.524Z"
   },
   {
    "duration": 11,
    "start_time": "2022-04-22T20:08:05.530Z"
   },
   {
    "duration": 1192,
    "start_time": "2022-04-22T20:08:05.543Z"
   },
   {
    "duration": 2036,
    "start_time": "2022-04-22T20:08:06.738Z"
   },
   {
    "duration": 1006,
    "start_time": "2022-04-22T20:08:08.776Z"
   },
   {
    "duration": 10,
    "start_time": "2022-04-22T20:08:09.784Z"
   },
   {
    "duration": 28,
    "start_time": "2022-04-22T20:08:09.796Z"
   },
   {
    "duration": 1281,
    "start_time": "2022-04-22T20:08:09.826Z"
   },
   {
    "duration": 4,
    "start_time": "2022-04-22T20:10:22.675Z"
   },
   {
    "duration": 1031,
    "start_time": "2022-04-22T20:10:28.677Z"
   },
   {
    "duration": 118,
    "start_time": "2022-04-22T20:12:27.246Z"
   },
   {
    "duration": 1559,
    "start_time": "2022-04-22T20:12:52.734Z"
   },
   {
    "duration": 79,
    "start_time": "2022-04-22T20:12:54.295Z"
   },
   {
    "duration": 3,
    "start_time": "2022-04-22T20:12:54.376Z"
   },
   {
    "duration": 11,
    "start_time": "2022-04-22T20:12:54.382Z"
   },
   {
    "duration": 4,
    "start_time": "2022-04-22T20:12:54.395Z"
   },
   {
    "duration": 32,
    "start_time": "2022-04-22T20:12:54.401Z"
   },
   {
    "duration": 9,
    "start_time": "2022-04-22T20:12:54.434Z"
   },
   {
    "duration": 36,
    "start_time": "2022-04-22T20:12:54.445Z"
   },
   {
    "duration": 6,
    "start_time": "2022-04-22T20:12:54.483Z"
   },
   {
    "duration": 12,
    "start_time": "2022-04-22T20:12:54.523Z"
   },
   {
    "duration": 3,
    "start_time": "2022-04-22T20:12:54.537Z"
   },
   {
    "duration": 7,
    "start_time": "2022-04-22T20:12:54.542Z"
   },
   {
    "duration": 1148,
    "start_time": "2022-04-22T20:12:54.551Z"
   },
   {
    "duration": 1817,
    "start_time": "2022-04-22T20:12:55.701Z"
   },
   {
    "duration": 940,
    "start_time": "2022-04-22T20:12:57.522Z"
   },
   {
    "duration": 10,
    "start_time": "2022-04-22T20:12:58.464Z"
   },
   {
    "duration": 33,
    "start_time": "2022-04-22T20:12:58.476Z"
   },
   {
    "duration": 15,
    "start_time": "2022-04-22T20:12:58.511Z"
   },
   {
    "duration": 849,
    "start_time": "2022-04-22T20:12:58.528Z"
   },
   {
    "duration": 210,
    "start_time": "2022-04-22T20:16:30.201Z"
   },
   {
    "duration": 196,
    "start_time": "2022-04-22T20:16:34.483Z"
   },
   {
    "duration": 841,
    "start_time": "2022-04-22T20:16:46.856Z"
   },
   {
    "duration": 200,
    "start_time": "2022-04-22T20:17:03.305Z"
   },
   {
    "duration": 205,
    "start_time": "2022-04-22T20:17:06.757Z"
   },
   {
    "duration": 4,
    "start_time": "2022-04-22T20:17:12.633Z"
   },
   {
    "duration": 1052,
    "start_time": "2022-04-22T20:17:17.967Z"
   },
   {
    "duration": 749,
    "start_time": "2022-04-22T20:17:26.505Z"
   },
   {
    "duration": 1223,
    "start_time": "2022-04-22T20:17:34.888Z"
   },
   {
    "duration": 111,
    "start_time": "2022-04-22T20:29:57.353Z"
   },
   {
    "duration": 97618,
    "start_time": "2022-04-22T20:30:37.373Z"
   },
   {
    "duration": 95504,
    "start_time": "2022-04-22T20:33:29.873Z"
   },
   {
    "duration": 96531,
    "start_time": "2022-04-22T20:35:36.663Z"
   },
   {
    "duration": 96445,
    "start_time": "2022-04-22T20:37:45.331Z"
   },
   {
    "duration": 97289,
    "start_time": "2022-04-22T20:41:22.508Z"
   },
   {
    "duration": 96806,
    "start_time": "2022-04-22T20:45:09.995Z"
   },
   {
    "duration": 1341,
    "start_time": "2022-04-22T20:58:50.882Z"
   },
   {
    "duration": 1376,
    "start_time": "2022-04-22T20:59:47.148Z"
   },
   {
    "duration": 14,
    "start_time": "2022-04-22T21:00:30.453Z"
   },
   {
    "duration": 1656,
    "start_time": "2022-04-22T22:11:16.855Z"
   },
   {
    "duration": 90,
    "start_time": "2022-04-22T22:11:18.513Z"
   },
   {
    "duration": 3,
    "start_time": "2022-04-22T22:11:18.604Z"
   },
   {
    "duration": 27,
    "start_time": "2022-04-22T22:11:18.609Z"
   },
   {
    "duration": 5,
    "start_time": "2022-04-22T22:11:18.639Z"
   },
   {
    "duration": 18,
    "start_time": "2022-04-22T22:11:18.645Z"
   },
   {
    "duration": 24,
    "start_time": "2022-04-22T22:11:18.664Z"
   },
   {
    "duration": 63,
    "start_time": "2022-04-22T22:11:18.689Z"
   },
   {
    "duration": 5,
    "start_time": "2022-04-22T22:11:18.754Z"
   },
   {
    "duration": 43,
    "start_time": "2022-04-22T22:11:18.761Z"
   },
   {
    "duration": 16,
    "start_time": "2022-04-22T22:11:18.805Z"
   },
   {
    "duration": 9,
    "start_time": "2022-04-22T22:11:18.832Z"
   },
   {
    "duration": 1291,
    "start_time": "2022-04-22T22:11:18.844Z"
   },
   {
    "duration": 1940,
    "start_time": "2022-04-22T22:11:20.138Z"
   },
   {
    "duration": 1005,
    "start_time": "2022-04-22T22:11:22.079Z"
   },
   {
    "duration": 12,
    "start_time": "2022-04-22T22:11:23.086Z"
   },
   {
    "duration": 42,
    "start_time": "2022-04-22T22:11:23.100Z"
   },
   {
    "duration": 5,
    "start_time": "2022-04-22T22:11:23.144Z"
   },
   {
    "duration": 3908,
    "start_time": "2022-04-22T22:11:23.151Z"
   },
   {
    "duration": 102068,
    "start_time": "2022-04-22T22:11:27.060Z"
   },
   {
    "duration": 1205,
    "start_time": "2022-04-22T22:13:09.130Z"
   },
   {
    "duration": 106,
    "start_time": "2022-04-22T22:13:10.338Z"
   },
   {
    "duration": 6,
    "start_time": "2022-04-22T22:19:14.035Z"
   },
   {
    "duration": 5,
    "start_time": "2022-04-22T22:19:23.658Z"
   },
   {
    "duration": 4,
    "start_time": "2022-04-22T22:19:34.517Z"
   },
   {
    "duration": 4,
    "start_time": "2022-04-22T22:20:00.677Z"
   },
   {
    "duration": 4,
    "start_time": "2022-04-22T22:20:13.376Z"
   },
   {
    "duration": 16,
    "start_time": "2022-04-22T22:22:30.329Z"
   },
   {
    "duration": 195,
    "start_time": "2022-04-22T22:24:52.719Z"
   },
   {
    "duration": 899,
    "start_time": "2022-04-22T22:24:56.769Z"
   },
   {
    "duration": 966,
    "start_time": "2022-04-22T22:25:10.486Z"
   },
   {
    "duration": 1156,
    "start_time": "2022-04-22T22:25:44.460Z"
   },
   {
    "duration": 992,
    "start_time": "2022-04-22T22:25:50.179Z"
   },
   {
    "duration": 1214,
    "start_time": "2022-04-22T22:29:52.871Z"
   },
   {
    "duration": 1418,
    "start_time": "2022-04-22T22:30:28.785Z"
   },
   {
    "duration": 1446,
    "start_time": "2022-04-22T22:31:42.259Z"
   },
   {
    "duration": 4406,
    "start_time": "2022-04-22T22:31:58.470Z"
   },
   {
    "duration": 4355,
    "start_time": "2022-04-22T22:38:29.338Z"
   },
   {
    "duration": 3788,
    "start_time": "2022-04-22T22:38:52.484Z"
   },
   {
    "duration": 126,
    "start_time": "2022-04-22T22:39:24.869Z"
   },
   {
    "duration": 1120,
    "start_time": "2022-04-22T22:39:34.187Z"
   },
   {
    "duration": 1129,
    "start_time": "2022-04-22T22:39:42.427Z"
   },
   {
    "duration": 974,
    "start_time": "2022-04-22T22:39:49.399Z"
   },
   {
    "duration": 206,
    "start_time": "2022-04-22T22:41:25.192Z"
   },
   {
    "duration": 842,
    "start_time": "2022-04-22T22:42:00.816Z"
   },
   {
    "duration": 4778,
    "start_time": "2022-04-22T22:45:37.068Z"
   },
   {
    "duration": 4118,
    "start_time": "2022-04-22T22:46:11.744Z"
   },
   {
    "duration": 4196,
    "start_time": "2022-04-22T22:46:25.851Z"
   },
   {
    "duration": 3198,
    "start_time": "2022-04-22T22:46:37.804Z"
   },
   {
    "duration": 0,
    "start_time": "2022-04-22T22:46:56.365Z"
   },
   {
    "duration": 3092,
    "start_time": "2022-04-22T22:47:13.846Z"
   },
   {
    "duration": 3323,
    "start_time": "2022-04-22T22:47:22.020Z"
   },
   {
    "duration": 2586,
    "start_time": "2022-04-22T22:47:28.874Z"
   },
   {
    "duration": 2576,
    "start_time": "2022-04-22T22:47:59.874Z"
   },
   {
    "duration": 2621,
    "start_time": "2022-04-22T22:48:12.347Z"
   },
   {
    "duration": 2460,
    "start_time": "2022-04-22T22:48:47.989Z"
   },
   {
    "duration": 3647,
    "start_time": "2022-04-22T22:49:02.831Z"
   },
   {
    "duration": 4593,
    "start_time": "2022-04-22T22:53:08.026Z"
   },
   {
    "duration": 4587,
    "start_time": "2022-04-22T22:53:28.895Z"
   },
   {
    "duration": 4494,
    "start_time": "2022-04-22T22:53:40.517Z"
   },
   {
    "duration": 4465,
    "start_time": "2022-04-22T22:54:10.500Z"
   },
   {
    "duration": 4541,
    "start_time": "2022-04-22T22:54:31.462Z"
   },
   {
    "duration": 4569,
    "start_time": "2022-04-22T22:54:51.959Z"
   },
   {
    "duration": 4565,
    "start_time": "2022-04-22T22:55:58.023Z"
   },
   {
    "duration": 4833,
    "start_time": "2022-04-22T22:56:12.870Z"
   },
   {
    "duration": 4588,
    "start_time": "2022-04-22T22:56:36.517Z"
   },
   {
    "duration": 4657,
    "start_time": "2022-04-22T22:58:09.308Z"
   },
   {
    "duration": 9134,
    "start_time": "2022-04-22T22:59:13.229Z"
   },
   {
    "duration": 9117,
    "start_time": "2022-04-22T22:59:25.523Z"
   },
   {
    "duration": 9361,
    "start_time": "2022-04-22T23:00:22.193Z"
   },
   {
    "duration": 5694,
    "start_time": "2022-04-22T23:00:36.824Z"
   },
   {
    "duration": 4407,
    "start_time": "2022-04-22T23:00:45.396Z"
   },
   {
    "duration": 4901,
    "start_time": "2022-04-22T23:01:17.862Z"
   },
   {
    "duration": 4580,
    "start_time": "2022-04-22T23:01:36.916Z"
   },
   {
    "duration": 5518,
    "start_time": "2022-04-22T23:01:46.853Z"
   },
   {
    "duration": 4638,
    "start_time": "2022-04-22T23:02:08.123Z"
   },
   {
    "duration": 4745,
    "start_time": "2022-04-22T23:02:20.708Z"
   },
   {
    "duration": 4500,
    "start_time": "2022-04-22T23:04:30.212Z"
   },
   {
    "duration": 4310,
    "start_time": "2022-04-22T23:04:37.432Z"
   },
   {
    "duration": 4427,
    "start_time": "2022-04-22T23:10:06.131Z"
   },
   {
    "duration": 5485,
    "start_time": "2022-04-22T23:29:54.265Z"
   },
   {
    "duration": 4255,
    "start_time": "2022-04-22T23:30:04.206Z"
   },
   {
    "duration": 4151,
    "start_time": "2022-04-22T23:30:09.958Z"
   },
   {
    "duration": 4196,
    "start_time": "2022-04-22T23:30:22.238Z"
   },
   {
    "duration": 4152,
    "start_time": "2022-04-22T23:30:37.099Z"
   },
   {
    "duration": 3979,
    "start_time": "2022-04-22T23:32:03.114Z"
   },
   {
    "duration": 4219,
    "start_time": "2022-04-22T23:32:19.200Z"
   },
   {
    "duration": 4087,
    "start_time": "2022-04-22T23:32:33.349Z"
   },
   {
    "duration": 4153,
    "start_time": "2022-04-22T23:32:46.793Z"
   },
   {
    "duration": 4099,
    "start_time": "2022-04-22T23:33:03.504Z"
   },
   {
    "duration": 4220,
    "start_time": "2022-04-22T23:33:24.259Z"
   },
   {
    "duration": 4326,
    "start_time": "2022-04-22T23:34:02.824Z"
   },
   {
    "duration": 5241,
    "start_time": "2022-04-22T23:34:15.808Z"
   },
   {
    "duration": 5322,
    "start_time": "2022-04-22T23:34:30.032Z"
   },
   {
    "duration": 5257,
    "start_time": "2022-04-22T23:34:41.521Z"
   },
   {
    "duration": 6492,
    "start_time": "2022-04-22T23:35:08.656Z"
   },
   {
    "duration": 7001,
    "start_time": "2022-04-22T23:35:20.713Z"
   },
   {
    "duration": 6714,
    "start_time": "2022-04-22T23:35:30.972Z"
   },
   {
    "duration": 6444,
    "start_time": "2022-04-22T23:45:51.908Z"
   },
   {
    "duration": 4448,
    "start_time": "2022-04-22T23:49:32.489Z"
   },
   {
    "duration": 6564,
    "start_time": "2022-04-22T23:49:57.348Z"
   },
   {
    "duration": 6728,
    "start_time": "2022-04-22T23:50:20.332Z"
   },
   {
    "duration": 6281,
    "start_time": "2022-04-22T23:50:44.290Z"
   },
   {
    "duration": 6750,
    "start_time": "2022-04-22T23:50:58.310Z"
   },
   {
    "duration": 6987,
    "start_time": "2022-04-22T23:51:09.464Z"
   },
   {
    "duration": 6705,
    "start_time": "2022-04-22T23:51:22.877Z"
   },
   {
    "duration": 6878,
    "start_time": "2022-04-22T23:51:35.453Z"
   },
   {
    "duration": 6977,
    "start_time": "2022-04-22T23:51:44.672Z"
   },
   {
    "duration": 7391,
    "start_time": "2022-04-22T23:51:56.651Z"
   },
   {
    "duration": 7380,
    "start_time": "2022-04-22T23:52:14.676Z"
   },
   {
    "duration": 7055,
    "start_time": "2022-04-22T23:52:55.543Z"
   },
   {
    "duration": 7427,
    "start_time": "2022-04-22T23:53:04.312Z"
   },
   {
    "duration": 7423,
    "start_time": "2022-04-22T23:53:16.652Z"
   },
   {
    "duration": 28,
    "start_time": "2022-04-22T23:54:12.220Z"
   },
   {
    "duration": 7199,
    "start_time": "2022-04-22T23:54:25.459Z"
   },
   {
    "duration": 7591,
    "start_time": "2022-04-22T23:54:38.832Z"
   },
   {
    "duration": 7369,
    "start_time": "2022-04-22T23:54:54.027Z"
   },
   {
    "duration": 7187,
    "start_time": "2022-04-22T23:55:25.830Z"
   },
   {
    "duration": 7484,
    "start_time": "2022-04-22T23:55:34.881Z"
   },
   {
    "duration": 7505,
    "start_time": "2022-04-22T23:55:59.412Z"
   },
   {
    "duration": 7385,
    "start_time": "2022-04-22T23:56:12.866Z"
   },
   {
    "duration": 7524,
    "start_time": "2022-04-22T23:56:42.272Z"
   },
   {
    "duration": 7279,
    "start_time": "2022-04-22T23:57:04.094Z"
   },
   {
    "duration": 4510,
    "start_time": "2022-04-22T23:58:11.108Z"
   },
   {
    "duration": 28,
    "start_time": "2022-04-22T23:59:04.306Z"
   },
   {
    "duration": 22,
    "start_time": "2022-04-22T23:59:07.757Z"
   },
   {
    "duration": 22,
    "start_time": "2022-04-22T23:59:12.396Z"
   },
   {
    "duration": 4375,
    "start_time": "2022-04-22T23:59:19.897Z"
   },
   {
    "duration": 21,
    "start_time": "2022-04-22T23:59:55.572Z"
   },
   {
    "duration": 21,
    "start_time": "2022-04-23T00:00:57.458Z"
   },
   {
    "duration": 22,
    "start_time": "2022-04-23T00:01:09.773Z"
   },
   {
    "duration": 24,
    "start_time": "2022-04-23T00:01:11.599Z"
   },
   {
    "duration": 24,
    "start_time": "2022-04-23T00:01:18.772Z"
   },
   {
    "duration": 4552,
    "start_time": "2022-04-23T00:01:26.163Z"
   },
   {
    "duration": 4191,
    "start_time": "2022-04-23T00:02:58.952Z"
   },
   {
    "duration": 4265,
    "start_time": "2022-04-23T00:03:42.657Z"
   },
   {
    "duration": 7368,
    "start_time": "2022-04-23T00:03:50.236Z"
   },
   {
    "duration": 3974,
    "start_time": "2022-04-23T00:04:29.679Z"
   },
   {
    "duration": 4418,
    "start_time": "2022-04-23T00:05:13.764Z"
   },
   {
    "duration": 4430,
    "start_time": "2022-04-23T00:05:39.735Z"
   },
   {
    "duration": 4359,
    "start_time": "2022-04-23T00:05:58.410Z"
   },
   {
    "duration": 4144,
    "start_time": "2022-04-23T00:06:50.391Z"
   },
   {
    "duration": 7591,
    "start_time": "2022-04-23T00:07:11.056Z"
   },
   {
    "duration": 17,
    "start_time": "2022-04-23T00:09:50.513Z"
   },
   {
    "duration": 4248,
    "start_time": "2022-04-23T00:09:54.798Z"
   },
   {
    "duration": 7300,
    "start_time": "2022-04-23T00:10:06.200Z"
   },
   {
    "duration": 7471,
    "start_time": "2022-04-23T00:13:45.482Z"
   },
   {
    "duration": 7128,
    "start_time": "2022-04-23T00:14:45.743Z"
   },
   {
    "duration": 4280,
    "start_time": "2022-04-23T00:15:07.776Z"
   },
   {
    "duration": 15,
    "start_time": "2022-04-23T00:35:04.552Z"
   },
   {
    "duration": 12,
    "start_time": "2022-04-23T00:35:10.397Z"
   },
   {
    "duration": 13,
    "start_time": "2022-04-23T00:35:39.046Z"
   },
   {
    "duration": 21,
    "start_time": "2022-04-23T00:35:44.213Z"
   },
   {
    "duration": 13,
    "start_time": "2022-04-23T00:35:45.926Z"
   },
   {
    "duration": 9,
    "start_time": "2022-04-23T00:37:25.811Z"
   },
   {
    "duration": 7,
    "start_time": "2022-04-23T00:38:15.805Z"
   },
   {
    "duration": 10,
    "start_time": "2022-04-23T00:38:16.928Z"
   },
   {
    "duration": 7,
    "start_time": "2022-04-23T00:38:17.968Z"
   },
   {
    "duration": 8,
    "start_time": "2022-04-23T00:38:42.965Z"
   },
   {
    "duration": 8,
    "start_time": "2022-04-23T00:39:16.151Z"
   },
   {
    "duration": 9,
    "start_time": "2022-04-23T00:39:23.907Z"
   },
   {
    "duration": 8,
    "start_time": "2022-04-23T00:39:34.280Z"
   },
   {
    "duration": 11,
    "start_time": "2022-04-23T00:39:46.522Z"
   },
   {
    "duration": 68,
    "start_time": "2022-04-23T20:15:17.432Z"
   },
   {
    "duration": 1834,
    "start_time": "2022-04-23T20:15:22.273Z"
   },
   {
    "duration": 107,
    "start_time": "2022-04-23T20:15:24.109Z"
   },
   {
    "duration": 3,
    "start_time": "2022-04-23T20:15:24.218Z"
   },
   {
    "duration": 26,
    "start_time": "2022-04-23T20:15:24.223Z"
   },
   {
    "duration": 5,
    "start_time": "2022-04-23T20:15:24.251Z"
   },
   {
    "duration": 16,
    "start_time": "2022-04-23T20:15:24.258Z"
   },
   {
    "duration": 15,
    "start_time": "2022-04-23T20:15:24.276Z"
   },
   {
    "duration": 75,
    "start_time": "2022-04-23T20:15:24.293Z"
   },
   {
    "duration": 5,
    "start_time": "2022-04-23T20:15:24.370Z"
   },
   {
    "duration": 26,
    "start_time": "2022-04-23T20:15:24.380Z"
   },
   {
    "duration": 6,
    "start_time": "2022-04-23T20:15:24.408Z"
   },
   {
    "duration": 5,
    "start_time": "2022-04-23T20:15:24.437Z"
   },
   {
    "duration": 1522,
    "start_time": "2022-04-23T20:15:24.443Z"
   },
   {
    "duration": 2586,
    "start_time": "2022-04-23T20:15:25.967Z"
   },
   {
    "duration": 1310,
    "start_time": "2022-04-23T20:15:28.555Z"
   },
   {
    "duration": 12,
    "start_time": "2022-04-23T20:15:29.866Z"
   },
   {
    "duration": 17,
    "start_time": "2022-04-23T20:15:29.880Z"
   },
   {
    "duration": 4,
    "start_time": "2022-04-23T20:15:29.899Z"
   },
   {
    "duration": 3692,
    "start_time": "2022-04-23T20:15:29.904Z"
   },
   {
    "duration": 134409,
    "start_time": "2022-04-23T20:15:33.598Z"
   },
   {
    "duration": 1361,
    "start_time": "2022-04-23T20:17:48.009Z"
   },
   {
    "duration": 87,
    "start_time": "2022-04-23T20:17:49.376Z"
   },
   {
    "duration": 20,
    "start_time": "2022-04-23T20:17:49.469Z"
   },
   {
    "duration": 20,
    "start_time": "2022-04-23T20:17:49.491Z"
   },
   {
    "duration": 5477,
    "start_time": "2022-04-23T20:17:49.513Z"
   },
   {
    "duration": 8972,
    "start_time": "2022-04-23T20:17:54.992Z"
   },
   {
    "duration": 13,
    "start_time": "2022-04-23T20:18:03.966Z"
   },
   {
    "duration": 129609,
    "start_time": "2022-04-23T20:37:41.260Z"
   },
   {
    "duration": 6048,
    "start_time": "2022-04-23T20:41:21.665Z"
   },
   {
    "duration": 5939,
    "start_time": "2022-04-23T20:41:51.677Z"
   },
   {
    "duration": 6034,
    "start_time": "2022-04-23T20:42:09.408Z"
   },
   {
    "duration": 746,
    "start_time": "2022-04-23T20:45:03.502Z"
   },
   {
    "duration": 6189,
    "start_time": "2022-04-23T20:46:56.462Z"
   },
   {
    "duration": 5972,
    "start_time": "2022-04-23T20:52:06.855Z"
   },
   {
    "duration": 124032,
    "start_time": "2022-04-23T20:52:38.259Z"
   },
   {
    "duration": 5674,
    "start_time": "2022-04-23T21:33:02.653Z"
   },
   {
    "duration": 5574,
    "start_time": "2022-04-23T21:33:15.244Z"
   },
   {
    "duration": 99,
    "start_time": "2022-04-23T21:33:30.932Z"
   },
   {
    "duration": 5404,
    "start_time": "2022-04-23T21:33:35.033Z"
   },
   {
    "duration": 5585,
    "start_time": "2022-04-23T21:33:46.019Z"
   },
   {
    "duration": 5621,
    "start_time": "2022-04-23T21:33:53.904Z"
   },
   {
    "duration": 5532,
    "start_time": "2022-04-23T21:34:04.686Z"
   },
   {
    "duration": 124588,
    "start_time": "2022-04-23T21:39:28.105Z"
   },
   {
    "duration": 14084,
    "start_time": "2022-04-23T21:49:38.106Z"
   },
   {
    "duration": 5609,
    "start_time": "2022-04-23T21:49:54.104Z"
   },
   {
    "duration": 13633,
    "start_time": "2022-04-23T21:50:29.062Z"
   },
   {
    "duration": 13602,
    "start_time": "2022-04-23T21:51:19.219Z"
   },
   {
    "duration": 14707,
    "start_time": "2022-04-23T21:51:54.138Z"
   },
   {
    "duration": 14346,
    "start_time": "2022-04-23T21:52:22.765Z"
   },
   {
    "duration": 13647,
    "start_time": "2022-04-23T21:56:07.442Z"
   },
   {
    "duration": 1084,
    "start_time": "2022-04-23T21:57:13.790Z"
   },
   {
    "duration": 13387,
    "start_time": "2022-04-23T21:57:24.744Z"
   },
   {
    "duration": 14090,
    "start_time": "2022-04-23T21:58:07.667Z"
   },
   {
    "duration": 14747,
    "start_time": "2022-04-23T21:58:43.733Z"
   },
   {
    "duration": 13669,
    "start_time": "2022-04-23T21:59:05.554Z"
   },
   {
    "duration": 14445,
    "start_time": "2022-04-23T21:59:46.791Z"
   },
   {
    "duration": 767,
    "start_time": "2022-04-23T22:01:48.022Z"
   },
   {
    "duration": 778,
    "start_time": "2022-04-23T22:01:52.663Z"
   },
   {
    "duration": 14572,
    "start_time": "2022-04-23T22:02:00.832Z"
   },
   {
    "duration": 817,
    "start_time": "2022-04-23T22:02:48.510Z"
   },
   {
    "duration": 782,
    "start_time": "2022-04-23T22:03:22.810Z"
   },
   {
    "duration": 14571,
    "start_time": "2022-04-23T22:03:40.128Z"
   },
   {
    "duration": 15261,
    "start_time": "2022-04-23T22:04:01.256Z"
   },
   {
    "duration": 15082,
    "start_time": "2022-04-23T22:04:23.648Z"
   },
   {
    "duration": 773,
    "start_time": "2022-04-23T22:06:44.223Z"
   },
   {
    "duration": 776,
    "start_time": "2022-04-23T22:07:38.598Z"
   },
   {
    "duration": 15068,
    "start_time": "2022-04-23T22:08:30.372Z"
   },
   {
    "duration": 15087,
    "start_time": "2022-04-23T22:08:58.726Z"
   },
   {
    "duration": 15440,
    "start_time": "2022-04-23T22:09:20.134Z"
   },
   {
    "duration": 15386,
    "start_time": "2022-04-23T22:09:41.646Z"
   },
   {
    "duration": 14995,
    "start_time": "2022-04-23T22:10:20.050Z"
   },
   {
    "duration": 16151,
    "start_time": "2022-04-23T22:10:41.192Z"
   },
   {
    "duration": 15924,
    "start_time": "2022-04-23T22:11:05.598Z"
   },
   {
    "duration": 15318,
    "start_time": "2022-04-23T22:11:30.254Z"
   },
   {
    "duration": 15424,
    "start_time": "2022-04-23T22:11:50.723Z"
   },
   {
    "duration": 6,
    "start_time": "2022-04-23T22:12:21.714Z"
   },
   {
    "duration": 15134,
    "start_time": "2022-04-23T22:12:32.864Z"
   },
   {
    "duration": 15251,
    "start_time": "2022-04-23T22:12:58.268Z"
   },
   {
    "duration": 15419,
    "start_time": "2022-04-23T22:13:43.096Z"
   },
   {
    "duration": 15513,
    "start_time": "2022-04-23T22:16:14.475Z"
   },
   {
    "duration": 16118,
    "start_time": "2022-04-23T22:17:53.201Z"
   },
   {
    "duration": 15652,
    "start_time": "2022-04-23T22:18:40.733Z"
   },
   {
    "duration": 16347,
    "start_time": "2022-04-23T22:19:16.967Z"
   },
   {
    "duration": 821,
    "start_time": "2022-04-23T22:22:07.574Z"
   },
   {
    "duration": 85,
    "start_time": "2022-04-23T22:22:42.168Z"
   },
   {
    "duration": 16612,
    "start_time": "2022-04-23T22:23:48.293Z"
   },
   {
    "duration": 16424,
    "start_time": "2022-04-23T22:24:11.146Z"
   },
   {
    "duration": 15705,
    "start_time": "2022-04-23T22:24:34.312Z"
   },
   {
    "duration": 16271,
    "start_time": "2022-04-23T22:25:03.502Z"
   },
   {
    "duration": 15426,
    "start_time": "2022-04-23T22:25:27.690Z"
   },
   {
    "duration": 15082,
    "start_time": "2022-04-23T22:25:54.380Z"
   },
   {
    "duration": 14988,
    "start_time": "2022-04-23T22:26:16.738Z"
   },
   {
    "duration": 15078,
    "start_time": "2022-04-23T22:26:58.002Z"
   },
   {
    "duration": 14834,
    "start_time": "2022-04-23T22:28:17.376Z"
   },
   {
    "duration": 15064,
    "start_time": "2022-04-23T22:29:27.231Z"
   },
   {
    "duration": 2602,
    "start_time": "2022-04-23T22:30:46.909Z"
   },
   {
    "duration": 15220,
    "start_time": "2022-04-23T22:30:53.148Z"
   },
   {
    "duration": 15155,
    "start_time": "2022-04-23T22:32:02.482Z"
   },
   {
    "duration": 15438,
    "start_time": "2022-04-23T22:32:38.181Z"
   },
   {
    "duration": 15221,
    "start_time": "2022-04-23T22:33:27.027Z"
   },
   {
    "duration": 18360,
    "start_time": "2022-04-23T22:33:58.910Z"
   },
   {
    "duration": 21144,
    "start_time": "2022-04-23T22:34:29.593Z"
   },
   {
    "duration": 13755,
    "start_time": "2022-04-23T22:35:22.671Z"
   },
   {
    "duration": 15578,
    "start_time": "2022-04-23T22:35:46.841Z"
   },
   {
    "duration": 15261,
    "start_time": "2022-04-23T22:36:33.584Z"
   },
   {
    "duration": 15506,
    "start_time": "2022-04-23T22:37:13.828Z"
   },
   {
    "duration": 15754,
    "start_time": "2022-04-23T22:38:38.536Z"
   },
   {
    "duration": 15545,
    "start_time": "2022-04-23T22:39:22.114Z"
   },
   {
    "duration": 15762,
    "start_time": "2022-04-23T22:39:51.895Z"
   },
   {
    "duration": 15141,
    "start_time": "2022-04-23T22:40:18.149Z"
   },
   {
    "duration": 15424,
    "start_time": "2022-04-23T22:41:01.794Z"
   },
   {
    "duration": 15548,
    "start_time": "2022-04-23T22:42:36.344Z"
   },
   {
    "duration": 15349,
    "start_time": "2022-04-23T22:43:41.451Z"
   },
   {
    "duration": 13931,
    "start_time": "2022-04-23T22:44:09.853Z"
   },
   {
    "duration": 13720,
    "start_time": "2022-04-23T22:44:52.478Z"
   },
   {
    "duration": 15270,
    "start_time": "2022-04-23T22:45:26.458Z"
   },
   {
    "duration": 77,
    "start_time": "2022-05-05T19:50:54.356Z"
   },
   {
    "duration": 2132,
    "start_time": "2022-05-05T19:51:01.475Z"
   },
   {
    "duration": 109,
    "start_time": "2022-05-05T19:51:03.610Z"
   },
   {
    "duration": 7,
    "start_time": "2022-05-05T19:51:03.725Z"
   },
   {
    "duration": 27,
    "start_time": "2022-05-05T19:51:03.735Z"
   },
   {
    "duration": 6,
    "start_time": "2022-05-05T19:51:03.763Z"
   },
   {
    "duration": 26,
    "start_time": "2022-05-05T19:51:03.771Z"
   },
   {
    "duration": 43,
    "start_time": "2022-05-05T19:51:03.800Z"
   },
   {
    "duration": 64,
    "start_time": "2022-05-05T19:51:03.845Z"
   },
   {
    "duration": 8,
    "start_time": "2022-05-05T19:51:03.911Z"
   },
   {
    "duration": 36,
    "start_time": "2022-05-05T19:51:03.923Z"
   },
   {
    "duration": 8,
    "start_time": "2022-05-05T19:51:03.961Z"
   },
   {
    "duration": 15,
    "start_time": "2022-05-05T19:51:03.971Z"
   },
   {
    "duration": 1483,
    "start_time": "2022-05-05T19:51:03.988Z"
   },
   {
    "duration": 3179,
    "start_time": "2022-05-05T19:51:05.474Z"
   },
   {
    "duration": 1338,
    "start_time": "2022-05-05T19:51:08.655Z"
   },
   {
    "duration": 16,
    "start_time": "2022-05-05T19:51:09.995Z"
   },
   {
    "duration": 34,
    "start_time": "2022-05-05T19:51:10.013Z"
   },
   {
    "duration": 4,
    "start_time": "2022-05-05T19:51:10.049Z"
   },
   {
    "duration": 2097,
    "start_time": "2022-05-05T19:51:10.054Z"
   },
   {
    "duration": 18232,
    "start_time": "2022-05-05T19:51:12.153Z"
   },
   {
    "duration": 1230,
    "start_time": "2022-05-05T19:51:30.387Z"
   },
   {
    "duration": 37,
    "start_time": "2022-05-05T19:51:31.696Z"
   },
   {
    "duration": 8,
    "start_time": "2022-05-05T19:51:31.736Z"
   },
   {
    "duration": 11,
    "start_time": "2022-05-05T19:51:31.746Z"
   },
   {
    "duration": 5391,
    "start_time": "2022-05-05T19:51:31.759Z"
   },
   {
    "duration": 10552,
    "start_time": "2022-05-05T19:51:37.152Z"
   },
   {
    "duration": 19,
    "start_time": "2022-05-05T19:51:47.707Z"
   },
   {
    "duration": 1493,
    "start_time": "2022-05-09T18:59:04.175Z"
   },
   {
    "duration": 95,
    "start_time": "2022-05-09T18:59:05.671Z"
   },
   {
    "duration": 4,
    "start_time": "2022-05-09T18:59:05.768Z"
   },
   {
    "duration": 31,
    "start_time": "2022-05-09T18:59:05.778Z"
   },
   {
    "duration": 8,
    "start_time": "2022-05-09T18:59:05.811Z"
   },
   {
    "duration": 17,
    "start_time": "2022-05-09T18:59:05.821Z"
   },
   {
    "duration": 9,
    "start_time": "2022-05-09T18:59:05.840Z"
   },
   {
    "duration": 53,
    "start_time": "2022-05-09T18:59:05.850Z"
   },
   {
    "duration": 6,
    "start_time": "2022-05-09T18:59:05.905Z"
   },
   {
    "duration": 17,
    "start_time": "2022-05-09T18:59:05.913Z"
   },
   {
    "duration": 4,
    "start_time": "2022-05-09T18:59:05.932Z"
   },
   {
    "duration": 7,
    "start_time": "2022-05-09T18:59:05.937Z"
   },
   {
    "duration": 1272,
    "start_time": "2022-05-09T18:59:05.946Z"
   },
   {
    "duration": 1983,
    "start_time": "2022-05-09T18:59:07.219Z"
   },
   {
    "duration": 1081,
    "start_time": "2022-05-09T18:59:09.204Z"
   },
   {
    "duration": 14,
    "start_time": "2022-05-09T18:59:10.286Z"
   },
   {
    "duration": 18,
    "start_time": "2022-05-09T18:59:10.302Z"
   },
   {
    "duration": 10,
    "start_time": "2022-05-09T18:59:10.323Z"
   },
   {
    "duration": 1832,
    "start_time": "2022-05-09T18:59:10.335Z"
   },
   {
    "duration": 15043,
    "start_time": "2022-05-09T18:59:12.168Z"
   },
   {
    "duration": 1473,
    "start_time": "2022-05-09T18:59:27.214Z"
   },
   {
    "duration": 99,
    "start_time": "2022-05-09T18:59:28.693Z"
   },
   {
    "duration": 4,
    "start_time": "2022-05-09T18:59:28.794Z"
   },
   {
    "duration": 5,
    "start_time": "2022-05-09T18:59:28.800Z"
   },
   {
    "duration": 4857,
    "start_time": "2022-05-09T18:59:28.807Z"
   },
   {
    "duration": 7932,
    "start_time": "2022-05-09T18:59:33.666Z"
   },
   {
    "duration": 11,
    "start_time": "2022-05-09T18:59:41.600Z"
   },
   {
    "duration": 2572,
    "start_time": "2022-05-10T19:10:17.415Z"
   },
   {
    "duration": 183,
    "start_time": "2022-05-10T19:10:19.990Z"
   },
   {
    "duration": 4,
    "start_time": "2022-05-10T19:10:20.176Z"
   },
   {
    "duration": 19,
    "start_time": "2022-05-10T19:10:20.185Z"
   },
   {
    "duration": 7,
    "start_time": "2022-05-10T19:10:20.206Z"
   },
   {
    "duration": 19,
    "start_time": "2022-05-10T19:10:20.252Z"
   },
   {
    "duration": 14,
    "start_time": "2022-05-10T19:10:20.274Z"
   },
   {
    "duration": 94,
    "start_time": "2022-05-10T19:10:20.290Z"
   },
   {
    "duration": 6,
    "start_time": "2022-05-10T19:10:20.387Z"
   },
   {
    "duration": 19,
    "start_time": "2022-05-10T19:10:20.397Z"
   },
   {
    "duration": 33,
    "start_time": "2022-05-10T19:10:20.418Z"
   },
   {
    "duration": 7,
    "start_time": "2022-05-10T19:10:20.454Z"
   },
   {
    "duration": 2007,
    "start_time": "2022-05-10T19:10:20.464Z"
   },
   {
    "duration": 4982,
    "start_time": "2022-05-10T19:10:22.473Z"
   },
   {
    "duration": 1706,
    "start_time": "2022-05-10T19:10:27.458Z"
   },
   {
    "duration": 16,
    "start_time": "2022-05-10T19:10:29.167Z"
   },
   {
    "duration": 36,
    "start_time": "2022-05-10T19:10:29.186Z"
   },
   {
    "duration": 27,
    "start_time": "2022-05-10T19:10:29.225Z"
   },
   {
    "duration": 1451,
    "start_time": "2022-05-10T19:10:29.255Z"
   },
   {
    "duration": 26120,
    "start_time": "2022-05-10T19:10:30.710Z"
   },
   {
    "duration": 2030,
    "start_time": "2022-05-10T19:10:56.832Z"
   },
   {
    "duration": 24,
    "start_time": "2022-05-10T19:10:58.864Z"
   },
   {
    "duration": 5,
    "start_time": "2022-05-10T19:10:58.890Z"
   },
   {
    "duration": 4,
    "start_time": "2022-05-10T19:10:58.897Z"
   },
   {
    "duration": 6399,
    "start_time": "2022-05-10T19:10:58.903Z"
   },
   {
    "duration": 11666,
    "start_time": "2022-05-10T19:11:05.305Z"
   },
   {
    "duration": 17,
    "start_time": "2022-05-10T19:11:16.974Z"
   }
  ],
  "kernelspec": {
   "display_name": "Python 3 (ipykernel)",
   "language": "python",
   "name": "python3"
  },
  "language_info": {
   "codemirror_mode": {
    "name": "ipython",
    "version": 3
   },
   "file_extension": ".py",
   "mimetype": "text/x-python",
   "name": "python",
   "nbconvert_exporter": "python",
   "pygments_lexer": "ipython3",
   "version": "3.9.5"
  },
  "toc": {
   "base_numbering": 1,
   "nav_menu": {},
   "number_sections": true,
   "sideBar": true,
   "skip_h1_title": true,
   "title_cell": "Table of Contents",
   "title_sidebar": "Contents",
   "toc_cell": false,
   "toc_position": {
    "height": "calc(100% - 180px)",
    "left": "10px",
    "top": "150px",
    "width": "165px"
   },
   "toc_section_display": true,
   "toc_window_display": false
  }
 },
 "nbformat": 4,
 "nbformat_minor": 2
}
